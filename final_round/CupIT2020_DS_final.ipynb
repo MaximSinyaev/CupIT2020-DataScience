{
  "nbformat": 4,
  "nbformat_minor": 0,
  "metadata": {
    "colab": {
      "name": "CupIT2020-DS-final.ipynb",
      "provenance": [],
      "collapsed_sections": [
        "nHQDCRapRGzT",
        "Uefgdbm7NFVj"
      ],
      "machine_shape": "hm"
    },
    "kernelspec": {
      "name": "python3",
      "display_name": "Python 3"
    }
  },
  "cells": [
    {
      "cell_type": "code",
      "metadata": {
        "id": "NS_K56gpC9MU",
        "colab_type": "code",
        "colab": {}
      },
      "source": [
        "# Для работы в колабе\n",
        "try:\n",
        "  from google.colab import files\n",
        "  google_colab = True\n",
        "except Exception:\n",
        "  google_colab = False\n",
        "  print('Working not in colab')\n",
        "import os\n",
        "import pandas as pd\n",
        "import numpy as np"
      ],
      "execution_count": 0,
      "outputs": []
    },
    {
      "cell_type": "code",
      "metadata": {
        "id": "GJ_Vs8-fEyhk",
        "colab_type": "code",
        "colab": {}
      },
      "source": [
        "%matplotlib inline\n",
        "import matplotlib.pyplot as plt\n",
        "import seaborn as sns"
      ],
      "execution_count": 0,
      "outputs": []
    },
    {
      "cell_type": "code",
      "metadata": {
        "id": "kitBn3y3j3Ha",
        "colab_type": "code",
        "colab": {}
      },
      "source": [
        "# Путь к директории с данным\n",
        "if google_colab:\n",
        "  path = \"drive/My Drive/hack/changelenge/final/\"\n",
        "else:\n",
        "  path = './'"
      ],
      "execution_count": 0,
      "outputs": []
    },
    {
      "cell_type": "code",
      "metadata": {
        "id": "qd2_7MpOE0PU",
        "colab_type": "code",
        "outputId": "d0f974ac-efa3-4c69-ff21-81cf76a9f2ff",
        "colab": {
          "base_uri": "https://localhost:8080/",
          "height": 54
        }
      },
      "source": [
        "if google_colab:\n",
        "  from google.colab import drive\n",
        "  drive.mount('/content/drive')"
      ],
      "execution_count": 4,
      "outputs": [
        {
          "output_type": "stream",
          "text": [
            "Drive already mounted at /content/drive; to attempt to forcibly remount, call drive.mount(\"/content/drive\", force_remount=True).\n"
          ],
          "name": "stdout"
        }
      ]
    },
    {
      "cell_type": "code",
      "metadata": {
        "id": "BQZSkzrmE9u6",
        "colab_type": "code",
        "colab": {}
      },
      "source": [
        "# loading train data to DataFrame\n",
        "train_df = pd.read_csv(path + \"CL_megafon_Cup IT_2020_final_data.csv\",\n",
        "                       comment='#', sep=';')"
      ],
      "execution_count": 0,
      "outputs": []
    },
    {
      "cell_type": "markdown",
      "metadata": {
        "id": "EZU26WfYFQeU",
        "colab_type": "text"
      },
      "source": [
        "## Посмотрим на данные и проведем первичный анализ\n"
      ]
    },
    {
      "cell_type": "code",
      "metadata": {
        "id": "f2N0Lra8FI76",
        "colab_type": "code",
        "outputId": "d36ee907-b632-48d1-9801-42622f6b0185",
        "colab": {
          "base_uri": "https://localhost:8080/",
          "height": 206
        }
      },
      "source": [
        "train_df.head()"
      ],
      "execution_count": 6,
      "outputs": [
        {
          "output_type": "execute_result",
          "data": {
            "text/html": [
              "<div>\n",
              "<style scoped>\n",
              "    .dataframe tbody tr th:only-of-type {\n",
              "        vertical-align: middle;\n",
              "    }\n",
              "\n",
              "    .dataframe tbody tr th {\n",
              "        vertical-align: top;\n",
              "    }\n",
              "\n",
              "    .dataframe thead th {\n",
              "        text-align: right;\n",
              "    }\n",
              "</style>\n",
              "<table border=\"1\" class=\"dataframe\">\n",
              "  <thead>\n",
              "    <tr style=\"text-align: right;\">\n",
              "      <th></th>\n",
              "      <th>time_start</th>\n",
              "      <th>time_end</th>\n",
              "      <th>place_latitude</th>\n",
              "      <th>place_longitude</th>\n",
              "    </tr>\n",
              "  </thead>\n",
              "  <tbody>\n",
              "    <tr>\n",
              "      <th>0</th>\n",
              "      <td>2019-08-24 14:23:56</td>\n",
              "      <td>2019-08-24 18:54:47</td>\n",
              "      <td>28.102908</td>\n",
              "      <td>113.617867</td>\n",
              "    </tr>\n",
              "    <tr>\n",
              "      <th>1</th>\n",
              "      <td>2018-06-19 08:56:22</td>\n",
              "      <td>2018-06-19 12:15:26</td>\n",
              "      <td>28.102908</td>\n",
              "      <td>113.617867</td>\n",
              "    </tr>\n",
              "    <tr>\n",
              "      <th>2</th>\n",
              "      <td>2018-08-29 14:00:32</td>\n",
              "      <td>2018-08-29 14:37:51</td>\n",
              "      <td>28.102908</td>\n",
              "      <td>113.617867</td>\n",
              "    </tr>\n",
              "    <tr>\n",
              "      <th>3</th>\n",
              "      <td>2019-12-10 16:01:26</td>\n",
              "      <td>2019-12-10 16:35:22</td>\n",
              "      <td>28.102908</td>\n",
              "      <td>113.617867</td>\n",
              "    </tr>\n",
              "    <tr>\n",
              "      <th>4</th>\n",
              "      <td>2019-12-10 13:39:42</td>\n",
              "      <td>2019-12-10 17:58:22</td>\n",
              "      <td>28.999495</td>\n",
              "      <td>115.167583</td>\n",
              "    </tr>\n",
              "  </tbody>\n",
              "</table>\n",
              "</div>"
            ],
            "text/plain": [
              "            time_start             time_end  place_latitude  place_longitude\n",
              "0  2019-08-24 14:23:56  2019-08-24 18:54:47       28.102908       113.617867\n",
              "1  2018-06-19 08:56:22  2018-06-19 12:15:26       28.102908       113.617867\n",
              "2  2018-08-29 14:00:32  2018-08-29 14:37:51       28.102908       113.617867\n",
              "3  2019-12-10 16:01:26  2019-12-10 16:35:22       28.102908       113.617867\n",
              "4  2019-12-10 13:39:42  2019-12-10 17:58:22       28.999495       115.167583"
            ]
          },
          "metadata": {
            "tags": []
          },
          "execution_count": 6
        }
      ]
    },
    {
      "cell_type": "markdown",
      "metadata": {
        "id": "cDOPSiYNF2vw",
        "colab_type": "text"
      },
      "source": [
        "## Обработка данных"
      ]
    },
    {
      "cell_type": "code",
      "metadata": {
        "id": "-4TidhYAGbNZ",
        "colab_type": "code",
        "outputId": "a76af2ee-e0c3-4754-9f76-cd78ab9dcc3e",
        "colab": {
          "base_uri": "https://localhost:8080/",
          "height": 104
        }
      },
      "source": [
        "# Преобразуем данные во временной формат\n",
        "train_df.time_start = pd.to_datetime(train_df.time_start)\n",
        "train_df.time_end = pd.to_datetime(train_df.time_end)\n",
        "train_df.dtypes"
      ],
      "execution_count": 7,
      "outputs": [
        {
          "output_type": "execute_result",
          "data": {
            "text/plain": [
              "time_start         datetime64[ns]\n",
              "time_end           datetime64[ns]\n",
              "place_latitude            float64\n",
              "place_longitude           float64\n",
              "dtype: object"
            ]
          },
          "metadata": {
            "tags": []
          },
          "execution_count": 7
        }
      ]
    },
    {
      "cell_type": "code",
      "metadata": {
        "id": "8JmzLLxoF6WZ",
        "colab_type": "code",
        "colab": {}
      },
      "source": [
        "# Сгенерируем целевую переменную\n",
        "train_df['service_time'] = train_df.time_end - train_df.time_start"
      ],
      "execution_count": 0,
      "outputs": []
    },
    {
      "cell_type": "code",
      "metadata": {
        "id": "u-tCzVWvhU5G",
        "colab_type": "code",
        "colab": {}
      },
      "source": [
        "train_df['service_time_minutes'] = train_df['service_time']\\\n",
        "                                    .apply(lambda time:\n",
        "                                           time.total_seconds() / 60)"
      ],
      "execution_count": 0,
      "outputs": []
    },
    {
      "cell_type": "code",
      "metadata": {
        "id": "R_IJ77hpI5L0",
        "colab_type": "code",
        "outputId": "3eaa4f77-6c22-4467-e199-e3bd95465f43",
        "colab": {
          "base_uri": "https://localhost:8080/",
          "height": 293
        }
      },
      "source": [
        "# Проверим правильно ли сгенерировалась фича\n",
        "train_df.head()"
      ],
      "execution_count": 10,
      "outputs": [
        {
          "output_type": "execute_result",
          "data": {
            "text/html": [
              "<div>\n",
              "<style scoped>\n",
              "    .dataframe tbody tr th:only-of-type {\n",
              "        vertical-align: middle;\n",
              "    }\n",
              "\n",
              "    .dataframe tbody tr th {\n",
              "        vertical-align: top;\n",
              "    }\n",
              "\n",
              "    .dataframe thead th {\n",
              "        text-align: right;\n",
              "    }\n",
              "</style>\n",
              "<table border=\"1\" class=\"dataframe\">\n",
              "  <thead>\n",
              "    <tr style=\"text-align: right;\">\n",
              "      <th></th>\n",
              "      <th>time_start</th>\n",
              "      <th>time_end</th>\n",
              "      <th>place_latitude</th>\n",
              "      <th>place_longitude</th>\n",
              "      <th>service_time</th>\n",
              "      <th>service_time_minutes</th>\n",
              "    </tr>\n",
              "  </thead>\n",
              "  <tbody>\n",
              "    <tr>\n",
              "      <th>0</th>\n",
              "      <td>2019-08-24 14:23:56</td>\n",
              "      <td>2019-08-24 18:54:47</td>\n",
              "      <td>28.102908</td>\n",
              "      <td>113.617867</td>\n",
              "      <td>04:30:51</td>\n",
              "      <td>270.850000</td>\n",
              "    </tr>\n",
              "    <tr>\n",
              "      <th>1</th>\n",
              "      <td>2018-06-19 08:56:22</td>\n",
              "      <td>2018-06-19 12:15:26</td>\n",
              "      <td>28.102908</td>\n",
              "      <td>113.617867</td>\n",
              "      <td>03:19:04</td>\n",
              "      <td>199.066667</td>\n",
              "    </tr>\n",
              "    <tr>\n",
              "      <th>2</th>\n",
              "      <td>2018-08-29 14:00:32</td>\n",
              "      <td>2018-08-29 14:37:51</td>\n",
              "      <td>28.102908</td>\n",
              "      <td>113.617867</td>\n",
              "      <td>00:37:19</td>\n",
              "      <td>37.316667</td>\n",
              "    </tr>\n",
              "    <tr>\n",
              "      <th>3</th>\n",
              "      <td>2019-12-10 16:01:26</td>\n",
              "      <td>2019-12-10 16:35:22</td>\n",
              "      <td>28.102908</td>\n",
              "      <td>113.617867</td>\n",
              "      <td>00:33:56</td>\n",
              "      <td>33.933333</td>\n",
              "    </tr>\n",
              "    <tr>\n",
              "      <th>4</th>\n",
              "      <td>2019-12-10 13:39:42</td>\n",
              "      <td>2019-12-10 17:58:22</td>\n",
              "      <td>28.999495</td>\n",
              "      <td>115.167583</td>\n",
              "      <td>04:18:40</td>\n",
              "      <td>258.666667</td>\n",
              "    </tr>\n",
              "  </tbody>\n",
              "</table>\n",
              "</div>"
            ],
            "text/plain": [
              "           time_start            time_end  ...  service_time  service_time_minutes\n",
              "0 2019-08-24 14:23:56 2019-08-24 18:54:47  ...      04:30:51            270.850000\n",
              "1 2018-06-19 08:56:22 2018-06-19 12:15:26  ...      03:19:04            199.066667\n",
              "2 2018-08-29 14:00:32 2018-08-29 14:37:51  ...      00:37:19             37.316667\n",
              "3 2019-12-10 16:01:26 2019-12-10 16:35:22  ...      00:33:56             33.933333\n",
              "4 2019-12-10 13:39:42 2019-12-10 17:58:22  ...      04:18:40            258.666667\n",
              "\n",
              "[5 rows x 6 columns]"
            ]
          },
          "metadata": {
            "tags": []
          },
          "execution_count": 10
        }
      ]
    },
    {
      "cell_type": "markdown",
      "metadata": {
        "id": "LVaF1tDkls5d",
        "colab_type": "text"
      },
      "source": [
        "Колонка коорд понадобится для более удобной кластеризации и поиска уникальных пар координат через unique()"
      ]
    },
    {
      "cell_type": "code",
      "metadata": {
        "id": "yHlo5Blmkfvx",
        "colab_type": "code",
        "colab": {}
      },
      "source": [
        "# Создадим колонку для координат формата (широта, долгота)\n",
        "train_df['coord'] = train_df.index\n",
        "train_df['coord'] = train_df['coord']\\\n",
        "                      .apply(lambda x:\n",
        "                             (train_df.place_longitude[x],\n",
        "                              train_df.place_latitude[x],))\n",
        "point_coords = train_df.coord.unique()"
      ],
      "execution_count": 0,
      "outputs": []
    },
    {
      "cell_type": "code",
      "metadata": {
        "id": "PrcU4M9P11jM",
        "colab_type": "code",
        "colab": {}
      },
      "source": [
        "# Отсортируем данные для наглядности и удобства\n",
        "train_df = train_df.sort_values(['coord', 'time_start'])"
      ],
      "execution_count": 0,
      "outputs": []
    },
    {
      "cell_type": "markdown",
      "metadata": {
        "id": "TVwq-jyr4iTB",
        "colab_type": "text"
      },
      "source": [
        "#### Проверка на NaN"
      ]
    },
    {
      "cell_type": "code",
      "metadata": {
        "id": "AXH4hESw4m1y",
        "colab_type": "code",
        "outputId": "cea9a7e8-a334-4d99-ffff-3350a65e74b6",
        "colab": {
          "base_uri": "https://localhost:8080/",
          "height": 156
        }
      },
      "source": [
        "train_df.isna().sum()"
      ],
      "execution_count": 13,
      "outputs": [
        {
          "output_type": "execute_result",
          "data": {
            "text/plain": [
              "time_start              0\n",
              "time_end                0\n",
              "place_latitude          0\n",
              "place_longitude         0\n",
              "service_time            0\n",
              "service_time_minutes    0\n",
              "coord                   0\n",
              "dtype: int64"
            ]
          },
          "metadata": {
            "tags": []
          },
          "execution_count": 13
        }
      ]
    },
    {
      "cell_type": "markdown",
      "metadata": {
        "id": "TESq_uJH58YC",
        "colab_type": "text"
      },
      "source": [
        "Роскошно нанов нет"
      ]
    },
    {
      "cell_type": "markdown",
      "metadata": {
        "id": "VrS9BqMNYbIo",
        "colab_type": "text"
      },
      "source": [
        "### Вывод координат на карту"
      ]
    },
    {
      "cell_type": "code",
      "metadata": {
        "id": "rrUtLLP6YarH",
        "colab_type": "code",
        "colab": {}
      },
      "source": [
        "# Установка/импорт карт\n",
        "try:\n",
        "  from mpl_toolkits.basemap import Basemap\n",
        "except Exception:\n",
        "  !apt-get install libgeos-3.5.0\n",
        "  !apt-get install libgeos-dev\n",
        "  !pip install https://github.com/matplotlib/basemap/archive/master.zip\n",
        "  from mpl_toolkits.basemap import Basemap"
      ],
      "execution_count": 0,
      "outputs": []
    },
    {
      "cell_type": "markdown",
      "metadata": {
        "id": "5zLoz7tJOPDU",
        "colab_type": "text"
      },
      "source": [
        "Ого, да это Китай"
      ]
    },
    {
      "cell_type": "code",
      "metadata": {
        "id": "AEsfiutUYWpf",
        "colab_type": "code",
        "outputId": "229a49a8-271c-4df7-a879-3db1668ba6b8",
        "colab": {
          "base_uri": "https://localhost:8080/",
          "height": 594
        }
      },
      "source": [
        "# Draw our points on map, it is square 5x5 degrees\n",
        "fig = plt.figure(figsize=(15,10))\n",
        "\n",
        "map = Basemap(width=1E6,\n",
        "              height=1.2E6,\n",
        "              projection='lcc',\n",
        "              lat_0=30.5,\n",
        "              lon_0=113,\n",
        "              resolution='h')\n",
        "map.shadedrelief()\n",
        "map.drawcoastlines(color='gray')\n",
        "map.drawcountries(color='gray')\n",
        "map.drawrivers()\n",
        "\n",
        "map.drawmeridians(np.arange(0,360,1))\n",
        "map.drawparallels(np.arange(-90,90,1))\n",
        "map.bluemarble()\n",
        "lon = [coord[0] for coord in point_coords]\n",
        "lat = [coord[1] for coord in point_coords]\n",
        "map.scatter(lon, lat, latlon=True, s=2)\n",
        "plt.title('Базовые станции на територрии \\'Китая\\'')\n",
        "plt.show()"
      ],
      "execution_count": 15,
      "outputs": [
        {
          "output_type": "display_data",
          "data": {
            "image/png": "[encoded data removed]",
            "text/plain": [
              "<Figure size 1080x720 with 1 Axes>"
            ]
          },
          "metadata": {
            "tags": []
          }
        }
      ]
    },
    {
      "cell_type": "markdown",
      "metadata": {
        "id": "HqGPFSgYQM0j",
        "colab_type": "text"
      },
      "source": [
        "## Генерация фичей"
      ]
    },
    {
      "cell_type": "code",
      "metadata": {
        "id": "T1tQog_OQ_-9",
        "colab_type": "code",
        "outputId": "d217ba80-72c7-4ea9-e050-85acfac207e5",
        "colab": {
          "base_uri": "https://localhost:8080/",
          "height": 313
        }
      },
      "source": [
        "# Dataframe в данный момент\n",
        "train_df.head(5)"
      ],
      "execution_count": 16,
      "outputs": [
        {
          "output_type": "execute_result",
          "data": {
            "text/html": [
              "<div>\n",
              "<style scoped>\n",
              "    .dataframe tbody tr th:only-of-type {\n",
              "        vertical-align: middle;\n",
              "    }\n",
              "\n",
              "    .dataframe tbody tr th {\n",
              "        vertical-align: top;\n",
              "    }\n",
              "\n",
              "    .dataframe thead th {\n",
              "        text-align: right;\n",
              "    }\n",
              "</style>\n",
              "<table border=\"1\" class=\"dataframe\">\n",
              "  <thead>\n",
              "    <tr style=\"text-align: right;\">\n",
              "      <th></th>\n",
              "      <th>time_start</th>\n",
              "      <th>time_end</th>\n",
              "      <th>place_latitude</th>\n",
              "      <th>place_longitude</th>\n",
              "      <th>service_time</th>\n",
              "      <th>service_time_minutes</th>\n",
              "      <th>coord</th>\n",
              "    </tr>\n",
              "  </thead>\n",
              "  <tbody>\n",
              "    <tr>\n",
              "      <th>26632</th>\n",
              "      <td>2018-03-12 14:24:43</td>\n",
              "      <td>2018-03-12 17:26:54</td>\n",
              "      <td>31.96447</td>\n",
              "      <td>111.01</td>\n",
              "      <td>03:02:11</td>\n",
              "      <td>182.183333</td>\n",
              "      <td>(111.01, 31.964470000000002)</td>\n",
              "    </tr>\n",
              "    <tr>\n",
              "      <th>26640</th>\n",
              "      <td>2018-03-30 09:16:33</td>\n",
              "      <td>2018-03-30 10:33:58</td>\n",
              "      <td>31.96447</td>\n",
              "      <td>111.01</td>\n",
              "      <td>01:17:25</td>\n",
              "      <td>77.416667</td>\n",
              "      <td>(111.01, 31.964470000000002)</td>\n",
              "    </tr>\n",
              "    <tr>\n",
              "      <th>26609</th>\n",
              "      <td>2018-07-24 10:18:12</td>\n",
              "      <td>2018-07-24 11:05:42</td>\n",
              "      <td>31.96447</td>\n",
              "      <td>111.01</td>\n",
              "      <td>00:47:30</td>\n",
              "      <td>47.500000</td>\n",
              "      <td>(111.01, 31.964470000000002)</td>\n",
              "    </tr>\n",
              "    <tr>\n",
              "      <th>26612</th>\n",
              "      <td>2018-07-25 15:25:34</td>\n",
              "      <td>2018-07-25 16:22:57</td>\n",
              "      <td>31.96447</td>\n",
              "      <td>111.01</td>\n",
              "      <td>00:57:23</td>\n",
              "      <td>57.383333</td>\n",
              "      <td>(111.01, 31.964470000000002)</td>\n",
              "    </tr>\n",
              "    <tr>\n",
              "      <th>26613</th>\n",
              "      <td>2018-09-19 11:57:56</td>\n",
              "      <td>2018-09-19 13:09:44</td>\n",
              "      <td>31.96447</td>\n",
              "      <td>111.01</td>\n",
              "      <td>01:11:48</td>\n",
              "      <td>71.800000</td>\n",
              "      <td>(111.01, 31.964470000000002)</td>\n",
              "    </tr>\n",
              "  </tbody>\n",
              "</table>\n",
              "</div>"
            ],
            "text/plain": [
              "               time_start  ...                         coord\n",
              "26632 2018-03-12 14:24:43  ...  (111.01, 31.964470000000002)\n",
              "26640 2018-03-30 09:16:33  ...  (111.01, 31.964470000000002)\n",
              "26609 2018-07-24 10:18:12  ...  (111.01, 31.964470000000002)\n",
              "26612 2018-07-25 15:25:34  ...  (111.01, 31.964470000000002)\n",
              "26613 2018-09-19 11:57:56  ...  (111.01, 31.964470000000002)\n",
              "\n",
              "[5 rows x 7 columns]"
            ]
          },
          "metadata": {
            "tags": []
          },
          "execution_count": 16
        }
      ]
    },
    {
      "cell_type": "markdown",
      "metadata": {
        "id": "nHQDCRapRGzT",
        "colab_type": "text"
      },
      "source": [
        "### Добавление признаков связавнных с координатами"
      ]
    },
    {
      "cell_type": "markdown",
      "metadata": {
        "id": "-3dPVIutROgB",
        "colab_type": "text"
      },
      "source": [
        "#### Добавление часового пояса\n",
        "Бесполезно, здесь для красоты"
      ]
    },
    {
      "cell_type": "code",
      "metadata": {
        "id": "4Zf0J6IDQLmM",
        "colab_type": "code",
        "colab": {}
      },
      "source": [
        "# Импорт/установка библиотеки с часовыми поясами\n",
        "try:\n",
        "  from timezonefinder import TimezoneFinder\n",
        "except Exception:\n",
        "  !pip install timezonefinder\n",
        "  from timezonefinder import TimezoneFinder"
      ],
      "execution_count": 0,
      "outputs": []
    },
    {
      "cell_type": "code",
      "metadata": {
        "id": "GrVxS6OSYXfj",
        "colab_type": "code",
        "outputId": "5dcc446d-cc79-4e9d-9a09-d8913a8744fa",
        "colab": {
          "base_uri": "https://localhost:8080/",
          "height": 0
        }
      },
      "source": [
        "tf = TimezoneFinder()\n",
        "# Example from docs\n",
        "longitude = point_coords[0][0]\n",
        "latitude = point_coords[0][1]\n",
        "tf.timezone_at(lng=longitude, lat=latitude) # returns 'Europe/Berlin'"
      ],
      "execution_count": 18,
      "outputs": [
        {
          "output_type": "execute_result",
          "data": {
            "text/plain": [
              "'Asia/Shanghai'"
            ]
          },
          "metadata": {
            "tags": []
          },
          "execution_count": 18
        }
      ]
    },
    {
      "cell_type": "code",
      "metadata": {
        "id": "Qqrw07_AQu6p",
        "colab_type": "code",
        "colab": {}
      },
      "source": [
        "train_df['timezone'] = train_df['coord']\\\n",
        "                        .apply(lambda x:\n",
        "                               tf.timezone_at(lng=x[0], lat=x[1]))"
      ],
      "execution_count": 0,
      "outputs": []
    },
    {
      "cell_type": "code",
      "metadata": {
        "id": "2OrsMOtDRnii",
        "colab_type": "code",
        "outputId": "fb715906-2b0a-49b8-f6f8-7a5f2ae00c48",
        "colab": {
          "base_uri": "https://localhost:8080/",
          "height": 0
        }
      },
      "source": [
        "train_df.timezone.unique()"
      ],
      "execution_count": 20,
      "outputs": [
        {
          "output_type": "execute_result",
          "data": {
            "text/plain": [
              "array(['Asia/Shanghai'], dtype=object)"
            ]
          },
          "metadata": {
            "tags": []
          },
          "execution_count": 20
        }
      ]
    },
    {
      "cell_type": "markdown",
      "metadata": {
        "id": "6NQ3ibQQScQd",
        "colab_type": "text"
      },
      "source": [
        "Везде один и тот же часовой пояс, значит это бесполезный признак, к сожалению, переходим ко времени"
      ]
    },
    {
      "cell_type": "code",
      "metadata": {
        "id": "M2aiNPn6aKpW",
        "colab_type": "code",
        "colab": {}
      },
      "source": [
        "train_df = train_df.drop('timezone', axis=1)"
      ],
      "execution_count": 0,
      "outputs": []
    },
    {
      "cell_type": "markdown",
      "metadata": {
        "id": "q-2hOJTqSqW2",
        "colab_type": "text"
      },
      "source": [
        "### Добавление признаков связанных со временем"
      ]
    },
    {
      "cell_type": "markdown",
      "metadata": {
        "id": "I7cPgPirSxX6",
        "colab_type": "text"
      },
      "source": [
        "#### Добавим времена года\n",
        "Сделаем категориальный признак в виде сезона:\n",
        "  1. Зима\n",
        "  2. Весна\n",
        "  3. Лето\n",
        "  4. Осень"
      ]
    },
    {
      "cell_type": "code",
      "metadata": {
        "id": "PWGrAP_NSpuU",
        "colab_type": "code",
        "colab": {}
      },
      "source": [
        "seasons_dict = {\n",
        "    1: [12, 1, 2], # winter\n",
        "    2: range(3, 6), # spring\n",
        "    3: range(6, 9), # summer time sadness\n",
        "    4: range(9, 12) # autumn\n",
        "}\n",
        "def get_season(month):\n",
        "  for season, gap in seasons_dict.items():\n",
        "    if month in gap:\n",
        "      return season\n",
        "  return -1"
      ],
      "execution_count": 0,
      "outputs": []
    },
    {
      "cell_type": "code",
      "metadata": {
        "id": "KBGs6eWfY_kj",
        "colab_type": "code",
        "colab": {}
      },
      "source": [
        "def add_season_column(df):\n",
        "  df['season'] = df['time_start']\\\n",
        "                    .apply(lambda x: get_season(x.month))\n",
        "add_season_column(train_df)"
      ],
      "execution_count": 0,
      "outputs": []
    },
    {
      "cell_type": "code",
      "metadata": {
        "id": "lf9r3b9MaDf1",
        "colab_type": "code",
        "outputId": "5a6035c1-da78-4c4c-89f1-b9c117fc1048",
        "colab": {
          "base_uri": "https://localhost:8080/",
          "height": 313
        }
      },
      "source": [
        "train_df.head(5)"
      ],
      "execution_count": 24,
      "outputs": [
        {
          "output_type": "execute_result",
          "data": {
            "text/html": [
              "<div>\n",
              "<style scoped>\n",
              "    .dataframe tbody tr th:only-of-type {\n",
              "        vertical-align: middle;\n",
              "    }\n",
              "\n",
              "    .dataframe tbody tr th {\n",
              "        vertical-align: top;\n",
              "    }\n",
              "\n",
              "    .dataframe thead th {\n",
              "        text-align: right;\n",
              "    }\n",
              "</style>\n",
              "<table border=\"1\" class=\"dataframe\">\n",
              "  <thead>\n",
              "    <tr style=\"text-align: right;\">\n",
              "      <th></th>\n",
              "      <th>time_start</th>\n",
              "      <th>time_end</th>\n",
              "      <th>place_latitude</th>\n",
              "      <th>place_longitude</th>\n",
              "      <th>service_time</th>\n",
              "      <th>service_time_minutes</th>\n",
              "      <th>coord</th>\n",
              "      <th>season</th>\n",
              "    </tr>\n",
              "  </thead>\n",
              "  <tbody>\n",
              "    <tr>\n",
              "      <th>26632</th>\n",
              "      <td>2018-03-12 14:24:43</td>\n",
              "      <td>2018-03-12 17:26:54</td>\n",
              "      <td>31.96447</td>\n",
              "      <td>111.01</td>\n",
              "      <td>03:02:11</td>\n",
              "      <td>182.183333</td>\n",
              "      <td>(111.01, 31.964470000000002)</td>\n",
              "      <td>2</td>\n",
              "    </tr>\n",
              "    <tr>\n",
              "      <th>26640</th>\n",
              "      <td>2018-03-30 09:16:33</td>\n",
              "      <td>2018-03-30 10:33:58</td>\n",
              "      <td>31.96447</td>\n",
              "      <td>111.01</td>\n",
              "      <td>01:17:25</td>\n",
              "      <td>77.416667</td>\n",
              "      <td>(111.01, 31.964470000000002)</td>\n",
              "      <td>2</td>\n",
              "    </tr>\n",
              "    <tr>\n",
              "      <th>26609</th>\n",
              "      <td>2018-07-24 10:18:12</td>\n",
              "      <td>2018-07-24 11:05:42</td>\n",
              "      <td>31.96447</td>\n",
              "      <td>111.01</td>\n",
              "      <td>00:47:30</td>\n",
              "      <td>47.500000</td>\n",
              "      <td>(111.01, 31.964470000000002)</td>\n",
              "      <td>3</td>\n",
              "    </tr>\n",
              "    <tr>\n",
              "      <th>26612</th>\n",
              "      <td>2018-07-25 15:25:34</td>\n",
              "      <td>2018-07-25 16:22:57</td>\n",
              "      <td>31.96447</td>\n",
              "      <td>111.01</td>\n",
              "      <td>00:57:23</td>\n",
              "      <td>57.383333</td>\n",
              "      <td>(111.01, 31.964470000000002)</td>\n",
              "      <td>3</td>\n",
              "    </tr>\n",
              "    <tr>\n",
              "      <th>26613</th>\n",
              "      <td>2018-09-19 11:57:56</td>\n",
              "      <td>2018-09-19 13:09:44</td>\n",
              "      <td>31.96447</td>\n",
              "      <td>111.01</td>\n",
              "      <td>01:11:48</td>\n",
              "      <td>71.800000</td>\n",
              "      <td>(111.01, 31.964470000000002)</td>\n",
              "      <td>4</td>\n",
              "    </tr>\n",
              "  </tbody>\n",
              "</table>\n",
              "</div>"
            ],
            "text/plain": [
              "               time_start  ... season\n",
              "26632 2018-03-12 14:24:43  ...      2\n",
              "26640 2018-03-30 09:16:33  ...      2\n",
              "26609 2018-07-24 10:18:12  ...      3\n",
              "26612 2018-07-25 15:25:34  ...      3\n",
              "26613 2018-09-19 11:57:56  ...      4\n",
              "\n",
              "[5 rows x 8 columns]"
            ]
          },
          "metadata": {
            "tags": []
          },
          "execution_count": 24
        }
      ]
    },
    {
      "cell_type": "markdown",
      "metadata": {
        "id": "5q-_y06RakIR",
        "colab_type": "text"
      },
      "source": [
        "#### Добавления колонки для ночи\n",
        "Колонка сообщающая о происшествии в ночное время"
      ]
    },
    {
      "cell_type": "code",
      "metadata": {
        "id": "lXN_xdv7ahNq",
        "colab_type": "code",
        "colab": {}
      },
      "source": [
        "daytime_dict = {\n",
        "    1: list(range(22, 25)) + list(range(7)), # It's nighttime\n",
        "}\n",
        "def get_daytime(hour):\n",
        "  if hour in daytime_dict[1]:\n",
        "    return 1\n",
        "  return 0"
      ],
      "execution_count": 0,
      "outputs": []
    },
    {
      "cell_type": "code",
      "metadata": {
        "id": "3h3sgQdCb4x8",
        "colab_type": "code",
        "colab": {}
      },
      "source": [
        "def add_night_column(df):\n",
        "  df['night_time'] = df['time_start']\\\n",
        "                            .apply(lambda x: get_daytime(x.hour))\n",
        "add_night_column(train_df)"
      ],
      "execution_count": 0,
      "outputs": []
    },
    {
      "cell_type": "code",
      "metadata": {
        "id": "TO_9C8djcNcs",
        "colab_type": "code",
        "outputId": "53d156bd-f1c9-4830-b3de-6bcf7e88575f",
        "colab": {
          "base_uri": "https://localhost:8080/",
          "height": 313
        }
      },
      "source": [
        "train_df.head()"
      ],
      "execution_count": 27,
      "outputs": [
        {
          "output_type": "execute_result",
          "data": {
            "text/html": [
              "<div>\n",
              "<style scoped>\n",
              "    .dataframe tbody tr th:only-of-type {\n",
              "        vertical-align: middle;\n",
              "    }\n",
              "\n",
              "    .dataframe tbody tr th {\n",
              "        vertical-align: top;\n",
              "    }\n",
              "\n",
              "    .dataframe thead th {\n",
              "        text-align: right;\n",
              "    }\n",
              "</style>\n",
              "<table border=\"1\" class=\"dataframe\">\n",
              "  <thead>\n",
              "    <tr style=\"text-align: right;\">\n",
              "      <th></th>\n",
              "      <th>time_start</th>\n",
              "      <th>time_end</th>\n",
              "      <th>place_latitude</th>\n",
              "      <th>place_longitude</th>\n",
              "      <th>service_time</th>\n",
              "      <th>service_time_minutes</th>\n",
              "      <th>coord</th>\n",
              "      <th>season</th>\n",
              "      <th>night_time</th>\n",
              "    </tr>\n",
              "  </thead>\n",
              "  <tbody>\n",
              "    <tr>\n",
              "      <th>26632</th>\n",
              "      <td>2018-03-12 14:24:43</td>\n",
              "      <td>2018-03-12 17:26:54</td>\n",
              "      <td>31.96447</td>\n",
              "      <td>111.01</td>\n",
              "      <td>03:02:11</td>\n",
              "      <td>182.183333</td>\n",
              "      <td>(111.01, 31.964470000000002)</td>\n",
              "      <td>2</td>\n",
              "      <td>0</td>\n",
              "    </tr>\n",
              "    <tr>\n",
              "      <th>26640</th>\n",
              "      <td>2018-03-30 09:16:33</td>\n",
              "      <td>2018-03-30 10:33:58</td>\n",
              "      <td>31.96447</td>\n",
              "      <td>111.01</td>\n",
              "      <td>01:17:25</td>\n",
              "      <td>77.416667</td>\n",
              "      <td>(111.01, 31.964470000000002)</td>\n",
              "      <td>2</td>\n",
              "      <td>0</td>\n",
              "    </tr>\n",
              "    <tr>\n",
              "      <th>26609</th>\n",
              "      <td>2018-07-24 10:18:12</td>\n",
              "      <td>2018-07-24 11:05:42</td>\n",
              "      <td>31.96447</td>\n",
              "      <td>111.01</td>\n",
              "      <td>00:47:30</td>\n",
              "      <td>47.500000</td>\n",
              "      <td>(111.01, 31.964470000000002)</td>\n",
              "      <td>3</td>\n",
              "      <td>0</td>\n",
              "    </tr>\n",
              "    <tr>\n",
              "      <th>26612</th>\n",
              "      <td>2018-07-25 15:25:34</td>\n",
              "      <td>2018-07-25 16:22:57</td>\n",
              "      <td>31.96447</td>\n",
              "      <td>111.01</td>\n",
              "      <td>00:57:23</td>\n",
              "      <td>57.383333</td>\n",
              "      <td>(111.01, 31.964470000000002)</td>\n",
              "      <td>3</td>\n",
              "      <td>0</td>\n",
              "    </tr>\n",
              "    <tr>\n",
              "      <th>26613</th>\n",
              "      <td>2018-09-19 11:57:56</td>\n",
              "      <td>2018-09-19 13:09:44</td>\n",
              "      <td>31.96447</td>\n",
              "      <td>111.01</td>\n",
              "      <td>01:11:48</td>\n",
              "      <td>71.800000</td>\n",
              "      <td>(111.01, 31.964470000000002)</td>\n",
              "      <td>4</td>\n",
              "      <td>0</td>\n",
              "    </tr>\n",
              "  </tbody>\n",
              "</table>\n",
              "</div>"
            ],
            "text/plain": [
              "               time_start            time_end  ...  season  night_time\n",
              "26632 2018-03-12 14:24:43 2018-03-12 17:26:54  ...       2           0\n",
              "26640 2018-03-30 09:16:33 2018-03-30 10:33:58  ...       2           0\n",
              "26609 2018-07-24 10:18:12 2018-07-24 11:05:42  ...       3           0\n",
              "26612 2018-07-25 15:25:34 2018-07-25 16:22:57  ...       3           0\n",
              "26613 2018-09-19 11:57:56 2018-09-19 13:09:44  ...       4           0\n",
              "\n",
              "[5 rows x 9 columns]"
            ]
          },
          "metadata": {
            "tags": []
          },
          "execution_count": 27
        }
      ]
    },
    {
      "cell_type": "markdown",
      "metadata": {
        "id": "RYI4ZXBt0zTd",
        "colab_type": "text"
      },
      "source": [
        "#### Добавление колонки с номером часа начала сбоя"
      ]
    },
    {
      "cell_type": "code",
      "metadata": {
        "id": "IJvz7ds5066D",
        "colab_type": "code",
        "colab": {}
      },
      "source": [
        "def add_hour_start_column(df):\n",
        "  df['hour_start'] = df['time_start'].apply(lambda x: x.hour)\n",
        "add_hour_start_column(train_df)"
      ],
      "execution_count": 0,
      "outputs": []
    },
    {
      "cell_type": "code",
      "metadata": {
        "id": "hnLf0pNH06wq",
        "colab_type": "code",
        "outputId": "b43404e5-e1c9-48cb-b569-186712311c0e",
        "colab": {
          "base_uri": "https://localhost:8080/",
          "height": 313
        }
      },
      "source": [
        "train_df.head()"
      ],
      "execution_count": 29,
      "outputs": [
        {
          "output_type": "execute_result",
          "data": {
            "text/html": [
              "<div>\n",
              "<style scoped>\n",
              "    .dataframe tbody tr th:only-of-type {\n",
              "        vertical-align: middle;\n",
              "    }\n",
              "\n",
              "    .dataframe tbody tr th {\n",
              "        vertical-align: top;\n",
              "    }\n",
              "\n",
              "    .dataframe thead th {\n",
              "        text-align: right;\n",
              "    }\n",
              "</style>\n",
              "<table border=\"1\" class=\"dataframe\">\n",
              "  <thead>\n",
              "    <tr style=\"text-align: right;\">\n",
              "      <th></th>\n",
              "      <th>time_start</th>\n",
              "      <th>time_end</th>\n",
              "      <th>place_latitude</th>\n",
              "      <th>place_longitude</th>\n",
              "      <th>service_time</th>\n",
              "      <th>service_time_minutes</th>\n",
              "      <th>coord</th>\n",
              "      <th>season</th>\n",
              "      <th>night_time</th>\n",
              "      <th>hour_start</th>\n",
              "    </tr>\n",
              "  </thead>\n",
              "  <tbody>\n",
              "    <tr>\n",
              "      <th>26632</th>\n",
              "      <td>2018-03-12 14:24:43</td>\n",
              "      <td>2018-03-12 17:26:54</td>\n",
              "      <td>31.96447</td>\n",
              "      <td>111.01</td>\n",
              "      <td>03:02:11</td>\n",
              "      <td>182.183333</td>\n",
              "      <td>(111.01, 31.964470000000002)</td>\n",
              "      <td>2</td>\n",
              "      <td>0</td>\n",
              "      <td>14</td>\n",
              "    </tr>\n",
              "    <tr>\n",
              "      <th>26640</th>\n",
              "      <td>2018-03-30 09:16:33</td>\n",
              "      <td>2018-03-30 10:33:58</td>\n",
              "      <td>31.96447</td>\n",
              "      <td>111.01</td>\n",
              "      <td>01:17:25</td>\n",
              "      <td>77.416667</td>\n",
              "      <td>(111.01, 31.964470000000002)</td>\n",
              "      <td>2</td>\n",
              "      <td>0</td>\n",
              "      <td>9</td>\n",
              "    </tr>\n",
              "    <tr>\n",
              "      <th>26609</th>\n",
              "      <td>2018-07-24 10:18:12</td>\n",
              "      <td>2018-07-24 11:05:42</td>\n",
              "      <td>31.96447</td>\n",
              "      <td>111.01</td>\n",
              "      <td>00:47:30</td>\n",
              "      <td>47.500000</td>\n",
              "      <td>(111.01, 31.964470000000002)</td>\n",
              "      <td>3</td>\n",
              "      <td>0</td>\n",
              "      <td>10</td>\n",
              "    </tr>\n",
              "    <tr>\n",
              "      <th>26612</th>\n",
              "      <td>2018-07-25 15:25:34</td>\n",
              "      <td>2018-07-25 16:22:57</td>\n",
              "      <td>31.96447</td>\n",
              "      <td>111.01</td>\n",
              "      <td>00:57:23</td>\n",
              "      <td>57.383333</td>\n",
              "      <td>(111.01, 31.964470000000002)</td>\n",
              "      <td>3</td>\n",
              "      <td>0</td>\n",
              "      <td>15</td>\n",
              "    </tr>\n",
              "    <tr>\n",
              "      <th>26613</th>\n",
              "      <td>2018-09-19 11:57:56</td>\n",
              "      <td>2018-09-19 13:09:44</td>\n",
              "      <td>31.96447</td>\n",
              "      <td>111.01</td>\n",
              "      <td>01:11:48</td>\n",
              "      <td>71.800000</td>\n",
              "      <td>(111.01, 31.964470000000002)</td>\n",
              "      <td>4</td>\n",
              "      <td>0</td>\n",
              "      <td>11</td>\n",
              "    </tr>\n",
              "  </tbody>\n",
              "</table>\n",
              "</div>"
            ],
            "text/plain": [
              "               time_start            time_end  ...  night_time  hour_start\n",
              "26632 2018-03-12 14:24:43 2018-03-12 17:26:54  ...           0          14\n",
              "26640 2018-03-30 09:16:33 2018-03-30 10:33:58  ...           0           9\n",
              "26609 2018-07-24 10:18:12 2018-07-24 11:05:42  ...           0          10\n",
              "26612 2018-07-25 15:25:34 2018-07-25 16:22:57  ...           0          15\n",
              "26613 2018-09-19 11:57:56 2018-09-19 13:09:44  ...           0          11\n",
              "\n",
              "[5 rows x 10 columns]"
            ]
          },
          "metadata": {
            "tags": []
          },
          "execution_count": 29
        }
      ]
    },
    {
      "cell_type": "markdown",
      "metadata": {
        "id": "G94nT2AXI0k6",
        "colab_type": "text"
      },
      "source": [
        "#### Добавление колонки выходного дня"
      ]
    },
    {
      "cell_type": "code",
      "metadata": {
        "id": "7VB6Q9KRI52h",
        "colab_type": "code",
        "colab": {}
      },
      "source": [
        "# holidays import\n",
        "try:\n",
        "  import holidays\n",
        "except Exception:\n",
        "  !pip install holidays\n",
        "  import holidays"
      ],
      "execution_count": 0,
      "outputs": []
    },
    {
      "cell_type": "code",
      "metadata": {
        "id": "CH3LXeWGJF4e",
        "colab_type": "code",
        "colab": {}
      },
      "source": [
        "# Используем Российские праздники\n",
        "ru_holidays = holidays.RU()"
      ],
      "execution_count": 0,
      "outputs": []
    },
    {
      "cell_type": "code",
      "metadata": {
        "id": "ufMAxpAELLUG",
        "colab_type": "code",
        "colab": {}
      },
      "source": [
        "def is_holiday(date):\n",
        "  if date in ru_holidays or date.dayofweek == 6:\n",
        "    return 1\n",
        "  return 0"
      ],
      "execution_count": 0,
      "outputs": []
    },
    {
      "cell_type": "code",
      "metadata": {
        "id": "g9EjM7r5KHlk",
        "colab_type": "code",
        "colab": {}
      },
      "source": [
        "def add_holiday_column(df):\n",
        "  df['holiday'] = df['time_start'].apply(lambda x: is_holiday(x))\n",
        "add_holiday_column(train_df)"
      ],
      "execution_count": 0,
      "outputs": []
    },
    {
      "cell_type": "code",
      "metadata": {
        "id": "mMqCNEVaK3wS",
        "colab_type": "code",
        "outputId": "f2d5554c-0c3f-4c39-f83c-703e8899e512",
        "colab": {
          "base_uri": "https://localhost:8080/",
          "height": 313
        }
      },
      "source": [
        "# Вуаля\n",
        "train_df.head()"
      ],
      "execution_count": 34,
      "outputs": [
        {
          "output_type": "execute_result",
          "data": {
            "text/html": [
              "<div>\n",
              "<style scoped>\n",
              "    .dataframe tbody tr th:only-of-type {\n",
              "        vertical-align: middle;\n",
              "    }\n",
              "\n",
              "    .dataframe tbody tr th {\n",
              "        vertical-align: top;\n",
              "    }\n",
              "\n",
              "    .dataframe thead th {\n",
              "        text-align: right;\n",
              "    }\n",
              "</style>\n",
              "<table border=\"1\" class=\"dataframe\">\n",
              "  <thead>\n",
              "    <tr style=\"text-align: right;\">\n",
              "      <th></th>\n",
              "      <th>time_start</th>\n",
              "      <th>time_end</th>\n",
              "      <th>place_latitude</th>\n",
              "      <th>place_longitude</th>\n",
              "      <th>service_time</th>\n",
              "      <th>service_time_minutes</th>\n",
              "      <th>coord</th>\n",
              "      <th>season</th>\n",
              "      <th>night_time</th>\n",
              "      <th>hour_start</th>\n",
              "      <th>holiday</th>\n",
              "    </tr>\n",
              "  </thead>\n",
              "  <tbody>\n",
              "    <tr>\n",
              "      <th>26632</th>\n",
              "      <td>2018-03-12 14:24:43</td>\n",
              "      <td>2018-03-12 17:26:54</td>\n",
              "      <td>31.96447</td>\n",
              "      <td>111.01</td>\n",
              "      <td>03:02:11</td>\n",
              "      <td>182.183333</td>\n",
              "      <td>(111.01, 31.964470000000002)</td>\n",
              "      <td>2</td>\n",
              "      <td>0</td>\n",
              "      <td>14</td>\n",
              "      <td>0</td>\n",
              "    </tr>\n",
              "    <tr>\n",
              "      <th>26640</th>\n",
              "      <td>2018-03-30 09:16:33</td>\n",
              "      <td>2018-03-30 10:33:58</td>\n",
              "      <td>31.96447</td>\n",
              "      <td>111.01</td>\n",
              "      <td>01:17:25</td>\n",
              "      <td>77.416667</td>\n",
              "      <td>(111.01, 31.964470000000002)</td>\n",
              "      <td>2</td>\n",
              "      <td>0</td>\n",
              "      <td>9</td>\n",
              "      <td>0</td>\n",
              "    </tr>\n",
              "    <tr>\n",
              "      <th>26609</th>\n",
              "      <td>2018-07-24 10:18:12</td>\n",
              "      <td>2018-07-24 11:05:42</td>\n",
              "      <td>31.96447</td>\n",
              "      <td>111.01</td>\n",
              "      <td>00:47:30</td>\n",
              "      <td>47.500000</td>\n",
              "      <td>(111.01, 31.964470000000002)</td>\n",
              "      <td>3</td>\n",
              "      <td>0</td>\n",
              "      <td>10</td>\n",
              "      <td>0</td>\n",
              "    </tr>\n",
              "    <tr>\n",
              "      <th>26612</th>\n",
              "      <td>2018-07-25 15:25:34</td>\n",
              "      <td>2018-07-25 16:22:57</td>\n",
              "      <td>31.96447</td>\n",
              "      <td>111.01</td>\n",
              "      <td>00:57:23</td>\n",
              "      <td>57.383333</td>\n",
              "      <td>(111.01, 31.964470000000002)</td>\n",
              "      <td>3</td>\n",
              "      <td>0</td>\n",
              "      <td>15</td>\n",
              "      <td>0</td>\n",
              "    </tr>\n",
              "    <tr>\n",
              "      <th>26613</th>\n",
              "      <td>2018-09-19 11:57:56</td>\n",
              "      <td>2018-09-19 13:09:44</td>\n",
              "      <td>31.96447</td>\n",
              "      <td>111.01</td>\n",
              "      <td>01:11:48</td>\n",
              "      <td>71.800000</td>\n",
              "      <td>(111.01, 31.964470000000002)</td>\n",
              "      <td>4</td>\n",
              "      <td>0</td>\n",
              "      <td>11</td>\n",
              "      <td>0</td>\n",
              "    </tr>\n",
              "  </tbody>\n",
              "</table>\n",
              "</div>"
            ],
            "text/plain": [
              "               time_start            time_end  ...  hour_start  holiday\n",
              "26632 2018-03-12 14:24:43 2018-03-12 17:26:54  ...          14        0\n",
              "26640 2018-03-30 09:16:33 2018-03-30 10:33:58  ...           9        0\n",
              "26609 2018-07-24 10:18:12 2018-07-24 11:05:42  ...          10        0\n",
              "26612 2018-07-25 15:25:34 2018-07-25 16:22:57  ...          15        0\n",
              "26613 2018-09-19 11:57:56 2018-09-19 13:09:44  ...          11        0\n",
              "\n",
              "[5 rows x 11 columns]"
            ]
          },
          "metadata": {
            "tags": []
          },
          "execution_count": 34
        }
      ]
    },
    {
      "cell_type": "markdown",
      "metadata": {
        "id": "Uefgdbm7NFVj",
        "colab_type": "text"
      },
      "source": [
        "#### Функция для добавление всех временных фичей"
      ]
    },
    {
      "cell_type": "code",
      "metadata": {
        "id": "nO-h9pm4NKia",
        "colab_type": "code",
        "colab": {}
      },
      "source": [
        "# Для тестовых данных\n",
        "def add_time_features(df):\n",
        "  add_season_column(df)\n",
        "  add_night_column(df)\n",
        "  add_hour_start_column(df)\n",
        "  add_holiday_column(df)"
      ],
      "execution_count": 0,
      "outputs": []
    },
    {
      "cell_type": "markdown",
      "metadata": {
        "id": "l9ADioQhdHzF",
        "colab_type": "text"
      },
      "source": [
        "## Предобработка данных"
      ]
    },
    {
      "cell_type": "markdown",
      "metadata": {
        "id": "SZIaSNOdkW-_",
        "colab_type": "text"
      },
      "source": [
        "#### Избавимся от выбросов"
      ]
    },
    {
      "cell_type": "code",
      "metadata": {
        "id": "Jk4RoRsskU4g",
        "colab_type": "code",
        "outputId": "9d59a172-0a9d-4edf-d75b-cc9fb49a3e2f",
        "colab": {
          "base_uri": "https://localhost:8080/",
          "height": 34
        }
      },
      "source": [
        "# В качестве границы возьмем 96 процентиль\n",
        "time_threshold = train_df.service_time.quantile(0.96)\n",
        "time_threshold"
      ],
      "execution_count": 36,
      "outputs": [
        {
          "output_type": "execute_result",
          "data": {
            "text/plain": [
              "Timedelta('1 days 05:43:24.199999')"
            ]
          },
          "metadata": {
            "tags": []
          },
          "execution_count": 36
        }
      ]
    },
    {
      "cell_type": "code",
      "metadata": {
        "id": "Nfnviq5bfbIs",
        "colab_type": "code",
        "outputId": "c4331811-94f0-418c-fd1c-a37dfa081a85",
        "colab": {
          "base_uri": "https://localhost:8080/",
          "height": 34
        }
      },
      "source": [
        "pd.Timedelta('1 days 05:43:24.199999').seconds / 60"
      ],
      "execution_count": 37,
      "outputs": [
        {
          "output_type": "execute_result",
          "data": {
            "text/plain": [
              "343.4"
            ]
          },
          "metadata": {
            "tags": []
          },
          "execution_count": 37
        }
      ]
    },
    {
      "cell_type": "code",
      "metadata": {
        "id": "Pn2wsyjPkAy4",
        "colab_type": "code",
        "outputId": "73e421dd-809a-4055-b280-1e2f44aa2048",
        "colab": {
          "base_uri": "https://localhost:8080/",
          "height": 34
        }
      },
      "source": [
        "# Оибросим все значения которые больше 96 процентиля\n",
        "train_df_mod = train_df[train_df['service_time'] < time_threshold]\n",
        "print(\"Удалено экземпляров:\", train_df.shape[0] - train_df_mod.shape[0])"
      ],
      "execution_count": 38,
      "outputs": [
        {
          "output_type": "stream",
          "text": [
            "Удалено экземпляров: 3129\n"
          ],
          "name": "stdout"
        }
      ]
    },
    {
      "cell_type": "markdown",
      "metadata": {
        "id": "x8ZMAwkS3hIJ",
        "colab_type": "text"
      },
      "source": [
        "### Избавимся от ненужных колонок"
      ]
    },
    {
      "cell_type": "code",
      "metadata": {
        "id": "0Ch05noN3gP4",
        "colab_type": "code",
        "outputId": "ed69578b-f14d-4709-d275-13e36cfb29be",
        "colab": {
          "base_uri": "https://localhost:8080/",
          "height": 400
        }
      },
      "source": [
        "# Датасет в здании\n",
        "train_df_mod.drop(['time_end', 'service_time'], axis=1, inplace=True)\n",
        "train_df_mod.head()"
      ],
      "execution_count": 39,
      "outputs": [
        {
          "output_type": "stream",
          "text": [
            "/usr/local/lib/python3.6/dist-packages/pandas/core/frame.py:4117: SettingWithCopyWarning: \n",
            "A value is trying to be set on a copy of a slice from a DataFrame\n",
            "\n",
            "See the caveats in the documentation: http://pandas.pydata.org/pandas-docs/stable/user_guide/indexing.html#returning-a-view-versus-a-copy\n",
            "  errors=errors,\n"
          ],
          "name": "stderr"
        },
        {
          "output_type": "execute_result",
          "data": {
            "text/html": [
              "<div>\n",
              "<style scoped>\n",
              "    .dataframe tbody tr th:only-of-type {\n",
              "        vertical-align: middle;\n",
              "    }\n",
              "\n",
              "    .dataframe tbody tr th {\n",
              "        vertical-align: top;\n",
              "    }\n",
              "\n",
              "    .dataframe thead th {\n",
              "        text-align: right;\n",
              "    }\n",
              "</style>\n",
              "<table border=\"1\" class=\"dataframe\">\n",
              "  <thead>\n",
              "    <tr style=\"text-align: right;\">\n",
              "      <th></th>\n",
              "      <th>time_start</th>\n",
              "      <th>place_latitude</th>\n",
              "      <th>place_longitude</th>\n",
              "      <th>service_time_minutes</th>\n",
              "      <th>coord</th>\n",
              "      <th>season</th>\n",
              "      <th>night_time</th>\n",
              "      <th>hour_start</th>\n",
              "      <th>holiday</th>\n",
              "    </tr>\n",
              "  </thead>\n",
              "  <tbody>\n",
              "    <tr>\n",
              "      <th>26632</th>\n",
              "      <td>2018-03-12 14:24:43</td>\n",
              "      <td>31.96447</td>\n",
              "      <td>111.01</td>\n",
              "      <td>182.183333</td>\n",
              "      <td>(111.01, 31.964470000000002)</td>\n",
              "      <td>2</td>\n",
              "      <td>0</td>\n",
              "      <td>14</td>\n",
              "      <td>0</td>\n",
              "    </tr>\n",
              "    <tr>\n",
              "      <th>26640</th>\n",
              "      <td>2018-03-30 09:16:33</td>\n",
              "      <td>31.96447</td>\n",
              "      <td>111.01</td>\n",
              "      <td>77.416667</td>\n",
              "      <td>(111.01, 31.964470000000002)</td>\n",
              "      <td>2</td>\n",
              "      <td>0</td>\n",
              "      <td>9</td>\n",
              "      <td>0</td>\n",
              "    </tr>\n",
              "    <tr>\n",
              "      <th>26609</th>\n",
              "      <td>2018-07-24 10:18:12</td>\n",
              "      <td>31.96447</td>\n",
              "      <td>111.01</td>\n",
              "      <td>47.500000</td>\n",
              "      <td>(111.01, 31.964470000000002)</td>\n",
              "      <td>3</td>\n",
              "      <td>0</td>\n",
              "      <td>10</td>\n",
              "      <td>0</td>\n",
              "    </tr>\n",
              "    <tr>\n",
              "      <th>26612</th>\n",
              "      <td>2018-07-25 15:25:34</td>\n",
              "      <td>31.96447</td>\n",
              "      <td>111.01</td>\n",
              "      <td>57.383333</td>\n",
              "      <td>(111.01, 31.964470000000002)</td>\n",
              "      <td>3</td>\n",
              "      <td>0</td>\n",
              "      <td>15</td>\n",
              "      <td>0</td>\n",
              "    </tr>\n",
              "    <tr>\n",
              "      <th>26613</th>\n",
              "      <td>2018-09-19 11:57:56</td>\n",
              "      <td>31.96447</td>\n",
              "      <td>111.01</td>\n",
              "      <td>71.800000</td>\n",
              "      <td>(111.01, 31.964470000000002)</td>\n",
              "      <td>4</td>\n",
              "      <td>0</td>\n",
              "      <td>11</td>\n",
              "      <td>0</td>\n",
              "    </tr>\n",
              "  </tbody>\n",
              "</table>\n",
              "</div>"
            ],
            "text/plain": [
              "               time_start  place_latitude  ...  hour_start  holiday\n",
              "26632 2018-03-12 14:24:43        31.96447  ...          14        0\n",
              "26640 2018-03-30 09:16:33        31.96447  ...           9        0\n",
              "26609 2018-07-24 10:18:12        31.96447  ...          10        0\n",
              "26612 2018-07-25 15:25:34        31.96447  ...          15        0\n",
              "26613 2018-09-19 11:57:56        31.96447  ...          11        0\n",
              "\n",
              "[5 rows x 9 columns]"
            ]
          },
          "metadata": {
            "tags": []
          },
          "execution_count": 39
        }
      ]
    },
    {
      "cell_type": "markdown",
      "metadata": {
        "id": "vaWe9FGErL20",
        "colab_type": "text"
      },
      "source": [
        "### Добавление ручной и очень хитрой группировки\n",
        "Фича Богдана"
      ]
    },
    {
      "cell_type": "code",
      "metadata": {
        "id": "b8lkF35DrSlA",
        "colab_type": "code",
        "colab": {}
      },
      "source": [
        "df_loc = train_df_mod[['time_start', 'place_latitude', 'place_longitude']]"
      ],
      "execution_count": 0,
      "outputs": []
    },
    {
      "cell_type": "code",
      "metadata": {
        "id": "SQ2v9HH0rSfn",
        "colab_type": "code",
        "outputId": "3f3664cf-9b4d-4f49-c0cb-6be506cea91d",
        "colab": {
          "base_uri": "https://localhost:8080/",
          "height": 141
        }
      },
      "source": [
        "df_loc['time_start'] = df_loc['time_start'].apply(lambda x: x.floor('MIN'))"
      ],
      "execution_count": 41,
      "outputs": [
        {
          "output_type": "stream",
          "text": [
            "/usr/local/lib/python3.6/dist-packages/ipykernel_launcher.py:1: SettingWithCopyWarning: \n",
            "A value is trying to be set on a copy of a slice from a DataFrame.\n",
            "Try using .loc[row_indexer,col_indexer] = value instead\n",
            "\n",
            "See the caveats in the documentation: http://pandas.pydata.org/pandas-docs/stable/user_guide/indexing.html#returning-a-view-versus-a-copy\n",
            "  \"\"\"Entry point for launching an IPython kernel.\n"
          ],
          "name": "stderr"
        }
      ]
    },
    {
      "cell_type": "code",
      "metadata": {
        "id": "mW7PH24krSay",
        "colab_type": "code",
        "colab": {}
      },
      "source": [
        "new = df_loc['time_start'].value_counts()\n",
        "new = new.to_frame()\n",
        "new.rename(columns=({'time_start':'count'}), inplace=True)"
      ],
      "execution_count": 0,
      "outputs": []
    },
    {
      "cell_type": "code",
      "metadata": {
        "id": "ydNmD_u5rSO0",
        "colab_type": "code",
        "colab": {}
      },
      "source": [
        "new['time_start'] = new.index"
      ],
      "execution_count": 0,
      "outputs": []
    },
    {
      "cell_type": "code",
      "metadata": {
        "id": "s7WafeAmwQf9",
        "colab_type": "code",
        "colab": {}
      },
      "source": [
        "df_loc = pd.merge(df_loc, new, on='time_start', how='left')"
      ],
      "execution_count": 0,
      "outputs": []
    },
    {
      "cell_type": "code",
      "metadata": {
        "id": "F95D2sU5wSzp",
        "colab_type": "code",
        "outputId": "34d87048-da76-43a0-f295-6ad406668341",
        "colab": {
          "base_uri": "https://localhost:8080/",
          "height": 34
        }
      },
      "source": [
        "len(df_loc.query('count != 1')['time_start'].unique())"
      ],
      "execution_count": 45,
      "outputs": [
        {
          "output_type": "execute_result",
          "data": {
            "text/plain": [
              "8086"
            ]
          },
          "metadata": {
            "tags": []
          },
          "execution_count": 45
        }
      ]
    },
    {
      "cell_type": "code",
      "metadata": {
        "id": "ETKxfkcQwX2Z",
        "colab_type": "code",
        "colab": {}
      },
      "source": [
        "df_loc_groups = df_loc.query('count > 2')"
      ],
      "execution_count": 0,
      "outputs": []
    },
    {
      "cell_type": "code",
      "metadata": {
        "id": "NvZHMreTwXwY",
        "colab_type": "code",
        "colab": {}
      },
      "source": [
        "cl = len(df_loc_groups.time_start.unique())"
      ],
      "execution_count": 0,
      "outputs": []
    },
    {
      "cell_type": "code",
      "metadata": {
        "id": "Rx2Jb0RswXrD",
        "colab_type": "code",
        "outputId": "a96eb1cd-4fb3-48c1-c494-03045854701d",
        "colab": {
          "base_uri": "https://localhost:8080/",
          "height": 206
        }
      },
      "source": [
        "df_loc.sort_values(by='count', ascending=False).head(5)"
      ],
      "execution_count": 48,
      "outputs": [
        {
          "output_type": "execute_result",
          "data": {
            "text/html": [
              "<div>\n",
              "<style scoped>\n",
              "    .dataframe tbody tr th:only-of-type {\n",
              "        vertical-align: middle;\n",
              "    }\n",
              "\n",
              "    .dataframe tbody tr th {\n",
              "        vertical-align: top;\n",
              "    }\n",
              "\n",
              "    .dataframe thead th {\n",
              "        text-align: right;\n",
              "    }\n",
              "</style>\n",
              "<table border=\"1\" class=\"dataframe\">\n",
              "  <thead>\n",
              "    <tr style=\"text-align: right;\">\n",
              "      <th></th>\n",
              "      <th>time_start</th>\n",
              "      <th>place_latitude</th>\n",
              "      <th>place_longitude</th>\n",
              "      <th>count</th>\n",
              "    </tr>\n",
              "  </thead>\n",
              "  <tbody>\n",
              "    <tr>\n",
              "      <th>9194</th>\n",
              "      <td>2019-08-07 02:25:00</td>\n",
              "      <td>29.858603</td>\n",
              "      <td>112.895050</td>\n",
              "      <td>18</td>\n",
              "    </tr>\n",
              "    <tr>\n",
              "      <th>6754</th>\n",
              "      <td>2019-08-07 02:25:00</td>\n",
              "      <td>29.829378</td>\n",
              "      <td>112.634167</td>\n",
              "      <td>18</td>\n",
              "    </tr>\n",
              "    <tr>\n",
              "      <th>6672</th>\n",
              "      <td>2019-08-07 02:25:00</td>\n",
              "      <td>29.743636</td>\n",
              "      <td>112.620260</td>\n",
              "      <td>18</td>\n",
              "    </tr>\n",
              "    <tr>\n",
              "      <th>9479</th>\n",
              "      <td>2019-08-07 02:25:00</td>\n",
              "      <td>29.815033</td>\n",
              "      <td>112.905272</td>\n",
              "      <td>18</td>\n",
              "    </tr>\n",
              "    <tr>\n",
              "      <th>9281</th>\n",
              "      <td>2019-08-07 02:25:00</td>\n",
              "      <td>29.824883</td>\n",
              "      <td>112.902180</td>\n",
              "      <td>18</td>\n",
              "    </tr>\n",
              "  </tbody>\n",
              "</table>\n",
              "</div>"
            ],
            "text/plain": [
              "              time_start  place_latitude  place_longitude  count\n",
              "9194 2019-08-07 02:25:00       29.858603       112.895050     18\n",
              "6754 2019-08-07 02:25:00       29.829378       112.634167     18\n",
              "6672 2019-08-07 02:25:00       29.743636       112.620260     18\n",
              "9479 2019-08-07 02:25:00       29.815033       112.905272     18\n",
              "9281 2019-08-07 02:25:00       29.824883       112.902180     18"
            ]
          },
          "metadata": {
            "tags": []
          },
          "execution_count": 48
        }
      ]
    },
    {
      "cell_type": "code",
      "metadata": {
        "id": "UFCAhepfwyZ6",
        "colab_type": "code",
        "outputId": "9408ec28-1085-412f-a153-08b103a0d0ab",
        "colab": {
          "base_uri": "https://localhost:8080/",
          "height": 238
        }
      },
      "source": [
        "new = df_loc[['time_start','count']].groupby(by='time_start').count().sort_values('count', ascending=False)\n",
        "new['id'] = [i for i in range(new.shape[0])]\n",
        "new.head(5)"
      ],
      "execution_count": 49,
      "outputs": [
        {
          "output_type": "execute_result",
          "data": {
            "text/html": [
              "<div>\n",
              "<style scoped>\n",
              "    .dataframe tbody tr th:only-of-type {\n",
              "        vertical-align: middle;\n",
              "    }\n",
              "\n",
              "    .dataframe tbody tr th {\n",
              "        vertical-align: top;\n",
              "    }\n",
              "\n",
              "    .dataframe thead th {\n",
              "        text-align: right;\n",
              "    }\n",
              "</style>\n",
              "<table border=\"1\" class=\"dataframe\">\n",
              "  <thead>\n",
              "    <tr style=\"text-align: right;\">\n",
              "      <th></th>\n",
              "      <th>count</th>\n",
              "      <th>id</th>\n",
              "    </tr>\n",
              "    <tr>\n",
              "      <th>time_start</th>\n",
              "      <th></th>\n",
              "      <th></th>\n",
              "    </tr>\n",
              "  </thead>\n",
              "  <tbody>\n",
              "    <tr>\n",
              "      <th>2019-08-07 02:25:00</th>\n",
              "      <td>18</td>\n",
              "      <td>0</td>\n",
              "    </tr>\n",
              "    <tr>\n",
              "      <th>2018-12-16 21:35:00</th>\n",
              "      <td>16</td>\n",
              "      <td>1</td>\n",
              "    </tr>\n",
              "    <tr>\n",
              "      <th>2019-05-25 03:24:00</th>\n",
              "      <td>15</td>\n",
              "      <td>2</td>\n",
              "    </tr>\n",
              "    <tr>\n",
              "      <th>2018-09-28 08:15:00</th>\n",
              "      <td>14</td>\n",
              "      <td>3</td>\n",
              "    </tr>\n",
              "    <tr>\n",
              "      <th>2018-09-28 18:37:00</th>\n",
              "      <td>14</td>\n",
              "      <td>4</td>\n",
              "    </tr>\n",
              "  </tbody>\n",
              "</table>\n",
              "</div>"
            ],
            "text/plain": [
              "                     count  id\n",
              "time_start                    \n",
              "2019-08-07 02:25:00     18   0\n",
              "2018-12-16 21:35:00     16   1\n",
              "2019-05-25 03:24:00     15   2\n",
              "2018-09-28 08:15:00     14   3\n",
              "2018-09-28 18:37:00     14   4"
            ]
          },
          "metadata": {
            "tags": []
          },
          "execution_count": 49
        }
      ]
    },
    {
      "cell_type": "code",
      "metadata": {
        "id": "HhB9q_Ejw1qd",
        "colab_type": "code",
        "colab": {}
      },
      "source": [
        "df_numed = pd.merge(df_loc, new[['id']], how='left', on='time_start').sort_values('count', ascending=False)"
      ],
      "execution_count": 0,
      "outputs": []
    },
    {
      "cell_type": "code",
      "metadata": {
        "id": "uDVhCrE4w28e",
        "colab_type": "code",
        "outputId": "ca6fed10-9964-4eba-d3fa-266c831d53d0",
        "colab": {
          "base_uri": "https://localhost:8080/",
          "height": 455
        }
      },
      "source": [
        "df_numed.groupby(by=['place_latitude', 'place_longitude']).agg({'id': 'min',\n",
        "                                                                'time_start': 'count'})#.min().sort_values('id', ascending=True)"
      ],
      "execution_count": 51,
      "outputs": [
        {
          "output_type": "execute_result",
          "data": {
            "text/html": [
              "<div>\n",
              "<style scoped>\n",
              "    .dataframe tbody tr th:only-of-type {\n",
              "        vertical-align: middle;\n",
              "    }\n",
              "\n",
              "    .dataframe tbody tr th {\n",
              "        vertical-align: top;\n",
              "    }\n",
              "\n",
              "    .dataframe thead th {\n",
              "        text-align: right;\n",
              "    }\n",
              "</style>\n",
              "<table border=\"1\" class=\"dataframe\">\n",
              "  <thead>\n",
              "    <tr style=\"text-align: right;\">\n",
              "      <th></th>\n",
              "      <th></th>\n",
              "      <th>id</th>\n",
              "      <th>time_start</th>\n",
              "    </tr>\n",
              "    <tr>\n",
              "      <th>place_latitude</th>\n",
              "      <th>place_longitude</th>\n",
              "      <th></th>\n",
              "      <th></th>\n",
              "    </tr>\n",
              "  </thead>\n",
              "  <tbody>\n",
              "    <tr>\n",
              "      <th>27.002889</th>\n",
              "      <th>115.390675</th>\n",
              "      <td>1005</td>\n",
              "      <td>12</td>\n",
              "    </tr>\n",
              "    <tr>\n",
              "      <th>27.004426</th>\n",
              "      <th>114.508818</th>\n",
              "      <td>5938</td>\n",
              "      <td>9</td>\n",
              "    </tr>\n",
              "    <tr>\n",
              "      <th>27.004441</th>\n",
              "      <th>114.482340</th>\n",
              "      <td>7057</td>\n",
              "      <td>17</td>\n",
              "    </tr>\n",
              "    <tr>\n",
              "      <th>27.004443</th>\n",
              "      <th>115.305837</th>\n",
              "      <td>6085</td>\n",
              "      <td>8</td>\n",
              "    </tr>\n",
              "    <tr>\n",
              "      <th>27.005625</th>\n",
              "      <th>114.930465</th>\n",
              "      <td>5610</td>\n",
              "      <td>16</td>\n",
              "    </tr>\n",
              "    <tr>\n",
              "      <th>...</th>\n",
              "      <th>...</th>\n",
              "      <td>...</td>\n",
              "      <td>...</td>\n",
              "    </tr>\n",
              "    <tr>\n",
              "      <th>31.956940</th>\n",
              "      <th>114.472610</th>\n",
              "      <td>3414</td>\n",
              "      <td>14</td>\n",
              "    </tr>\n",
              "    <tr>\n",
              "      <th>31.960560</th>\n",
              "      <th>112.951390</th>\n",
              "      <td>13669</td>\n",
              "      <td>7</td>\n",
              "    </tr>\n",
              "    <tr>\n",
              "      <th>31.964470</th>\n",
              "      <th>111.010000</th>\n",
              "      <td>1807</td>\n",
              "      <td>36</td>\n",
              "    </tr>\n",
              "    <tr>\n",
              "      <th>31.965556</th>\n",
              "      <th>113.599722</th>\n",
              "      <td>3369</td>\n",
              "      <td>15</td>\n",
              "    </tr>\n",
              "    <tr>\n",
              "      <th>31.977074</th>\n",
              "      <th>115.393131</th>\n",
              "      <td>35</td>\n",
              "      <td>3</td>\n",
              "    </tr>\n",
              "  </tbody>\n",
              "</table>\n",
              "<p>8009 rows × 2 columns</p>\n",
              "</div>"
            ],
            "text/plain": [
              "                                   id  time_start\n",
              "place_latitude place_longitude                   \n",
              "27.002889      115.390675        1005          12\n",
              "27.004426      114.508818        5938           9\n",
              "27.004441      114.482340        7057          17\n",
              "27.004443      115.305837        6085           8\n",
              "27.005625      114.930465        5610          16\n",
              "...                               ...         ...\n",
              "31.956940      114.472610        3414          14\n",
              "31.960560      112.951390       13669           7\n",
              "31.964470      111.010000        1807          36\n",
              "31.965556      113.599722        3369          15\n",
              "31.977074      115.393131          35           3\n",
              "\n",
              "[8009 rows x 2 columns]"
            ]
          },
          "metadata": {
            "tags": []
          },
          "execution_count": 51
        }
      ]
    },
    {
      "cell_type": "code",
      "metadata": {
        "id": "O-11XTJIxFYe",
        "colab_type": "code",
        "colab": {}
      },
      "source": [
        "df_l = train_df.copy()"
      ],
      "execution_count": 0,
      "outputs": []
    },
    {
      "cell_type": "code",
      "metadata": {
        "id": "-JzgQlHuxHAi",
        "colab_type": "code",
        "colab": {}
      },
      "source": [
        "#Вычисление время отключения минуты\n",
        "df_l['t_s'] = pd.to_datetime(df_l.time_start)\n",
        "df_l['t_e'] = pd.to_datetime(df_l.time_end)\n",
        "df_l['service_time'] = df_l.t_e - df_l.t_s\n",
        "df_l['ans'] = df_l['service_time'].apply(lambda time: time.total_seconds() / 60)"
      ],
      "execution_count": 0,
      "outputs": []
    },
    {
      "cell_type": "code",
      "metadata": {
        "id": "_Mnfx0zhxIkG",
        "colab_type": "code",
        "colab": {}
      },
      "source": [
        "#Обрезаем стартовое время до минут\n",
        "df_l['time_start'] = df_l['time_start'].apply(lambda x: x.floor('MIN'))"
      ],
      "execution_count": 0,
      "outputs": []
    },
    {
      "cell_type": "code",
      "metadata": {
        "id": "xaZmqVzixTmn",
        "colab_type": "code",
        "colab": {}
      },
      "source": [
        "#Расчет количества поломок произошедших в одно время\n",
        "new = df_l['time_start'].value_counts()\n",
        "new = new.to_frame()\n",
        "new.rename(columns={'time_start':'count'}, inplace=True)\n",
        "new['time_start'] = new.index\n",
        "df_l = pd.merge(df_l, new, on='time_start', how='left')"
      ],
      "execution_count": 0,
      "outputs": []
    },
    {
      "cell_type": "code",
      "metadata": {
        "id": "CUsCAwvcxUh9",
        "colab_type": "code",
        "colab": {}
      },
      "source": [
        "#Создание колонки id отвечающей за события прозошедшие в одно и то же время\n",
        "new = df_l[['time_start','count']].groupby(by='time_start').count().sort_values('count', ascending=False)\n",
        "new['id'] = [i for i in range(new.shape[0])]\n",
        "df_l = pd.merge(df_l, new[['id']], how='left', on='time_start').sort_values('count', ascending=False)"
      ],
      "execution_count": 0,
      "outputs": []
    },
    {
      "cell_type": "code",
      "metadata": {
        "id": "-nahJmftxWW4",
        "colab_type": "code",
        "colab": {}
      },
      "source": [
        "#Удаляем мусор\n",
        "df_l.drop(['time_start', 'time_end', 'service_time'], inplace=True, axis=1)\n",
        "df_l.rename(columns={'t_s': 'time_start',\n",
        "                     't_e' : 'time_end'}, inplace=True)"
      ],
      "execution_count": 0,
      "outputs": []
    },
    {
      "cell_type": "markdown",
      "metadata": {
        "id": "07ZyNtA7x656",
        "colab_type": "text"
      },
      "source": [
        "Тут очень важный момент, что до группировки по координатам мы не связываем сущности событие и вышка т.е. разные события для одной вышки будут иметь разный id"
      ]
    },
    {
      "cell_type": "code",
      "metadata": {
        "id": "lqRsRsPax4F5",
        "colab_type": "code",
        "colab": {}
      },
      "source": [
        "#Группируем по координатам\n",
        "temp = df_l.groupby(by=['place_latitude', 'place_longitude'], as_index=False).agg({'id': 'min',\n",
        "                                                            'time_start': 'count',\n",
        "                                                            'ans': 'mean'})#.min().sort_values('id', ascending=True)"
      ],
      "execution_count": 0,
      "outputs": []
    },
    {
      "cell_type": "code",
      "metadata": {
        "id": "ugIerxs7x-Lw",
        "colab_type": "code",
        "colab": {}
      },
      "source": [
        "group_id_column = train_df_mod.merge(temp, how='left', on=['place_latitude', 'place_longitude'])['id']"
      ],
      "execution_count": 0,
      "outputs": []
    },
    {
      "cell_type": "code",
      "metadata": {
        "id": "aBVFIJSs2QhH",
        "colab_type": "code",
        "outputId": "05fb00a8-d7b3-457c-acb3-3595affe805e",
        "colab": {
          "base_uri": "https://localhost:8080/",
          "height": 34
        }
      },
      "source": [
        "group_id_column.isna().sum()"
      ],
      "execution_count": 60,
      "outputs": [
        {
          "output_type": "execute_result",
          "data": {
            "text/plain": [
              "0"
            ]
          },
          "metadata": {
            "tags": []
          },
          "execution_count": 60
        }
      ]
    },
    {
      "cell_type": "code",
      "metadata": {
        "id": "jje-jLhz2chN",
        "colab_type": "code",
        "colab": {}
      },
      "source": [
        "# Очищаем временные переменные\n",
        "del df_l, df_loc, df_loc_groups, df_numed"
      ],
      "execution_count": 0,
      "outputs": []
    },
    {
      "cell_type": "markdown",
      "metadata": {
        "id": "6TT3DRYTzNZz",
        "colab_type": "text"
      },
      "source": [
        "### Добавление фичи с количеством поломок в этот день"
      ]
    },
    {
      "cell_type": "code",
      "metadata": {
        "id": "bnnCzuua2955",
        "colab_type": "code",
        "outputId": "fda78b8d-dcd7-4637-a0f5-0921efdc5ec5",
        "colab": {
          "base_uri": "https://localhost:8080/",
          "height": 141
        }
      },
      "source": [
        "# Создадим ячейку с округлением до дня\n",
        "train_df_mod['time_start_day'] = train_df_mod['time_start']\\\n",
        "                        .apply(lambda x: x.normalize())"
      ],
      "execution_count": 62,
      "outputs": [
        {
          "output_type": "stream",
          "text": [
            "/usr/local/lib/python3.6/dist-packages/ipykernel_launcher.py:1: SettingWithCopyWarning: \n",
            "A value is trying to be set on a copy of a slice from a DataFrame.\n",
            "Try using .loc[row_indexer,col_indexer] = value instead\n",
            "\n",
            "See the caveats in the documentation: http://pandas.pydata.org/pandas-docs/stable/user_guide/indexing.html#returning-a-view-versus-a-copy\n",
            "  \"\"\"Entry point for launching an IPython kernel.\n"
          ],
          "name": "stderr"
        }
      ]
    },
    {
      "cell_type": "code",
      "metadata": {
        "id": "0SxETgqp3MW3",
        "colab_type": "code",
        "outputId": "36cadecf-983a-4b85-8bbb-db60dcc9a0a6",
        "colab": {
          "base_uri": "https://localhost:8080/",
          "height": 167
        }
      },
      "source": [
        "train_df_mod.head(2)"
      ],
      "execution_count": 63,
      "outputs": [
        {
          "output_type": "execute_result",
          "data": {
            "text/html": [
              "<div>\n",
              "<style scoped>\n",
              "    .dataframe tbody tr th:only-of-type {\n",
              "        vertical-align: middle;\n",
              "    }\n",
              "\n",
              "    .dataframe tbody tr th {\n",
              "        vertical-align: top;\n",
              "    }\n",
              "\n",
              "    .dataframe thead th {\n",
              "        text-align: right;\n",
              "    }\n",
              "</style>\n",
              "<table border=\"1\" class=\"dataframe\">\n",
              "  <thead>\n",
              "    <tr style=\"text-align: right;\">\n",
              "      <th></th>\n",
              "      <th>time_start</th>\n",
              "      <th>place_latitude</th>\n",
              "      <th>place_longitude</th>\n",
              "      <th>service_time_minutes</th>\n",
              "      <th>coord</th>\n",
              "      <th>season</th>\n",
              "      <th>night_time</th>\n",
              "      <th>hour_start</th>\n",
              "      <th>holiday</th>\n",
              "      <th>time_start_day</th>\n",
              "    </tr>\n",
              "  </thead>\n",
              "  <tbody>\n",
              "    <tr>\n",
              "      <th>26632</th>\n",
              "      <td>2018-03-12 14:24:43</td>\n",
              "      <td>31.96447</td>\n",
              "      <td>111.01</td>\n",
              "      <td>182.183333</td>\n",
              "      <td>(111.01, 31.964470000000002)</td>\n",
              "      <td>2</td>\n",
              "      <td>0</td>\n",
              "      <td>14</td>\n",
              "      <td>0</td>\n",
              "      <td>2018-03-12</td>\n",
              "    </tr>\n",
              "    <tr>\n",
              "      <th>26640</th>\n",
              "      <td>2018-03-30 09:16:33</td>\n",
              "      <td>31.96447</td>\n",
              "      <td>111.01</td>\n",
              "      <td>77.416667</td>\n",
              "      <td>(111.01, 31.964470000000002)</td>\n",
              "      <td>2</td>\n",
              "      <td>0</td>\n",
              "      <td>9</td>\n",
              "      <td>0</td>\n",
              "      <td>2018-03-30</td>\n",
              "    </tr>\n",
              "  </tbody>\n",
              "</table>\n",
              "</div>"
            ],
            "text/plain": [
              "               time_start  place_latitude  ...  holiday  time_start_day\n",
              "26632 2018-03-12 14:24:43        31.96447  ...        0      2018-03-12\n",
              "26640 2018-03-30 09:16:33        31.96447  ...        0      2018-03-30\n",
              "\n",
              "[2 rows x 10 columns]"
            ]
          },
          "metadata": {
            "tags": []
          },
          "execution_count": 63
        }
      ]
    },
    {
      "cell_type": "code",
      "metadata": {
        "id": "NiDmUP77zU1E",
        "colab_type": "code",
        "colab": {}
      },
      "source": [
        "# Создадим датафрэйм для генерации фичи, группировка по дню\n",
        "df_mod = train_df_mod.loc[:,[\n",
        "          'season',\n",
        "          'service_time_minutes',\n",
        "          'time_start_day']]\\\n",
        "  .groupby('time_start_day', as_index=False)\\\n",
        "  .agg({\n",
        "        'service_time_minutes': 'mean',\n",
        "        'season': ['count']\n",
        "})\n",
        "df_mod.columns = [\"_\".join(x) if x[1] else x[0] for x in df_mod.columns.ravel()]"
      ],
      "execution_count": 0,
      "outputs": []
    },
    {
      "cell_type": "code",
      "metadata": {
        "id": "Wq2W86kYzUuV",
        "colab_type": "code",
        "outputId": "1df115c7-958d-469b-d613-4af174c41ae9",
        "colab": {
          "base_uri": "https://localhost:8080/",
          "height": 206
        }
      },
      "source": [
        "df_mod.head(5)"
      ],
      "execution_count": 65,
      "outputs": [
        {
          "output_type": "execute_result",
          "data": {
            "text/html": [
              "<div>\n",
              "<style scoped>\n",
              "    .dataframe tbody tr th:only-of-type {\n",
              "        vertical-align: middle;\n",
              "    }\n",
              "\n",
              "    .dataframe tbody tr th {\n",
              "        vertical-align: top;\n",
              "    }\n",
              "\n",
              "    .dataframe thead th {\n",
              "        text-align: right;\n",
              "    }\n",
              "</style>\n",
              "<table border=\"1\" class=\"dataframe\">\n",
              "  <thead>\n",
              "    <tr style=\"text-align: right;\">\n",
              "      <th></th>\n",
              "      <th>time_start_day</th>\n",
              "      <th>service_time_minutes_mean</th>\n",
              "      <th>season_count</th>\n",
              "    </tr>\n",
              "  </thead>\n",
              "  <tbody>\n",
              "    <tr>\n",
              "      <th>0</th>\n",
              "      <td>2018-01-01</td>\n",
              "      <td>246.219444</td>\n",
              "      <td>12</td>\n",
              "    </tr>\n",
              "    <tr>\n",
              "      <th>1</th>\n",
              "      <td>2018-01-02</td>\n",
              "      <td>136.640909</td>\n",
              "      <td>11</td>\n",
              "    </tr>\n",
              "    <tr>\n",
              "      <th>2</th>\n",
              "      <td>2018-01-03</td>\n",
              "      <td>158.096296</td>\n",
              "      <td>9</td>\n",
              "    </tr>\n",
              "    <tr>\n",
              "      <th>3</th>\n",
              "      <td>2018-01-04</td>\n",
              "      <td>121.603333</td>\n",
              "      <td>10</td>\n",
              "    </tr>\n",
              "    <tr>\n",
              "      <th>4</th>\n",
              "      <td>2018-01-05</td>\n",
              "      <td>124.402778</td>\n",
              "      <td>6</td>\n",
              "    </tr>\n",
              "  </tbody>\n",
              "</table>\n",
              "</div>"
            ],
            "text/plain": [
              "  time_start_day  service_time_minutes_mean  season_count\n",
              "0     2018-01-01                 246.219444            12\n",
              "1     2018-01-02                 136.640909            11\n",
              "2     2018-01-03                 158.096296             9\n",
              "3     2018-01-04                 121.603333            10\n",
              "4     2018-01-05                 124.402778             6"
            ]
          },
          "metadata": {
            "tags": []
          },
          "execution_count": 65
        }
      ]
    },
    {
      "cell_type": "code",
      "metadata": {
        "id": "xw5wtb8H4PGa",
        "colab_type": "code",
        "colab": {}
      },
      "source": [
        "train_df_mod = train_df_mod.merge(df_mod.loc[:,['time_start_day', 'season_count']],\n",
        "                                  how='left', on='time_start_day')\\\n",
        "                .rename({'season_count': 'fails_count'}, axis=1)\\\n",
        "                .drop('time_start_day', axis=1)"
      ],
      "execution_count": 0,
      "outputs": []
    },
    {
      "cell_type": "code",
      "metadata": {
        "id": "juTwkfhc4O-5",
        "colab_type": "code",
        "outputId": "aa9ce3e0-79c6-4b09-c289-0b4686bd84b8",
        "colab": {
          "base_uri": "https://localhost:8080/",
          "height": 949
        }
      },
      "source": [
        "# Построим график распределения поломок\n",
        "plt.figure(figsize=(14,14))\n",
        "scatter = plt.scatter(x=df_mod['time_start_day'],\n",
        "               y=df_mod['season_count'],\n",
        "            s=36,\n",
        "            c=df_mod['service_time_minutes_mean'])\n",
        "legend1 = plt.legend(*scatter.legend_elements(),\n",
        "                    loc=\"upper right\", title=\"mean service time\")\n",
        "plt.title('Количество поломок по дням')\n",
        "plt.show()"
      ],
      "execution_count": 67,
      "outputs": [
        {
          "output_type": "stream",
          "text": [
            "/usr/local/lib/python3.6/dist-packages/pandas/plotting/_matplotlib/converter.py:103: FutureWarning: Using an implicitly registered datetime converter for a matplotlib plotting method. The converter was registered by pandas on import. Future versions of pandas will require you to explicitly register matplotlib converters.\n",
            "\n",
            "To register the converters:\n",
            "\t>>> from pandas.plotting import register_matplotlib_converters\n",
            "\t>>> register_matplotlib_converters()\n",
            "  warnings.warn(msg, FutureWarning)\n"
          ],
          "name": "stderr"
        },
        {
          "output_type": "display_data",
          "data": {
            "image/png": "[encoded data removed]",
            "text/plain": [
              "<Figure size 1008x1008 with 1 Axes>"
            ]
          },
          "metadata": {
            "tags": []
          }
        }
      ]
    },
    {
      "cell_type": "code",
      "metadata": {
        "id": "kcMGDX_H491W",
        "colab_type": "code",
        "colab": {}
      },
      "source": [
        "# Удалим ненужный более dataframe\n",
        "del df_mod"
      ],
      "execution_count": 0,
      "outputs": []
    },
    {
      "cell_type": "markdown",
      "metadata": {
        "id": "ePlHfwJpzgf6",
        "colab_type": "text"
      },
      "source": [
        "## Преобразование переменных\n"
      ]
    },
    {
      "cell_type": "markdown",
      "metadata": {
        "id": "gIDz4zK-zn66",
        "colab_type": "text"
      },
      "source": [
        "### Перевод времени в минуты"
      ]
    },
    {
      "cell_type": "code",
      "metadata": {
        "id": "7bFjBm9Fzmx7",
        "colab_type": "code",
        "colab": {}
      },
      "source": [
        "train_df_mod['time_start_minutes'] = \\\n",
        "      (train_df_mod['time_start'] - pd.to_datetime('2016'))\\\n",
        "        .apply(lambda x: x.total_seconds() / 60)"
      ],
      "execution_count": 0,
      "outputs": []
    },
    {
      "cell_type": "code",
      "metadata": {
        "id": "WZaA-3tO5kmw",
        "colab_type": "code",
        "outputId": "ce4b80ec-4501-4553-f13a-6038af466026",
        "colab": {
          "base_uri": "https://localhost:8080/",
          "height": 313
        }
      },
      "source": [
        "train_df_mod.head()"
      ],
      "execution_count": 70,
      "outputs": [
        {
          "output_type": "execute_result",
          "data": {
            "text/html": [
              "<div>\n",
              "<style scoped>\n",
              "    .dataframe tbody tr th:only-of-type {\n",
              "        vertical-align: middle;\n",
              "    }\n",
              "\n",
              "    .dataframe tbody tr th {\n",
              "        vertical-align: top;\n",
              "    }\n",
              "\n",
              "    .dataframe thead th {\n",
              "        text-align: right;\n",
              "    }\n",
              "</style>\n",
              "<table border=\"1\" class=\"dataframe\">\n",
              "  <thead>\n",
              "    <tr style=\"text-align: right;\">\n",
              "      <th></th>\n",
              "      <th>time_start</th>\n",
              "      <th>place_latitude</th>\n",
              "      <th>place_longitude</th>\n",
              "      <th>service_time_minutes</th>\n",
              "      <th>coord</th>\n",
              "      <th>season</th>\n",
              "      <th>night_time</th>\n",
              "      <th>hour_start</th>\n",
              "      <th>holiday</th>\n",
              "      <th>fails_count</th>\n",
              "      <th>time_start_minutes</th>\n",
              "    </tr>\n",
              "  </thead>\n",
              "  <tbody>\n",
              "    <tr>\n",
              "      <th>0</th>\n",
              "      <td>2018-03-12 14:24:43</td>\n",
              "      <td>31.96447</td>\n",
              "      <td>111.01</td>\n",
              "      <td>182.183333</td>\n",
              "      <td>(111.01, 31.964470000000002)</td>\n",
              "      <td>2</td>\n",
              "      <td>0</td>\n",
              "      <td>14</td>\n",
              "      <td>0</td>\n",
              "      <td>78</td>\n",
              "      <td>1.154305e+06</td>\n",
              "    </tr>\n",
              "    <tr>\n",
              "      <th>1</th>\n",
              "      <td>2018-03-30 09:16:33</td>\n",
              "      <td>31.96447</td>\n",
              "      <td>111.01</td>\n",
              "      <td>77.416667</td>\n",
              "      <td>(111.01, 31.964470000000002)</td>\n",
              "      <td>2</td>\n",
              "      <td>0</td>\n",
              "      <td>9</td>\n",
              "      <td>0</td>\n",
              "      <td>92</td>\n",
              "      <td>1.179917e+06</td>\n",
              "    </tr>\n",
              "    <tr>\n",
              "      <th>2</th>\n",
              "      <td>2018-07-24 10:18:12</td>\n",
              "      <td>31.96447</td>\n",
              "      <td>111.01</td>\n",
              "      <td>47.500000</td>\n",
              "      <td>(111.01, 31.964470000000002)</td>\n",
              "      <td>3</td>\n",
              "      <td>0</td>\n",
              "      <td>10</td>\n",
              "      <td>0</td>\n",
              "      <td>111</td>\n",
              "      <td>1.347018e+06</td>\n",
              "    </tr>\n",
              "    <tr>\n",
              "      <th>3</th>\n",
              "      <td>2018-07-25 15:25:34</td>\n",
              "      <td>31.96447</td>\n",
              "      <td>111.01</td>\n",
              "      <td>57.383333</td>\n",
              "      <td>(111.01, 31.964470000000002)</td>\n",
              "      <td>3</td>\n",
              "      <td>0</td>\n",
              "      <td>15</td>\n",
              "      <td>0</td>\n",
              "      <td>151</td>\n",
              "      <td>1.348766e+06</td>\n",
              "    </tr>\n",
              "    <tr>\n",
              "      <th>4</th>\n",
              "      <td>2018-09-19 11:57:56</td>\n",
              "      <td>31.96447</td>\n",
              "      <td>111.01</td>\n",
              "      <td>71.800000</td>\n",
              "      <td>(111.01, 31.964470000000002)</td>\n",
              "      <td>4</td>\n",
              "      <td>0</td>\n",
              "      <td>11</td>\n",
              "      <td>0</td>\n",
              "      <td>120</td>\n",
              "      <td>1.429198e+06</td>\n",
              "    </tr>\n",
              "  </tbody>\n",
              "</table>\n",
              "</div>"
            ],
            "text/plain": [
              "           time_start  place_latitude  ...  fails_count  time_start_minutes\n",
              "0 2018-03-12 14:24:43        31.96447  ...           78        1.154305e+06\n",
              "1 2018-03-30 09:16:33        31.96447  ...           92        1.179917e+06\n",
              "2 2018-07-24 10:18:12        31.96447  ...          111        1.347018e+06\n",
              "3 2018-07-25 15:25:34        31.96447  ...          151        1.348766e+06\n",
              "4 2018-09-19 11:57:56        31.96447  ...          120        1.429198e+06\n",
              "\n",
              "[5 rows x 11 columns]"
            ]
          },
          "metadata": {
            "tags": []
          },
          "execution_count": 70
        }
      ]
    },
    {
      "cell_type": "code",
      "metadata": {
        "id": "MnN2gqTz2msV",
        "colab_type": "code",
        "colab": {}
      },
      "source": [
        ""
      ],
      "execution_count": 0,
      "outputs": []
    },
    {
      "cell_type": "markdown",
      "metadata": {
        "id": "jw_kskPV0AtJ",
        "colab_type": "text"
      },
      "source": [
        "## Последние штрихи предобработки для нейросети"
      ]
    },
    {
      "cell_type": "code",
      "metadata": {
        "id": "OqsIisOt0AJ9",
        "colab_type": "code",
        "colab": {}
      },
      "source": [
        "final_df = train_df_mod.drop([\n",
        "#     'time_delta',\n",
        "#     'coord_id',\n",
        "#     'time_start',\n",
        "    ],\n",
        "    axis=1)\\\n",
        "    .reindex(['service_time_minutes',\n",
        "              'time_start',\n",
        "              'time_start_minutes',\n",
        "              *train_df_mod.columns[1:3],\n",
        "              *train_df_mod.columns[4:9],\n",
        "              'fails_count',\n",
        "              ], axis=1)\n",
        "final_df = final_df.sort_values('time_start').drop('time_start', axis=1)"
      ],
      "execution_count": 0,
      "outputs": []
    },
    {
      "cell_type": "markdown",
      "metadata": {
        "id": "BALUKQXdJH5C",
        "colab_type": "text"
      },
      "source": [
        "### Центрирование координат"
      ]
    },
    {
      "cell_type": "code",
      "metadata": {
        "id": "faYKietfJOJu",
        "colab_type": "code",
        "colab": {}
      },
      "source": [
        "normalized_columns = ['place_latitude', 'place_longitude']"
      ],
      "execution_count": 0,
      "outputs": []
    },
    {
      "cell_type": "code",
      "metadata": {
        "id": "gVkkluk9JPsu",
        "colab_type": "code",
        "colab": {}
      },
      "source": [
        "for column in normalized_columns:\n",
        "    # Normalization 1\n",
        "#     final_df[column] = (final_df[column] - final_df[column].mean()) /\n",
        "#                        final_df[column].std()\n",
        "    # Normalization 2\n",
        "    final_df[column] = final_df[column] - (final_df[column].max() + final_df[column].min()) / 2\n",
        "#     final_df[column] = final_df[column] / final_df[column].max()"
      ],
      "execution_count": 0,
      "outputs": []
    },
    {
      "cell_type": "markdown",
      "metadata": {
        "id": "bk0ao8rIJbv1",
        "colab_type": "text"
      },
      "source": [
        "### Добавление group_id"
      ]
    },
    {
      "cell_type": "code",
      "metadata": {
        "id": "hR2x9_1K0jCa",
        "colab_type": "code",
        "colab": {}
      },
      "source": [
        "# Добавим group_id\n",
        "final_df = final_df.merge(group_id_column, left_index=True, right_index=True)"
      ],
      "execution_count": 0,
      "outputs": []
    },
    {
      "cell_type": "code",
      "metadata": {
        "id": "x4CI7DM3Klvd",
        "colab_type": "code",
        "colab": {}
      },
      "source": [
        "final_df.rename({'id': 'group_id'}, axis=1, inplace=True)"
      ],
      "execution_count": 0,
      "outputs": []
    },
    {
      "cell_type": "markdown",
      "metadata": {
        "id": "aolYo2l-2To2",
        "colab_type": "text"
      },
      "source": [
        "# Предобработка заканчивается тут\n",
        "Результат в final_df"
      ]
    },
    {
      "cell_type": "code",
      "metadata": {
        "id": "W3vL44fd0w69",
        "colab_type": "code",
        "outputId": "ab38c642-dd60-43bb-9dbd-e5d3633b52e0",
        "colab": {
          "base_uri": "https://localhost:8080/",
          "height": 313
        }
      },
      "source": [
        "# Финальный датасет\n",
        "final_df.head()"
      ],
      "execution_count": 76,
      "outputs": [
        {
          "output_type": "execute_result",
          "data": {
            "text/html": [
              "<div>\n",
              "<style scoped>\n",
              "    .dataframe tbody tr th:only-of-type {\n",
              "        vertical-align: middle;\n",
              "    }\n",
              "\n",
              "    .dataframe tbody tr th {\n",
              "        vertical-align: top;\n",
              "    }\n",
              "\n",
              "    .dataframe thead th {\n",
              "        text-align: right;\n",
              "    }\n",
              "</style>\n",
              "<table border=\"1\" class=\"dataframe\">\n",
              "  <thead>\n",
              "    <tr style=\"text-align: right;\">\n",
              "      <th></th>\n",
              "      <th>service_time_minutes</th>\n",
              "      <th>time_start</th>\n",
              "      <th>time_start_minutes</th>\n",
              "      <th>place_latitude</th>\n",
              "      <th>place_longitude</th>\n",
              "      <th>coord</th>\n",
              "      <th>season</th>\n",
              "      <th>night_time</th>\n",
              "      <th>hour_start</th>\n",
              "      <th>holiday</th>\n",
              "      <th>fails_count</th>\n",
              "      <th>group_id</th>\n",
              "    </tr>\n",
              "  </thead>\n",
              "  <tbody>\n",
              "    <tr>\n",
              "      <th>17012</th>\n",
              "      <td>472.383333</td>\n",
              "      <td>2018-01-01 04:35:56</td>\n",
              "      <td>1.052916e+06</td>\n",
              "      <td>-1.262018</td>\n",
              "      <td>0.061449</td>\n",
              "      <td>(113.565738888889, 28.227963888888997)</td>\n",
              "      <td>1</td>\n",
              "      <td>1</td>\n",
              "      <td>4</td>\n",
              "      <td>1</td>\n",
              "      <td>12</td>\n",
              "      <td>2647</td>\n",
              "    </tr>\n",
              "    <tr>\n",
              "      <th>45814</th>\n",
              "      <td>67.266667</td>\n",
              "      <td>2018-01-01 09:30:40</td>\n",
              "      <td>1.053211e+06</td>\n",
              "      <td>-0.618168</td>\n",
              "      <td>1.088542</td>\n",
              "      <td>(114.59283171, 28.87181328)</td>\n",
              "      <td>1</td>\n",
              "      <td>0</td>\n",
              "      <td>9</td>\n",
              "      <td>1</td>\n",
              "      <td>12</td>\n",
              "      <td>14947</td>\n",
              "    </tr>\n",
              "    <tr>\n",
              "      <th>43607</th>\n",
              "      <td>19.083333</td>\n",
              "      <td>2018-01-01 09:57:24</td>\n",
              "      <td>1.053237e+06</td>\n",
              "      <td>-0.645790</td>\n",
              "      <td>1.056063</td>\n",
              "      <td>(114.56035348, 28.84419151)</td>\n",
              "      <td>1</td>\n",
              "      <td>0</td>\n",
              "      <td>9</td>\n",
              "      <td>1</td>\n",
              "      <td>12</td>\n",
              "      <td>1499</td>\n",
              "    </tr>\n",
              "    <tr>\n",
              "      <th>45186</th>\n",
              "      <td>164.466667</td>\n",
              "      <td>2018-01-01 10:06:01</td>\n",
              "      <td>1.053246e+06</td>\n",
              "      <td>-0.721195</td>\n",
              "      <td>1.078339</td>\n",
              "      <td>(114.58262955, 28.76878601)</td>\n",
              "      <td>1</td>\n",
              "      <td>0</td>\n",
              "      <td>10</td>\n",
              "      <td>1</td>\n",
              "      <td>12</td>\n",
              "      <td>6632</td>\n",
              "    </tr>\n",
              "    <tr>\n",
              "      <th>13316</th>\n",
              "      <td>59.500000</td>\n",
              "      <td>2018-01-01 13:12:26</td>\n",
              "      <td>1.053432e+06</td>\n",
              "      <td>-1.279148</td>\n",
              "      <td>-0.223179</td>\n",
              "      <td>(113.28111111, 28.21083333)</td>\n",
              "      <td>1</td>\n",
              "      <td>0</td>\n",
              "      <td>13</td>\n",
              "      <td>1</td>\n",
              "      <td>12</td>\n",
              "      <td>126</td>\n",
              "    </tr>\n",
              "  </tbody>\n",
              "</table>\n",
              "</div>"
            ],
            "text/plain": [
              "       service_time_minutes          time_start  ...  fails_count  group_id\n",
              "17012            472.383333 2018-01-01 04:35:56  ...           12      2647\n",
              "45814             67.266667 2018-01-01 09:30:40  ...           12     14947\n",
              "43607             19.083333 2018-01-01 09:57:24  ...           12      1499\n",
              "45186            164.466667 2018-01-01 10:06:01  ...           12      6632\n",
              "13316             59.500000 2018-01-01 13:12:26  ...           12       126\n",
              "\n",
              "[5 rows x 12 columns]"
            ]
          },
          "metadata": {
            "tags": []
          },
          "execution_count": 76
        }
      ]
    },
    {
      "cell_type": "code",
      "metadata": {
        "id": "b1bUU0g96cfG",
        "colab_type": "code",
        "outputId": "3bf748e5-73f1-47bf-ab11-6863d7cfb78e",
        "colab": {
          "base_uri": "https://localhost:8080/",
          "height": 34
        }
      },
      "source": [
        "# Проверка не потеряли ли мы данные, должно быть 75094 записи\n",
        "final_df.shape"
      ],
      "execution_count": 77,
      "outputs": [
        {
          "output_type": "execute_result",
          "data": {
            "text/plain": [
              "(75094, 12)"
            ]
          },
          "metadata": {
            "tags": []
          },
          "execution_count": 77
        }
      ]
    },
    {
      "cell_type": "code",
      "metadata": {
        "id": "CBa_sqJqISTY",
        "colab_type": "code",
        "colab": {}
      },
      "source": [
        "# Запишем финальный датасет для обучающе выборки в data_train\n",
        "data_train = final_df"
      ],
      "execution_count": 0,
      "outputs": []
    },
    {
      "cell_type": "markdown",
      "metadata": {
        "id": "UCJsYuFGH71_",
        "colab_type": "text"
      },
      "source": [
        "# Обработка тестовых данных\n",
        "Вся предобработка тестовых данных аналогична обрпботке обучающих данных\n"
      ]
    },
    {
      "cell_type": "code",
      "metadata": {
        "id": "9Xmxuh3X-k7j",
        "colab_type": "code",
        "colab": {}
      },
      "source": [
        "data_test = pd.read_csv(path + '/test.csv', sep=';')"
      ],
      "execution_count": 0,
      "outputs": []
    },
    {
      "cell_type": "code",
      "metadata": {
        "id": "kzMrp3xkIl54",
        "colab_type": "code",
        "colab": {}
      },
      "source": [
        "data_test['time_start'] = pd.to_datetime(data_test['time_start'])"
      ],
      "execution_count": 0,
      "outputs": []
    },
    {
      "cell_type": "code",
      "metadata": {
        "id": "yx-kWo8RIlxv",
        "colab_type": "code",
        "colab": {}
      },
      "source": [
        "add_time_features(data_test)"
      ],
      "execution_count": 0,
      "outputs": []
    },
    {
      "cell_type": "code",
      "metadata": {
        "id": "SdOc1lmxIlo_",
        "colab_type": "code",
        "colab": {}
      },
      "source": [
        "normalized_columns = ['place_latitude', 'place_longitude']\n",
        "for column in normalized_columns:\n",
        "    # Normalization 1\n",
        "#     final_df[column] = (final_df[column] - final_df[column].mean()) /\n",
        "#                        final_df[column].std()\n",
        "    # Normalization 2\n",
        "    data_test[column] = data_test[column] - (train_df_mod[column].max() + train_df_mod[column].min()) / 2\n",
        "#     final_df[column] = final_df[column] / final_df[column].max()"
      ],
      "execution_count": 0,
      "outputs": []
    },
    {
      "cell_type": "markdown",
      "metadata": {
        "id": "bqXSWvbWJsJT",
        "colab_type": "text"
      },
      "source": [
        "График новых и старых данных\n"
      ]
    },
    {
      "cell_type": "code",
      "metadata": {
        "id": "LGvXlDAOJnMI",
        "colab_type": "code",
        "outputId": "c58dad89-f04f-433f-eea3-4c9fab55b832",
        "colab": {
          "base_uri": "https://localhost:8080/",
          "height": 845
        }
      },
      "source": [
        "plt.figure(figsize=(15, 15))\n",
        "sns.scatterplot(data=data_train, y='place_latitude',\n",
        "                x='place_longitude')#, size='service_time_minutes_count',\n",
        "                # hue='service_time_minutes_mean',\n",
        "                # palette=my_palette)\n",
        "                # palette=sns.dark_palette(\"seagreen\", reverse=False, as_cmap=True))\n",
        "sns.scatterplot(data=data_test, y='place_latitude',\n",
        "                x='place_longitude',)\n",
        "plt.title('Расположение базовых станций')\n",
        "plt.show()"
      ],
      "execution_count": 83,
      "outputs": [
        {
          "output_type": "display_data",
          "data": {
            "image/png": "[encoded data removed]",
            "text/plain": [
              "<Figure size 1080x1080 with 1 Axes>"
            ]
          },
          "metadata": {
            "tags": []
          }
        }
      ]
    },
    {
      "cell_type": "code",
      "metadata": {
        "id": "uBoJp_DrKL_o",
        "colab_type": "code",
        "colab": {}
      },
      "source": [
        "data_test['coord'] = data_test.index\n",
        "data_test['coord'] = data_test['coord']\\\n",
        "                      .apply(lambda x:\n",
        "                             (data_test.place_longitude[x],\n",
        "                              data_test.place_latitude[x],))"
      ],
      "execution_count": 0,
      "outputs": []
    },
    {
      "cell_type": "code",
      "metadata": {
        "id": "RJJnWdKdKL4D",
        "colab_type": "code",
        "colab": {}
      },
      "source": [
        "data_test['coord_norm'] = data_test.index\n",
        "data_test['coord_norm'] = data_test['coord_norm']\\\n",
        "                      .apply(lambda x:\n",
        "                             (data_test.place_longitude[x],\n",
        "                              data_test.place_latitude[x],))"
      ],
      "execution_count": 0,
      "outputs": []
    },
    {
      "cell_type": "code",
      "metadata": {
        "id": "KbfYna_VKLt9",
        "colab_type": "code",
        "outputId": "436e0856-cff3-4a26-a1e2-14b62e5531d6",
        "colab": {
          "base_uri": "https://localhost:8080/",
          "height": 313
        }
      },
      "source": [
        "data_test.head()"
      ],
      "execution_count": 86,
      "outputs": [
        {
          "output_type": "execute_result",
          "data": {
            "text/html": [
              "<div>\n",
              "<style scoped>\n",
              "    .dataframe tbody tr th:only-of-type {\n",
              "        vertical-align: middle;\n",
              "    }\n",
              "\n",
              "    .dataframe tbody tr th {\n",
              "        vertical-align: top;\n",
              "    }\n",
              "\n",
              "    .dataframe thead th {\n",
              "        text-align: right;\n",
              "    }\n",
              "</style>\n",
              "<table border=\"1\" class=\"dataframe\">\n",
              "  <thead>\n",
              "    <tr style=\"text-align: right;\">\n",
              "      <th></th>\n",
              "      <th>time_start</th>\n",
              "      <th>place_latitude</th>\n",
              "      <th>place_longitude</th>\n",
              "      <th>season</th>\n",
              "      <th>night_time</th>\n",
              "      <th>hour_start</th>\n",
              "      <th>holiday</th>\n",
              "      <th>coord</th>\n",
              "      <th>coord_norm</th>\n",
              "    </tr>\n",
              "  </thead>\n",
              "  <tbody>\n",
              "    <tr>\n",
              "      <th>0</th>\n",
              "      <td>2020-02-01 01:11:24</td>\n",
              "      <td>-0.650587</td>\n",
              "      <td>0.904448</td>\n",
              "      <td>1</td>\n",
              "      <td>1</td>\n",
              "      <td>1</td>\n",
              "      <td>0</td>\n",
              "      <td>(0.9044475500000004, -0.650587139999999)</td>\n",
              "      <td>(0.9044475500000004, -0.650587139999999)</td>\n",
              "    </tr>\n",
              "    <tr>\n",
              "      <th>1</th>\n",
              "      <td>2020-02-01 02:10:18</td>\n",
              "      <td>-1.065814</td>\n",
              "      <td>0.784602</td>\n",
              "      <td>1</td>\n",
              "      <td>1</td>\n",
              "      <td>2</td>\n",
              "      <td>0</td>\n",
              "      <td>(0.7846018999999842, -1.0658144999999983)</td>\n",
              "      <td>(0.7846018999999842, -1.0658144999999983)</td>\n",
              "    </tr>\n",
              "    <tr>\n",
              "      <th>2</th>\n",
              "      <td>2020-02-01 02:41:12</td>\n",
              "      <td>-0.627445</td>\n",
              "      <td>0.678324</td>\n",
              "      <td>1</td>\n",
              "      <td>1</td>\n",
              "      <td>2</td>\n",
              "      <td>0</td>\n",
              "      <td>(0.6783237899999932, -0.6274453899999983)</td>\n",
              "      <td>(0.6783237899999932, -0.6274453899999983)</td>\n",
              "    </tr>\n",
              "    <tr>\n",
              "      <th>3</th>\n",
              "      <td>2020-02-01 02:41:42</td>\n",
              "      <td>-0.623745</td>\n",
              "      <td>0.680107</td>\n",
              "      <td>1</td>\n",
              "      <td>1</td>\n",
              "      <td>2</td>\n",
              "      <td>0</td>\n",
              "      <td>(0.6801071199999882, -0.6237453899999927)</td>\n",
              "      <td>(0.6801071199999882, -0.6237453899999927)</td>\n",
              "    </tr>\n",
              "    <tr>\n",
              "      <th>4</th>\n",
              "      <td>2020-02-01 03:14:10</td>\n",
              "      <td>-1.973562</td>\n",
              "      <td>-0.244021</td>\n",
              "      <td>1</td>\n",
              "      <td>1</td>\n",
              "      <td>3</td>\n",
              "      <td>0</td>\n",
              "      <td>(-0.2440206555559996, -1.9735620555560018)</td>\n",
              "      <td>(-0.2440206555559996, -1.9735620555560018)</td>\n",
              "    </tr>\n",
              "  </tbody>\n",
              "</table>\n",
              "</div>"
            ],
            "text/plain": [
              "           time_start  ...                                  coord_norm\n",
              "0 2020-02-01 01:11:24  ...    (0.9044475500000004, -0.650587139999999)\n",
              "1 2020-02-01 02:10:18  ...   (0.7846018999999842, -1.0658144999999983)\n",
              "2 2020-02-01 02:41:12  ...   (0.6783237899999932, -0.6274453899999983)\n",
              "3 2020-02-01 02:41:42  ...   (0.6801071199999882, -0.6237453899999927)\n",
              "4 2020-02-01 03:14:10  ...  (-0.2440206555559996, -1.9735620555560018)\n",
              "\n",
              "[5 rows x 9 columns]"
            ]
          },
          "metadata": {
            "tags": []
          },
          "execution_count": 86
        }
      ]
    },
    {
      "cell_type": "code",
      "metadata": {
        "id": "t35FV6UoKSNB",
        "colab_type": "code",
        "colab": {}
      },
      "source": [
        "# Temp dataframe for grouping and giving groups id to test data using distance\n",
        "temp_df = data_train.copy()"
      ],
      "execution_count": 0,
      "outputs": []
    },
    {
      "cell_type": "code",
      "metadata": {
        "id": "1ZAUOj4CKSHO",
        "colab_type": "code",
        "colab": {}
      },
      "source": [
        "data_test['group_id'] = data_train['group_id'].median()"
      ],
      "execution_count": 0,
      "outputs": []
    },
    {
      "cell_type": "code",
      "metadata": {
        "id": "YvcjhGbUKR_o",
        "colab_type": "code",
        "outputId": "f2f6c795-3f0f-48ae-879a-7e765bdf4801",
        "colab": {
          "base_uri": "https://localhost:8080/",
          "height": 54
        }
      },
      "source": [
        "k = 0\n",
        "# Long time cycle for mark all stations with their groups\n",
        "l = data_test.coord_norm.nunique()\n",
        "for test_coord in data_test.coord_norm.unique():\n",
        "  temp_df['temp'] = temp_df.index\n",
        "  temp_df['temp'] = temp_df['temp'].apply(lambda x:\n",
        "                                          ((temp_df['place_longitude'][x] - test_coord[0]) ** 2\n",
        "                                          +\n",
        "                                          (temp_df['place_latitude'][x] - test_coord[1] ** 2) ** 0.5))\n",
        "  temp_id = temp_df[temp_df.temp == temp_df.temp.min()].group_id.min()\n",
        "  data_test.group_id = data_test.group_id.mask(data_test['coord_norm'] == test_coord, temp_id)\n",
        "  # print(test_coord)\n",
        "  # print(data_test.group_id.unique(), temp_id)\n",
        "  print(f'{k}/{l}')\n",
        "  # if k == 20: break\n",
        "  k += 1"
      ],
      "execution_count": 89,
      "outputs": [
        {
          "output_type": "stream",
          "text": [
            "0/1522, 1/1522, 2/1522, 3/1522, 4/1522, 5/1522, 6/1522, 7/1522, 8/1522, 9/1522, 10/1522, 11/1522, 12/1522, 13/1522, 14/1522, 15/1522, 16/1522, 17/1522, 18/1522, 19/1522, 20/1522, 21/1522, 22/1522, 23/1522, 24/1522, 25/1522, 26/1522, 27/1522, 28/1522, 29/1522, 30/1522, 31/1522, 32/1522, 33/1522, 34/1522, 35/1522, 36/1522, 37/1522, 38/1522, 39/1522, 40/1522, 41/1522, 42/1522, 43/1522, 44/1522, 45/1522, 46/1522, 47/1522, 48/1522, 49/1522, 50/1522, 51/1522, 52/1522, 53/1522, 54/1522, 55/1522, 56/1522, 57/1522, 58/1522, 59/1522, 60/1522, 61/1522, 62/1522, 63/1522, 64/1522, 65/1522, 66/1522, 67/1522, 68/1522, 69/1522, 70/1522, 71/1522, 72/1522, 73/1522, 74/1522, 75/1522, 76/1522, 77/1522, 78/1522, 79/1522, 80/1522, 81/1522, 82/1522, 83/1522, 84/1522, 85/1522, 86/1522, 87/1522, 88/1522, 89/1522, 90/1522, 91/1522, 92/1522, 93/1522, 94/1522, 95/1522, 96/1522, 97/1522, 98/1522, 99/1522, 100/1522, 101/1522, 102/1522, 103/1522, 104/1522, 105/1522, 106/1522, 107/1522, 108/1522, 109/1522, 110/1522, 111/1522, 112/1522, 113/1522, 114/1522, 115/1522, 116/1522, 117/1522, 118/1522, 119/1522, 120/1522, 121/1522, 122/1522, 123/1522, 124/1522, 125/1522, 126/1522, 127/1522, 128/1522, 129/1522, 130/1522, 131/1522, 132/1522, 133/1522, 134/1522, 135/1522, 136/1522, 137/1522, 138/1522, 139/1522, 140/1522, 141/1522, 142/1522, 143/1522, 144/1522, 145/1522, 146/1522, 147/1522, 148/1522, 149/1522, 150/1522, 151/1522, 152/1522, 153/1522, 154/1522, 155/1522, 156/1522, 157/1522, 158/1522, 159/1522, 160/1522, 161/1522, 162/1522, 163/1522, 164/1522, 165/1522, 166/1522, 167/1522, 168/1522, 169/1522, 170/1522, 171/1522, 172/1522, 173/1522, 174/1522, 175/1522, 176/1522, 177/1522, 178/1522, 179/1522, 180/1522, 181/1522, 182/1522, 183/1522, 184/1522, 185/1522, 186/1522, 187/1522, 188/1522, 189/1522, 190/1522, 191/1522, 192/1522, 193/1522, 194/1522, 195/1522, 196/1522, 197/1522, 198/1522, 199/1522, 200/1522, 201/1522, 202/1522, 203/1522, 204/1522, 205/1522, 206/1522, 207/1522, 208/1522, 209/1522, 210/1522, 211/1522, 212/1522, 213/1522, 214/1522, 215/1522, 216/1522, 217/1522, 218/1522, 219/1522, 220/1522, 221/1522, 222/1522, 223/1522, 224/1522, 225/1522, 226/1522, 227/1522, 228/1522, 229/1522, 230/1522, 231/1522, 232/1522, 233/1522, 234/1522, 235/1522, 236/1522, 237/1522, 238/1522, 239/1522, 240/1522, 241/1522, 242/1522, 243/1522, 244/1522, 245/1522, 246/1522, 247/1522, 248/1522, 249/1522, 250/1522, 251/1522, 252/1522, 253/1522, 254/1522, 255/1522, 256/1522, 257/1522, 258/1522, 259/1522, 260/1522, 261/1522, 262/1522, 263/1522, 264/1522, 265/1522, 266/1522, 267/1522, 268/1522, 269/1522, 270/1522, 271/1522, 272/1522, 273/1522, 274/1522, 275/1522, 276/1522, 277/1522, 278/1522, 279/1522, 280/1522, 281/1522, 282/1522, 283/1522, 284/1522, 285/1522, 286/1522, 287/1522, 288/1522, 289/1522, 290/1522, 291/1522, 292/1522, 293/1522, 294/1522, 295/1522, 296/1522, 297/1522, 298/1522, 299/1522, 300/1522, 301/1522, 302/1522, 303/1522, 304/1522, 305/1522, 306/1522, 307/1522, 308/1522, 309/1522, 310/1522, 311/1522, 312/1522, 313/1522, 314/1522, 315/1522, 316/1522, 317/1522, 318/1522, 319/1522, 320/1522, 321/1522, 322/1522, 323/1522, 324/1522, 325/1522, 326/1522, 327/1522, 328/1522, 329/1522, 330/1522, 331/1522, 332/1522, 333/1522, 334/1522, 335/1522, 336/1522, 337/1522, 338/1522, 339/1522, 340/1522, 341/1522, 342/1522, 343/1522, 344/1522, 345/1522, 346/1522, 347/1522, 348/1522, 349/1522, 350/1522, 351/1522, 352/1522, 353/1522, 354/1522, 355/1522, 356/1522, 357/1522, 358/1522, 359/1522, 360/1522, 361/1522, 362/1522, 363/1522, 364/1522, 365/1522, 366/1522, 367/1522, 368/1522, 369/1522, 370/1522, 371/1522, 372/1522, 373/1522, 374/1522, 375/1522, 376/1522, 377/1522, 378/1522, 379/1522, 380/1522, 381/1522, 382/1522, 383/1522, 384/1522, 385/1522, 386/1522, 387/1522, 388/1522, 389/1522, 390/1522, 391/1522, 392/1522, 393/1522, 394/1522, 395/1522, 396/1522, 397/1522, 398/1522, 399/1522, 400/1522, 401/1522, 402/1522, 403/1522, 404/1522, 405/1522, 406/1522, 407/1522, 408/1522, 409/1522, 410/1522, 411/1522, 412/1522, 413/1522, 414/1522, 415/1522, 416/1522, 417/1522, 418/1522, 419/1522, 420/1522, 421/1522, 422/1522, 423/1522, 424/1522, 425/1522, 426/1522, 427/1522, 428/1522, 429/1522, 430/1522, 431/1522, 432/1522, 433/1522, 434/1522, 435/1522, 436/1522, 437/1522, 438/1522, 439/1522, 440/1522, 441/1522, 442/1522, 443/1522, 444/1522, 445/1522, 446/1522, 447/1522, 448/1522, 449/1522, 450/1522, 451/1522, 452/1522, 453/1522, 454/1522, 455/1522, 456/1522, 457/1522, 458/1522, 459/1522, 460/1522, 461/1522, 462/1522, 463/1522, 464/1522, 465/1522, 466/1522, 467/1522, 468/1522, 469/1522, 470/1522, 471/1522, 472/1522, 473/1522, 474/1522, 475/1522, 476/1522, 477/1522, 478/1522, 479/1522, 480/1522, 481/1522, 482/1522, 483/1522, 484/1522, 485/1522, 486/1522, 487/1522, 488/1522, 489/1522, 490/1522, 491/1522, 492/1522, 493/1522, 494/1522, 495/1522, 496/1522, 497/1522, 498/1522, 499/1522, 500/1522, 501/1522, 502/1522, 503/1522, 504/1522, 505/1522, 506/1522, 507/1522, 508/1522, 509/1522, 510/1522, 511/1522, 512/1522, 513/1522, 514/1522, 515/1522, 516/1522, 517/1522, 518/1522, 519/1522, 520/1522, 521/1522, 522/1522, 523/1522, 524/1522, 525/1522, 526/1522, 527/1522, 528/1522, 529/1522, 530/1522, 531/1522, 532/1522, 533/1522, 534/1522, 535/1522, 536/1522, 537/1522, 538/1522, 539/1522, 540/1522, 541/1522, 542/1522, 543/1522, 544/1522, 545/1522, 546/1522, 547/1522, 548/1522, 549/1522, 550/1522, 551/1522, 552/1522, 553/1522, 554/1522, 555/1522, 556/1522, 557/1522, 558/1522, 559/1522, 560/1522, 561/1522, 562/1522, 563/1522, 564/1522, 565/1522, 566/1522, 567/1522, 568/1522, 569/1522, 570/1522, 571/1522, 572/1522, 573/1522, 574/1522, 575/1522, 576/1522, 577/1522, 578/1522, 579/1522, 580/1522, 581/1522, 582/1522, 583/1522, 584/1522, 585/1522, 586/1522, 587/1522, 588/1522, 589/1522, 590/1522, 591/1522, 592/1522, 593/1522, 594/1522, 595/1522, 596/1522, 597/1522, 598/1522, 599/1522, 600/1522, 601/1522, 602/1522, 603/1522, 604/1522, 605/1522, 606/1522, 607/1522, 608/1522, 609/1522, 610/1522, 611/1522, 612/1522, 613/1522, 614/1522, 615/1522, 616/1522, 617/1522, 618/1522, 619/1522, 620/1522, 621/1522, 622/1522, 623/1522, 624/1522, 625/1522, 626/1522, 627/1522, 628/1522, 629/1522, 630/1522, 631/1522, 632/1522, 633/1522, 634/1522, 635/1522, 636/1522, 637/1522, 638/1522, 639/1522, 640/1522, 641/1522, 642/1522, 643/1522, 644/1522, 645/1522, 646/1522, 647/1522, 648/1522, 649/1522, 650/1522, 651/1522, 652/1522, 653/1522, 654/1522, 655/1522, 656/1522, 657/1522, 658/1522, 659/1522, 660/1522, 661/1522, 662/1522, 663/1522, 664/1522, 665/1522, 666/1522, 667/1522, 668/1522, 669/1522, 670/1522, 671/1522, 672/1522, 673/1522, 674/1522, 675/1522, 676/1522, 677/1522, 678/1522, 679/1522, 680/1522, 681/1522, 682/1522, 683/1522, 684/1522, 685/1522, 686/1522, 687/1522, 688/1522, 689/1522, 690/1522, 691/1522, 692/1522, 693/1522, 694/1522, 695/1522, 696/1522, 697/1522, 698/1522, 699/1522, 700/1522, 701/1522, 702/1522, 703/1522, 704/1522, 705/1522, 706/1522, 707/1522, 708/1522, 709/1522, 710/1522, 711/1522, 712/1522, 713/1522, 714/1522, 715/1522, 716/1522, 717/1522, 718/1522, 719/1522, 720/1522, 721/1522, 722/1522, 723/1522, 724/1522, 725/1522, 726/1522, 727/1522, 728/1522, 729/1522, 730/1522, 731/1522, 732/1522, 733/1522, 734/1522, 735/1522, 736/1522, 737/1522, 738/1522, 739/1522, 740/1522, 741/1522, 742/1522, 743/1522, 744/1522, 745/1522, 746/1522, 747/1522, 748/1522, 749/1522, 750/1522, 751/1522, 752/1522, 753/1522, 754/1522, 755/1522, 756/1522, 757/1522, 758/1522, 759/1522, 760/1522, 761/1522, 762/1522, 763/1522, 764/1522, 765/1522, 766/1522, 767/1522, 768/1522, 769/1522, 770/1522, 771/1522, 772/1522, 773/1522, 774/1522, 775/1522, 776/1522, 777/1522, 778/1522, 779/1522, 780/1522, 781/1522, 782/1522, 783/1522, 784/1522, 785/1522, 786/1522, 787/1522, 788/1522, 789/1522, 790/1522, 791/1522, 792/1522, 793/1522, 794/1522, 795/1522, 796/1522, 797/1522, 798/1522, 799/1522, 800/1522, 801/1522, 802/1522, 803/1522, 804/1522, 805/1522, 806/1522, 807/1522, 808/1522, 809/1522, 810/1522, 811/1522, 812/1522, 813/1522, 814/1522, 815/1522, 816/1522, 817/1522, 818/1522, 819/1522, 820/1522, 821/1522, 822/1522, 823/1522, 824/1522, 825/1522, 826/1522, 827/1522, 828/1522, 829/1522, 830/1522, 831/1522, 832/1522, 833/1522, 834/1522, 835/1522, 836/1522, 837/1522, 838/1522, 839/1522, 840/1522, 841/1522, 842/1522, 843/1522, 844/1522, 845/1522, 846/1522, 847/1522, 848/1522, 849/1522, 850/1522, 851/1522, 852/1522, 853/1522, 854/1522, 855/1522, 856/1522, 857/1522, 858/1522, 859/1522, 860/1522, 861/1522, 862/1522, 863/1522, 864/1522, 865/1522, 866/1522, 867/1522, 868/1522, 869/1522, 870/1522, 871/1522, 872/1522, 873/1522, 874/1522, 875/1522, 876/1522, 877/1522, 878/1522, 879/1522, 880/1522, 881/1522, 882/1522, 883/1522, 884/1522, 885/1522, 886/1522, 887/1522, 888/1522, 889/1522, 890/1522, 891/1522, 892/1522, 893/1522, 894/1522, 895/1522, 896/1522, 897/1522, 898/1522, 899/1522, 900/1522, 901/1522, 902/1522, 903/1522, 904/1522, 905/1522, 906/1522, 907/1522, 908/1522, 909/1522, 910/1522, 911/1522, 912/1522, 913/1522, 914/1522, 915/1522, 916/1522, 917/1522, 918/1522, 919/1522, 920/1522, 921/1522, 922/1522, 923/1522, 924/1522, 925/1522, 926/1522, 927/1522, 928/1522, 929/1522, 930/1522, 931/1522, 932/1522, 933/1522, 934/1522, 935/1522, 936/1522, 937/1522, 938/1522, 939/1522, 940/1522, 941/1522, 942/1522, 943/1522, 944/1522, 945/1522, 946/1522, 947/1522, 948/1522, 949/1522, 950/1522, 951/1522, 952/1522, 953/1522, 954/1522, 955/1522, 956/1522, 957/1522, 958/1522, 959/1522, 960/1522, 961/1522, 962/1522, 963/1522, 964/1522, 965/1522, 966/1522, 967/1522, 968/1522, 969/1522, 970/1522, 971/1522, 972/1522, 973/1522, 974/1522, 975/1522, 976/1522, 977/1522, 978/1522, 979/1522, 980/1522, 981/1522, 982/1522, 983/1522, 984/1522, 985/1522, 986/1522, 987/1522, 988/1522, 989/1522, 990/1522, 991/1522, 992/1522, 993/1522, 994/1522, 995/1522, 996/1522, 997/1522, 998/1522, 999/1522, 1000/1522, 1001/1522, 1002/1522, 1003/1522, 1004/1522, 1005/1522, 1006/1522, 1007/1522, 1008/1522, 1009/1522, 1010/1522, 1011/1522, 1012/1522, 1013/1522, 1014/1522, 1015/1522, 1016/1522, 1017/1522, 1018/1522, 1019/1522, 1020/1522, 1021/1522, 1022/1522, 1023/1522, 1024/1522, 1025/1522, 1026/1522, 1027/1522, 1028/1522, 1029/1522, 1030/1522, 1031/1522, 1032/1522, 1033/1522, 1034/1522, 1035/1522, 1036/1522, 1037/1522, 1038/1522, 1039/1522, 1040/1522, 1041/1522, 1042/1522, 1043/1522, 1044/1522, 1045/1522, 1046/1522, 1047/1522, 1048/1522, 1049/1522, 1050/1522, 1051/1522, 1052/1522, 1053/1522, 1054/1522, 1055/1522, 1056/1522, 1057/1522, 1058/1522, 1059/1522, 1060/1522, 1061/1522, 1062/1522, 1063/1522, 1064/1522, 1065/1522, 1066/1522, 1067/1522, 1068/1522, 1069/1522, 1070/1522, 1071/1522, 1072/1522, 1073/1522, 1074/1522, 1075/1522, 1076/1522, 1077/1522, 1078/1522, 1079/1522, 1080/1522, 1081/1522, 1082/1522, 1083/1522, 1084/1522, 1085/1522, 1086/1522, 1087/1522, 1088/1522, 1089/1522, 1090/1522, 1091/1522, 1092/1522, 1093/1522, 1094/1522, 1095/1522, 1096/1522, 1097/1522, 1098/1522, 1099/1522, 1100/1522, 1101/1522, 1102/1522, 1103/1522, 1104/1522, 1105/1522, 1106/1522, 1107/1522, 1108/1522, 1109/1522, 1110/1522, 1111/1522, 1112/1522, 1113/1522, 1114/1522, 1115/1522, 1116/1522, 1117/1522, 1118/1522, 1119/1522, 1120/1522, 1121/1522, 1122/1522, 1123/1522, 1124/1522, 1125/1522, 1126/1522, 1127/1522, 1128/1522, 1129/1522, 1130/1522, 1131/1522, 1132/1522, 1133/1522, 1134/1522, 1135/1522, 1136/1522, 1137/1522, 1138/1522, 1139/1522, 1140/1522, 1141/1522, 1142/1522, 1143/1522, 1144/1522, 1145/1522, 1146/1522, 1147/1522, 1148/1522, 1149/1522, 1150/1522, 1151/1522, 1152/1522, 1153/1522, 1154/1522, 1155/1522, 1156/1522, 1157/1522, 1158/1522, 1159/1522, 1160/1522, 1161/1522, 1162/1522, 1163/1522, 1164/1522, 1165/1522, 1166/1522, 1167/1522, 1168/1522, 1169/1522, 1170/1522, 1171/1522, 1172/1522, 1173/1522, 1174/1522, 1175/1522, 1176/1522, 1177/1522, 1178/1522, 1179/1522, 1180/1522, 1181/1522, 1182/1522, 1183/1522, 1184/1522, 1185/1522, 1186/1522, 1187/1522, 1188/1522, 1189/1522, 1190/1522, 1191/1522, 1192/1522, 1193/1522, 1194/1522, 1195/1522, 1196/1522, 1197/1522, 1198/1522, 1199/1522, 1200/1522, 1201/1522, 1202/1522, 1203/1522, 1204/1522, 1205/1522, 1206/1522, 1207/1522, 1208/1522, 1209/1522, 1210/1522, 1211/1522, 1212/1522, 1213/1522, 1214/1522, 1215/1522, 1216/1522, 1217/1522, 1218/1522, 1219/1522, 1220/1522, 1221/1522, 1222/1522, 1223/1522, 1224/1522, 1225/1522, 1226/1522, 1227/1522, 1228/1522, 1229/1522, 1230/1522, 1231/1522, 1232/1522, 1233/1522, 1234/1522, 1235/1522, 1236/1522, 1237/1522, 1238/1522, 1239/1522, 1240/1522, 1241/1522, 1242/1522, 1243/1522, 1244/1522, 1245/1522, 1246/1522, 1247/1522, 1248/1522, 1249/1522, 1250/1522, 1251/1522, 1252/1522, 1253/1522, 1254/1522, 1255/1522, 1256/1522, 1257/1522, 1258/1522, 1259/1522, 1260/1522, 1261/1522, 1262/1522, 1263/1522, 1264/1522, 1265/1522, 1266/1522, 1267/1522, 1268/1522, 1269/1522, 1270/1522, 1271/1522, 1272/1522, 1273/1522, 1274/1522, 1275/1522, 1276/1522, 1277/1522, 1278/1522, 1279/1522, 1280/1522, 1281/1522, 1282/1522, 1283/1522, 1284/1522, 1285/1522, 1286/1522, 1287/1522, 1288/1522, 1289/1522, 1290/1522, 1291/1522, 1292/1522, 1293/1522, 1294/1522, 1295/1522, 1296/1522, 1297/1522, 1298/1522, 1299/1522, 1300/1522, 1301/1522, 1302/1522, 1303/1522, 1304/1522, 1305/1522, 1306/1522, 1307/1522, 1308/1522, 1309/1522, 1310/1522, 1311/1522, 1312/1522, 1313/1522, 1314/1522, 1315/1522, 1316/1522, 1317/1522, 1318/1522, 1319/1522, 1320/1522, 1321/1522, 1322/1522, 1323/1522, 1324/1522, 1325/1522, 1326/1522, 1327/1522, 1328/1522, 1329/1522, 1330/1522, 1331/1522, 1332/1522, 1333/1522, 1334/1522, 1335/1522, 1336/1522, 1337/1522, 1338/1522, 1339/1522, 1340/1522, 1341/1522, 1342/1522, 1343/1522, 1344/1522, 1345/1522, 1346/1522, 1347/1522, 1348/1522, 1349/1522, 1350/1522, 1351/1522, 1352/1522, 1353/1522, 1354/1522, 1355/1522, 1356/1522, 1357/1522, 1358/1522, 1359/1522, 1360/1522, 1361/1522, 1362/1522, 1363/1522, 1364/1522, 1365/1522, 1366/1522, 1367/1522, 1368/1522, 1369/1522, 1370/1522, 1371/1522, 1372/1522, 1373/1522, 1374/1522, 1375/1522, 1376/1522, 1377/1522, 1378/1522, 1379/1522, 1380/1522, 1381/1522, 1382/1522, 1383/1522, 1384/1522, 1385/1522, 1386/1522, 1387/1522, 1388/1522, 1389/1522, 1390/1522, 1391/1522, 1392/1522, 1393/1522, 1394/1522, 1395/1522, 1396/1522, 1397/1522, 1398/1522, 1399/1522, 1400/1522, 1401/1522, 1402/1522, 1403/1522, 1404/1522, 1405/1522, 1406/1522, 1407/1522, 1408/1522, 1409/1522, 1410/1522, 1411/1522, 1412/1522, 1413/1522, 1414/1522, 1415/1522, 1416/1522, 1417/1522, 1418/1522, 1419/1522, 1420/1522, 1421/1522, 1422/1522, 1423/1522, 1424/1522, 1425/1522, 1426/1522, 1427/1522, 1428/1522, 1429/1522, 1430/1522, 1431/1522, 1432/1522, 1433/1522, 1434/1522, 1435/1522, 1436/1522, 1437/1522, 1438/1522, 1439/1522, 1440/1522, 1441/1522, 1442/1522, 1443/1522, 1444/1522, 1445/1522, 1446/1522, 1447/1522, 1448/1522, 1449/1522, 1450/1522, 1451/1522, 1452/1522, 1453/1522, 1454/1522, 1455/1522, 1456/1522, 1457/1522, 1458/1522, 1459/1522, 1460/1522, 1461/1522, 1462/1522, 1463/1522, 1464/1522, 1465/1522, 1466/1522, 1467/1522, 1468/1522, 1469/1522, 1470/1522, 1471/1522, 1472/1522, 1473/1522, 1474/1522, 1475/1522, 1476/1522, 1477/1522, 1478/1522, 1479/1522, 1480/1522, 1481/1522, 1482/1522, 1483/1522, 1484/1522, 1485/1522, 1486/1522, 1487/1522, 1488/1522, 1489/1522, 1490/1522, 1491/1522, 1492/1522, 1493/1522, 1494/1522, 1495/1522, 1496/1522, 1497/1522, 1498/1522, 1499/1522, 1500/1522, 1501/1522, 1502/1522, 1503/1522, 1504/1522, 1505/1522, 1506/1522, 1507/1522, 1508/1522, 1509/1522, 1510/1522, 1511/1522, 1512/1522, 1513/1522, 1514/1522, 1515/1522, 1516/1522, 1517/1522, 1518/1522, 1519/1522, 1520/1522, 1521/1522, "
          ],
          "name": "stdout"
        }
      ]
    },
    {
      "cell_type": "code",
      "metadata": {
        "id": "5_CIqbvrKR3n",
        "colab_type": "code",
        "colab": {}
      },
      "source": [
        "del temp_df"
      ],
      "execution_count": 0,
      "outputs": []
    },
    {
      "cell_type": "code",
      "metadata": {
        "id": "5NYwPIImLWgt",
        "colab_type": "code",
        "colab": {
          "base_uri": "https://localhost:8080/",
          "height": 208
        },
        "outputId": "ab0875d7-d280-41bb-842a-a00a11e4e4a5"
      },
      "source": [
        "data_test.isna().sum()"
      ],
      "execution_count": 91,
      "outputs": [
        {
          "output_type": "execute_result",
          "data": {
            "text/plain": [
              "time_start           0\n",
              "place_latitude       0\n",
              "place_longitude      0\n",
              "season               0\n",
              "night_time           0\n",
              "hour_start           0\n",
              "holiday              0\n",
              "coord                0\n",
              "coord_norm           0\n",
              "group_id           332\n",
              "dtype: int64"
            ]
          },
          "metadata": {
            "tags": []
          },
          "execution_count": 91
        }
      ]
    },
    {
      "cell_type": "code",
      "metadata": {
        "id": "1ORyMcxHLWYL",
        "colab_type": "code",
        "colab": {}
      },
      "source": [
        "# Replace NaNs for median\n",
        "data_test.group_id.fillna(data_train.group_id.median(), inplace=True)"
      ],
      "execution_count": 0,
      "outputs": []
    },
    {
      "cell_type": "code",
      "metadata": {
        "id": "JHc5Tk_ELce3",
        "colab_type": "code",
        "colab": {}
      },
      "source": [
        "data_test['time_start_day'] = data_test['time_start']\\\n",
        "                        .apply(lambda x: x.normalize())"
      ],
      "execution_count": 0,
      "outputs": []
    },
    {
      "cell_type": "code",
      "metadata": {
        "id": "bnYSjwadLdqT",
        "colab_type": "code",
        "colab": {
          "base_uri": "https://localhost:8080/",
          "height": 159
        },
        "outputId": "8c1cb775-7d4f-4293-e8e8-185c0fef54c3"
      },
      "source": [
        "df_mod = data_test.loc[:,[\n",
        "          'season',\n",
        "          'service_time_minutes',\n",
        "          'time_start_day']]\\\n",
        "  .groupby('time_start_day', as_index=False)\\\n",
        "  .agg({\n",
        "        'service_time_minutes': 'mean',\n",
        "        'season': ['count']\n",
        "})\n",
        "df_mod.columns = [\"_\".join(x) if x[1] else x[0] for x in df_mod.columns.ravel()]"
      ],
      "execution_count": 94,
      "outputs": [
        {
          "output_type": "stream",
          "text": [
            "/usr/local/lib/python3.6/dist-packages/pandas/core/indexing.py:1418: FutureWarning: \n",
            "Passing list-likes to .loc or [] with any missing label will raise\n",
            "KeyError in the future, you can use .reindex() as an alternative.\n",
            "\n",
            "See the documentation here:\n",
            "https://pandas.pydata.org/pandas-docs/stable/user_guide/indexing.html#deprecate-loc-reindex-listlike\n",
            "  return self._getitem_tuple(key)\n"
          ],
          "name": "stderr"
        }
      ]
    },
    {
      "cell_type": "code",
      "metadata": {
        "id": "QoE9gph-Lfc1",
        "colab_type": "code",
        "colab": {}
      },
      "source": [
        "data_test = data_test.merge(df_mod.loc[:,['time_start_day', 'season_count']],\n",
        "         how='left', on='time_start_day')\\\n",
        "  .rename({'season_count': 'fails_count'}, axis=1)\\\n",
        "  .drop('time_start_day', axis=1)"
      ],
      "execution_count": 0,
      "outputs": []
    },
    {
      "cell_type": "code",
      "metadata": {
        "id": "hZ6XRWrLLitg",
        "colab_type": "code",
        "colab": {}
      },
      "source": [
        "data_test['time_start_minutes'] = \\\n",
        "          (data_test['time_start'] - pd.to_datetime('2016'))\\\n",
        "          .apply(lambda x: x.total_seconds() / 60)"
      ],
      "execution_count": 0,
      "outputs": []
    },
    {
      "cell_type": "code",
      "metadata": {
        "id": "GVS_3shYLkgN",
        "colab_type": "code",
        "colab": {
          "base_uri": "https://localhost:8080/",
          "height": 243
        },
        "outputId": "ccde293c-f723-456f-d2eb-fe5b9ff00465"
      },
      "source": [
        "# Check for NaN\n",
        "data_test.isna().sum()"
      ],
      "execution_count": 97,
      "outputs": [
        {
          "output_type": "execute_result",
          "data": {
            "text/plain": [
              "time_start            0\n",
              "place_latitude        0\n",
              "place_longitude       0\n",
              "season                0\n",
              "night_time            0\n",
              "hour_start            0\n",
              "holiday               0\n",
              "coord                 0\n",
              "coord_norm            0\n",
              "group_id              0\n",
              "fails_count           0\n",
              "time_start_minutes    0\n",
              "dtype: int64"
            ]
          },
          "metadata": {
            "tags": []
          },
          "execution_count": 97
        }
      ]
    },
    {
      "cell_type": "code",
      "metadata": {
        "id": "WLOdO23vbhbP",
        "colab_type": "code",
        "colab": {}
      },
      "source": [
        "data_test = data_test.reindex(data_train.columns, axis=1)\n",
        "data_test = data_test.sort_values('time_start_minutes')"
      ],
      "execution_count": 0,
      "outputs": []
    },
    {
      "cell_type": "code",
      "metadata": {
        "id": "DXsILz0eb11Y",
        "colab_type": "code",
        "colab": {
          "base_uri": "https://localhost:8080/",
          "height": 320
        },
        "outputId": "4745402b-730f-43d5-9e9f-a0a4e5c59faf"
      },
      "source": [
        "data_test.service_time_minutes.fillna(0, inplace=True)\n",
        "data_test.describe()"
      ],
      "execution_count": 99,
      "outputs": [
        {
          "output_type": "execute_result",
          "data": {
            "text/html": [
              "<div>\n",
              "<style scoped>\n",
              "    .dataframe tbody tr th:only-of-type {\n",
              "        vertical-align: middle;\n",
              "    }\n",
              "\n",
              "    .dataframe tbody tr th {\n",
              "        vertical-align: top;\n",
              "    }\n",
              "\n",
              "    .dataframe thead th {\n",
              "        text-align: right;\n",
              "    }\n",
              "</style>\n",
              "<table border=\"1\" class=\"dataframe\">\n",
              "  <thead>\n",
              "    <tr style=\"text-align: right;\">\n",
              "      <th></th>\n",
              "      <th>service_time_minutes</th>\n",
              "      <th>time_start_minutes</th>\n",
              "      <th>place_latitude</th>\n",
              "      <th>place_longitude</th>\n",
              "      <th>season</th>\n",
              "      <th>night_time</th>\n",
              "      <th>hour_start</th>\n",
              "      <th>holiday</th>\n",
              "      <th>fails_count</th>\n",
              "      <th>group_id</th>\n",
              "    </tr>\n",
              "  </thead>\n",
              "  <tbody>\n",
              "    <tr>\n",
              "      <th>count</th>\n",
              "      <td>2534.0</td>\n",
              "      <td>2.534000e+03</td>\n",
              "      <td>2534.000000</td>\n",
              "      <td>2534.000000</td>\n",
              "      <td>2534.0</td>\n",
              "      <td>2534.000000</td>\n",
              "      <td>2534.000000</td>\n",
              "      <td>2534.000000</td>\n",
              "      <td>2534.000000</td>\n",
              "      <td>2534.000000</td>\n",
              "    </tr>\n",
              "    <tr>\n",
              "      <th>mean</th>\n",
              "      <td>0.0</td>\n",
              "      <td>2.169173e+06</td>\n",
              "      <td>-0.587354</td>\n",
              "      <td>0.698642</td>\n",
              "      <td>1.0</td>\n",
              "      <td>0.198106</td>\n",
              "      <td>11.584451</td>\n",
              "      <td>0.116811</td>\n",
              "      <td>96.172060</td>\n",
              "      <td>4910.179163</td>\n",
              "    </tr>\n",
              "    <tr>\n",
              "      <th>std</th>\n",
              "      <td>0.0</td>\n",
              "      <td>1.181480e+04</td>\n",
              "      <td>0.881164</td>\n",
              "      <td>1.016754</td>\n",
              "      <td>0.0</td>\n",
              "      <td>0.398651</td>\n",
              "      <td>5.305191</td>\n",
              "      <td>0.321259</td>\n",
              "      <td>25.337057</td>\n",
              "      <td>9267.410768</td>\n",
              "    </tr>\n",
              "    <tr>\n",
              "      <th>min</th>\n",
              "      <td>0.0</td>\n",
              "      <td>2.148551e+06</td>\n",
              "      <td>-2.487092</td>\n",
              "      <td>-2.494290</td>\n",
              "      <td>1.0</td>\n",
              "      <td>0.000000</td>\n",
              "      <td>0.000000</td>\n",
              "      <td>0.000000</td>\n",
              "      <td>28.000000</td>\n",
              "      <td>0.000000</td>\n",
              "    </tr>\n",
              "    <tr>\n",
              "      <th>25%</th>\n",
              "      <td>0.0</td>\n",
              "      <td>2.158459e+06</td>\n",
              "      <td>-0.991398</td>\n",
              "      <td>0.270932</td>\n",
              "      <td>1.0</td>\n",
              "      <td>0.000000</td>\n",
              "      <td>9.000000</td>\n",
              "      <td>0.000000</td>\n",
              "      <td>84.000000</td>\n",
              "      <td>139.000000</td>\n",
              "    </tr>\n",
              "    <tr>\n",
              "      <th>50%</th>\n",
              "      <td>0.0</td>\n",
              "      <td>2.168268e+06</td>\n",
              "      <td>-0.729869</td>\n",
              "      <td>0.989910</td>\n",
              "      <td>1.0</td>\n",
              "      <td>0.000000</td>\n",
              "      <td>11.000000</td>\n",
              "      <td>0.000000</td>\n",
              "      <td>98.000000</td>\n",
              "      <td>980.000000</td>\n",
              "    </tr>\n",
              "    <tr>\n",
              "      <th>75%</th>\n",
              "      <td>0.0</td>\n",
              "      <td>2.180091e+06</td>\n",
              "      <td>-0.389903</td>\n",
              "      <td>1.324877</td>\n",
              "      <td>1.0</td>\n",
              "      <td>0.000000</td>\n",
              "      <td>15.000000</td>\n",
              "      <td>0.000000</td>\n",
              "      <td>108.000000</td>\n",
              "      <td>3076.000000</td>\n",
              "    </tr>\n",
              "    <tr>\n",
              "      <th>max</th>\n",
              "      <td>0.0</td>\n",
              "      <td>2.190186e+06</td>\n",
              "      <td>2.474489</td>\n",
              "      <td>2.486312</td>\n",
              "      <td>1.0</td>\n",
              "      <td>1.000000</td>\n",
              "      <td>23.000000</td>\n",
              "      <td>1.000000</td>\n",
              "      <td>140.000000</td>\n",
              "      <td>65504.000000</td>\n",
              "    </tr>\n",
              "  </tbody>\n",
              "</table>\n",
              "</div>"
            ],
            "text/plain": [
              "       service_time_minutes  time_start_minutes  ...  fails_count      group_id\n",
              "count                2534.0        2.534000e+03  ...  2534.000000   2534.000000\n",
              "mean                    0.0        2.169173e+06  ...    96.172060   4910.179163\n",
              "std                     0.0        1.181480e+04  ...    25.337057   9267.410768\n",
              "min                     0.0        2.148551e+06  ...    28.000000      0.000000\n",
              "25%                     0.0        2.158459e+06  ...    84.000000    139.000000\n",
              "50%                     0.0        2.168268e+06  ...    98.000000    980.000000\n",
              "75%                     0.0        2.180091e+06  ...   108.000000   3076.000000\n",
              "max                     0.0        2.190186e+06  ...   140.000000  65504.000000\n",
              "\n",
              "[8 rows x 10 columns]"
            ]
          },
          "metadata": {
            "tags": []
          },
          "execution_count": 99
        }
      ]
    },
    {
      "cell_type": "markdown",
      "metadata": {
        "id": "NuxaVL2Abl_m",
        "colab_type": "text"
      },
      "source": [
        "Cверим часы\n"
      ]
    },
    {
      "cell_type": "code",
      "metadata": {
        "id": "I2zk7ZQlblaG",
        "colab_type": "code",
        "colab": {
          "base_uri": "https://localhost:8080/",
          "height": 34
        },
        "outputId": "f0cb8032-b5c5-41b9-d22f-cd8811629b6f"
      },
      "source": [
        "data_train.shape"
      ],
      "execution_count": 100,
      "outputs": [
        {
          "output_type": "execute_result",
          "data": {
            "text/plain": [
              "(75094, 12)"
            ]
          },
          "metadata": {
            "tags": []
          },
          "execution_count": 100
        }
      ]
    },
    {
      "cell_type": "code",
      "metadata": {
        "id": "RiC9FOsYbTI-",
        "colab_type": "code",
        "colab": {
          "base_uri": "https://localhost:8080/",
          "height": 34
        },
        "outputId": "3f8c2448-ae74-4811-e89e-4689ac7be6fd"
      },
      "source": [
        "data_test.shape"
      ],
      "execution_count": 101,
      "outputs": [
        {
          "output_type": "execute_result",
          "data": {
            "text/plain": [
              "(2534, 12)"
            ]
          },
          "metadata": {
            "tags": []
          },
          "execution_count": 101
        }
      ]
    },
    {
      "cell_type": "code",
      "metadata": {
        "id": "8LW5jNwZbuym",
        "colab_type": "code",
        "colab": {
          "base_uri": "https://localhost:8080/",
          "height": 243
        },
        "outputId": "759f9c13-84fc-40bd-e769-85a89c3a7bcc"
      },
      "source": [
        "# Check for NaN\n",
        "data_test.isna().sum()"
      ],
      "execution_count": 102,
      "outputs": [
        {
          "output_type": "execute_result",
          "data": {
            "text/plain": [
              "service_time_minutes    0\n",
              "time_start              0\n",
              "time_start_minutes      0\n",
              "place_latitude          0\n",
              "place_longitude         0\n",
              "coord                   0\n",
              "season                  0\n",
              "night_time              0\n",
              "hour_start              0\n",
              "holiday                 0\n",
              "fails_count             0\n",
              "group_id                0\n",
              "dtype: int64"
            ]
          },
          "metadata": {
            "tags": []
          },
          "execution_count": 102
        }
      ]
    },
    {
      "cell_type": "markdown",
      "metadata": {
        "id": "gJiPb7vWIA8a",
        "colab_type": "text"
      },
      "source": [
        "# Модель и обучение\n",
        "\n"
      ]
    },
    {
      "cell_type": "code",
      "metadata": {
        "id": "uZ9a9LbBfCBO",
        "colab_type": "code",
        "colab": {
          "base_uri": "https://localhost:8080/",
          "height": 52
        },
        "outputId": "cd894323-52b4-44be-80ad-bb2ee878434e"
      },
      "source": [
        "#!pip show keras\n",
        "#!pip show tensorflow\n",
        "%tensorflow_version 1.x\n",
        "#!pip install keras\n",
        "#!pip install tensorflow\n",
        "#!pip install tensorboardcolab\n",
        "\n",
        "\n",
        "import os\n",
        "from keras.layers import LSTM, Dense, Dropout, Flatten, SimpleRNN, GRU,\\\n",
        "      Conv1D, MaxPool1D, BatchNormalization, Conv2D, MaxPool2D\n",
        "from keras.models import Sequential\n",
        "from keras.activations import sigmoid, relu\n",
        "from datetime import datetime\n",
        "import numpy as np\n",
        "import pandas as pd\n",
        "from sklearn.cluster import KMeans, Birch, AffinityPropagation\n",
        "from keras.callbacks import ModelCheckpoint, TerminateOnNaN, EarlyStopping, ReduceLROnPlateau\n",
        "from keras import layers\n",
        "from keras.models import load_model\n",
        "from keras.losses import mean_absolute_percentage_error as mape\n",
        "from sklearn.metrics import mean_absolute_error\n",
        "from sklearn.model_selection import train_test_split\n",
        "from sklearn.utils import shuffle\n",
        "from sklearn.ensemble import *\n",
        "from sklearn.cluster import KMeans\n",
        "\n",
        "\n",
        "import pickle as cPickle"
      ],
      "execution_count": 103,
      "outputs": [
        {
          "output_type": "stream",
          "text": [
            "TensorFlow 1.x selected.\n"
          ],
          "name": "stdout"
        },
        {
          "output_type": "stream",
          "text": [
            "Using TensorFlow backend.\n"
          ],
          "name": "stderr"
        }
      ]
    },
    {
      "cell_type": "markdown",
      "metadata": {
        "id": "xCJGEOy8lgcx",
        "colab_type": "text"
      },
      "source": [
        "### Описание модели"
      ]
    },
    {
      "cell_type": "markdown",
      "metadata": {
        "id": "IBtkp_x0jXfT",
        "colab_type": "text"
      },
      "source": [
        "Рекуентная нейроеть - это класс нейронных сетей, которые хороши для моделирования последовательных данных. В нашем случае последовательные данные составляют сбои. Для этого нам пришлось сделать разбиение на кластеры и ввести новые параметры: количество последних поломок из одного кластера, шаг взятия поломки и количество экземпляров, смещенных на шаг.\n",
        "Данные по одному кластеру собирались в один длинный вектор и отправлялись на обучение.\n",
        "\n",
        "На последних этапах тестировались два типа модели: обычная рекурентная сеть и сверточно-рекурентная.\n",
        "Проверив несколько вариантов, мы пришли к выводу, что наилучший результат показывают модели с небольшим количеством скрытых слоёв. Более сложные модели не поддавались обучению.\n",
        "\n",
        "В итоге была выбрана сверточно-рекурентная модель, потому что она давала наименьшую ошибку на тестовой выборке, а именно 60%. В качестве тестовых данных выступали все сбои за январь.\n",
        "\n"
      ]
    },
    {
      "cell_type": "markdown",
      "metadata": {
        "id": "5RPmGi7Ikegz",
        "colab_type": "text"
      },
      "source": [
        "#### *Структура финальной нейросети:*\n",
        "```\n",
        "Layer (type)                 Output Shape              Param #   \n",
        "=================================================================\n",
        "conv1d_50 (Conv1D)           (None, 748, 16)           48        \n",
        "_________________________________________________________________\n",
        "max_pooling1d_48 (MaxPooling (None, 374, 16)           0         \n",
        "_________________________________________________________________\n",
        "lstm_29 (LSTM)               (None, 374, 8)            800       \n",
        "_________________________________________________________________\n",
        "flatten_31 (Flatten)         (None, 2992)              0         \n",
        "_________________________________________________________________\n",
        "dense_64 (Dense)             (None, 16)                47888     \n",
        "_________________________________________________________________\n",
        "dense_65 (Dense)             (None, 1)                 17        \n",
        "=================================================================\n",
        "Total params: 48,753\n",
        "Trainable params: 48,753\n",
        "Non-trainable params: 0\n",
        "```\n",
        "\n"
      ]
    },
    {
      "cell_type": "markdown",
      "metadata": {
        "id": "JtgxYCRNgKm4",
        "colab_type": "text"
      },
      "source": [
        "### Создания и обчение модели"
      ]
    },
    {
      "cell_type": "code",
      "metadata": {
        "id": "H0xdF_nR2bGZ",
        "colab_type": "code",
        "colab": {
          "base_uri": "https://localhost:8080/",
          "height": 243
        },
        "outputId": "73caa86d-82a8-459b-e545-0d2d89703cc4"
      },
      "source": [
        "data.dtypes"
      ],
      "execution_count": 107,
      "outputs": [
        {
          "output_type": "execute_result",
          "data": {
            "text/plain": [
              "service_time_minutes           float64\n",
              "time_start              datetime64[ns]\n",
              "time_start_minutes             float64\n",
              "place_latitude                 float64\n",
              "place_longitude                float64\n",
              "season                           int64\n",
              "night_time                       int64\n",
              "hour_start                       int64\n",
              "holiday                          int64\n",
              "fails_count                      int64\n",
              "group_id                         int64\n",
              "cluster_id                       int32\n",
              "dtype: object"
            ]
          },
          "metadata": {
            "tags": []
          },
          "execution_count": 107
        }
      ]
    },
    {
      "cell_type": "code",
      "metadata": {
        "id": "Qiuk5WUCgQir",
        "colab_type": "code",
        "colab": {
          "base_uri": "https://localhost:8080/",
          "height": 139
        },
        "outputId": "443e0b90-8c28-45fc-98f9-7bf123415c27"
      },
      "source": [
        "data = data_train\n",
        "data = data.sort_values(['time_start_minutes'])\n",
        "# data = data.drop(['Unnamed: 0'], axis=1)\n",
        "try:\n",
        "    data = data.drop(['day'], axis=1)\n",
        "except:\n",
        "    print('no day')\n",
        "\n",
        "def create_clusters(X, clust=100):\n",
        "  X_simplified = X.loc[:,['coord','place_latitude', 'place_longitude',]]\\\n",
        "                                .groupby('coord', as_index=False)\\\n",
        "                                .agg({\n",
        "                                            'place_latitude': 'mean',\n",
        "                                            'place_longitude': 'mean',\n",
        "                                      })\n",
        "  clustering_model = KMeans(n_clusters=clust, n_jobs=-1, random_state=4)\n",
        "  #clustering_model = Birch(n_clusters=clust)\n",
        "  id_column = clustering_model.fit_predict(X_simplified\\\n",
        "                                            .loc[:, ['place_latitude',\n",
        "                                                    'place_longitude']])\n",
        "  X_simplified['cluster_id'] = pd.Series(id_column)\n",
        "  X = X.merge(X_simplified.loc[:, ['coord', 'cluster_id']],\n",
        "                how='outer', on='coord')\n",
        "  X.drop(['coord'], axis=1)\n",
        "  with open('clustering_model.pkl', 'wb') as fid:\n",
        "    cPickle.dump(clustering_model, fid)    \n",
        "  return X\n",
        "\n",
        "def create_vec(data):\n",
        "  data = data.values\n",
        "  # print(data.shape)\n",
        "  res = []\n",
        "  for k in range(10000):\n",
        "    vec = []\n",
        "    for i in data:\n",
        "      if i[-1] == k:\n",
        "        vec.append(list(i[0:-1]))\n",
        "    if vec:\n",
        "      res.append(vec)\n",
        "    else:\n",
        "      print('max clusters:', k)\n",
        "      break\n",
        "  return res\n",
        "\n",
        "\n",
        "# print(data.columns)\n",
        "\n",
        "data = create_clusters(data, 50)\n",
        "data = data.drop(['coord'], axis=1)\n",
        "data = data.sort_values(['time_start_minutes'])\n",
        "\n",
        "print(data.columns)\n",
        "vec = create_vec(data)\n",
        "\n",
        "_ = np.inf\n",
        "for i in vec:\n",
        "  if len(i) < _:\n",
        "    _ = len(i)\n",
        "print('Max features + batch + step:', _)"
      ],
      "execution_count": 111,
      "outputs": [
        {
          "output_type": "stream",
          "text": [
            "no day\n",
            "Index(['service_time_minutes', 'time_start_minutes', 'place_latitude',\n",
            "       'place_longitude', 'season', 'night_time', 'hour_start', 'holiday',\n",
            "       'fails_count', 'cluster_id'],\n",
            "      dtype='object')\n",
            "max clusters: 50\n",
            "Max features + batch + step: 294\n"
          ],
          "name": "stdout"
        }
      ]
    },
    {
      "cell_type": "code",
      "metadata": {
        "id": "2kHCYLEogtHB",
        "colab_type": "code",
        "colab": {
          "base_uri": "https://localhost:8080/",
          "height": 104
        },
        "outputId": "2d8b4ef1-8f90-494a-fbe7-2ffa440b9770"
      },
      "source": [
        "def preapare_data_fot_training(vec, features=100, batch=30, step=1):\n",
        "  X = []\n",
        "  Y = []\n",
        "  for ex in vec:\n",
        "    count = 0\n",
        "    start = 1\n",
        "    while count < batch:\n",
        "      tmp = []\n",
        "      tmp += ex[-start][1:]\n",
        "      Y.append(ex[-start][0])\n",
        "      for n in range(start + 1, start + features):\n",
        "        # print(n)\n",
        "        tmp += ex[-n]\n",
        "      X.append(np.asarray(tmp))\n",
        "      start += step\n",
        "      count += 1\n",
        "      # print(len(tmp))\n",
        "  X = np.asarray(X)\n",
        "  print(X.shape)\n",
        "  X = X.reshape(len(X), X.shape[1], 1)\n",
        "  Y = np.asarray(Y)\n",
        "  Y = Y.reshape(-1, 1)\n",
        "  print(X.shape)\n",
        "  print(Y.shape)\n",
        "  X, x, Y, y = train_test_split(X, Y, random_state=10, test_size=0.2, shuffle=True)\n",
        "  print(X.shape)\n",
        "  print(Y.shape)\n",
        "  return X, x, Y, y\n",
        "\n",
        "\n",
        "# Тут меняюется количество последних поломок, количество экземпляров со сдвигом на шаг и сам размер шага. Набираются поломки с конца.\n",
        "\n",
        "X, x, Y, y = preapare_data_fot_training(vec, features=75, batch=50, step=3)"
      ],
      "execution_count": 112,
      "outputs": [
        {
          "output_type": "stream",
          "text": [
            "(2500, 674)\n",
            "(2500, 674, 1)\n",
            "(2500, 1)\n",
            "(2000, 674, 1)\n",
            "(2000, 1)\n"
          ],
          "name": "stdout"
        }
      ]
    },
    {
      "cell_type": "code",
      "metadata": {
        "id": "JEsgjfXNgzCv",
        "colab_type": "code",
        "colab": {
          "base_uri": "https://localhost:8080/",
          "height": 729
        },
        "outputId": "fd0895b5-2270-4f2f-cdab-9ced82270998"
      },
      "source": [
        "model = Sequential()\n",
        "model.add(Conv1D(16,\n",
        "            input_shape=(X.shape[1], X.shape[2]),\n",
        "            kernel_size=2))\n",
        "model.add(MaxPool1D(pool_size=2))\n",
        "model.add(LSTM(8, return_sequences=True))\n",
        "model.add(Flatten())\n",
        "model.add(Dense(16, activation='relu'))\n",
        "model.add(Dense(1, activation='relu'))\n",
        "model.summary()\n",
        "\n",
        "model.compile(loss=mape, optimizer='adam')\n",
        "model.fit(X,\n",
        "      Y,\n",
        "      epochs=10,\n",
        "      batch_size=128,\n",
        "      validation_data=([x, y]))\n",
        "model.save('model')"
      ],
      "execution_count": 113,
      "outputs": [
        {
          "output_type": "stream",
          "text": [
            "Model: \"sequential_2\"\n",
            "_________________________________________________________________\n",
            "Layer (type)                 Output Shape              Param #   \n",
            "=================================================================\n",
            "conv1d_2 (Conv1D)            (None, 673, 16)           48        \n",
            "_________________________________________________________________\n",
            "max_pooling1d_2 (MaxPooling1 (None, 336, 16)           0         \n",
            "_________________________________________________________________\n",
            "lstm_2 (LSTM)                (None, 336, 8)            800       \n",
            "_________________________________________________________________\n",
            "flatten_2 (Flatten)          (None, 2688)              0         \n",
            "_________________________________________________________________\n",
            "dense_3 (Dense)              (None, 16)                43024     \n",
            "_________________________________________________________________\n",
            "dense_4 (Dense)              (None, 1)                 17        \n",
            "=================================================================\n",
            "Total params: 43,889\n",
            "Trainable params: 43,889\n",
            "Non-trainable params: 0\n",
            "_________________________________________________________________\n",
            "Train on 2000 samples, validate on 500 samples\n",
            "Epoch 1/10\n",
            "2000/2000 [==============================] - 5s 3ms/step - loss: 100.0000 - val_loss: 100.0000\n",
            "Epoch 2/10\n",
            "2000/2000 [==============================] - 4s 2ms/step - loss: 100.0000 - val_loss: 100.0000\n",
            "Epoch 3/10\n",
            "2000/2000 [==============================] - 4s 2ms/step - loss: 100.0000 - val_loss: 100.0000\n",
            "Epoch 4/10\n",
            "2000/2000 [==============================] - 4s 2ms/step - loss: 100.0000 - val_loss: 100.0000\n",
            "Epoch 5/10\n",
            "2000/2000 [==============================] - 4s 2ms/step - loss: 100.0000 - val_loss: 100.0000\n",
            "Epoch 6/10\n",
            "2000/2000 [==============================] - 4s 2ms/step - loss: 100.0000 - val_loss: 100.0000\n",
            "Epoch 7/10\n",
            "2000/2000 [==============================] - 4s 2ms/step - loss: 100.0000 - val_loss: 100.0000\n",
            "Epoch 8/10\n",
            "2000/2000 [==============================] - 4s 2ms/step - loss: 100.0000 - val_loss: 100.0000\n",
            "Epoch 9/10\n",
            "2000/2000 [==============================] - 4s 2ms/step - loss: 100.0000 - val_loss: 100.0000\n",
            "Epoch 10/10\n",
            "2000/2000 [==============================] - 4s 2ms/step - loss: 100.0000 - val_loss: 100.0000\n"
          ],
          "name": "stdout"
        }
      ]
    },
    {
      "cell_type": "markdown",
      "metadata": {
        "id": "XryuEBjSgEBY",
        "colab_type": "text"
      },
      "source": [
        "### Предсказание на обученной модели"
      ]
    },
    {
      "cell_type": "code",
      "metadata": {
        "id": "zJI7pd02fEht",
        "colab_type": "code",
        "colab": {}
      },
      "source": [
        "path_to_model_and_pkl = './'"
      ],
      "execution_count": 0,
      "outputs": []
    },
    {
      "cell_type": "code",
      "metadata": {
        "id": "pdzbS1ttfG_4",
        "colab_type": "code",
        "colab": {}
      },
      "source": [
        "def load_data(path='train.csv'):\n",
        "  data = pd.read_csv(path, comment='#')\n",
        "  data = data.sort_values(['time_start_minutes'])\n",
        "  data = data.drop(['Unnamed: 0'], axis=1)\n",
        "  return data\n",
        "\n",
        "def sort_time(X, x):\n",
        "  return X.sort_values(['time_start_minutes'], ascending=False), x.sort_values(['time_start_minutes'], ascending=False)\n",
        "\n",
        "def drop_coord(X, x):\n",
        "  try:\n",
        "    return X.drop(['coord', 'day'], axis=1), x.drop(['coord'], axis=1)\n",
        "  except:\n",
        "    return X.drop(['coord'], axis=1), x.drop(['coord'], axis=1)\n",
        "\n",
        "def create_clusters(X, x, path='clustering_model.pkl'):\n",
        "  X_simplified = X.loc[:,['coord','place_latitude', 'place_longitude',]]\\\n",
        "                                .groupby('coord', as_index=False)\\\n",
        "                                .agg({'place_latitude': 'mean',\n",
        "                                      'place_longitude': 'mean',})\n",
        "  # load model\n",
        "  with open(path, 'rb') as fid:\n",
        "    clustering_model = cPickle.load(fid)\n",
        "\n",
        "  id_column = clustering_model.fit_predict(X_simplified\\\n",
        "                                            .loc[:, ['place_latitude',\n",
        "                                                    'place_longitude']])\n",
        "  X_simplified['cluster_id'] = pd.Series(id_column)\n",
        "  X = X.merge(X_simplified.loc[:, ['coord', 'cluster_id']],\n",
        "                how='outer', on='coord')\n",
        "  X.drop(['coord'], axis=1)\n",
        "  x['cluster_id'] = clustering_model.predict(x.loc[:, ['place_latitude',\n",
        "                                                    'place_longitude']])\n",
        "  return X, x\n",
        "\n",
        "X = data_train\n",
        "x = data_test\n",
        "X, x = create_clusters(X, x, path_to_model_and_pkl + 'clustering_model.pkl')\n",
        "X, x = drop_coord(X, x)\n",
        "X, x = sort_time(X, x)"
      ],
      "execution_count": 0,
      "outputs": []
    },
    {
      "cell_type": "code",
      "metadata": {
        "id": "_OLopEoMfTpi",
        "colab_type": "code",
        "colab": {
          "base_uri": "https://localhost:8080/",
          "height": 452
        },
        "outputId": "3adf3f7e-7264-42cd-c356-3f3740f98ba4"
      },
      "source": [
        "def create_vec(data):\n",
        "  data = data.values\n",
        "  # print(data.shape)\n",
        "  res = []\n",
        "  for k in range(10000):\n",
        "    vec = []\n",
        "    for i in data:\n",
        "      if i[-1] == k:\n",
        "        vec.append(list(i[0:-1]))\n",
        "    if vec:\n",
        "      res.append(vec)\n",
        "    else:\n",
        "      print('max clusters:', k)\n",
        "      break\n",
        "  return res\n",
        "\n",
        "\n",
        "X_vec = create_vec(X)\n",
        "x_vec = create_vec(x)\n",
        "\n",
        "_ = np.inf\n",
        "for i in X_vec:\n",
        "  if len(i) < _:\n",
        "    _ = len(i)\n",
        "print('Max features:', _)\n",
        "\n",
        "\n",
        "def create_data(features=50, step=1):\n",
        "  def training(X_vec, x_vec):\n",
        "    global pos_X\n",
        "    pos_X = []\n",
        "    for i in range(len(X_vec)):\n",
        "      pos_X.append(len(x_vec[i]))\n",
        "      for k in X_vec[i]:\n",
        "        x_vec[i].append(k)\n",
        "    return x_vec\n",
        "  \n",
        "  print(len(X_vec[0]))\n",
        "  # print(len(x_vec[0]))\n",
        "  res = training(X_vec, x_vec)\n",
        "  print(len(res[0]))\n",
        "  y = []\n",
        "  pred = []\n",
        "  model = load_model(path_to_model_and_pkl + 'model')\n",
        "  for k in range(len(pos_X)):\n",
        "    pos = pos_X[k] - 1\n",
        "    arr = []\n",
        "    while pos >= 0:\n",
        "      tmp = []\n",
        "      tmp += res[k][pos][1:]\n",
        "      y.append(res[k][pos][0])\n",
        "      # pos_ - последующте позиции для набора вектора. Тут правильно\n",
        "      pos_ = pos + step\n",
        "      count = 0\n",
        "      while count < features - 1:\n",
        "        tmp += res[k][pos_]\n",
        "        pos_ += step\n",
        "        count += 1\n",
        "      # Закончили набирать вектор.\n",
        "      # Щелкнули на предыдущую позицию.\n",
        "      pos -= 1\n",
        "      # Добавили в массив\n",
        "      arr.append(np.asarray(tmp))\n",
        "    arr = np.asarray(arr)\n",
        "    pred += list(model.predict(arr.reshape(len(arr), arr.shape[1], 1)).reshape(1, -1)[0])\n",
        "  return y, pred\n",
        "\n",
        "\n",
        "\n",
        "features = 75\n",
        "\n",
        "\n",
        "y, pred = create_data(features=features, step=2)\n",
        "\n",
        "\n",
        "\n",
        "def _mape_(y_true, y_pred): \n",
        "    return np.mean(np.abs((y_true - y_pred) / y_true)) * 100\n",
        "\n",
        "print(_mape_(np.asarray(y), np.asarray(pred)))"
      ],
      "execution_count": 122,
      "outputs": [
        {
          "output_type": "stream",
          "text": [
            "max clusters: 50\n",
            "max clusters: 0\n",
            "Max features: 294\n",
            "1428\n"
          ],
          "name": "stdout"
        },
        {
          "output_type": "error",
          "ename": "IndexError",
          "evalue": "ignored",
          "traceback": [
            "\u001b[0;31m---------------------------------------------------------------------------\u001b[0m",
            "\u001b[0;31mIndexError\u001b[0m                                Traceback (most recent call last)",
            "\u001b[0;32m<ipython-input-122-9a5f88d5f915>\u001b[0m in \u001b[0;36m<module>\u001b[0;34m()\u001b[0m\n\u001b[1;32m     71\u001b[0m \u001b[0;34m\u001b[0m\u001b[0m\n\u001b[1;32m     72\u001b[0m \u001b[0;34m\u001b[0m\u001b[0m\n\u001b[0;32m---> 73\u001b[0;31m \u001b[0my\u001b[0m\u001b[0;34m,\u001b[0m \u001b[0mpred\u001b[0m \u001b[0;34m=\u001b[0m \u001b[0mcreate_data\u001b[0m\u001b[0;34m(\u001b[0m\u001b[0mfeatures\u001b[0m\u001b[0;34m=\u001b[0m\u001b[0mfeatures\u001b[0m\u001b[0;34m,\u001b[0m \u001b[0mstep\u001b[0m\u001b[0;34m=\u001b[0m\u001b[0;36m2\u001b[0m\u001b[0;34m)\u001b[0m\u001b[0;34m\u001b[0m\u001b[0;34m\u001b[0m\u001b[0m\n\u001b[0m\u001b[1;32m     74\u001b[0m \u001b[0;34m\u001b[0m\u001b[0m\n\u001b[1;32m     75\u001b[0m \u001b[0;34m\u001b[0m\u001b[0m\n",
            "\u001b[0;32m<ipython-input-122-9a5f88d5f915>\u001b[0m in \u001b[0;36mcreate_data\u001b[0;34m(features, step)\u001b[0m\n\u001b[1;32m     38\u001b[0m   \u001b[0mprint\u001b[0m\u001b[0;34m(\u001b[0m\u001b[0mlen\u001b[0m\u001b[0;34m(\u001b[0m\u001b[0mX_vec\u001b[0m\u001b[0;34m[\u001b[0m\u001b[0;36m0\u001b[0m\u001b[0;34m]\u001b[0m\u001b[0;34m)\u001b[0m\u001b[0;34m)\u001b[0m\u001b[0;34m\u001b[0m\u001b[0;34m\u001b[0m\u001b[0m\n\u001b[1;32m     39\u001b[0m   \u001b[0;31m# print(len(x_vec[0]))\u001b[0m\u001b[0;34m\u001b[0m\u001b[0;34m\u001b[0m\u001b[0;34m\u001b[0m\u001b[0m\n\u001b[0;32m---> 40\u001b[0;31m   \u001b[0mres\u001b[0m \u001b[0;34m=\u001b[0m \u001b[0mtraining\u001b[0m\u001b[0;34m(\u001b[0m\u001b[0mX_vec\u001b[0m\u001b[0;34m,\u001b[0m \u001b[0mx_vec\u001b[0m\u001b[0;34m)\u001b[0m\u001b[0;34m\u001b[0m\u001b[0;34m\u001b[0m\u001b[0m\n\u001b[0m\u001b[1;32m     41\u001b[0m   \u001b[0mprint\u001b[0m\u001b[0;34m(\u001b[0m\u001b[0mlen\u001b[0m\u001b[0;34m(\u001b[0m\u001b[0mres\u001b[0m\u001b[0;34m[\u001b[0m\u001b[0;36m0\u001b[0m\u001b[0;34m]\u001b[0m\u001b[0;34m)\u001b[0m\u001b[0;34m)\u001b[0m\u001b[0;34m\u001b[0m\u001b[0;34m\u001b[0m\u001b[0m\n\u001b[1;32m     42\u001b[0m   \u001b[0my\u001b[0m \u001b[0;34m=\u001b[0m \u001b[0;34m[\u001b[0m\u001b[0;34m]\u001b[0m\u001b[0;34m\u001b[0m\u001b[0;34m\u001b[0m\u001b[0m\n",
            "\u001b[0;32m<ipython-input-122-9a5f88d5f915>\u001b[0m in \u001b[0;36mtraining\u001b[0;34m(X_vec, x_vec)\u001b[0m\n\u001b[1;32m     31\u001b[0m     \u001b[0mpos_X\u001b[0m \u001b[0;34m=\u001b[0m \u001b[0;34m[\u001b[0m\u001b[0;34m]\u001b[0m\u001b[0;34m\u001b[0m\u001b[0;34m\u001b[0m\u001b[0m\n\u001b[1;32m     32\u001b[0m     \u001b[0;32mfor\u001b[0m \u001b[0mi\u001b[0m \u001b[0;32min\u001b[0m \u001b[0mrange\u001b[0m\u001b[0;34m(\u001b[0m\u001b[0mlen\u001b[0m\u001b[0;34m(\u001b[0m\u001b[0mX_vec\u001b[0m\u001b[0;34m)\u001b[0m\u001b[0;34m)\u001b[0m\u001b[0;34m:\u001b[0m\u001b[0;34m\u001b[0m\u001b[0;34m\u001b[0m\u001b[0m\n\u001b[0;32m---> 33\u001b[0;31m       \u001b[0mpos_X\u001b[0m\u001b[0;34m.\u001b[0m\u001b[0mappend\u001b[0m\u001b[0;34m(\u001b[0m\u001b[0mlen\u001b[0m\u001b[0;34m(\u001b[0m\u001b[0mx_vec\u001b[0m\u001b[0;34m[\u001b[0m\u001b[0mi\u001b[0m\u001b[0;34m]\u001b[0m\u001b[0;34m)\u001b[0m\u001b[0;34m)\u001b[0m\u001b[0;34m\u001b[0m\u001b[0;34m\u001b[0m\u001b[0m\n\u001b[0m\u001b[1;32m     34\u001b[0m       \u001b[0;32mfor\u001b[0m \u001b[0mk\u001b[0m \u001b[0;32min\u001b[0m \u001b[0mX_vec\u001b[0m\u001b[0;34m[\u001b[0m\u001b[0mi\u001b[0m\u001b[0;34m]\u001b[0m\u001b[0;34m:\u001b[0m\u001b[0;34m\u001b[0m\u001b[0;34m\u001b[0m\u001b[0m\n\u001b[1;32m     35\u001b[0m         \u001b[0mx_vec\u001b[0m\u001b[0;34m[\u001b[0m\u001b[0mi\u001b[0m\u001b[0;34m]\u001b[0m\u001b[0;34m.\u001b[0m\u001b[0mappend\u001b[0m\u001b[0;34m(\u001b[0m\u001b[0mk\u001b[0m\u001b[0;34m)\u001b[0m\u001b[0;34m\u001b[0m\u001b[0;34m\u001b[0m\u001b[0m\n",
            "\u001b[0;31mIndexError\u001b[0m: list index out of range"
          ]
        }
      ]
    },
    {
      "cell_type": "code",
      "metadata": {
        "id": "bB8DaPlLfZYR",
        "colab_type": "code",
        "colab": {
          "base_uri": "https://localhost:8080/",
          "height": 237
        },
        "outputId": "018bb786-6677-4d1c-b70a-1ea8d447cefa"
      },
      "source": [
        "x = x.sort_values(['cluster_id', 'time_start_minutes'])\n",
        "pred = np.asarray(pred)\n",
        "pred.reshape(-1, 1)\n",
        "\n",
        "pr = pd.DataFrame(data={'predict': pred})\n",
        "x['predict'] = pr['predict']\n",
        "x"
      ],
      "execution_count": 120,
      "outputs": [
        {
          "output_type": "error",
          "ename": "NameError",
          "evalue": "ignored",
          "traceback": [
            "\u001b[0;31m---------------------------------------------------------------------------\u001b[0m",
            "\u001b[0;31mNameError\u001b[0m                                 Traceback (most recent call last)",
            "\u001b[0;32m<ipython-input-120-88aab35fa63a>\u001b[0m in \u001b[0;36m<module>\u001b[0;34m()\u001b[0m\n\u001b[1;32m      1\u001b[0m \u001b[0mx\u001b[0m \u001b[0;34m=\u001b[0m \u001b[0mx\u001b[0m\u001b[0;34m.\u001b[0m\u001b[0msort_values\u001b[0m\u001b[0;34m(\u001b[0m\u001b[0;34m[\u001b[0m\u001b[0;34m'cluster_id'\u001b[0m\u001b[0;34m,\u001b[0m \u001b[0;34m'time_start_minutes'\u001b[0m\u001b[0;34m]\u001b[0m\u001b[0;34m)\u001b[0m\u001b[0;34m\u001b[0m\u001b[0;34m\u001b[0m\u001b[0m\n\u001b[0;32m----> 2\u001b[0;31m \u001b[0mpred\u001b[0m \u001b[0;34m=\u001b[0m \u001b[0mnp\u001b[0m\u001b[0;34m.\u001b[0m\u001b[0masarray\u001b[0m\u001b[0;34m(\u001b[0m\u001b[0mpred\u001b[0m\u001b[0;34m)\u001b[0m\u001b[0;34m\u001b[0m\u001b[0;34m\u001b[0m\u001b[0m\n\u001b[0m\u001b[1;32m      3\u001b[0m \u001b[0mpred\u001b[0m\u001b[0;34m.\u001b[0m\u001b[0mreshape\u001b[0m\u001b[0;34m(\u001b[0m\u001b[0;34m-\u001b[0m\u001b[0;36m1\u001b[0m\u001b[0;34m,\u001b[0m \u001b[0;36m1\u001b[0m\u001b[0;34m)\u001b[0m\u001b[0;34m\u001b[0m\u001b[0;34m\u001b[0m\u001b[0m\n\u001b[1;32m      4\u001b[0m \u001b[0;34m\u001b[0m\u001b[0m\n\u001b[1;32m      5\u001b[0m \u001b[0mpr\u001b[0m \u001b[0;34m=\u001b[0m \u001b[0mpd\u001b[0m\u001b[0;34m.\u001b[0m\u001b[0mDataFrame\u001b[0m\u001b[0;34m(\u001b[0m\u001b[0mdata\u001b[0m\u001b[0;34m=\u001b[0m\u001b[0;34m{\u001b[0m\u001b[0;34m'predict'\u001b[0m\u001b[0;34m:\u001b[0m \u001b[0mpred\u001b[0m\u001b[0;34m}\u001b[0m\u001b[0;34m)\u001b[0m\u001b[0;34m\u001b[0m\u001b[0;34m\u001b[0m\u001b[0m\n",
            "\u001b[0;31mNameError\u001b[0m: name 'pred' is not defined"
          ]
        }
      ]
    },
    {
      "cell_type": "code",
      "metadata": {
        "id": "EOcJR94chFN-",
        "colab_type": "code",
        "colab": {}
      },
      "source": [
        "x.to_csv('result.csv')"
      ],
      "execution_count": 0,
      "outputs": []
    }
  ]
}