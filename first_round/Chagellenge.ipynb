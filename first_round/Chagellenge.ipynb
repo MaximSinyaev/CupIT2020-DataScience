{
  "nbformat": 4,
  "nbformat_minor": 0,
  "metadata": {
    "colab": {
      "name": "Chagellenge.ipynb",
      "provenance": [],
      "collapsed_sections": [
        "yitHzGLqYOeg",
        "ayZw76thq6gk",
        "bHHPgYloJHwL"
      ],
      "machine_shape": "hm"
    },
    "kernelspec": {
      "name": "python3",
      "display_name": "Python 3"
    }
  },
  "cells": [
    {
      "cell_type": "code",
      "metadata": {
        "id": "r8bVnrRezf7Z",
        "colab_type": "code",
        "colab": {}
      },
      "source": [
        "from google.colab import files\n",
        "import os\n",
        "import pandas as pd\n",
        "import numpy as np"
      ],
      "execution_count": 0,
      "outputs": []
    },
    {
      "cell_type": "code",
      "metadata": {
        "id": "I9atE1BKzktl",
        "colab_type": "code",
        "colab": {}
      },
      "source": [
        "%matplotlib inline\n",
        "import matplotlib.pyplot as plt\n",
        "import seaborn as sns"
      ],
      "execution_count": 0,
      "outputs": []
    },
    {
      "cell_type": "code",
      "metadata": {
        "id": "7sjWixV3zmaL",
        "colab_type": "code",
        "outputId": "7b1957c4-34ff-4d09-8e59-e5e8bbbd4cf1",
        "colab": {
          "base_uri": "https://localhost:8080/",
          "height": 54
        }
      },
      "source": [
        "from google.colab import drive\n",
        "drive.mount('/content/drive')"
      ],
      "execution_count": 243,
      "outputs": [
        {
          "output_type": "stream",
          "text": [
            "Drive already mounted at /content/drive; to attempt to forcibly remount, call drive.mount(\"/content/drive\", force_remount=True).\n"
          ],
          "name": "stdout"
        }
      ]
    },
    {
      "cell_type": "code",
      "metadata": {
        "id": "GIF8VPLFzoOU",
        "colab_type": "code",
        "outputId": "7ce29551-1a55-47d6-f4f1-6fb3eab6d0e1",
        "colab": {
          "base_uri": "https://localhost:8080/",
          "height": 69
        }
      },
      "source": [
        "!ls drive/'My Drive'/'hack'/changelenge"
      ],
      "execution_count": 244,
      "outputs": [
        {
          "output_type": "stream",
          "text": [
            "CUP_IT_test_data.csv   preproc_train.csv      time-series_features\n",
            "CUP_IT_train_data.csv  relevant_features.txt\n",
            "hack21.ipynb\t       test_data_preproc.csv\n"
          ],
          "name": "stdout"
        }
      ]
    },
    {
      "cell_type": "markdown",
      "metadata": {
        "id": "KUlvaGeuazMs",
        "colab_type": "text"
      },
      "source": [
        "Для работы на другом устройстве необходимо изменить путь к данным"
      ]
    },
    {
      "cell_type": "code",
      "metadata": {
        "id": "RXKvVRyzayFm",
        "colab_type": "code",
        "colab": {}
      },
      "source": [
        "path = \"drive/My Drive/hack/changelenge/\""
      ],
      "execution_count": 0,
      "outputs": []
    },
    {
      "cell_type": "code",
      "metadata": {
        "id": "rvh3VJvQzy2K",
        "colab_type": "code",
        "colab": {}
      },
      "source": [
        "# loading train data to DataFrame\n",
        "dataset = pd.read_csv(path + \"CUP_IT_train_data.csv\", comment='#')"
      ],
      "execution_count": 0,
      "outputs": []
    },
    {
      "cell_type": "code",
      "metadata": {
        "id": "YmP9tCVL5lKu",
        "colab_type": "code",
        "colab": {}
      },
      "source": [
        "dataset['dlk_cob_date'] = pd.to_datetime(dataset['dlk_cob_date'])\n",
        "# Сортировка \n",
        "dataset.sort_values(['cif_id', 'dlk_cob_date'], inplace=True)"
      ],
      "execution_count": 0,
      "outputs": []
    },
    {
      "cell_type": "markdown",
      "metadata": {
        "id": "JdrHN_LwX8rw",
        "colab_type": "text"
      },
      "source": [
        "## Замена NaN'ов"
      ]
    },
    {
      "cell_type": "code",
      "metadata": {
        "id": "jyF_SG0HcJcQ",
        "colab_type": "code",
        "outputId": "1040478d-4bbe-435d-f67c-3f333dab5a71",
        "colab": {
          "base_uri": "https://localhost:8080/",
          "height": 52
        }
      },
      "source": [
        "# Пример категориальной сырой фичи с пропусками об уровне образования\n",
        "# является копией столбца cu_eduaction_level\n",
        "dataset.cu_education_level.unique()"
      ],
      "execution_count": 248,
      "outputs": [
        {
          "output_type": "execute_result",
          "data": {
            "text/plain": [
              "array(['02. Среднее профессиональное', '03. Высшее', '01. Среднее', nan,\n",
              "       '04. Второе высшее, ученая степень'], dtype=object)"
            ]
          },
          "metadata": {
            "tags": []
          },
          "execution_count": 248
        }
      ]
    },
    {
      "cell_type": "markdown",
      "metadata": {
        "id": "SPMcOnnhdBXl",
        "colab_type": "text"
      },
      "source": [
        "Функция для замены всех нанов в датасете"
      ]
    },
    {
      "cell_type": "code",
      "metadata": {
        "id": "gADhaQKNdTUX",
        "colab_type": "code",
        "colab": {}
      },
      "source": [
        "def fill_bank_na(input_df):\n",
        "  fill_age(input_df)\n",
        "  fill_sms(input_df)\n",
        "  fill_educ(input_df)\n",
        "  fill_credits(input_df)\n",
        "  fill_debits(input_df)\n",
        "  fill_replace_work_areas(input_df)\n",
        "  fill_replace_work_levels(input_df)"
      ],
      "execution_count": 0,
      "outputs": []
    },
    {
      "cell_type": "code",
      "metadata": {
        "id": "HMXfOIWQYYKT",
        "colab_type": "code",
        "colab": {}
      },
      "source": [
        "def fill_age(dataset):\n",
        "  dataset.cu_age.mask(dataset['cu_age'] == -100, dataset.cu_age.median(), axis=0,\n",
        "                    inplace=True)\n",
        "fill_age(dataset)"
      ],
      "execution_count": 0,
      "outputs": []
    },
    {
      "cell_type": "code",
      "metadata": {
        "id": "3Jpi1S6d7smy",
        "colab_type": "code",
        "colab": {}
      },
      "source": [
        "# Replace all -100 in sms column for -1\n",
        "def fill_sms(dataset):\n",
        "  dataset['cur_qnt_sms'].mask(dataset['cur_qnt_sms'] == -100.,\n",
        "                                         0, inplace=True)\n",
        "fill_sms(dataset)"
      ],
      "execution_count": 0,
      "outputs": []
    },
    {
      "cell_type": "code",
      "metadata": {
        "id": "7TnixxmcYvVC",
        "colab_type": "code",
        "colab": {}
      },
      "source": [
        "# Заменим отсутствующие данные по образованию -100 на его отстутствие 0\n",
        "# Возможно лучше будет заменить на медиану 3\n",
        "def fill_educ(dataset):\n",
        "  dataset.cu_eduaction_level.mask(dataset['cu_eduaction_level'] == -100, \n",
        "                                  dataset['cu_eduaction_level'].median(), axis=0,\n",
        "                                  inplace=True)\n",
        "  # Ручная замена NaNов, да это жестко\n",
        "  value_for_replace = '03. Высшее' # вроде как медиана\n",
        "  dataset.cu_education_level.fillna(value_for_replace, axis=0, inplace=True)\n",
        "fill_educ(dataset)"
      ],
      "execution_count": 0,
      "outputs": []
    },
    {
      "cell_type": "code",
      "metadata": {
        "id": "-1LmjtP5ZATr",
        "colab_type": "code",
        "colab": {}
      },
      "source": [
        "# Замена Nan в кредитных счетах на 0\n",
        "def fill_credits(dataset):\n",
        "  dataset['cc_balance'].fillna(0., inplace=True)\n",
        "  dataset['cl_balance'].fillna(0., inplace=True)\n",
        "  dataset['ml_balance'].fillna(0., inplace=True)\n",
        "  dataset['pl_balance'].fillna(0., inplace=True)\n",
        "fill_credits(dataset)"
      ],
      "execution_count": 0,
      "outputs": []
    },
    {
      "cell_type": "code",
      "metadata": {
        "id": "UrXIxfobZA67",
        "colab_type": "code",
        "colab": {}
      },
      "source": [
        "# Замена Nan в кредитных счетах на 0\n",
        "def fill_debits(dataset):\n",
        "  dataset['td_volume'].fillna(0., inplace=True)\n",
        "  dataset['ca_volume'].fillna(0., inplace=True)\n",
        "  dataset['sa_volume'].fillna(0., inplace=True)\n",
        "  dataset['mf_volume'].fillna(0., inplace=True)\n",
        "fill_debits(dataset)"
      ],
      "execution_count": 0,
      "outputs": []
    },
    {
      "cell_type": "code",
      "metadata": {
        "id": "3Ryu1wAjlH-6",
        "colab_type": "code",
        "colab": {}
      },
      "source": [
        "# Все отрасли работы и количество людей по ним\n",
        "def find_all_work_areas(dataset):\n",
        "  return dataset.loc[:,['cif_id', 'cu_empl_area']]\\\n",
        "                    .groupby('cu_empl_area',\n",
        "                             as_index=False).count().sort_values('cif_id')"
      ],
      "execution_count": 0,
      "outputs": []
    },
    {
      "cell_type": "code",
      "metadata": {
        "id": "YxgrnTG0fxfm",
        "colab_type": "code",
        "outputId": "0828d888-4fca-4803-9142-483c0c1a0dc4",
        "colab": {
          "base_uri": "https://localhost:8080/",
          "height": 1000
        }
      },
      "source": [
        "# Заменим все малочисленные направления работы и NaN'ы в графе отрасли на\n",
        "def fill_replace_work_areas(dataset):\n",
        "  work_areas = find_all_work_areas(dataset)\n",
        "  # значение = 'ДРУГОЕ'\n",
        "  default_empl_area = 'ДРУГОЕ'\n",
        "  # Пороговое значение для отнесения профессии к категории Другое 36 месяцев\n",
        "  empl_threshold = 36 # Нерепрезентивная выборка\n",
        "  print('Удаленные отрасли:')\n",
        "  sum_1 = dataset['cu_empl_area'].nunique()\n",
        "  for area in work_areas.values:\n",
        "    if area[1] < empl_threshold:\n",
        "      dataset['cu_empl_area'].mask(dataset['cu_empl_area'] == area[0],\n",
        "                                  default_empl_area, inplace=True)\n",
        "      print(area)\n",
        "  sum_2 = dataset['cu_empl_area'].nunique()\n",
        "  print(f'Удалено {sum_1 - sum_2} отраслей.')\n",
        "  # Замена нанов\n",
        "  dataset['cu_empl_area'].fillna(default_empl_area, inplace=True)\n",
        "  print(f'Осталось: {sum_2} отраслей.')\n",
        "\n",
        "# Apply func\n",
        "fill_replace_work_areas(dataset)"
      ],
      "execution_count": 256,
      "outputs": [
        {
          "output_type": "stream",
          "text": [
            "Удаленные отрасли:\n",
            "['карнизы, жалюзи - торговля' 1]\n",
            "['Сдача нежилого помещения в аренду' 1]\n",
            "['торговля продуктами питания' 1]\n",
            "['О' 1]\n",
            "['Инвестиционная' 1]\n",
            "['ритуальные услуги' 1]\n",
            "['Торговля оргтехникой' 1]\n",
            "['Столярное производство' 2]\n",
            "['производство, продажа' 2]\n",
            "['разработка, внедрение информ.систем' 2]\n",
            "['Химическая продукция' 2]\n",
            "['Международные перевозки' 2]\n",
            "['Управление сетью магазинов' 2]\n",
            "['Ритуальные услуги' 3]\n",
            "['сервисная нефтяная компания' 3]\n",
            "['Производство алкогольных напитков' 3]\n",
            "['реклама и дизайн' 3]\n",
            "['Транспортно-экспортные услуги' 4]\n",
            "['Театр, кино' 4]\n",
            "['обслуживание техники' 4]\n",
            "['спорт, обучение' 4]\n",
            "['Турбостроение-машиностроение' 5]\n",
            "['Информационные услуги (справочная служба)' 5]\n",
            "['Инженерно-техническое предприятие' 6]\n",
            "['Издательский дом' 7]\n",
            "['Другое охрана' 7]\n",
            "['агенстство по подбору персонала' 7]\n",
            "['Спутниковая связь' 7]\n",
            "['Промышленность' 8]\n",
            "['поставка насосного оборудования' 8]\n",
            "['световое, звуковое оборудование' 8]\n",
            "['Автогрузовые перевозки' 9]\n",
            "['Рекламное агенство' 9]\n",
            "['Перевозки грузов' 9]\n",
            "['Ночной клуб' 9]\n",
            "['Обслуживание органов гос. вдасти' 9]\n",
            "['дистрибуция сетевого оборудования' 10]\n",
            "['передача электроэнергии, сдача помещений в аренду' 10]\n",
            "['ЮРИДИЧЕСКИЕ И ПАТЕНТНЫЕ УСЛУГИ' 11]\n",
            "['Продажа и сервис авто' 11]\n",
            "['Unemployed' 11]\n",
            "['индустрия развлечения' 12]\n",
            "['балет' 12]\n",
            "['аренда недвижимости' 12]\n",
            "['ж/д транспорт' 12]\n",
            "['дизайн-полиграфия' 12]\n",
            "['девелопмент' 12]\n",
            "['интернет-агентство' 12]\n",
            "['аренда, консультации' 12]\n",
            "['гражд.авиация' 12]\n",
            "['бухгалтерское обслуживание' 12]\n",
            "['изыскательские работы' 12]\n",
            "['дистрибьютор' 12]\n",
            "['-' 12]\n",
            "['международная торговля' 12]\n",
            "['торговля, продажа автомобилей и сервис' 12]\n",
            "['торговля нефтепродуктами' 12]\n",
            "['торговля бытовой техникой' 12]\n",
            "['торговая организация' 12]\n",
            "['такси' 12]\n",
            "['табачная фабрика' 12]\n",
            "['сырьевая промышленность' 12]\n",
            "['строительство, IT, энергоснабжение' 12]\n",
            "['системы безопасности, инженерные системы' 12]\n",
            "['сетевое рекламное агентство' 12]\n",
            "['ресторан' 12]\n",
            "['радиостанция' 12]\n",
            "['производство сувениров' 12]\n",
            "['производство и продажа кондитерских изделий' 12]\n",
            "['производство и продажа звукового оборудования' 12]\n",
            "['проектирование, землеустройство' 12]\n",
            "['проектирование и электромонтаж' 12]\n",
            "['продажа строитель. техники' 12]\n",
            "['перекачка нефти' 12]\n",
            "['оптовая торговля сантехническим оборудованием' 12]\n",
            "['опт.торговля' 12]\n",
            "['косалтинг' 12]\n",
            "['продажа металла' 12]\n",
            "['Теплоэнергия' 12]\n",
            "['Фармацевтика (производство)' 12]\n",
            "['Питание' 12]\n",
            "['Общетсвенное питание' 12]\n",
            "['Некоммерческое партнерство' 12]\n",
            "['Нанотехнологии' 12]\n",
            "['Музеи, искусства' 12]\n",
            "['Мобильная связь' 12]\n",
            "['Медицинская' 12]\n",
            "['Дизайн и реклама' 12]\n",
            "['Поставка и монтаж электрооборудования' 12]\n",
            "['Вывоз мусора' 12]\n",
            "['Берингер' 12]\n",
            "['Атомная энергетика' 12]\n",
            "['Агентская деятельность' 12]\n",
            "['Автомойка' 12]\n",
            "['Автоматизация промышленных предприятий' 12]\n",
            "['Авиасервис' 12]\n",
            "['АЗС' 12]\n",
            "['spassoff@mail.ru' 12]\n",
            "['Ветеринарная деятельность' 12]\n",
            "['Поставка строительного оборудования' 12]\n",
            "['Оптовая торговля черными и цвет.металлами' 12]\n",
            "['Производство, строй конструкция' 12]\n",
            "['Услуги охраны' 12]\n",
            "['Торговля металлопродукцией' 12]\n",
            "['Торговля косметикой' 12]\n",
            "['услуги, торговля' 12]\n",
            "['Про-во и продажа дорожностроительн.техники' 12]\n",
            "['Строительство и ремонт' 12]\n",
            "['Сеть аптек' 12]\n",
            "['экология' 12]\n",
            "['Сдача в аренду (недвижимости, техники)' 12]\n",
            "['Сдача в аренду' 12]\n",
            "['деревообработка' 20]\n",
            "['Системы безопасности' 20]\n",
            "['PR, МАРКЕТИНГ, СМИ' 26]\n",
            "['НАУКА, ОБРАЗОВАНИЕ' 30]\n",
            "['ФИНАНСЫ, УПРАВЛЯЮЩИЕ КОМПАНИИ, БАНКИ' 31]\n",
            "Удалено 117 отраслей.\n",
            "Осталось: 17 отраслей.\n"
          ],
          "name": "stdout"
        }
      ]
    },
    {
      "cell_type": "code",
      "metadata": {
        "id": "HZzoCuhcknkP",
        "colab_type": "code",
        "colab": {}
      },
      "source": [
        "# Все должности и количество людей, которые их занимают\n",
        "def find_all_work_levels(dataset):\n",
        "  return dataset.loc[:,['cif_id', 'cu_empl_level']]\\\n",
        "                      .groupby('cu_empl_level',\n",
        "                              as_index=False).count().sort_values('cif_id')\n",
        "# work_levels.cu_empl_level.unique()"
      ],
      "execution_count": 0,
      "outputs": []
    },
    {
      "cell_type": "code",
      "metadata": {
        "id": "uSN5Oub4kb7H",
        "colab_type": "code",
        "outputId": "b3791482-dda5-468a-b760-4020cb333d22",
        "colab": {
          "base_uri": "https://localhost:8080/",
          "height": 260
        }
      },
      "source": [
        "# Заменим все малочисленные направления работы и NaN'ы в графе отрасли на\n",
        "# значение = 'Qualified staff'\n",
        "def fill_replace_work_levels(dataset):\n",
        "  work_levels = find_all_work_levels(dataset)\n",
        "  default_empl_level = work_levels.sort_values('cif_id').iloc[-1,0]\n",
        "  # Пороговое значение для отнесения профессии к категории Другое 36 месяцев\n",
        "  empl_lvl_threshold = 36 # Нерепрезентивная выборка\n",
        "  print('Удаленные направления:')\n",
        "  sum_1 = dataset['cu_empl_level'].nunique()\n",
        "  for area in work_levels.values:\n",
        "    if area[1] < empl_lvl_threshold:\n",
        "      dataset['cu_empl_level'].mask(dataset['cu_empl_level'] == area[0],\n",
        "                                  default_empl_level, inplace=True)\n",
        "      print(area)\n",
        "  sum_2 = dataset['cu_empl_level'].nunique()\n",
        "  print(f'Удалено {sum_1 - sum_2} профессий.')\n",
        "  # Замена нанов\n",
        "  dataset['cu_empl_level'].fillna(default_empl_level, inplace=True)\n",
        "  print(f'Осталось: {sum_2} профессий')\n",
        "fill_replace_work_levels(dataset)"
      ],
      "execution_count": 258,
      "outputs": [
        {
          "output_type": "stream",
          "text": [
            "Удаленные направления:\n",
            "['Qualifie d staff' 1]\n",
            "['U' 1]\n",
            "['менеджер' 2]\n",
            "['Директор' 3]\n",
            "['ассистент' 7]\n",
            "['Other - учащаяся' 7]\n",
            "['пРОДАВЕЦ-КОНСУЛЬТАНТ' 10]\n",
            "['начальник отдела' 12]\n",
            "['начальник отдела продаж' 12]\n",
            "['АО ТПК' 12]\n",
            "['-' 24]\n",
            "Удалено 11 профессий.\n",
            "Осталось: 18 профессий\n"
          ],
          "name": "stdout"
        }
      ]
    },
    {
      "cell_type": "markdown",
      "metadata": {
        "id": "GXRxqRyDaKXl",
        "colab_type": "text"
      },
      "source": [
        "Просмотрим теперь все столбцы на наличие нанов"
      ]
    },
    {
      "cell_type": "code",
      "metadata": {
        "id": "nR46bIRwaJvV",
        "colab_type": "code",
        "colab": {}
      },
      "source": [
        "def search_nan(dataset):\n",
        "  k = 0\n",
        "  for column in dataset:\n",
        "    nans = dataset[column].isna().sum()\n",
        "    if nans:\n",
        "      print(f\"В столбце {column} - {nans} пропущенных значений!\")\n",
        "      k += 1\n",
        "  if not k:\n",
        "    print(\"Роскошно, нанов нет!\")\n",
        "    return 0\n",
        "  else:\n",
        "    print(f\"Разуй глаза, у тебя {k} параметра(ов) с нанами!\")\n",
        "    return k"
      ],
      "execution_count": 0,
      "outputs": []
    },
    {
      "cell_type": "code",
      "metadata": {
        "id": "i_JlDrgnbLGy",
        "colab_type": "code",
        "outputId": "c5a00fd4-a215-4a0a-9574-7e02a9135c34",
        "colab": {
          "base_uri": "https://localhost:8080/",
          "height": 52
        }
      },
      "source": [
        "search_nan(dataset)"
      ],
      "execution_count": 260,
      "outputs": [
        {
          "output_type": "stream",
          "text": [
            "Роскошно, нанов нет!\n"
          ],
          "name": "stdout"
        },
        {
          "output_type": "execute_result",
          "data": {
            "text/plain": [
              "0"
            ]
          },
          "metadata": {
            "tags": []
          },
          "execution_count": 260
        }
      ]
    },
    {
      "cell_type": "markdown",
      "metadata": {
        "id": "yitHzGLqYOeg",
        "colab_type": "text"
      },
      "source": [
        "### Просмотр датасета"
      ]
    },
    {
      "cell_type": "code",
      "metadata": {
        "id": "pUfEbBha4WIq",
        "colab_type": "code",
        "colab": {}
      },
      "source": [
        "# test_data = pd.read_csv(\"drive/My Drive/hack/changelenge/CUP_IT_test_data.csv\", comment='#', sep=';')"
      ],
      "execution_count": 0,
      "outputs": []
    },
    {
      "cell_type": "code",
      "metadata": {
        "id": "4H_Ek_0rz5S6",
        "colab_type": "code",
        "outputId": "cc4fdf56-9dfd-4f7c-b5bd-0767e00f22a5",
        "colab": {
          "base_uri": "https://localhost:8080/",
          "height": 0
        }
      },
      "source": [
        "# Мое дерьмо\n",
        "def restart_dataset_light():\n",
        "  global dataset_light\n",
        "  dataset_light = dataset.loc[:, ['cif_id', 'gi_smooth_3m', 'dlk_cob_date']]\n",
        "restart_dataset_light()\n",
        "dataset_light.head(5)"
      ],
      "execution_count": 262,
      "outputs": [
        {
          "output_type": "execute_result",
          "data": {
            "text/html": [
              "<div>\n",
              "<style scoped>\n",
              "    .dataframe tbody tr th:only-of-type {\n",
              "        vertical-align: middle;\n",
              "    }\n",
              "\n",
              "    .dataframe tbody tr th {\n",
              "        vertical-align: top;\n",
              "    }\n",
              "\n",
              "    .dataframe thead th {\n",
              "        text-align: right;\n",
              "    }\n",
              "</style>\n",
              "<table border=\"1\" class=\"dataframe\">\n",
              "  <thead>\n",
              "    <tr style=\"text-align: right;\">\n",
              "      <th></th>\n",
              "      <th>cif_id</th>\n",
              "      <th>gi_smooth_3m</th>\n",
              "      <th>dlk_cob_date</th>\n",
              "    </tr>\n",
              "  </thead>\n",
              "  <tbody>\n",
              "    <tr>\n",
              "      <th>1342694</th>\n",
              "      <td>1001</td>\n",
              "      <td>70.994186</td>\n",
              "      <td>2018-01-31</td>\n",
              "    </tr>\n",
              "    <tr>\n",
              "      <th>1342693</th>\n",
              "      <td>1001</td>\n",
              "      <td>-6.005108</td>\n",
              "      <td>2018-02-28</td>\n",
              "    </tr>\n",
              "    <tr>\n",
              "      <th>1342691</th>\n",
              "      <td>1001</td>\n",
              "      <td>114.989605</td>\n",
              "      <td>2018-03-31</td>\n",
              "    </tr>\n",
              "    <tr>\n",
              "      <th>1342690</th>\n",
              "      <td>1001</td>\n",
              "      <td>147.408528</td>\n",
              "      <td>2018-04-30</td>\n",
              "    </tr>\n",
              "    <tr>\n",
              "      <th>1342692</th>\n",
              "      <td>1001</td>\n",
              "      <td>185.987934</td>\n",
              "      <td>2018-05-31</td>\n",
              "    </tr>\n",
              "  </tbody>\n",
              "</table>\n",
              "</div>"
            ],
            "text/plain": [
              "         cif_id  gi_smooth_3m dlk_cob_date\n",
              "1342694    1001     70.994186   2018-01-31\n",
              "1342693    1001     -6.005108   2018-02-28\n",
              "1342691    1001    114.989605   2018-03-31\n",
              "1342690    1001    147.408528   2018-04-30\n",
              "1342692    1001    185.987934   2018-05-31"
            ]
          },
          "metadata": {
            "tags": []
          },
          "execution_count": 262
        }
      ]
    },
    {
      "cell_type": "code",
      "metadata": {
        "id": "5UUmKN_Q1QkB",
        "colab_type": "code",
        "colab": {}
      },
      "source": [
        "work_areas = dataset.cu_empl_area.unique()"
      ],
      "execution_count": 0,
      "outputs": []
    },
    {
      "cell_type": "code",
      "metadata": {
        "id": "QXXu2dv77r7Y",
        "colab_type": "code",
        "outputId": "a858bb34-84f8-4821-e287-985c5c2846c8",
        "colab": {
          "base_uri": "https://localhost:8080/",
          "height": 0
        }
      },
      "source": [
        "dataset.describe()"
      ],
      "execution_count": 264,
      "outputs": [
        {
          "output_type": "execute_result",
          "data": {
            "text/html": [
              "<div>\n",
              "<style scoped>\n",
              "    .dataframe tbody tr th:only-of-type {\n",
              "        vertical-align: middle;\n",
              "    }\n",
              "\n",
              "    .dataframe tbody tr th {\n",
              "        vertical-align: top;\n",
              "    }\n",
              "\n",
              "    .dataframe thead th {\n",
              "        text-align: right;\n",
              "    }\n",
              "</style>\n",
              "<table border=\"1\" class=\"dataframe\">\n",
              "  <thead>\n",
              "    <tr style=\"text-align: right;\">\n",
              "      <th></th>\n",
              "      <th>cif_id</th>\n",
              "      <th>gi_smooth_3m</th>\n",
              "      <th>cu_gender</th>\n",
              "      <th>payroll_f</th>\n",
              "      <th>cur_quantity_pl</th>\n",
              "      <th>cur_quantity_mort</th>\n",
              "      <th>cur_quantity_cc</th>\n",
              "      <th>cur_quantity_deposits</th>\n",
              "      <th>cur_quantity_dc</th>\n",
              "      <th>cur_quantity_accounts</th>\n",
              "      <th>cur_quantity_saccounts</th>\n",
              "      <th>cur_quantity_mf</th>\n",
              "      <th>cc_balance</th>\n",
              "      <th>cl_balance</th>\n",
              "      <th>ml_balance</th>\n",
              "      <th>pl_balance</th>\n",
              "      <th>td_volume</th>\n",
              "      <th>ca_volume</th>\n",
              "      <th>sa_volume</th>\n",
              "      <th>mf_volume</th>\n",
              "      <th>dc_cash_spend_v</th>\n",
              "      <th>dc_cash_spend_c</th>\n",
              "      <th>cc_cash_spend_v</th>\n",
              "      <th>cc_cash_spend_c</th>\n",
              "      <th>dc_pos_spend_v</th>\n",
              "      <th>dc_pos_spend_c</th>\n",
              "      <th>cc_pos_spend_v</th>\n",
              "      <th>cc_pos_spend_c</th>\n",
              "      <th>ca_f</th>\n",
              "      <th>rc_session_qnt_cur_mon</th>\n",
              "      <th>cur_qnt_sms</th>\n",
              "      <th>active</th>\n",
              "      <th>standalone_dc_f</th>\n",
              "      <th>standalone_payroll_dc_f</th>\n",
              "      <th>standalone_nonpayroll_dc_f</th>\n",
              "      <th>salary</th>\n",
              "      <th>cu_age</th>\n",
              "      <th>cu_mob</th>\n",
              "      <th>cu_empl_cur_dur_m</th>\n",
              "      <th>is_married</th>\n",
              "      <th>cu_eduaction_level</th>\n",
              "    </tr>\n",
              "  </thead>\n",
              "  <tbody>\n",
              "    <tr>\n",
              "      <th>count</th>\n",
              "      <td>4.161783e+06</td>\n",
              "      <td>4.161783e+06</td>\n",
              "      <td>4.161783e+06</td>\n",
              "      <td>4.161783e+06</td>\n",
              "      <td>4.161783e+06</td>\n",
              "      <td>4.161783e+06</td>\n",
              "      <td>4.161783e+06</td>\n",
              "      <td>4.161783e+06</td>\n",
              "      <td>4.161783e+06</td>\n",
              "      <td>4.161783e+06</td>\n",
              "      <td>4.161783e+06</td>\n",
              "      <td>4.161783e+06</td>\n",
              "      <td>4.161783e+06</td>\n",
              "      <td>4.161783e+06</td>\n",
              "      <td>4.161783e+06</td>\n",
              "      <td>4.161783e+06</td>\n",
              "      <td>4.161783e+06</td>\n",
              "      <td>4.161783e+06</td>\n",
              "      <td>4.161783e+06</td>\n",
              "      <td>4.161783e+06</td>\n",
              "      <td>4.161783e+06</td>\n",
              "      <td>4.161783e+06</td>\n",
              "      <td>4.161783e+06</td>\n",
              "      <td>4.161783e+06</td>\n",
              "      <td>4.161783e+06</td>\n",
              "      <td>4.161783e+06</td>\n",
              "      <td>4.161783e+06</td>\n",
              "      <td>4.161783e+06</td>\n",
              "      <td>4.161783e+06</td>\n",
              "      <td>4.161783e+06</td>\n",
              "      <td>4.161783e+06</td>\n",
              "      <td>4.161783e+06</td>\n",
              "      <td>4.161783e+06</td>\n",
              "      <td>4.161783e+06</td>\n",
              "      <td>4.161783e+06</td>\n",
              "      <td>4.161783e+06</td>\n",
              "      <td>4.161783e+06</td>\n",
              "      <td>4.161783e+06</td>\n",
              "      <td>4.161783e+06</td>\n",
              "      <td>4.161783e+06</td>\n",
              "      <td>4.161783e+06</td>\n",
              "    </tr>\n",
              "    <tr>\n",
              "      <th>mean</th>\n",
              "      <td>2.561075e+05</td>\n",
              "      <td>4.017062e+01</td>\n",
              "      <td>5.401891e-01</td>\n",
              "      <td>2.629013e-01</td>\n",
              "      <td>5.006443e-01</td>\n",
              "      <td>4.335161e-02</td>\n",
              "      <td>7.480239e-01</td>\n",
              "      <td>3.827206e-03</td>\n",
              "      <td>8.437559e-01</td>\n",
              "      <td>1.303357e+00</td>\n",
              "      <td>8.238296e-02</td>\n",
              "      <td>3.780351e-03</td>\n",
              "      <td>-4.005089e+02</td>\n",
              "      <td>-5.996150e+01</td>\n",
              "      <td>-1.631087e+03</td>\n",
              "      <td>-3.330171e+03</td>\n",
              "      <td>2.967350e+01</td>\n",
              "      <td>3.252812e+02</td>\n",
              "      <td>6.879363e+01</td>\n",
              "      <td>6.641454e+00</td>\n",
              "      <td>2.750245e+02</td>\n",
              "      <td>1.077176e+00</td>\n",
              "      <td>1.440580e+01</td>\n",
              "      <td>7.544891e-02</td>\n",
              "      <td>1.406890e+02</td>\n",
              "      <td>7.691187e+00</td>\n",
              "      <td>8.317771e+01</td>\n",
              "      <td>2.867909e+00</td>\n",
              "      <td>9.747032e-01</td>\n",
              "      <td>4.812689e+00</td>\n",
              "      <td>6.187925e-01</td>\n",
              "      <td>9.299317e-01</td>\n",
              "      <td>4.750651e-01</td>\n",
              "      <td>6.241484e-02</td>\n",
              "      <td>4.126503e-01</td>\n",
              "      <td>1.311355e+03</td>\n",
              "      <td>3.999307e+01</td>\n",
              "      <td>8.443463e+01</td>\n",
              "      <td>9.698892e+01</td>\n",
              "      <td>6.319267e-01</td>\n",
              "      <td>2.749776e+00</td>\n",
              "    </tr>\n",
              "    <tr>\n",
              "      <th>std</th>\n",
              "      <td>1.473086e+05</td>\n",
              "      <td>5.402052e+01</td>\n",
              "      <td>4.983823e-01</td>\n",
              "      <td>4.402093e-01</td>\n",
              "      <td>5.919211e-01</td>\n",
              "      <td>2.044246e-01</td>\n",
              "      <td>9.918981e-01</td>\n",
              "      <td>6.569771e-02</td>\n",
              "      <td>5.793352e-01</td>\n",
              "      <td>6.978141e-01</td>\n",
              "      <td>3.310817e-01</td>\n",
              "      <td>8.327314e-02</td>\n",
              "      <td>1.127062e+03</td>\n",
              "      <td>5.274844e+02</td>\n",
              "      <td>9.517451e+03</td>\n",
              "      <td>5.984795e+03</td>\n",
              "      <td>1.382057e+03</td>\n",
              "      <td>1.537483e+03</td>\n",
              "      <td>9.284936e+02</td>\n",
              "      <td>1.836912e+02</td>\n",
              "      <td>1.113230e+03</td>\n",
              "      <td>2.304361e+00</td>\n",
              "      <td>1.419917e+02</td>\n",
              "      <td>5.081492e-01</td>\n",
              "      <td>4.294125e+02</td>\n",
              "      <td>1.746881e+01</td>\n",
              "      <td>3.525784e+02</td>\n",
              "      <td>1.048502e+01</td>\n",
              "      <td>1.570252e-01</td>\n",
              "      <td>1.389500e+01</td>\n",
              "      <td>6.737776e-01</td>\n",
              "      <td>2.552621e-01</td>\n",
              "      <td>4.993779e-01</td>\n",
              "      <td>2.419075e-01</td>\n",
              "      <td>4.923110e-01</td>\n",
              "      <td>1.084482e+03</td>\n",
              "      <td>9.435202e+00</td>\n",
              "      <td>5.128387e+01</td>\n",
              "      <td>7.352383e+01</td>\n",
              "      <td>4.822814e-01</td>\n",
              "      <td>7.149400e-01</td>\n",
              "    </tr>\n",
              "    <tr>\n",
              "      <th>min</th>\n",
              "      <td>1.001000e+03</td>\n",
              "      <td>-1.199554e+02</td>\n",
              "      <td>0.000000e+00</td>\n",
              "      <td>0.000000e+00</td>\n",
              "      <td>0.000000e+00</td>\n",
              "      <td>0.000000e+00</td>\n",
              "      <td>0.000000e+00</td>\n",
              "      <td>0.000000e+00</td>\n",
              "      <td>0.000000e+00</td>\n",
              "      <td>0.000000e+00</td>\n",
              "      <td>0.000000e+00</td>\n",
              "      <td>0.000000e+00</td>\n",
              "      <td>-2.431041e+04</td>\n",
              "      <td>-2.578268e+04</td>\n",
              "      <td>-1.298236e+06</td>\n",
              "      <td>-7.538658e+04</td>\n",
              "      <td>0.000000e+00</td>\n",
              "      <td>-7.092194e+03</td>\n",
              "      <td>-5.575680e+00</td>\n",
              "      <td>0.000000e+00</td>\n",
              "      <td>0.000000e+00</td>\n",
              "      <td>0.000000e+00</td>\n",
              "      <td>0.000000e+00</td>\n",
              "      <td>0.000000e+00</td>\n",
              "      <td>0.000000e+00</td>\n",
              "      <td>0.000000e+00</td>\n",
              "      <td>0.000000e+00</td>\n",
              "      <td>0.000000e+00</td>\n",
              "      <td>0.000000e+00</td>\n",
              "      <td>0.000000e+00</td>\n",
              "      <td>0.000000e+00</td>\n",
              "      <td>0.000000e+00</td>\n",
              "      <td>0.000000e+00</td>\n",
              "      <td>0.000000e+00</td>\n",
              "      <td>0.000000e+00</td>\n",
              "      <td>-2.400000e+00</td>\n",
              "      <td>1.600000e+01</td>\n",
              "      <td>1.200000e+01</td>\n",
              "      <td>0.000000e+00</td>\n",
              "      <td>0.000000e+00</td>\n",
              "      <td>1.000000e+00</td>\n",
              "    </tr>\n",
              "    <tr>\n",
              "      <th>25%</th>\n",
              "      <td>1.285530e+05</td>\n",
              "      <td>4.179842e+00</td>\n",
              "      <td>0.000000e+00</td>\n",
              "      <td>0.000000e+00</td>\n",
              "      <td>0.000000e+00</td>\n",
              "      <td>0.000000e+00</td>\n",
              "      <td>0.000000e+00</td>\n",
              "      <td>0.000000e+00</td>\n",
              "      <td>1.000000e+00</td>\n",
              "      <td>1.000000e+00</td>\n",
              "      <td>0.000000e+00</td>\n",
              "      <td>0.000000e+00</td>\n",
              "      <td>0.000000e+00</td>\n",
              "      <td>0.000000e+00</td>\n",
              "      <td>0.000000e+00</td>\n",
              "      <td>-4.766939e+03</td>\n",
              "      <td>0.000000e+00</td>\n",
              "      <td>4.224000e-01</td>\n",
              "      <td>0.000000e+00</td>\n",
              "      <td>0.000000e+00</td>\n",
              "      <td>0.000000e+00</td>\n",
              "      <td>0.000000e+00</td>\n",
              "      <td>0.000000e+00</td>\n",
              "      <td>0.000000e+00</td>\n",
              "      <td>0.000000e+00</td>\n",
              "      <td>0.000000e+00</td>\n",
              "      <td>0.000000e+00</td>\n",
              "      <td>0.000000e+00</td>\n",
              "      <td>1.000000e+00</td>\n",
              "      <td>0.000000e+00</td>\n",
              "      <td>0.000000e+00</td>\n",
              "      <td>1.000000e+00</td>\n",
              "      <td>0.000000e+00</td>\n",
              "      <td>0.000000e+00</td>\n",
              "      <td>0.000000e+00</td>\n",
              "      <td>7.308000e+02</td>\n",
              "      <td>3.200000e+01</td>\n",
              "      <td>5.200000e+01</td>\n",
              "      <td>4.600000e+01</td>\n",
              "      <td>0.000000e+00</td>\n",
              "      <td>2.000000e+00</td>\n",
              "    </tr>\n",
              "    <tr>\n",
              "      <th>50%</th>\n",
              "      <td>2.559730e+05</td>\n",
              "      <td>2.197043e+01</td>\n",
              "      <td>1.000000e+00</td>\n",
              "      <td>0.000000e+00</td>\n",
              "      <td>0.000000e+00</td>\n",
              "      <td>0.000000e+00</td>\n",
              "      <td>0.000000e+00</td>\n",
              "      <td>0.000000e+00</td>\n",
              "      <td>1.000000e+00</td>\n",
              "      <td>1.000000e+00</td>\n",
              "      <td>0.000000e+00</td>\n",
              "      <td>0.000000e+00</td>\n",
              "      <td>0.000000e+00</td>\n",
              "      <td>0.000000e+00</td>\n",
              "      <td>0.000000e+00</td>\n",
              "      <td>0.000000e+00</td>\n",
              "      <td>0.000000e+00</td>\n",
              "      <td>9.389760e+00</td>\n",
              "      <td>0.000000e+00</td>\n",
              "      <td>0.000000e+00</td>\n",
              "      <td>0.000000e+00</td>\n",
              "      <td>0.000000e+00</td>\n",
              "      <td>0.000000e+00</td>\n",
              "      <td>0.000000e+00</td>\n",
              "      <td>0.000000e+00</td>\n",
              "      <td>0.000000e+00</td>\n",
              "      <td>0.000000e+00</td>\n",
              "      <td>0.000000e+00</td>\n",
              "      <td>1.000000e+00</td>\n",
              "      <td>0.000000e+00</td>\n",
              "      <td>1.000000e+00</td>\n",
              "      <td>1.000000e+00</td>\n",
              "      <td>0.000000e+00</td>\n",
              "      <td>0.000000e+00</td>\n",
              "      <td>0.000000e+00</td>\n",
              "      <td>1.091502e+03</td>\n",
              "      <td>3.800000e+01</td>\n",
              "      <td>7.300000e+01</td>\n",
              "      <td>7.900000e+01</td>\n",
              "      <td>1.000000e+00</td>\n",
              "      <td>3.000000e+00</td>\n",
              "    </tr>\n",
              "    <tr>\n",
              "      <th>75%</th>\n",
              "      <td>3.837020e+05</td>\n",
              "      <td>5.714864e+01</td>\n",
              "      <td>1.000000e+00</td>\n",
              "      <td>1.000000e+00</td>\n",
              "      <td>1.000000e+00</td>\n",
              "      <td>0.000000e+00</td>\n",
              "      <td>2.000000e+00</td>\n",
              "      <td>0.000000e+00</td>\n",
              "      <td>1.000000e+00</td>\n",
              "      <td>1.000000e+00</td>\n",
              "      <td>0.000000e+00</td>\n",
              "      <td>0.000000e+00</td>\n",
              "      <td>0.000000e+00</td>\n",
              "      <td>0.000000e+00</td>\n",
              "      <td>0.000000e+00</td>\n",
              "      <td>0.000000e+00</td>\n",
              "      <td>0.000000e+00</td>\n",
              "      <td>1.487406e+02</td>\n",
              "      <td>0.000000e+00</td>\n",
              "      <td>0.000000e+00</td>\n",
              "      <td>1.128000e+02</td>\n",
              "      <td>1.000000e+00</td>\n",
              "      <td>0.000000e+00</td>\n",
              "      <td>0.000000e+00</td>\n",
              "      <td>6.668364e+01</td>\n",
              "      <td>5.000000e+00</td>\n",
              "      <td>0.000000e+00</td>\n",
              "      <td>0.000000e+00</td>\n",
              "      <td>1.000000e+00</td>\n",
              "      <td>5.000000e+00</td>\n",
              "      <td>1.000000e+00</td>\n",
              "      <td>1.000000e+00</td>\n",
              "      <td>1.000000e+00</td>\n",
              "      <td>0.000000e+00</td>\n",
              "      <td>1.000000e+00</td>\n",
              "      <td>1.680000e+03</td>\n",
              "      <td>4.700000e+01</td>\n",
              "      <td>1.170000e+02</td>\n",
              "      <td>1.280000e+02</td>\n",
              "      <td>1.000000e+00</td>\n",
              "      <td>3.000000e+00</td>\n",
              "    </tr>\n",
              "    <tr>\n",
              "      <th>max</th>\n",
              "      <td>5.115370e+05</td>\n",
              "      <td>4.723268e+03</td>\n",
              "      <td>1.000000e+00</td>\n",
              "      <td>1.000000e+00</td>\n",
              "      <td>6.000000e+00</td>\n",
              "      <td>3.000000e+00</td>\n",
              "      <td>1.000000e+01</td>\n",
              "      <td>5.000000e+00</td>\n",
              "      <td>1.000000e+01</td>\n",
              "      <td>1.100000e+01</td>\n",
              "      <td>2.500000e+01</td>\n",
              "      <td>1.000000e+01</td>\n",
              "      <td>2.115521e+04</td>\n",
              "      <td>0.000000e+00</td>\n",
              "      <td>0.000000e+00</td>\n",
              "      <td>0.000000e+00</td>\n",
              "      <td>4.137120e+05</td>\n",
              "      <td>4.539960e+05</td>\n",
              "      <td>2.590471e+05</td>\n",
              "      <td>6.036735e+04</td>\n",
              "      <td>3.566688e+05</td>\n",
              "      <td>1.580000e+02</td>\n",
              "      <td>1.440000e+04</td>\n",
              "      <td>4.600000e+01</td>\n",
              "      <td>7.033679e+04</td>\n",
              "      <td>2.712000e+03</td>\n",
              "      <td>1.469828e+05</td>\n",
              "      <td>2.910000e+02</td>\n",
              "      <td>1.000000e+00</td>\n",
              "      <td>2.241000e+03</td>\n",
              "      <td>7.000000e+00</td>\n",
              "      <td>1.000000e+00</td>\n",
              "      <td>1.000000e+00</td>\n",
              "      <td>1.000000e+00</td>\n",
              "      <td>1.000000e+00</td>\n",
              "      <td>2.860200e+05</td>\n",
              "      <td>9.000000e+01</td>\n",
              "      <td>1.428000e+03</td>\n",
              "      <td>7.570000e+02</td>\n",
              "      <td>1.000000e+00</td>\n",
              "      <td>4.000000e+00</td>\n",
              "    </tr>\n",
              "  </tbody>\n",
              "</table>\n",
              "</div>"
            ],
            "text/plain": [
              "             cif_id  gi_smooth_3m  ...    is_married  cu_eduaction_level\n",
              "count  4.161783e+06  4.161783e+06  ...  4.161783e+06        4.161783e+06\n",
              "mean   2.561075e+05  4.017062e+01  ...  6.319267e-01        2.749776e+00\n",
              "std    1.473086e+05  5.402052e+01  ...  4.822814e-01        7.149400e-01\n",
              "min    1.001000e+03 -1.199554e+02  ...  0.000000e+00        1.000000e+00\n",
              "25%    1.285530e+05  4.179842e+00  ...  0.000000e+00        2.000000e+00\n",
              "50%    2.559730e+05  2.197043e+01  ...  1.000000e+00        3.000000e+00\n",
              "75%    3.837020e+05  5.714864e+01  ...  1.000000e+00        3.000000e+00\n",
              "max    5.115370e+05  4.723268e+03  ...  1.000000e+00        4.000000e+00\n",
              "\n",
              "[8 rows x 41 columns]"
            ]
          },
          "metadata": {
            "tags": []
          },
          "execution_count": 264
        }
      ]
    },
    {
      "cell_type": "code",
      "metadata": {
        "id": "LAmQGmfL153J",
        "colab_type": "code",
        "outputId": "e9b6d5c2-07e1-4753-8531-7b1609d37bda",
        "colab": {
          "base_uri": "https://localhost:8080/",
          "height": 0
        }
      },
      "source": [
        "work_areas"
      ],
      "execution_count": 265,
      "outputs": [
        {
          "output_type": "execute_result",
          "data": {
            "text/plain": [
              "array(['Строительство, недвижимость', 'ДРУГОЕ',\n",
              "       'ПРОИЗВОДСТВО, ДОБЫВАЮЩАЯ ПРОМЫШЛЕННОСТЬ',\n",
              "       'ИНФОРМАЦИОННЫЕ ТЕХНОЛОГИИ', 'ТОРГОВЛЯ', 'ЗДРАВООХРАНЕНИЕ',\n",
              "       'Туризм, развлечения, ресторанный бизнес',\n",
              "       'Финансы, управляющие компании, банки', 'ТРАНСПОРТ, ЛОГИСТИКА',\n",
              "       'ЮРИДИЧЕСКИЕ УСЛУГИ', 'PR, маркетинг, СМИ', 'Наука, образование',\n",
              "       'СТРАХОВАНИЕ', 'Государственная служба',\n",
              "       'ТУРИЗМ, РАЗВЛЕЧЕНИЯ, РЕСТОРАННЫЙ БИЗНЕС', 'Подбор персонала',\n",
              "       'СТРОИТЕЛЬСТВО, НЕДВИЖИМОСТЬ'], dtype=object)"
            ]
          },
          "metadata": {
            "tags": []
          },
          "execution_count": 265
        }
      ]
    },
    {
      "cell_type": "code",
      "metadata": {
        "id": "0TUvzWIU2qhr",
        "colab_type": "code",
        "outputId": "b04035b0-61b2-4238-941b-9e48094d6fe9",
        "colab": {
          "base_uri": "https://localhost:8080/",
          "height": 0
        }
      },
      "source": [
        "dataset_light.sample(5)"
      ],
      "execution_count": 266,
      "outputs": [
        {
          "output_type": "execute_result",
          "data": {
            "text/html": [
              "<div>\n",
              "<style scoped>\n",
              "    .dataframe tbody tr th:only-of-type {\n",
              "        vertical-align: middle;\n",
              "    }\n",
              "\n",
              "    .dataframe tbody tr th {\n",
              "        vertical-align: top;\n",
              "    }\n",
              "\n",
              "    .dataframe thead th {\n",
              "        text-align: right;\n",
              "    }\n",
              "</style>\n",
              "<table border=\"1\" class=\"dataframe\">\n",
              "  <thead>\n",
              "    <tr style=\"text-align: right;\">\n",
              "      <th></th>\n",
              "      <th>cif_id</th>\n",
              "      <th>gi_smooth_3m</th>\n",
              "      <th>dlk_cob_date</th>\n",
              "    </tr>\n",
              "  </thead>\n",
              "  <tbody>\n",
              "    <tr>\n",
              "      <th>270714</th>\n",
              "      <td>294043</td>\n",
              "      <td>41.562508</td>\n",
              "      <td>2018-11-30</td>\n",
              "    </tr>\n",
              "    <tr>\n",
              "      <th>558964</th>\n",
              "      <td>448099</td>\n",
              "      <td>0.160538</td>\n",
              "      <td>2018-05-31</td>\n",
              "    </tr>\n",
              "    <tr>\n",
              "      <th>2248721</th>\n",
              "      <td>433730</td>\n",
              "      <td>-1.947522</td>\n",
              "      <td>2018-09-30</td>\n",
              "    </tr>\n",
              "    <tr>\n",
              "      <th>424701</th>\n",
              "      <td>258281</td>\n",
              "      <td>-0.018306</td>\n",
              "      <td>2018-09-30</td>\n",
              "    </tr>\n",
              "    <tr>\n",
              "      <th>2081372</th>\n",
              "      <td>370907</td>\n",
              "      <td>14.576080</td>\n",
              "      <td>2018-10-31</td>\n",
              "    </tr>\n",
              "  </tbody>\n",
              "</table>\n",
              "</div>"
            ],
            "text/plain": [
              "         cif_id  gi_smooth_3m dlk_cob_date\n",
              "270714   294043     41.562508   2018-11-30\n",
              "558964   448099      0.160538   2018-05-31\n",
              "2248721  433730     -1.947522   2018-09-30\n",
              "424701   258281     -0.018306   2018-09-30\n",
              "2081372  370907     14.576080   2018-10-31"
            ]
          },
          "metadata": {
            "tags": []
          },
          "execution_count": 266
        }
      ]
    },
    {
      "cell_type": "code",
      "metadata": {
        "id": "e668oyc24cn5",
        "colab_type": "code",
        "outputId": "8c86360a-9fa7-432d-faab-30956db8dfc6",
        "colab": {
          "base_uri": "https://localhost:8080/",
          "height": 0
        }
      },
      "source": [
        "dataset.dtypes"
      ],
      "execution_count": 267,
      "outputs": [
        {
          "output_type": "execute_result",
          "data": {
            "text/plain": [
              "cif_id                                 int64\n",
              "dlk_cob_date                  datetime64[ns]\n",
              "gi_smooth_3m                         float64\n",
              "big_city                              object\n",
              "cu_gender                              int64\n",
              "cu_education_level                    object\n",
              "cu_empl_area                          object\n",
              "cu_empl_level                         object\n",
              "payroll_f                              int64\n",
              "cur_quantity_pl                        int64\n",
              "cur_quantity_mort                      int64\n",
              "cur_quantity_cc                        int64\n",
              "cur_quantity_deposits                  int64\n",
              "cur_quantity_dc                        int64\n",
              "cur_quantity_accounts                  int64\n",
              "cur_quantity_saccounts                 int64\n",
              "cur_quantity_mf                        int64\n",
              "cc_balance                           float64\n",
              "cl_balance                           float64\n",
              "ml_balance                           float64\n",
              "pl_balance                           float64\n",
              "td_volume                            float64\n",
              "ca_volume                            float64\n",
              "sa_volume                            float64\n",
              "mf_volume                            float64\n",
              "dc_cash_spend_v                      float64\n",
              "dc_cash_spend_c                        int64\n",
              "cc_cash_spend_v                      float64\n",
              "cc_cash_spend_c                        int64\n",
              "dc_pos_spend_v                       float64\n",
              "dc_pos_spend_c                         int64\n",
              "cc_pos_spend_v                       float64\n",
              "cc_pos_spend_c                         int64\n",
              "ca_f                                   int64\n",
              "rc_session_qnt_cur_mon                 int64\n",
              "cur_qnt_sms                          float64\n",
              "active                                 int64\n",
              "standalone_dc_f                        int64\n",
              "standalone_payroll_dc_f                int64\n",
              "standalone_nonpayroll_dc_f             int64\n",
              "salary                               float64\n",
              "cu_age                               float64\n",
              "cu_mob                                 int64\n",
              "cu_empl_cur_dur_m                    float64\n",
              "is_married                             int64\n",
              "cu_eduaction_level                     int64\n",
              "dtype: object"
            ]
          },
          "metadata": {
            "tags": []
          },
          "execution_count": 267
        }
      ]
    },
    {
      "cell_type": "code",
      "metadata": {
        "id": "t98s9pNd4dZQ",
        "colab_type": "code",
        "colab": {}
      },
      "source": [
        "# test_data.cu_eduaction_level.unique()"
      ],
      "execution_count": 0,
      "outputs": []
    },
    {
      "cell_type": "markdown",
      "metadata": {
        "id": "bHoC7gm_KXIA",
        "colab_type": "text"
      },
      "source": [
        "## Создание фичей и разбиение по категориям"
      ]
    },
    {
      "cell_type": "markdown",
      "metadata": {
        "id": "-KVVsi-XKrQt",
        "colab_type": "text"
      },
      "source": [
        "### Создание возрастных категорий\n",
        "\n"
      ]
    },
    {
      "cell_type": "markdown",
      "metadata": {
        "id": "Wa8KPi6LO9ck",
        "colab_type": "text"
      },
      "source": [
        "Для начала оценим какие возрастные группы превалируют в датасете, для чего посмотрим процентили"
      ]
    },
    {
      "cell_type": "code",
      "metadata": {
        "id": "Kv8vdhXcPdTC",
        "colab_type": "code",
        "outputId": "1db79520-4b83-4783-9993-d9434402db0c",
        "colab": {
          "base_uri": "https://localhost:8080/",
          "height": 191
        }
      },
      "source": [
        "dataset.cu_age.quantile([0.1 * i for i in range(1, 10)])"
      ],
      "execution_count": 269,
      "outputs": [
        {
          "output_type": "execute_result",
          "data": {
            "text/plain": [
              "0.1    29.0\n",
              "0.2    31.0\n",
              "0.3    33.0\n",
              "0.4    36.0\n",
              "0.5    38.0\n",
              "0.6    41.0\n",
              "0.7    45.0\n",
              "0.8    49.0\n",
              "0.9    54.0\n",
              "Name: cu_age, dtype: float64"
            ]
          },
          "metadata": {
            "tags": []
          },
          "execution_count": 269
        }
      ]
    },
    {
      "cell_type": "markdown",
      "metadata": {
        "id": "JUbJM7nJJoe3",
        "colab_type": "text"
      },
      "source": [
        "Заменим отсутствующие значения на медианное"
      ]
    },
    {
      "cell_type": "code",
      "metadata": {
        "id": "N6JG4aohJo4L",
        "colab_type": "code",
        "colab": {}
      },
      "source": [
        "# dataset.cu_age.mask(dataset['cu_age'] == -100, dataset.cu_age.median(), axis=0,\n",
        "#                     inplace=True)"
      ],
      "execution_count": 0,
      "outputs": []
    },
    {
      "cell_type": "code",
      "metadata": {
        "id": "Ej2roCgBJq73",
        "colab_type": "code",
        "outputId": "70e98508-7412-493d-8043-fdc81fe44d0a",
        "colab": {
          "base_uri": "https://localhost:8080/",
          "height": 121
        }
      },
      "source": [
        "# Проверка\n",
        "dataset['cu_age'].unique()"
      ],
      "execution_count": 271,
      "outputs": [
        {
          "output_type": "execute_result",
          "data": {
            "text/plain": [
              "array([56., 57., 48., 49., 52., 53., 54., 34., 35., 27., 28., 30., 31.,\n",
              "       26., 36., 37., 47., 33., 29., 44., 45., 32., 55., 50., 42., 43.,\n",
              "       25., 24., 40., 41., 46., 62., 58., 59., 60., 61., 38., 39., 51.,\n",
              "       63., 65., 64., 23., 22., 66., 20., 21., 67., 68., 69., 70., 71.,\n",
              "       73., 74., 72., 81., 82., 19., 75., 17., 76., 77., 16., 89., 90.,\n",
              "       18.])"
            ]
          },
          "metadata": {
            "tags": []
          },
          "execution_count": 271
        }
      ]
    },
    {
      "cell_type": "markdown",
      "metadata": {
        "id": "PjOtpgA3P2uK",
        "colab_type": "text"
      },
      "source": [
        "Из распределения видно что большинтсво пользователей банка это клиенты в возрасте от 30 до 45 лет, больше 50%"
      ]
    },
    {
      "cell_type": "code",
      "metadata": {
        "id": "ylCIF80095_m",
        "colab_type": "code",
        "outputId": "79e99a32-382c-41ac-bf21-0ab88548be65",
        "colab": {
          "base_uri": "https://localhost:8080/",
          "height": 536
        }
      },
      "source": [
        "# Построим график распределения возрастов\n",
        "plt.figure(figsize=(20, 8))\n",
        "ages = dataset.groupby('cu_age', as_index=False).agg({'cif_id': 'count'}).rename({'cif_id': 'count_clients'}, axis=1)\n",
        "sns.pointplot(ages['cu_age'], ages['count_clients'])"
      ],
      "execution_count": 272,
      "outputs": [
        {
          "output_type": "execute_result",
          "data": {
            "text/plain": [
              "<matplotlib.axes._subplots.AxesSubplot at 0x7f595d7cc438>"
            ]
          },
          "metadata": {
            "tags": []
          },
          "execution_count": 272
        },
        {
          "output_type": "display_data",
          "data": {
            "image/png": "[encoded data removed]",
            "text/plain": [
              "<Figure size 1440x576 with 1 Axes>"
            ]
          },
          "metadata": {
            "tags": []
          }
        }
      ]
    },
    {
      "cell_type": "markdown",
      "metadata": {
        "id": "nCQDlWcIPJ8c",
        "colab_type": "text"
      },
      "source": [
        "Разобьем выборку исходя из известных теперь данных на 3 группы:\n",
        "  - Молодые люди, выпускники, студенты 16 - 30 ~ 15-20%\n",
        "  - Основные клиенты, работающие с банком 31 - 45 ~ 50 %\n",
        "  - Люди за 45 46 - 63 ~ 20%\n",
        "  - Пенсионеры ~ 10%"
      ]
    },
    {
      "cell_type": "code",
      "metadata": {
        "id": "QD70goj0Oktc",
        "colab_type": "code",
        "colab": {}
      },
      "source": [
        "criteria = [ages.cu_age.between(16, 30),\n",
        "            ages.cu_age.between(31, 45),\n",
        "            ages.cu_age.between(46, 63),\n",
        "            ages.cu_age.between(64, 120)]\n",
        "values = [1, 2, 3, 4]"
      ],
      "execution_count": 0,
      "outputs": []
    },
    {
      "cell_type": "markdown",
      "metadata": {
        "id": "f528u5BJZYMR",
        "colab_type": "text"
      },
      "source": [
        "### Замена возраста на категории\n",
        "Напишем функцию для аггрегации данных по возрасту и создания категорий"
      ]
    },
    {
      "cell_type": "code",
      "metadata": {
        "id": "qbrCOJn3PBRa",
        "colab_type": "code",
        "colab": {}
      },
      "source": [
        "age_groups = {\n",
        "    1: range(16, 31),\n",
        "    2: range(31, 45),\n",
        "    3: range(45, 64),\n",
        "    4: range(64, 121)\n",
        "}\n",
        "def get_age_category(age):\n",
        "  for cat, gap in age_groups.items():\n",
        "    if age in gap:\n",
        "      return cat\n",
        "  return 2"
      ],
      "execution_count": 0,
      "outputs": []
    },
    {
      "cell_type": "code",
      "metadata": {
        "id": "ogfJlKi1959a",
        "colab_type": "code",
        "colab": {}
      },
      "source": [
        "# ages['groups'] = np.select(criteria, values, 2)"
      ],
      "execution_count": 0,
      "outputs": []
    },
    {
      "cell_type": "code",
      "metadata": {
        "id": "0tcGiTQeSJzr",
        "colab_type": "code",
        "colab": {}
      },
      "source": [
        "# ages.head(7)"
      ],
      "execution_count": 0,
      "outputs": []
    },
    {
      "cell_type": "code",
      "metadata": {
        "id": "PlQkqPhlfHpS",
        "colab_type": "code",
        "colab": {}
      },
      "source": [
        "del ages"
      ],
      "execution_count": 0,
      "outputs": []
    },
    {
      "cell_type": "markdown",
      "metadata": {
        "id": "yw95K92QWrcx",
        "colab_type": "text"
      },
      "source": [
        "## Создание датасета для обучения\n"
      ]
    },
    {
      "cell_type": "markdown",
      "metadata": {
        "id": "OxmGC18vXDtl",
        "colab_type": "text"
      },
      "source": [
        "Для начала создадим датасета с группировкой по клиентами аггрегацией по следующим признакам:\n",
        "  - средний и суммарный доходы\n",
        "  - количество месяцев в банке за 2018 год\n",
        "  - первый и последний месяцы 2018 года\n",
        "  - Уровень образования 0 - 4\n",
        "  - количество месяце в банке за все время"
      ]
    },
    {
      "cell_type": "code",
      "metadata": {
        "id": "P5Qa69i1MATJ",
        "colab_type": "code",
        "colab": {}
      },
      "source": [
        "# функция для аггрегации - берет последний параметр\n",
        "last = lambda x: x.iloc[-1]"
      ],
      "execution_count": 0,
      "outputs": []
    },
    {
      "cell_type": "code",
      "metadata": {
        "id": "7IYUhvKan01s",
        "colab_type": "code",
        "colab": {}
      },
      "source": [
        "# threshold for train and test split 7th month of 2018 year\n",
        "threshold = pd.to_datetime('2018-07-31T00:00:00.000000000')"
      ],
      "execution_count": 0,
      "outputs": []
    },
    {
      "cell_type": "code",
      "metadata": {
        "id": "k06u3rHshAxa",
        "colab_type": "code",
        "colab": {}
      },
      "source": [
        "dataset_train = dataset.query('dlk_cob_date < @threshold')"
      ],
      "execution_count": 0,
      "outputs": []
    },
    {
      "cell_type": "code",
      "metadata": {
        "id": "hGC-XCAwob6j",
        "colab_type": "code",
        "outputId": "8a228a57-c5d8-4989-99a9-cc66e78d6c6e",
        "colab": {
          "base_uri": "https://localhost:8080/",
          "height": 34
        }
      },
      "source": [
        "# Проверим сработала лли отсечка\n",
        "dataset_train.dlk_cob_date.max()"
      ],
      "execution_count": 281,
      "outputs": [
        {
          "output_type": "execute_result",
          "data": {
            "text/plain": [
              "Timestamp('2018-06-30 00:00:00')"
            ]
          },
          "metadata": {
            "tags": []
          },
          "execution_count": 281
        }
      ]
    },
    {
      "cell_type": "code",
      "metadata": {
        "id": "yjSPKSJCQPpM",
        "colab_type": "code",
        "colab": {}
      },
      "source": [
        "# Список фичей для удаления перед аггрегацией\n",
        "useless_feats = [\n",
        "                #  'cu_education_level',\n",
        "                #  'cu_empl_area',\n",
        "                #  'cu_empl_level',\n",
        "                 'dlk_cob_date'\n",
        "]\n",
        "balance_agg_funcs = ['mean', 'max', 'min']\n",
        "credits_agg_funcs = [last, 'max']\n",
        "deposit_agg_funcs = ['mean', 'max']\n",
        "cards_spend_agg_funcs = ['mean', 'max']\n",
        "cards_count_agg_funcs = ['mean']\n",
        "categorical_agg_func = [last]\n",
        "age_agg_funcs = [last]"
      ],
      "execution_count": 0,
      "outputs": []
    },
    {
      "cell_type": "code",
      "metadata": {
        "id": "XRPBVXwoW_tF",
        "colab_type": "code",
        "colab": {}
      },
      "source": [
        "# Теперь агрегируем все данные для обучающей выборки\n",
        "dataset_train = dataset_train\\\n",
        "                        .drop(useless_feats, axis=1)\\\n",
        "                        .groupby('cif_id', as_index=False)\\\n",
        "                        .agg({#'dlk_cob_date': [last, 'max', 'min', 'count'],\n",
        "                              'gi_smooth_3m': ['mean', 'sum'],\n",
        "                              'big_city': [last,],\n",
        "                              'cu_gender': [last],\n",
        "                              'payroll_f': [last],\n",
        "                              'cur_quantity_pl': [last],\n",
        "                              'cur_quantity_mort': [last, 'mean'],\n",
        "                              'cur_quantity_cc': [last, 'mean'],\n",
        "                              'cur_quantity_deposits': [last, 'mean'],\n",
        "                              'cur_quantity_dc': [last, 'mean'],\n",
        "                              'cur_quantity_accounts': [last, 'mean'],\n",
        "                              'cur_quantity_saccounts': [last, 'mean'],\n",
        "                              'cur_quantity_mf': [last, 'mean'],\n",
        "                              'cc_balance': balance_agg_funcs,\n",
        "                              'cl_balance': credits_agg_funcs,\n",
        "                              'ml_balance': credits_agg_funcs,\n",
        "                              'pl_balance': credits_agg_funcs,\n",
        "                              'td_volume': deposit_agg_funcs,\n",
        "                              'ca_volume': deposit_agg_funcs,\n",
        "                              'sa_volume': deposit_agg_funcs,\n",
        "                              'mf_volume': deposit_agg_funcs,\n",
        "                              'dc_cash_spend_v': cards_spend_agg_funcs,\n",
        "                              'dc_cash_spend_c': cards_count_agg_funcs,\n",
        "                              'cc_cash_spend_v': cards_spend_agg_funcs,\n",
        "                              'cc_cash_spend_c': cards_count_agg_funcs,\n",
        "                              'dc_pos_spend_v': cards_spend_agg_funcs,\n",
        "                              'dc_pos_spend_c': cards_count_agg_funcs,\n",
        "                              'cc_pos_spend_v': cards_spend_agg_funcs,\n",
        "                              'cc_pos_spend_c': cards_count_agg_funcs,\n",
        "                              'ca_f': categorical_agg_func,\n",
        "                              'rc_session_qnt_cur_mon': [last, 'mean'],\n",
        "                              'cur_qnt_sms': ['mean'],\n",
        "                              'active': [last, 'mean'],\n",
        "                              'standalone_dc_f': [last],\n",
        "                              'standalone_payroll_dc_f': categorical_agg_func,\n",
        "                              'standalone_nonpayroll_dc_f': categorical_agg_func,\n",
        "                              'salary': balance_agg_funcs,\n",
        "                              'cu_age': age_agg_funcs,\n",
        "                              'cu_mob': [last],\n",
        "                              'cu_empl_cur_dur_m': [last],\n",
        "                              'is_married': categorical_agg_func,\n",
        "                              'cu_eduaction_level': categorical_agg_func,\n",
        "                              'cu_education_level': categorical_agg_func,\n",
        "                              'cu_empl_area': categorical_agg_func,\n",
        "                              'cu_empl_level': categorical_agg_func\n",
        "                              })"
      ],
      "execution_count": 0,
      "outputs": []
    },
    {
      "cell_type": "code",
      "metadata": {
        "id": "G0Z6qtIFXobq",
        "colab_type": "code",
        "colab": {}
      },
      "source": [
        "# Уберем двойные колонки\n",
        "dataset_train.columns = [\"_\".join(x) for x in dataset_train.columns.ravel()]"
      ],
      "execution_count": 0,
      "outputs": []
    },
    {
      "cell_type": "code",
      "metadata": {
        "id": "SKwNCyVWlN3U",
        "colab_type": "code",
        "outputId": "f3c612f4-43f5-4d2c-8acc-cedb68b3d720",
        "colab": {
          "base_uri": "https://localhost:8080/",
          "height": 34
        }
      },
      "source": [
        "# Проверка размерности\n",
        "dataset_train.shape"
      ],
      "execution_count": 285,
      "outputs": [
        {
          "output_type": "execute_result",
          "data": {
            "text/plain": [
              "(364617, 70)"
            ]
          },
          "metadata": {
            "tags": []
          },
          "execution_count": 285
        }
      ]
    },
    {
      "cell_type": "code",
      "metadata": {
        "id": "W-yBU0bEXoXw",
        "colab_type": "code",
        "colab": {}
      },
      "source": [
        "# Добавим переменные для первого и последнего месяцев 2018 года\n",
        "first_month = dataset['dlk_cob_date'].min()\n",
        "last_mont = dataset['dlk_cob_date'].max()"
      ],
      "execution_count": 0,
      "outputs": []
    },
    {
      "cell_type": "markdown",
      "metadata": {
        "id": "HfJHakv7ZqBm",
        "colab_type": "text"
      },
      "source": [
        "### Добавление колонки ухода клиента"
      ]
    },
    {
      "cell_type": "markdown",
      "metadata": {
        "id": "M3oh6zFEX9Zb",
        "colab_type": "text"
      },
      "source": [
        "Добавим колонку в которой будет храниться значение покинул ли клиент банк или нет и заполним ее, в качестве критерия будем последний месяц транзакции, если это не последний месяц года, как в большинтве случаев то значит что клиент покинул банк"
      ]
    },
    {
      "cell_type": "code",
      "metadata": {
        "id": "NTAnj4nuXoUk",
        "colab_type": "code",
        "colab": {}
      },
      "source": [
        "# Оставим до лучших времен\n",
        "# dataset_train['droped'] = 0\n",
        "# dataset_train['droped'] = dataset_train['droped']\\\n",
        "#                           .mask(\n",
        "#                           dataset_train['dlk_cob_date_max'] < last_mont,\n",
        "#                           1, axis=0)"
      ],
      "execution_count": 0,
      "outputs": []
    },
    {
      "cell_type": "code",
      "metadata": {
        "id": "fRQTPbaRouyI",
        "colab_type": "code",
        "colab": {}
      },
      "source": [
        "# dataset = dataset.merge(dataset_train.loc[:,['cif_id_', 'droped']], left_on='cif_id', right_on='cif_id_', how='outer')"
      ],
      "execution_count": 0,
      "outputs": []
    },
    {
      "cell_type": "code",
      "metadata": {
        "id": "Jqy2ei004yHs",
        "colab_type": "code",
        "outputId": "9de40b49-1c0c-49fd-80e9-4807c75b63d2",
        "colab": {
          "base_uri": "https://localhost:8080/",
          "height": 310
        }
      },
      "source": [
        "dataset_train.index = dataset_train['cif_id_']\n",
        "dataset_train.sample(5)"
      ],
      "execution_count": 289,
      "outputs": [
        {
          "output_type": "execute_result",
          "data": {
            "text/html": [
              "<div>\n",
              "<style scoped>\n",
              "    .dataframe tbody tr th:only-of-type {\n",
              "        vertical-align: middle;\n",
              "    }\n",
              "\n",
              "    .dataframe tbody tr th {\n",
              "        vertical-align: top;\n",
              "    }\n",
              "\n",
              "    .dataframe thead th {\n",
              "        text-align: right;\n",
              "    }\n",
              "</style>\n",
              "<table border=\"1\" class=\"dataframe\">\n",
              "  <thead>\n",
              "    <tr style=\"text-align: right;\">\n",
              "      <th></th>\n",
              "      <th>cif_id_</th>\n",
              "      <th>gi_smooth_3m_mean</th>\n",
              "      <th>gi_smooth_3m_sum</th>\n",
              "      <th>big_city_&lt;lambda&gt;</th>\n",
              "      <th>cu_gender_&lt;lambda&gt;</th>\n",
              "      <th>payroll_f_&lt;lambda&gt;</th>\n",
              "      <th>cur_quantity_pl_&lt;lambda&gt;</th>\n",
              "      <th>cur_quantity_mort_&lt;lambda_0&gt;</th>\n",
              "      <th>cur_quantity_mort_mean</th>\n",
              "      <th>cur_quantity_cc_&lt;lambda_0&gt;</th>\n",
              "      <th>cur_quantity_cc_mean</th>\n",
              "      <th>cur_quantity_deposits_&lt;lambda_0&gt;</th>\n",
              "      <th>cur_quantity_deposits_mean</th>\n",
              "      <th>cur_quantity_dc_&lt;lambda_0&gt;</th>\n",
              "      <th>cur_quantity_dc_mean</th>\n",
              "      <th>cur_quantity_accounts_&lt;lambda_0&gt;</th>\n",
              "      <th>cur_quantity_accounts_mean</th>\n",
              "      <th>cur_quantity_saccounts_&lt;lambda_0&gt;</th>\n",
              "      <th>cur_quantity_saccounts_mean</th>\n",
              "      <th>cur_quantity_mf_&lt;lambda_0&gt;</th>\n",
              "      <th>cur_quantity_mf_mean</th>\n",
              "      <th>cc_balance_mean</th>\n",
              "      <th>cc_balance_max</th>\n",
              "      <th>cc_balance_min</th>\n",
              "      <th>cl_balance_&lt;lambda_0&gt;</th>\n",
              "      <th>cl_balance_max</th>\n",
              "      <th>ml_balance_&lt;lambda_0&gt;</th>\n",
              "      <th>ml_balance_max</th>\n",
              "      <th>pl_balance_&lt;lambda_0&gt;</th>\n",
              "      <th>pl_balance_max</th>\n",
              "      <th>td_volume_mean</th>\n",
              "      <th>td_volume_max</th>\n",
              "      <th>ca_volume_mean</th>\n",
              "      <th>ca_volume_max</th>\n",
              "      <th>sa_volume_mean</th>\n",
              "      <th>sa_volume_max</th>\n",
              "      <th>mf_volume_mean</th>\n",
              "      <th>mf_volume_max</th>\n",
              "      <th>dc_cash_spend_v_mean</th>\n",
              "      <th>dc_cash_spend_v_max</th>\n",
              "      <th>dc_cash_spend_c_mean</th>\n",
              "      <th>cc_cash_spend_v_mean</th>\n",
              "      <th>cc_cash_spend_v_max</th>\n",
              "      <th>cc_cash_spend_c_mean</th>\n",
              "      <th>dc_pos_spend_v_mean</th>\n",
              "      <th>dc_pos_spend_v_max</th>\n",
              "      <th>dc_pos_spend_c_mean</th>\n",
              "      <th>cc_pos_spend_v_mean</th>\n",
              "      <th>cc_pos_spend_v_max</th>\n",
              "      <th>cc_pos_spend_c_mean</th>\n",
              "      <th>ca_f_&lt;lambda&gt;</th>\n",
              "      <th>rc_session_qnt_cur_mon_&lt;lambda_0&gt;</th>\n",
              "      <th>rc_session_qnt_cur_mon_mean</th>\n",
              "      <th>cur_qnt_sms_mean</th>\n",
              "      <th>active_&lt;lambda_0&gt;</th>\n",
              "      <th>active_mean</th>\n",
              "      <th>standalone_dc_f_&lt;lambda&gt;</th>\n",
              "      <th>standalone_payroll_dc_f_&lt;lambda&gt;</th>\n",
              "      <th>standalone_nonpayroll_dc_f_&lt;lambda&gt;</th>\n",
              "      <th>salary_mean</th>\n",
              "      <th>salary_max</th>\n",
              "      <th>salary_min</th>\n",
              "      <th>cu_age_&lt;lambda&gt;</th>\n",
              "      <th>cu_mob_&lt;lambda&gt;</th>\n",
              "      <th>cu_empl_cur_dur_m_&lt;lambda&gt;</th>\n",
              "      <th>is_married_&lt;lambda&gt;</th>\n",
              "      <th>cu_eduaction_level_&lt;lambda&gt;</th>\n",
              "      <th>cu_education_level_&lt;lambda&gt;</th>\n",
              "      <th>cu_empl_area_&lt;lambda&gt;</th>\n",
              "      <th>cu_empl_level_&lt;lambda&gt;</th>\n",
              "    </tr>\n",
              "    <tr>\n",
              "      <th>cif_id_</th>\n",
              "      <th></th>\n",
              "      <th></th>\n",
              "      <th></th>\n",
              "      <th></th>\n",
              "      <th></th>\n",
              "      <th></th>\n",
              "      <th></th>\n",
              "      <th></th>\n",
              "      <th></th>\n",
              "      <th></th>\n",
              "      <th></th>\n",
              "      <th></th>\n",
              "      <th></th>\n",
              "      <th></th>\n",
              "      <th></th>\n",
              "      <th></th>\n",
              "      <th></th>\n",
              "      <th></th>\n",
              "      <th></th>\n",
              "      <th></th>\n",
              "      <th></th>\n",
              "      <th></th>\n",
              "      <th></th>\n",
              "      <th></th>\n",
              "      <th></th>\n",
              "      <th></th>\n",
              "      <th></th>\n",
              "      <th></th>\n",
              "      <th></th>\n",
              "      <th></th>\n",
              "      <th></th>\n",
              "      <th></th>\n",
              "      <th></th>\n",
              "      <th></th>\n",
              "      <th></th>\n",
              "      <th></th>\n",
              "      <th></th>\n",
              "      <th></th>\n",
              "      <th></th>\n",
              "      <th></th>\n",
              "      <th></th>\n",
              "      <th></th>\n",
              "      <th></th>\n",
              "      <th></th>\n",
              "      <th></th>\n",
              "      <th></th>\n",
              "      <th></th>\n",
              "      <th></th>\n",
              "      <th></th>\n",
              "      <th></th>\n",
              "      <th></th>\n",
              "      <th></th>\n",
              "      <th></th>\n",
              "      <th></th>\n",
              "      <th></th>\n",
              "      <th></th>\n",
              "      <th></th>\n",
              "      <th></th>\n",
              "      <th></th>\n",
              "      <th></th>\n",
              "      <th></th>\n",
              "      <th></th>\n",
              "      <th></th>\n",
              "      <th></th>\n",
              "      <th></th>\n",
              "      <th></th>\n",
              "      <th></th>\n",
              "      <th></th>\n",
              "      <th></th>\n",
              "      <th></th>\n",
              "    </tr>\n",
              "  </thead>\n",
              "  <tbody>\n",
              "    <tr>\n",
              "      <th>450108</th>\n",
              "      <td>450108</td>\n",
              "      <td>9.509237</td>\n",
              "      <td>57.055423</td>\n",
              "      <td>OTH</td>\n",
              "      <td>0</td>\n",
              "      <td>0</td>\n",
              "      <td>0</td>\n",
              "      <td>0</td>\n",
              "      <td>0.0</td>\n",
              "      <td>2</td>\n",
              "      <td>2.0</td>\n",
              "      <td>0</td>\n",
              "      <td>0.0</td>\n",
              "      <td>0</td>\n",
              "      <td>0.0</td>\n",
              "      <td>1</td>\n",
              "      <td>1.0</td>\n",
              "      <td>0</td>\n",
              "      <td>0.0</td>\n",
              "      <td>0</td>\n",
              "      <td>0.0</td>\n",
              "      <td>-288.76872</td>\n",
              "      <td>-253.53432</td>\n",
              "      <td>-323.07432</td>\n",
              "      <td>0.0</td>\n",
              "      <td>0.0</td>\n",
              "      <td>0.0</td>\n",
              "      <td>0.0</td>\n",
              "      <td>0.00000</td>\n",
              "      <td>0.00000</td>\n",
              "      <td>0.0</td>\n",
              "      <td>0.0</td>\n",
              "      <td>0.00000</td>\n",
              "      <td>0.00000</td>\n",
              "      <td>0.0</td>\n",
              "      <td>0.0</td>\n",
              "      <td>0.0</td>\n",
              "      <td>0.0</td>\n",
              "      <td>0.0</td>\n",
              "      <td>0.0</td>\n",
              "      <td>0.000000</td>\n",
              "      <td>0.0</td>\n",
              "      <td>0.0</td>\n",
              "      <td>0.0</td>\n",
              "      <td>0.00000</td>\n",
              "      <td>0.00000</td>\n",
              "      <td>0.000000</td>\n",
              "      <td>0.0</td>\n",
              "      <td>0.0</td>\n",
              "      <td>0.0</td>\n",
              "      <td>1</td>\n",
              "      <td>0</td>\n",
              "      <td>0.000000</td>\n",
              "      <td>1.0</td>\n",
              "      <td>1</td>\n",
              "      <td>1.0</td>\n",
              "      <td>0</td>\n",
              "      <td>0</td>\n",
              "      <td>0</td>\n",
              "      <td>600.00000</td>\n",
              "      <td>600.00000</td>\n",
              "      <td>600.00000</td>\n",
              "      <td>46.0</td>\n",
              "      <td>67</td>\n",
              "      <td>321.0</td>\n",
              "      <td>0</td>\n",
              "      <td>3</td>\n",
              "      <td>03. Высшее</td>\n",
              "      <td>Наука, образование</td>\n",
              "      <td>QUALIFIED STAFF</td>\n",
              "    </tr>\n",
              "    <tr>\n",
              "      <th>253810</th>\n",
              "      <td>253810</td>\n",
              "      <td>26.908871</td>\n",
              "      <td>161.453223</td>\n",
              "      <td>OTH</td>\n",
              "      <td>0</td>\n",
              "      <td>0</td>\n",
              "      <td>1</td>\n",
              "      <td>0</td>\n",
              "      <td>0.0</td>\n",
              "      <td>0</td>\n",
              "      <td>0.0</td>\n",
              "      <td>0</td>\n",
              "      <td>0.0</td>\n",
              "      <td>1</td>\n",
              "      <td>1.0</td>\n",
              "      <td>1</td>\n",
              "      <td>1.0</td>\n",
              "      <td>0</td>\n",
              "      <td>0.0</td>\n",
              "      <td>0</td>\n",
              "      <td>0.0</td>\n",
              "      <td>0.00000</td>\n",
              "      <td>0.00000</td>\n",
              "      <td>0.00000</td>\n",
              "      <td>0.0</td>\n",
              "      <td>0.0</td>\n",
              "      <td>0.0</td>\n",
              "      <td>0.0</td>\n",
              "      <td>-3876.27264</td>\n",
              "      <td>-3876.27264</td>\n",
              "      <td>0.0</td>\n",
              "      <td>0.0</td>\n",
              "      <td>48.91352</td>\n",
              "      <td>87.44304</td>\n",
              "      <td>0.0</td>\n",
              "      <td>0.0</td>\n",
              "      <td>0.0</td>\n",
              "      <td>0.0</td>\n",
              "      <td>0.0</td>\n",
              "      <td>0.0</td>\n",
              "      <td>0.000000</td>\n",
              "      <td>0.0</td>\n",
              "      <td>0.0</td>\n",
              "      <td>0.0</td>\n",
              "      <td>0.00000</td>\n",
              "      <td>0.00000</td>\n",
              "      <td>0.000000</td>\n",
              "      <td>0.0</td>\n",
              "      <td>0.0</td>\n",
              "      <td>0.0</td>\n",
              "      <td>1</td>\n",
              "      <td>0</td>\n",
              "      <td>0.000000</td>\n",
              "      <td>0.0</td>\n",
              "      <td>1</td>\n",
              "      <td>1.0</td>\n",
              "      <td>1</td>\n",
              "      <td>0</td>\n",
              "      <td>1</td>\n",
              "      <td>600.00000</td>\n",
              "      <td>600.00000</td>\n",
              "      <td>600.00000</td>\n",
              "      <td>43.0</td>\n",
              "      <td>51</td>\n",
              "      <td>117.0</td>\n",
              "      <td>1</td>\n",
              "      <td>3</td>\n",
              "      <td>03. Высшее</td>\n",
              "      <td>Государственная служба</td>\n",
              "      <td>QUALIFIED STAFF</td>\n",
              "    </tr>\n",
              "    <tr>\n",
              "      <th>85387</th>\n",
              "      <td>85387</td>\n",
              "      <td>1.653650</td>\n",
              "      <td>1.653650</td>\n",
              "      <td>MSK</td>\n",
              "      <td>0</td>\n",
              "      <td>0</td>\n",
              "      <td>0</td>\n",
              "      <td>0</td>\n",
              "      <td>0.0</td>\n",
              "      <td>0</td>\n",
              "      <td>0.0</td>\n",
              "      <td>0</td>\n",
              "      <td>0.0</td>\n",
              "      <td>0</td>\n",
              "      <td>0.0</td>\n",
              "      <td>2</td>\n",
              "      <td>2.0</td>\n",
              "      <td>0</td>\n",
              "      <td>0.0</td>\n",
              "      <td>0</td>\n",
              "      <td>0.0</td>\n",
              "      <td>0.00000</td>\n",
              "      <td>0.00000</td>\n",
              "      <td>0.00000</td>\n",
              "      <td>0.0</td>\n",
              "      <td>0.0</td>\n",
              "      <td>0.0</td>\n",
              "      <td>0.0</td>\n",
              "      <td>0.00000</td>\n",
              "      <td>0.00000</td>\n",
              "      <td>0.0</td>\n",
              "      <td>0.0</td>\n",
              "      <td>0.00000</td>\n",
              "      <td>0.00000</td>\n",
              "      <td>0.0</td>\n",
              "      <td>0.0</td>\n",
              "      <td>0.0</td>\n",
              "      <td>0.0</td>\n",
              "      <td>0.0</td>\n",
              "      <td>0.0</td>\n",
              "      <td>0.000000</td>\n",
              "      <td>0.0</td>\n",
              "      <td>0.0</td>\n",
              "      <td>0.0</td>\n",
              "      <td>0.00000</td>\n",
              "      <td>0.00000</td>\n",
              "      <td>0.000000</td>\n",
              "      <td>0.0</td>\n",
              "      <td>0.0</td>\n",
              "      <td>0.0</td>\n",
              "      <td>1</td>\n",
              "      <td>0</td>\n",
              "      <td>0.000000</td>\n",
              "      <td>0.0</td>\n",
              "      <td>1</td>\n",
              "      <td>1.0</td>\n",
              "      <td>0</td>\n",
              "      <td>0</td>\n",
              "      <td>0</td>\n",
              "      <td>1144.49946</td>\n",
              "      <td>1144.49946</td>\n",
              "      <td>1144.49946</td>\n",
              "      <td>27.0</td>\n",
              "      <td>54</td>\n",
              "      <td>54.0</td>\n",
              "      <td>0</td>\n",
              "      <td>3</td>\n",
              "      <td>03. Высшее</td>\n",
              "      <td>ДРУГОЕ</td>\n",
              "      <td>QUALIFIED STAFF</td>\n",
              "    </tr>\n",
              "    <tr>\n",
              "      <th>85262</th>\n",
              "      <td>85262</td>\n",
              "      <td>9.861176</td>\n",
              "      <td>59.167053</td>\n",
              "      <td>MLN</td>\n",
              "      <td>0</td>\n",
              "      <td>0</td>\n",
              "      <td>0</td>\n",
              "      <td>0</td>\n",
              "      <td>0.0</td>\n",
              "      <td>0</td>\n",
              "      <td>0.0</td>\n",
              "      <td>0</td>\n",
              "      <td>0.0</td>\n",
              "      <td>1</td>\n",
              "      <td>1.0</td>\n",
              "      <td>1</td>\n",
              "      <td>1.0</td>\n",
              "      <td>0</td>\n",
              "      <td>0.0</td>\n",
              "      <td>0</td>\n",
              "      <td>0.0</td>\n",
              "      <td>0.00000</td>\n",
              "      <td>0.00000</td>\n",
              "      <td>0.00000</td>\n",
              "      <td>0.0</td>\n",
              "      <td>0.0</td>\n",
              "      <td>0.0</td>\n",
              "      <td>0.0</td>\n",
              "      <td>0.00000</td>\n",
              "      <td>0.00000</td>\n",
              "      <td>0.0</td>\n",
              "      <td>0.0</td>\n",
              "      <td>1409.35040</td>\n",
              "      <td>1955.52000</td>\n",
              "      <td>0.0</td>\n",
              "      <td>0.0</td>\n",
              "      <td>0.0</td>\n",
              "      <td>0.0</td>\n",
              "      <td>641.8</td>\n",
              "      <td>2074.8</td>\n",
              "      <td>0.833333</td>\n",
              "      <td>0.0</td>\n",
              "      <td>0.0</td>\n",
              "      <td>0.0</td>\n",
              "      <td>5.36000</td>\n",
              "      <td>29.28000</td>\n",
              "      <td>0.666667</td>\n",
              "      <td>0.0</td>\n",
              "      <td>0.0</td>\n",
              "      <td>0.0</td>\n",
              "      <td>1</td>\n",
              "      <td>4</td>\n",
              "      <td>3.666667</td>\n",
              "      <td>1.0</td>\n",
              "      <td>1</td>\n",
              "      <td>1.0</td>\n",
              "      <td>0</td>\n",
              "      <td>0</td>\n",
              "      <td>0</td>\n",
              "      <td>1433.18400</td>\n",
              "      <td>1433.18400</td>\n",
              "      <td>1433.18400</td>\n",
              "      <td>30.0</td>\n",
              "      <td>86</td>\n",
              "      <td>86.0</td>\n",
              "      <td>0</td>\n",
              "      <td>3</td>\n",
              "      <td>03. Высшее</td>\n",
              "      <td>ПРОИЗВОДСТВО, ДОБЫВАЮЩАЯ ПРОМЫШЛЕННОСТЬ</td>\n",
              "      <td>MIDDLE MANAGEMENT</td>\n",
              "    </tr>\n",
              "    <tr>\n",
              "      <th>122777</th>\n",
              "      <td>122777</td>\n",
              "      <td>31.269931</td>\n",
              "      <td>187.619583</td>\n",
              "      <td>MSK</td>\n",
              "      <td>1</td>\n",
              "      <td>0</td>\n",
              "      <td>1</td>\n",
              "      <td>0</td>\n",
              "      <td>0.0</td>\n",
              "      <td>1</td>\n",
              "      <td>1.0</td>\n",
              "      <td>0</td>\n",
              "      <td>0.0</td>\n",
              "      <td>1</td>\n",
              "      <td>1.0</td>\n",
              "      <td>1</td>\n",
              "      <td>1.0</td>\n",
              "      <td>0</td>\n",
              "      <td>0.0</td>\n",
              "      <td>0</td>\n",
              "      <td>0.0</td>\n",
              "      <td>0.00000</td>\n",
              "      <td>0.00000</td>\n",
              "      <td>0.00000</td>\n",
              "      <td>0.0</td>\n",
              "      <td>0.0</td>\n",
              "      <td>0.0</td>\n",
              "      <td>0.0</td>\n",
              "      <td>-2411.23560</td>\n",
              "      <td>-2411.23560</td>\n",
              "      <td>0.0</td>\n",
              "      <td>0.0</td>\n",
              "      <td>86.55316</td>\n",
              "      <td>322.81152</td>\n",
              "      <td>0.0</td>\n",
              "      <td>0.0</td>\n",
              "      <td>0.0</td>\n",
              "      <td>0.0</td>\n",
              "      <td>0.0</td>\n",
              "      <td>0.0</td>\n",
              "      <td>0.000000</td>\n",
              "      <td>0.0</td>\n",
              "      <td>0.0</td>\n",
              "      <td>0.0</td>\n",
              "      <td>49.91512</td>\n",
              "      <td>106.46616</td>\n",
              "      <td>5.000000</td>\n",
              "      <td>0.0</td>\n",
              "      <td>0.0</td>\n",
              "      <td>0.0</td>\n",
              "      <td>1</td>\n",
              "      <td>0</td>\n",
              "      <td>0.000000</td>\n",
              "      <td>1.0</td>\n",
              "      <td>1</td>\n",
              "      <td>1.0</td>\n",
              "      <td>1</td>\n",
              "      <td>0</td>\n",
              "      <td>1</td>\n",
              "      <td>2880.00000</td>\n",
              "      <td>2880.00000</td>\n",
              "      <td>2880.00000</td>\n",
              "      <td>43.0</td>\n",
              "      <td>52</td>\n",
              "      <td>24.0</td>\n",
              "      <td>0</td>\n",
              "      <td>3</td>\n",
              "      <td>03. Высшее</td>\n",
              "      <td>ТОРГОВЛЯ</td>\n",
              "      <td>MIDDLE MANAGEMENT</td>\n",
              "    </tr>\n",
              "  </tbody>\n",
              "</table>\n",
              "</div>"
            ],
            "text/plain": [
              "         cif_id_  ...  cu_empl_level_<lambda>\n",
              "cif_id_           ...                        \n",
              "450108    450108  ...         QUALIFIED STAFF\n",
              "253810    253810  ...         QUALIFIED STAFF\n",
              "85387      85387  ...         QUALIFIED STAFF\n",
              "85262      85262  ...       MIDDLE MANAGEMENT\n",
              "122777    122777  ...       MIDDLE MANAGEMENT\n",
              "\n",
              "[5 rows x 70 columns]"
            ]
          },
          "metadata": {
            "tags": []
          },
          "execution_count": 289
        }
      ]
    },
    {
      "cell_type": "code",
      "metadata": {
        "id": "O1Ia2xgEMpn7",
        "colab_type": "code",
        "colab": {}
      },
      "source": [
        "# dataset_train.loc[:, ['cu_eduaction_level_max', 'cif_id_']].groupby('cu_eduaction_level_max').count()"
      ],
      "execution_count": 0,
      "outputs": []
    },
    {
      "cell_type": "markdown",
      "metadata": {
        "id": "6D5Q7zsV1v4J",
        "colab_type": "text"
      },
      "source": [
        "### Удаление клиентов находящихся в банке меньше 12 месяцев"
      ]
    },
    {
      "cell_type": "code",
      "metadata": {
        "id": "9eKrxmP6pEh0",
        "colab_type": "code",
        "colab": {}
      },
      "source": [
        "dropped_clients = dataset.loc[:, ['cif_id', 'dlk_cob_date']]\\\n",
        "                        .groupby('cif_id', as_index=False)\\\n",
        "                        .agg({'dlk_cob_date': ['max', 'min', 'count']})"
      ],
      "execution_count": 0,
      "outputs": []
    },
    {
      "cell_type": "code",
      "metadata": {
        "id": "_9Jl377EqNQn",
        "colab_type": "code",
        "colab": {}
      },
      "source": [
        "dropped_clients.columns = [\"_\".join(x) for x in dropped_clients.columns.ravel()]"
      ],
      "execution_count": 0,
      "outputs": []
    },
    {
      "cell_type": "code",
      "metadata": {
        "id": "cye7zv5t17zm",
        "colab_type": "code",
        "outputId": "6f9ec9a1-0447-4e1e-9504-102108e67688",
        "colab": {
          "base_uri": "https://localhost:8080/",
          "height": 34
        }
      },
      "source": [
        "useless_ids = dropped_clients.query('dlk_cob_date_count < 12')['cif_id_']\n",
        "useless_ids.shape"
      ],
      "execution_count": 293,
      "outputs": [
        {
          "output_type": "execute_result",
          "data": {
            "text/plain": [
              "(96885,)"
            ]
          },
          "metadata": {
            "tags": []
          },
          "execution_count": 293
        }
      ]
    },
    {
      "cell_type": "code",
      "metadata": {
        "id": "KYOH5ZA2flAG",
        "colab_type": "code",
        "colab": {}
      },
      "source": [
        "# Очищаем созданный датасет с удаленными клиентами\n",
        "del dropped_clients"
      ],
      "execution_count": 0,
      "outputs": []
    },
    {
      "cell_type": "markdown",
      "metadata": {
        "id": "elOLZfjR5Km3",
        "colab_type": "text"
      },
      "source": [
        "Для удаления исп. следующу строку"
      ]
    },
    {
      "cell_type": "code",
      "metadata": {
        "id": "kE5AxFPn4-90",
        "colab_type": "code",
        "colab": {}
      },
      "source": [
        "# Удаление ненужных записей\n",
        "dataset_train = dataset_train.drop(useless_ids, axis=0, errors='ignore')"
      ],
      "execution_count": 0,
      "outputs": []
    },
    {
      "cell_type": "code",
      "metadata": {
        "id": "KlHnO5AaG823",
        "colab_type": "code",
        "outputId": "127bc4d7-3b36-43cd-e57a-92a8cb7e3c2a",
        "colab": {
          "base_uri": "https://localhost:8080/",
          "height": 34
        }
      },
      "source": [
        "# После удаления клиентов\n",
        "dataset_train.shape"
      ],
      "execution_count": 296,
      "outputs": [
        {
          "output_type": "execute_result",
          "data": {
            "text/plain": [
              "(299691, 70)"
            ]
          },
          "metadata": {
            "tags": []
          },
          "execution_count": 296
        }
      ]
    },
    {
      "cell_type": "markdown",
      "metadata": {
        "id": "5zwyLciy0OII",
        "colab_type": "text"
      },
      "source": [
        "### Добавление и удаление фичей и кодирование объектов"
      ]
    },
    {
      "cell_type": "markdown",
      "metadata": {
        "id": "q762X3h0zU8r",
        "colab_type": "text"
      },
      "source": [
        "#### Добавление колонки с возрастной категорией"
      ]
    },
    {
      "cell_type": "code",
      "metadata": {
        "id": "ZIxhJ-upzVbZ",
        "colab_type": "code",
        "colab": {}
      },
      "source": [
        "dataset_train['age_category'] = dataset_train['cu_age_<lambda>'].apply(get_age_category)"
      ],
      "execution_count": 0,
      "outputs": []
    },
    {
      "cell_type": "markdown",
      "metadata": {
        "id": "m5agajT4q8E5",
        "colab_type": "text"
      },
      "source": [
        "### Преобразование текстовых фичей"
      ]
    },
    {
      "cell_type": "markdown",
      "metadata": {
        "id": "o4v0qHqy0CIJ",
        "colab_type": "text"
      },
      "source": [
        "Установка библиотеки для токенизации текста"
      ]
    },
    {
      "cell_type": "code",
      "metadata": {
        "id": "_aULZ8XeDxWq",
        "colab_type": "code",
        "outputId": "ac33f8ea-bfeb-474d-e763-cd085a6adb6f",
        "colab": {
          "base_uri": "https://localhost:8080/",
          "height": 106
        }
      },
      "source": [
        "!pip install pymorphy2"
      ],
      "execution_count": 298,
      "outputs": [
        {
          "output_type": "stream",
          "text": [
            "Requirement already satisfied: pymorphy2 in /usr/local/lib/python3.6/dist-packages (0.8)\n",
            "Requirement already satisfied: dawg-python>=0.7 in /usr/local/lib/python3.6/dist-packages (from pymorphy2) (0.7.2)\n",
            "Requirement already satisfied: pymorphy2-dicts<3.0,>=2.4 in /usr/local/lib/python3.6/dist-packages (from pymorphy2) (2.4.393442.3710985)\n",
            "Requirement already satisfied: docopt>=0.6 in /usr/local/lib/python3.6/dist-packages (from pymorphy2) (0.6.2)\n"
          ],
          "name": "stdout"
        }
      ]
    },
    {
      "cell_type": "code",
      "metadata": {
        "id": "ggqondY9DqUU",
        "colab_type": "code",
        "colab": {}
      },
      "source": [
        "# Импорты для преобразования текстовых переменных в лэйблы\n",
        "import pymorphy2\n",
        "from sklearn.feature_extraction.text import CountVectorizer\n",
        "from sklearn import preprocessing"
      ],
      "execution_count": 0,
      "outputs": []
    },
    {
      "cell_type": "code",
      "metadata": {
        "id": "KnoLMUBb62m-",
        "colab_type": "code",
        "colab": {}
      },
      "source": [
        "# Текстовые объекты (колонки) для преобразования \n",
        "obj_columns = [\n",
        "               'big_city_<lambda>',\n",
        "               'cu_education_level_<lambda>',\n",
        "               'cu_empl_area_<lambda>',\n",
        "               'cu_empl_level_<lambda>'\n",
        "]"
      ],
      "execution_count": 0,
      "outputs": []
    },
    {
      "cell_type": "code",
      "metadata": {
        "id": "q4QNtix765Pb",
        "colab_type": "code",
        "colab": {}
      },
      "source": [
        "# Инициализация анализатора\n",
        "morph = pymorphy2.MorphAnalyzer()\n",
        "for obj in dataset_train:\n",
        "  data = list()\n",
        "  if obj in obj_columns:\n",
        "    dataset_train['temp'] = dataset_train[obj].apply(lambda x: morph.parse(str(x))[0].normal_form)\n",
        "    enc = preprocessing.OrdinalEncoder()\n",
        "    enc.fit(dataset_train['temp'].values.reshape(-1, 1))\n",
        "    dataset_train[obj] = enc.transform(dataset_train['temp'].values.reshape(-1, 1))[:, 0]"
      ],
      "execution_count": 0,
      "outputs": []
    },
    {
      "cell_type": "code",
      "metadata": {
        "id": "K8COD9i3D_Lj",
        "colab_type": "code",
        "colab": {}
      },
      "source": [
        "# Удалим временную колонку\n",
        "dataset_train = dataset_train.drop('temp', axis=1)"
      ],
      "execution_count": 0,
      "outputs": []
    },
    {
      "cell_type": "code",
      "metadata": {
        "id": "2BsmLD8zE8g3",
        "colab_type": "code",
        "outputId": "07ed8785-bfa6-4a7c-bbd8-d31aad7614b3",
        "colab": {
          "base_uri": "https://localhost:8080/",
          "height": 414
        }
      },
      "source": [
        "dataset_train.sample(10)"
      ],
      "execution_count": 303,
      "outputs": [
        {
          "output_type": "execute_result",
          "data": {
            "text/html": [
              "<div>\n",
              "<style scoped>\n",
              "    .dataframe tbody tr th:only-of-type {\n",
              "        vertical-align: middle;\n",
              "    }\n",
              "\n",
              "    .dataframe tbody tr th {\n",
              "        vertical-align: top;\n",
              "    }\n",
              "\n",
              "    .dataframe thead th {\n",
              "        text-align: right;\n",
              "    }\n",
              "</style>\n",
              "<table border=\"1\" class=\"dataframe\">\n",
              "  <thead>\n",
              "    <tr style=\"text-align: right;\">\n",
              "      <th></th>\n",
              "      <th>cif_id_</th>\n",
              "      <th>gi_smooth_3m_mean</th>\n",
              "      <th>gi_smooth_3m_sum</th>\n",
              "      <th>big_city_&lt;lambda&gt;</th>\n",
              "      <th>cu_gender_&lt;lambda&gt;</th>\n",
              "      <th>payroll_f_&lt;lambda&gt;</th>\n",
              "      <th>cur_quantity_pl_&lt;lambda&gt;</th>\n",
              "      <th>cur_quantity_mort_&lt;lambda_0&gt;</th>\n",
              "      <th>cur_quantity_mort_mean</th>\n",
              "      <th>cur_quantity_cc_&lt;lambda_0&gt;</th>\n",
              "      <th>cur_quantity_cc_mean</th>\n",
              "      <th>cur_quantity_deposits_&lt;lambda_0&gt;</th>\n",
              "      <th>cur_quantity_deposits_mean</th>\n",
              "      <th>cur_quantity_dc_&lt;lambda_0&gt;</th>\n",
              "      <th>cur_quantity_dc_mean</th>\n",
              "      <th>cur_quantity_accounts_&lt;lambda_0&gt;</th>\n",
              "      <th>cur_quantity_accounts_mean</th>\n",
              "      <th>cur_quantity_saccounts_&lt;lambda_0&gt;</th>\n",
              "      <th>cur_quantity_saccounts_mean</th>\n",
              "      <th>cur_quantity_mf_&lt;lambda_0&gt;</th>\n",
              "      <th>cur_quantity_mf_mean</th>\n",
              "      <th>cc_balance_mean</th>\n",
              "      <th>cc_balance_max</th>\n",
              "      <th>cc_balance_min</th>\n",
              "      <th>cl_balance_&lt;lambda_0&gt;</th>\n",
              "      <th>cl_balance_max</th>\n",
              "      <th>ml_balance_&lt;lambda_0&gt;</th>\n",
              "      <th>ml_balance_max</th>\n",
              "      <th>pl_balance_&lt;lambda_0&gt;</th>\n",
              "      <th>pl_balance_max</th>\n",
              "      <th>td_volume_mean</th>\n",
              "      <th>td_volume_max</th>\n",
              "      <th>ca_volume_mean</th>\n",
              "      <th>ca_volume_max</th>\n",
              "      <th>sa_volume_mean</th>\n",
              "      <th>sa_volume_max</th>\n",
              "      <th>mf_volume_mean</th>\n",
              "      <th>mf_volume_max</th>\n",
              "      <th>dc_cash_spend_v_mean</th>\n",
              "      <th>dc_cash_spend_v_max</th>\n",
              "      <th>dc_cash_spend_c_mean</th>\n",
              "      <th>cc_cash_spend_v_mean</th>\n",
              "      <th>cc_cash_spend_v_max</th>\n",
              "      <th>cc_cash_spend_c_mean</th>\n",
              "      <th>dc_pos_spend_v_mean</th>\n",
              "      <th>dc_pos_spend_v_max</th>\n",
              "      <th>dc_pos_spend_c_mean</th>\n",
              "      <th>cc_pos_spend_v_mean</th>\n",
              "      <th>cc_pos_spend_v_max</th>\n",
              "      <th>cc_pos_spend_c_mean</th>\n",
              "      <th>ca_f_&lt;lambda&gt;</th>\n",
              "      <th>rc_session_qnt_cur_mon_&lt;lambda_0&gt;</th>\n",
              "      <th>rc_session_qnt_cur_mon_mean</th>\n",
              "      <th>cur_qnt_sms_mean</th>\n",
              "      <th>active_&lt;lambda_0&gt;</th>\n",
              "      <th>active_mean</th>\n",
              "      <th>standalone_dc_f_&lt;lambda&gt;</th>\n",
              "      <th>standalone_payroll_dc_f_&lt;lambda&gt;</th>\n",
              "      <th>standalone_nonpayroll_dc_f_&lt;lambda&gt;</th>\n",
              "      <th>salary_mean</th>\n",
              "      <th>salary_max</th>\n",
              "      <th>salary_min</th>\n",
              "      <th>cu_age_&lt;lambda&gt;</th>\n",
              "      <th>cu_mob_&lt;lambda&gt;</th>\n",
              "      <th>cu_empl_cur_dur_m_&lt;lambda&gt;</th>\n",
              "      <th>is_married_&lt;lambda&gt;</th>\n",
              "      <th>cu_eduaction_level_&lt;lambda&gt;</th>\n",
              "      <th>cu_education_level_&lt;lambda&gt;</th>\n",
              "      <th>cu_empl_area_&lt;lambda&gt;</th>\n",
              "      <th>cu_empl_level_&lt;lambda&gt;</th>\n",
              "      <th>age_category</th>\n",
              "    </tr>\n",
              "    <tr>\n",
              "      <th>cif_id_</th>\n",
              "      <th></th>\n",
              "      <th></th>\n",
              "      <th></th>\n",
              "      <th></th>\n",
              "      <th></th>\n",
              "      <th></th>\n",
              "      <th></th>\n",
              "      <th></th>\n",
              "      <th></th>\n",
              "      <th></th>\n",
              "      <th></th>\n",
              "      <th></th>\n",
              "      <th></th>\n",
              "      <th></th>\n",
              "      <th></th>\n",
              "      <th></th>\n",
              "      <th></th>\n",
              "      <th></th>\n",
              "      <th></th>\n",
              "      <th></th>\n",
              "      <th></th>\n",
              "      <th></th>\n",
              "      <th></th>\n",
              "      <th></th>\n",
              "      <th></th>\n",
              "      <th></th>\n",
              "      <th></th>\n",
              "      <th></th>\n",
              "      <th></th>\n",
              "      <th></th>\n",
              "      <th></th>\n",
              "      <th></th>\n",
              "      <th></th>\n",
              "      <th></th>\n",
              "      <th></th>\n",
              "      <th></th>\n",
              "      <th></th>\n",
              "      <th></th>\n",
              "      <th></th>\n",
              "      <th></th>\n",
              "      <th></th>\n",
              "      <th></th>\n",
              "      <th></th>\n",
              "      <th></th>\n",
              "      <th></th>\n",
              "      <th></th>\n",
              "      <th></th>\n",
              "      <th></th>\n",
              "      <th></th>\n",
              "      <th></th>\n",
              "      <th></th>\n",
              "      <th></th>\n",
              "      <th></th>\n",
              "      <th></th>\n",
              "      <th></th>\n",
              "      <th></th>\n",
              "      <th></th>\n",
              "      <th></th>\n",
              "      <th></th>\n",
              "      <th></th>\n",
              "      <th></th>\n",
              "      <th></th>\n",
              "      <th></th>\n",
              "      <th></th>\n",
              "      <th></th>\n",
              "      <th></th>\n",
              "      <th></th>\n",
              "      <th></th>\n",
              "      <th></th>\n",
              "      <th></th>\n",
              "      <th></th>\n",
              "    </tr>\n",
              "  </thead>\n",
              "  <tbody>\n",
              "    <tr>\n",
              "      <th>382065</th>\n",
              "      <td>382065</td>\n",
              "      <td>127.115946</td>\n",
              "      <td>762.695676</td>\n",
              "      <td>0.0</td>\n",
              "      <td>1</td>\n",
              "      <td>1</td>\n",
              "      <td>0</td>\n",
              "      <td>1</td>\n",
              "      <td>1.000000</td>\n",
              "      <td>2</td>\n",
              "      <td>1.333333</td>\n",
              "      <td>0</td>\n",
              "      <td>0.0</td>\n",
              "      <td>1</td>\n",
              "      <td>1.000000</td>\n",
              "      <td>1</td>\n",
              "      <td>1.0</td>\n",
              "      <td>0</td>\n",
              "      <td>0.0</td>\n",
              "      <td>0</td>\n",
              "      <td>0.0</td>\n",
              "      <td>-137.75720</td>\n",
              "      <td>0.88560</td>\n",
              "      <td>-423.91440</td>\n",
              "      <td>0.0</td>\n",
              "      <td>0.0</td>\n",
              "      <td>-43054.52928</td>\n",
              "      <td>-43054.52928</td>\n",
              "      <td>0.00000</td>\n",
              "      <td>0.00000</td>\n",
              "      <td>0.0</td>\n",
              "      <td>0.0</td>\n",
              "      <td>17.96576</td>\n",
              "      <td>48.52656</td>\n",
              "      <td>0.00000</td>\n",
              "      <td>0.00000</td>\n",
              "      <td>0.0</td>\n",
              "      <td>0.0</td>\n",
              "      <td>1671.6</td>\n",
              "      <td>3540.0</td>\n",
              "      <td>3.666667</td>\n",
              "      <td>0.0</td>\n",
              "      <td>0.0</td>\n",
              "      <td>0.0</td>\n",
              "      <td>102.54272</td>\n",
              "      <td>246.96672</td>\n",
              "      <td>14.166667</td>\n",
              "      <td>70.6524</td>\n",
              "      <td>423.9144</td>\n",
              "      <td>0.333333</td>\n",
              "      <td>1</td>\n",
              "      <td>19</td>\n",
              "      <td>13.500000</td>\n",
              "      <td>1.000000</td>\n",
              "      <td>1</td>\n",
              "      <td>1.0</td>\n",
              "      <td>0</td>\n",
              "      <td>0</td>\n",
              "      <td>0</td>\n",
              "      <td>1754.03744</td>\n",
              "      <td>1879.46400</td>\n",
              "      <td>1705.99200</td>\n",
              "      <td>33.0</td>\n",
              "      <td>29</td>\n",
              "      <td>30.0</td>\n",
              "      <td>1</td>\n",
              "      <td>3</td>\n",
              "      <td>2.0</td>\n",
              "      <td>10.0</td>\n",
              "      <td>11.0</td>\n",
              "      <td>2</td>\n",
              "    </tr>\n",
              "    <tr>\n",
              "      <th>346587</th>\n",
              "      <td>346587</td>\n",
              "      <td>23.649330</td>\n",
              "      <td>141.895980</td>\n",
              "      <td>1.0</td>\n",
              "      <td>0</td>\n",
              "      <td>1</td>\n",
              "      <td>0</td>\n",
              "      <td>0</td>\n",
              "      <td>0.000000</td>\n",
              "      <td>0</td>\n",
              "      <td>0.000000</td>\n",
              "      <td>0</td>\n",
              "      <td>0.0</td>\n",
              "      <td>1</td>\n",
              "      <td>1.000000</td>\n",
              "      <td>1</td>\n",
              "      <td>1.0</td>\n",
              "      <td>1</td>\n",
              "      <td>1.0</td>\n",
              "      <td>0</td>\n",
              "      <td>0.0</td>\n",
              "      <td>0.00000</td>\n",
              "      <td>0.00000</td>\n",
              "      <td>0.00000</td>\n",
              "      <td>0.0</td>\n",
              "      <td>0.0</td>\n",
              "      <td>0.00000</td>\n",
              "      <td>0.00000</td>\n",
              "      <td>0.00000</td>\n",
              "      <td>0.00000</td>\n",
              "      <td>0.0</td>\n",
              "      <td>0.0</td>\n",
              "      <td>235.37232</td>\n",
              "      <td>771.13536</td>\n",
              "      <td>266.56576</td>\n",
              "      <td>387.10032</td>\n",
              "      <td>0.0</td>\n",
              "      <td>0.0</td>\n",
              "      <td>360.0</td>\n",
              "      <td>588.0</td>\n",
              "      <td>3.500000</td>\n",
              "      <td>0.0</td>\n",
              "      <td>0.0</td>\n",
              "      <td>0.0</td>\n",
              "      <td>683.35956</td>\n",
              "      <td>970.85208</td>\n",
              "      <td>18.000000</td>\n",
              "      <td>0.0000</td>\n",
              "      <td>0.0000</td>\n",
              "      <td>0.000000</td>\n",
              "      <td>1</td>\n",
              "      <td>0</td>\n",
              "      <td>0.833333</td>\n",
              "      <td>0.166667</td>\n",
              "      <td>1</td>\n",
              "      <td>1.0</td>\n",
              "      <td>1</td>\n",
              "      <td>1</td>\n",
              "      <td>0</td>\n",
              "      <td>1862.59880</td>\n",
              "      <td>1992.16776</td>\n",
              "      <td>1804.64064</td>\n",
              "      <td>47.0</td>\n",
              "      <td>151</td>\n",
              "      <td>151.0</td>\n",
              "      <td>1</td>\n",
              "      <td>2</td>\n",
              "      <td>1.0</td>\n",
              "      <td>10.0</td>\n",
              "      <td>2.0</td>\n",
              "      <td>3</td>\n",
              "    </tr>\n",
              "    <tr>\n",
              "      <th>441310</th>\n",
              "      <td>441310</td>\n",
              "      <td>20.986008</td>\n",
              "      <td>125.916046</td>\n",
              "      <td>2.0</td>\n",
              "      <td>0</td>\n",
              "      <td>0</td>\n",
              "      <td>1</td>\n",
              "      <td>0</td>\n",
              "      <td>0.000000</td>\n",
              "      <td>0</td>\n",
              "      <td>0.000000</td>\n",
              "      <td>0</td>\n",
              "      <td>0.0</td>\n",
              "      <td>0</td>\n",
              "      <td>0.000000</td>\n",
              "      <td>1</td>\n",
              "      <td>1.0</td>\n",
              "      <td>0</td>\n",
              "      <td>0.0</td>\n",
              "      <td>0</td>\n",
              "      <td>0.0</td>\n",
              "      <td>0.00000</td>\n",
              "      <td>0.00000</td>\n",
              "      <td>0.00000</td>\n",
              "      <td>0.0</td>\n",
              "      <td>0.0</td>\n",
              "      <td>0.00000</td>\n",
              "      <td>0.00000</td>\n",
              "      <td>-1803.32232</td>\n",
              "      <td>-1803.32232</td>\n",
              "      <td>0.0</td>\n",
              "      <td>0.0</td>\n",
              "      <td>8.44656</td>\n",
              "      <td>11.54016</td>\n",
              "      <td>0.00000</td>\n",
              "      <td>0.00000</td>\n",
              "      <td>0.0</td>\n",
              "      <td>0.0</td>\n",
              "      <td>0.0</td>\n",
              "      <td>0.0</td>\n",
              "      <td>0.000000</td>\n",
              "      <td>0.0</td>\n",
              "      <td>0.0</td>\n",
              "      <td>0.0</td>\n",
              "      <td>0.00000</td>\n",
              "      <td>0.00000</td>\n",
              "      <td>0.000000</td>\n",
              "      <td>0.0000</td>\n",
              "      <td>0.0000</td>\n",
              "      <td>0.000000</td>\n",
              "      <td>1</td>\n",
              "      <td>0</td>\n",
              "      <td>0.000000</td>\n",
              "      <td>0.000000</td>\n",
              "      <td>1</td>\n",
              "      <td>1.0</td>\n",
              "      <td>0</td>\n",
              "      <td>0</td>\n",
              "      <td>0</td>\n",
              "      <td>960.00000</td>\n",
              "      <td>960.00000</td>\n",
              "      <td>960.00000</td>\n",
              "      <td>52.0</td>\n",
              "      <td>18</td>\n",
              "      <td>135.0</td>\n",
              "      <td>0</td>\n",
              "      <td>3</td>\n",
              "      <td>2.0</td>\n",
              "      <td>10.0</td>\n",
              "      <td>10.0</td>\n",
              "      <td>3</td>\n",
              "    </tr>\n",
              "    <tr>\n",
              "      <th>160819</th>\n",
              "      <td>160819</td>\n",
              "      <td>55.721122</td>\n",
              "      <td>334.326730</td>\n",
              "      <td>2.0</td>\n",
              "      <td>0</td>\n",
              "      <td>0</td>\n",
              "      <td>1</td>\n",
              "      <td>0</td>\n",
              "      <td>0.000000</td>\n",
              "      <td>0</td>\n",
              "      <td>1.666667</td>\n",
              "      <td>0</td>\n",
              "      <td>0.0</td>\n",
              "      <td>1</td>\n",
              "      <td>1.000000</td>\n",
              "      <td>1</td>\n",
              "      <td>1.0</td>\n",
              "      <td>0</td>\n",
              "      <td>0.0</td>\n",
              "      <td>0</td>\n",
              "      <td>0.0</td>\n",
              "      <td>-15.83160</td>\n",
              "      <td>0.00000</td>\n",
              "      <td>-56.06952</td>\n",
              "      <td>0.0</td>\n",
              "      <td>0.0</td>\n",
              "      <td>0.00000</td>\n",
              "      <td>0.00000</td>\n",
              "      <td>-7127.08248</td>\n",
              "      <td>-7127.08248</td>\n",
              "      <td>0.0</td>\n",
              "      <td>0.0</td>\n",
              "      <td>63.94088</td>\n",
              "      <td>179.65248</td>\n",
              "      <td>0.00000</td>\n",
              "      <td>0.00000</td>\n",
              "      <td>0.0</td>\n",
              "      <td>0.0</td>\n",
              "      <td>0.0</td>\n",
              "      <td>0.0</td>\n",
              "      <td>0.000000</td>\n",
              "      <td>0.0</td>\n",
              "      <td>0.0</td>\n",
              "      <td>0.0</td>\n",
              "      <td>0.00000</td>\n",
              "      <td>0.00000</td>\n",
              "      <td>0.000000</td>\n",
              "      <td>0.0000</td>\n",
              "      <td>0.0000</td>\n",
              "      <td>0.000000</td>\n",
              "      <td>1</td>\n",
              "      <td>0</td>\n",
              "      <td>0.000000</td>\n",
              "      <td>1.000000</td>\n",
              "      <td>1</td>\n",
              "      <td>1.0</td>\n",
              "      <td>1</td>\n",
              "      <td>0</td>\n",
              "      <td>1</td>\n",
              "      <td>864.00000</td>\n",
              "      <td>864.00000</td>\n",
              "      <td>864.00000</td>\n",
              "      <td>57.0</td>\n",
              "      <td>153</td>\n",
              "      <td>353.0</td>\n",
              "      <td>1</td>\n",
              "      <td>2</td>\n",
              "      <td>1.0</td>\n",
              "      <td>7.0</td>\n",
              "      <td>6.0</td>\n",
              "      <td>3</td>\n",
              "    </tr>\n",
              "    <tr>\n",
              "      <th>101672</th>\n",
              "      <td>101672</td>\n",
              "      <td>132.509818</td>\n",
              "      <td>795.058910</td>\n",
              "      <td>2.0</td>\n",
              "      <td>0</td>\n",
              "      <td>0</td>\n",
              "      <td>0</td>\n",
              "      <td>1</td>\n",
              "      <td>0.833333</td>\n",
              "      <td>2</td>\n",
              "      <td>1.666667</td>\n",
              "      <td>0</td>\n",
              "      <td>0.0</td>\n",
              "      <td>1</td>\n",
              "      <td>0.833333</td>\n",
              "      <td>1</td>\n",
              "      <td>1.0</td>\n",
              "      <td>0</td>\n",
              "      <td>0.0</td>\n",
              "      <td>0</td>\n",
              "      <td>0.0</td>\n",
              "      <td>0.00000</td>\n",
              "      <td>0.00000</td>\n",
              "      <td>0.00000</td>\n",
              "      <td>0.0</td>\n",
              "      <td>0.0</td>\n",
              "      <td>-78250.86696</td>\n",
              "      <td>0.00000</td>\n",
              "      <td>0.00000</td>\n",
              "      <td>0.00000</td>\n",
              "      <td>0.0</td>\n",
              "      <td>0.0</td>\n",
              "      <td>209.88724</td>\n",
              "      <td>960.00000</td>\n",
              "      <td>0.00000</td>\n",
              "      <td>0.00000</td>\n",
              "      <td>0.0</td>\n",
              "      <td>0.0</td>\n",
              "      <td>0.0</td>\n",
              "      <td>0.0</td>\n",
              "      <td>0.000000</td>\n",
              "      <td>0.0</td>\n",
              "      <td>0.0</td>\n",
              "      <td>0.0</td>\n",
              "      <td>0.00000</td>\n",
              "      <td>0.00000</td>\n",
              "      <td>0.000000</td>\n",
              "      <td>0.0000</td>\n",
              "      <td>0.0000</td>\n",
              "      <td>0.000000</td>\n",
              "      <td>1</td>\n",
              "      <td>2</td>\n",
              "      <td>2.500000</td>\n",
              "      <td>0.000000</td>\n",
              "      <td>1</td>\n",
              "      <td>1.0</td>\n",
              "      <td>1</td>\n",
              "      <td>0</td>\n",
              "      <td>1</td>\n",
              "      <td>1716.10264</td>\n",
              "      <td>1878.95928</td>\n",
              "      <td>1634.67432</td>\n",
              "      <td>30.0</td>\n",
              "      <td>83</td>\n",
              "      <td>20.0</td>\n",
              "      <td>0</td>\n",
              "      <td>3</td>\n",
              "      <td>2.0</td>\n",
              "      <td>10.0</td>\n",
              "      <td>10.0</td>\n",
              "      <td>1</td>\n",
              "    </tr>\n",
              "    <tr>\n",
              "      <th>365543</th>\n",
              "      <td>365543</td>\n",
              "      <td>27.744924</td>\n",
              "      <td>166.469543</td>\n",
              "      <td>2.0</td>\n",
              "      <td>0</td>\n",
              "      <td>0</td>\n",
              "      <td>1</td>\n",
              "      <td>0</td>\n",
              "      <td>0.000000</td>\n",
              "      <td>0</td>\n",
              "      <td>0.000000</td>\n",
              "      <td>0</td>\n",
              "      <td>0.0</td>\n",
              "      <td>1</td>\n",
              "      <td>1.000000</td>\n",
              "      <td>1</td>\n",
              "      <td>1.0</td>\n",
              "      <td>0</td>\n",
              "      <td>0.0</td>\n",
              "      <td>0</td>\n",
              "      <td>0.0</td>\n",
              "      <td>0.00000</td>\n",
              "      <td>0.00000</td>\n",
              "      <td>0.00000</td>\n",
              "      <td>0.0</td>\n",
              "      <td>0.0</td>\n",
              "      <td>0.00000</td>\n",
              "      <td>0.00000</td>\n",
              "      <td>-3360.57840</td>\n",
              "      <td>-3360.57840</td>\n",
              "      <td>0.0</td>\n",
              "      <td>0.0</td>\n",
              "      <td>2.80312</td>\n",
              "      <td>10.58088</td>\n",
              "      <td>0.00000</td>\n",
              "      <td>0.00000</td>\n",
              "      <td>0.0</td>\n",
              "      <td>0.0</td>\n",
              "      <td>0.0</td>\n",
              "      <td>0.0</td>\n",
              "      <td>0.000000</td>\n",
              "      <td>0.0</td>\n",
              "      <td>0.0</td>\n",
              "      <td>0.0</td>\n",
              "      <td>0.00000</td>\n",
              "      <td>0.00000</td>\n",
              "      <td>0.000000</td>\n",
              "      <td>0.0000</td>\n",
              "      <td>0.0000</td>\n",
              "      <td>0.000000</td>\n",
              "      <td>1</td>\n",
              "      <td>0</td>\n",
              "      <td>0.000000</td>\n",
              "      <td>1.000000</td>\n",
              "      <td>1</td>\n",
              "      <td>1.0</td>\n",
              "      <td>1</td>\n",
              "      <td>0</td>\n",
              "      <td>1</td>\n",
              "      <td>716.97744</td>\n",
              "      <td>716.97744</td>\n",
              "      <td>716.97744</td>\n",
              "      <td>31.0</td>\n",
              "      <td>61</td>\n",
              "      <td>86.0</td>\n",
              "      <td>0</td>\n",
              "      <td>3</td>\n",
              "      <td>2.0</td>\n",
              "      <td>13.0</td>\n",
              "      <td>10.0</td>\n",
              "      <td>2</td>\n",
              "    </tr>\n",
              "    <tr>\n",
              "      <th>63381</th>\n",
              "      <td>63381</td>\n",
              "      <td>0.006795</td>\n",
              "      <td>0.040771</td>\n",
              "      <td>3.0</td>\n",
              "      <td>1</td>\n",
              "      <td>0</td>\n",
              "      <td>0</td>\n",
              "      <td>0</td>\n",
              "      <td>0.000000</td>\n",
              "      <td>0</td>\n",
              "      <td>0.000000</td>\n",
              "      <td>0</td>\n",
              "      <td>0.0</td>\n",
              "      <td>1</td>\n",
              "      <td>1.000000</td>\n",
              "      <td>1</td>\n",
              "      <td>1.0</td>\n",
              "      <td>0</td>\n",
              "      <td>0.0</td>\n",
              "      <td>0</td>\n",
              "      <td>0.0</td>\n",
              "      <td>0.00000</td>\n",
              "      <td>0.00000</td>\n",
              "      <td>0.00000</td>\n",
              "      <td>0.0</td>\n",
              "      <td>0.0</td>\n",
              "      <td>0.00000</td>\n",
              "      <td>0.00000</td>\n",
              "      <td>0.00000</td>\n",
              "      <td>0.00000</td>\n",
              "      <td>0.0</td>\n",
              "      <td>0.0</td>\n",
              "      <td>1.01568</td>\n",
              "      <td>1.01568</td>\n",
              "      <td>0.00000</td>\n",
              "      <td>0.00000</td>\n",
              "      <td>0.0</td>\n",
              "      <td>0.0</td>\n",
              "      <td>0.0</td>\n",
              "      <td>0.0</td>\n",
              "      <td>0.000000</td>\n",
              "      <td>0.0</td>\n",
              "      <td>0.0</td>\n",
              "      <td>0.0</td>\n",
              "      <td>0.00000</td>\n",
              "      <td>0.00000</td>\n",
              "      <td>0.000000</td>\n",
              "      <td>0.0000</td>\n",
              "      <td>0.0000</td>\n",
              "      <td>0.000000</td>\n",
              "      <td>1</td>\n",
              "      <td>0</td>\n",
              "      <td>0.000000</td>\n",
              "      <td>0.000000</td>\n",
              "      <td>0</td>\n",
              "      <td>0.0</td>\n",
              "      <td>1</td>\n",
              "      <td>0</td>\n",
              "      <td>1</td>\n",
              "      <td>174.35496</td>\n",
              "      <td>174.35496</td>\n",
              "      <td>174.35496</td>\n",
              "      <td>52.0</td>\n",
              "      <td>98</td>\n",
              "      <td>91.0</td>\n",
              "      <td>1</td>\n",
              "      <td>1</td>\n",
              "      <td>0.0</td>\n",
              "      <td>7.0</td>\n",
              "      <td>10.0</td>\n",
              "      <td>3</td>\n",
              "    </tr>\n",
              "    <tr>\n",
              "      <th>336415</th>\n",
              "      <td>336415</td>\n",
              "      <td>79.818986</td>\n",
              "      <td>478.913914</td>\n",
              "      <td>0.0</td>\n",
              "      <td>0</td>\n",
              "      <td>0</td>\n",
              "      <td>0</td>\n",
              "      <td>1</td>\n",
              "      <td>1.000000</td>\n",
              "      <td>0</td>\n",
              "      <td>0.000000</td>\n",
              "      <td>0</td>\n",
              "      <td>0.0</td>\n",
              "      <td>1</td>\n",
              "      <td>1.000000</td>\n",
              "      <td>1</td>\n",
              "      <td>1.0</td>\n",
              "      <td>0</td>\n",
              "      <td>0.0</td>\n",
              "      <td>0</td>\n",
              "      <td>0.0</td>\n",
              "      <td>0.00000</td>\n",
              "      <td>0.00000</td>\n",
              "      <td>0.00000</td>\n",
              "      <td>0.0</td>\n",
              "      <td>0.0</td>\n",
              "      <td>-32806.13760</td>\n",
              "      <td>-32806.13760</td>\n",
              "      <td>0.00000</td>\n",
              "      <td>0.00000</td>\n",
              "      <td>0.0</td>\n",
              "      <td>0.0</td>\n",
              "      <td>237.65356</td>\n",
              "      <td>464.38248</td>\n",
              "      <td>0.00000</td>\n",
              "      <td>0.00000</td>\n",
              "      <td>0.0</td>\n",
              "      <td>0.0</td>\n",
              "      <td>0.0</td>\n",
              "      <td>0.0</td>\n",
              "      <td>0.000000</td>\n",
              "      <td>0.0</td>\n",
              "      <td>0.0</td>\n",
              "      <td>0.0</td>\n",
              "      <td>1.55200</td>\n",
              "      <td>9.31200</td>\n",
              "      <td>0.166667</td>\n",
              "      <td>0.0000</td>\n",
              "      <td>0.0000</td>\n",
              "      <td>0.000000</td>\n",
              "      <td>1</td>\n",
              "      <td>8</td>\n",
              "      <td>3.000000</td>\n",
              "      <td>0.000000</td>\n",
              "      <td>1</td>\n",
              "      <td>1.0</td>\n",
              "      <td>1</td>\n",
              "      <td>0</td>\n",
              "      <td>1</td>\n",
              "      <td>1320.00000</td>\n",
              "      <td>1320.00000</td>\n",
              "      <td>1320.00000</td>\n",
              "      <td>35.0</td>\n",
              "      <td>25</td>\n",
              "      <td>130.0</td>\n",
              "      <td>0</td>\n",
              "      <td>3</td>\n",
              "      <td>2.0</td>\n",
              "      <td>2.0</td>\n",
              "      <td>10.0</td>\n",
              "      <td>2</td>\n",
              "    </tr>\n",
              "    <tr>\n",
              "      <th>213421</th>\n",
              "      <td>213421</td>\n",
              "      <td>83.195643</td>\n",
              "      <td>499.173858</td>\n",
              "      <td>2.0</td>\n",
              "      <td>1</td>\n",
              "      <td>0</td>\n",
              "      <td>1</td>\n",
              "      <td>0</td>\n",
              "      <td>0.000000</td>\n",
              "      <td>0</td>\n",
              "      <td>0.000000</td>\n",
              "      <td>0</td>\n",
              "      <td>0.0</td>\n",
              "      <td>1</td>\n",
              "      <td>1.000000</td>\n",
              "      <td>1</td>\n",
              "      <td>1.0</td>\n",
              "      <td>0</td>\n",
              "      <td>0.0</td>\n",
              "      <td>0</td>\n",
              "      <td>0.0</td>\n",
              "      <td>0.00000</td>\n",
              "      <td>0.00000</td>\n",
              "      <td>0.00000</td>\n",
              "      <td>0.0</td>\n",
              "      <td>0.0</td>\n",
              "      <td>0.00000</td>\n",
              "      <td>0.00000</td>\n",
              "      <td>-6620.55672</td>\n",
              "      <td>-6620.55672</td>\n",
              "      <td>0.0</td>\n",
              "      <td>0.0</td>\n",
              "      <td>5.83536</td>\n",
              "      <td>12.79200</td>\n",
              "      <td>0.00000</td>\n",
              "      <td>0.00000</td>\n",
              "      <td>0.0</td>\n",
              "      <td>0.0</td>\n",
              "      <td>0.0</td>\n",
              "      <td>0.0</td>\n",
              "      <td>0.000000</td>\n",
              "      <td>0.0</td>\n",
              "      <td>0.0</td>\n",
              "      <td>0.0</td>\n",
              "      <td>1.59200</td>\n",
              "      <td>9.55200</td>\n",
              "      <td>0.333333</td>\n",
              "      <td>0.0000</td>\n",
              "      <td>0.0000</td>\n",
              "      <td>0.000000</td>\n",
              "      <td>1</td>\n",
              "      <td>0</td>\n",
              "      <td>0.000000</td>\n",
              "      <td>0.000000</td>\n",
              "      <td>1</td>\n",
              "      <td>1.0</td>\n",
              "      <td>1</td>\n",
              "      <td>0</td>\n",
              "      <td>1</td>\n",
              "      <td>675.07309</td>\n",
              "      <td>675.07309</td>\n",
              "      <td>675.07309</td>\n",
              "      <td>39.0</td>\n",
              "      <td>27</td>\n",
              "      <td>222.0</td>\n",
              "      <td>1</td>\n",
              "      <td>3</td>\n",
              "      <td>2.0</td>\n",
              "      <td>1.0</td>\n",
              "      <td>10.0</td>\n",
              "      <td>2</td>\n",
              "    </tr>\n",
              "    <tr>\n",
              "      <th>293086</th>\n",
              "      <td>293086</td>\n",
              "      <td>26.818682</td>\n",
              "      <td>160.912095</td>\n",
              "      <td>3.0</td>\n",
              "      <td>1</td>\n",
              "      <td>0</td>\n",
              "      <td>0</td>\n",
              "      <td>0</td>\n",
              "      <td>0.000000</td>\n",
              "      <td>2</td>\n",
              "      <td>2.000000</td>\n",
              "      <td>0</td>\n",
              "      <td>0.0</td>\n",
              "      <td>1</td>\n",
              "      <td>1.000000</td>\n",
              "      <td>4</td>\n",
              "      <td>4.0</td>\n",
              "      <td>1</td>\n",
              "      <td>1.0</td>\n",
              "      <td>0</td>\n",
              "      <td>0.0</td>\n",
              "      <td>-1792.30728</td>\n",
              "      <td>-1665.76632</td>\n",
              "      <td>-1974.34632</td>\n",
              "      <td>0.0</td>\n",
              "      <td>0.0</td>\n",
              "      <td>0.00000</td>\n",
              "      <td>0.00000</td>\n",
              "      <td>0.00000</td>\n",
              "      <td>0.00000</td>\n",
              "      <td>0.0</td>\n",
              "      <td>0.0</td>\n",
              "      <td>39.48552</td>\n",
              "      <td>119.38152</td>\n",
              "      <td>0.00000</td>\n",
              "      <td>0.00000</td>\n",
              "      <td>0.0</td>\n",
              "      <td>0.0</td>\n",
              "      <td>0.0</td>\n",
              "      <td>0.0</td>\n",
              "      <td>0.000000</td>\n",
              "      <td>0.0</td>\n",
              "      <td>0.0</td>\n",
              "      <td>0.0</td>\n",
              "      <td>0.00000</td>\n",
              "      <td>0.00000</td>\n",
              "      <td>0.000000</td>\n",
              "      <td>138.5140</td>\n",
              "      <td>328.4280</td>\n",
              "      <td>6.166667</td>\n",
              "      <td>1</td>\n",
              "      <td>11</td>\n",
              "      <td>7.000000</td>\n",
              "      <td>2.000000</td>\n",
              "      <td>1</td>\n",
              "      <td>1.0</td>\n",
              "      <td>1</td>\n",
              "      <td>0</td>\n",
              "      <td>1</td>\n",
              "      <td>3113.09136</td>\n",
              "      <td>3113.09136</td>\n",
              "      <td>3113.09136</td>\n",
              "      <td>27.0</td>\n",
              "      <td>61</td>\n",
              "      <td>81.0</td>\n",
              "      <td>1</td>\n",
              "      <td>4</td>\n",
              "      <td>3.0</td>\n",
              "      <td>4.0</td>\n",
              "      <td>2.0</td>\n",
              "      <td>1</td>\n",
              "    </tr>\n",
              "  </tbody>\n",
              "</table>\n",
              "</div>"
            ],
            "text/plain": [
              "         cif_id_  gi_smooth_3m_mean  ...  cu_empl_level_<lambda>  age_category\n",
              "cif_id_                              ...                                      \n",
              "382065    382065         127.115946  ...                    11.0             2\n",
              "346587    346587          23.649330  ...                     2.0             3\n",
              "441310    441310          20.986008  ...                    10.0             3\n",
              "160819    160819          55.721122  ...                     6.0             3\n",
              "101672    101672         132.509818  ...                    10.0             1\n",
              "365543    365543          27.744924  ...                    10.0             2\n",
              "63381      63381           0.006795  ...                    10.0             3\n",
              "336415    336415          79.818986  ...                    10.0             2\n",
              "213421    213421          83.195643  ...                    10.0             2\n",
              "293086    293086          26.818682  ...                     2.0             1\n",
              "\n",
              "[10 rows x 71 columns]"
            ]
          },
          "metadata": {
            "tags": []
          },
          "execution_count": 303
        }
      ]
    },
    {
      "cell_type": "markdown",
      "metadata": {
        "id": "ayZw76thq6gk",
        "colab_type": "text"
      },
      "source": [
        "### Создание тестовых колонок"
      ]
    },
    {
      "cell_type": "code",
      "metadata": {
        "id": "Io57PiocrK6j",
        "colab_type": "code",
        "colab": {}
      },
      "source": [
        "# Граница для тестовой выборки\n",
        "test_threshold = pd.to_datetime('2018-06-30T00:00:00.000000000')"
      ],
      "execution_count": 0,
      "outputs": []
    },
    {
      "cell_type": "code",
      "metadata": {
        "id": "Z-JD8rS8rotq",
        "colab_type": "code",
        "colab": {}
      },
      "source": [
        "# Отбираем записи начиная с 7 месяца\n",
        "dataset_test = dataset.loc[:,['cif_id', 'dlk_cob_date', 'gi_smooth_3m']]\\\n",
        "                      .query('dlk_cob_date < @test_threshold')\\\n",
        "                      .groupby('cif_id', as_index=False)\\\n",
        "                      .agg({'dlk_cob_date': ['max', 'min', 'count'],\n",
        "                              'gi_smooth_3m': ['mean', 'sum']})"
      ],
      "execution_count": 0,
      "outputs": []
    },
    {
      "cell_type": "code",
      "metadata": {
        "id": "Si-SMvhWtKz5",
        "colab_type": "code",
        "outputId": "40d24277-7ff8-4532-ac4f-ee3040cc6199",
        "colab": {
          "base_uri": "https://localhost:8080/",
          "height": 0
        }
      },
      "source": [
        "dataset_test.columns = [\"_\".join(x) for x in dataset_test.columns.ravel()]\n",
        "dataset_test.head(5)"
      ],
      "execution_count": 306,
      "outputs": [
        {
          "output_type": "execute_result",
          "data": {
            "text/html": [
              "<div>\n",
              "<style scoped>\n",
              "    .dataframe tbody tr th:only-of-type {\n",
              "        vertical-align: middle;\n",
              "    }\n",
              "\n",
              "    .dataframe tbody tr th {\n",
              "        vertical-align: top;\n",
              "    }\n",
              "\n",
              "    .dataframe thead th {\n",
              "        text-align: right;\n",
              "    }\n",
              "</style>\n",
              "<table border=\"1\" class=\"dataframe\">\n",
              "  <thead>\n",
              "    <tr style=\"text-align: right;\">\n",
              "      <th></th>\n",
              "      <th>cif_id_</th>\n",
              "      <th>dlk_cob_date_max</th>\n",
              "      <th>dlk_cob_date_min</th>\n",
              "      <th>dlk_cob_date_count</th>\n",
              "      <th>gi_smooth_3m_mean</th>\n",
              "      <th>gi_smooth_3m_sum</th>\n",
              "    </tr>\n",
              "  </thead>\n",
              "  <tbody>\n",
              "    <tr>\n",
              "      <th>0</th>\n",
              "      <td>1001</td>\n",
              "      <td>2018-05-31</td>\n",
              "      <td>2018-01-31</td>\n",
              "      <td>5</td>\n",
              "      <td>102.675029</td>\n",
              "      <td>513.375145</td>\n",
              "    </tr>\n",
              "    <tr>\n",
              "      <th>1</th>\n",
              "      <td>1002</td>\n",
              "      <td>2018-05-31</td>\n",
              "      <td>2018-01-31</td>\n",
              "      <td>5</td>\n",
              "      <td>40.679868</td>\n",
              "      <td>203.399339</td>\n",
              "    </tr>\n",
              "    <tr>\n",
              "      <th>2</th>\n",
              "      <td>1004</td>\n",
              "      <td>2018-05-31</td>\n",
              "      <td>2018-01-31</td>\n",
              "      <td>5</td>\n",
              "      <td>0.164380</td>\n",
              "      <td>0.821898</td>\n",
              "    </tr>\n",
              "    <tr>\n",
              "      <th>3</th>\n",
              "      <td>1005</td>\n",
              "      <td>2018-05-31</td>\n",
              "      <td>2018-01-31</td>\n",
              "      <td>5</td>\n",
              "      <td>0.007933</td>\n",
              "      <td>0.039663</td>\n",
              "    </tr>\n",
              "    <tr>\n",
              "      <th>4</th>\n",
              "      <td>1007</td>\n",
              "      <td>2018-05-31</td>\n",
              "      <td>2018-01-31</td>\n",
              "      <td>5</td>\n",
              "      <td>1.643892</td>\n",
              "      <td>8.219458</td>\n",
              "    </tr>\n",
              "  </tbody>\n",
              "</table>\n",
              "</div>"
            ],
            "text/plain": [
              "   cif_id_ dlk_cob_date_max  ... gi_smooth_3m_mean  gi_smooth_3m_sum\n",
              "0     1001       2018-05-31  ...        102.675029        513.375145\n",
              "1     1002       2018-05-31  ...         40.679868        203.399339\n",
              "2     1004       2018-05-31  ...          0.164380          0.821898\n",
              "3     1005       2018-05-31  ...          0.007933          0.039663\n",
              "4     1007       2018-05-31  ...          1.643892          8.219458\n",
              "\n",
              "[5 rows x 6 columns]"
            ]
          },
          "metadata": {
            "tags": []
          },
          "execution_count": 306
        }
      ]
    },
    {
      "cell_type": "code",
      "metadata": {
        "id": "m5lLJTo5sGJo",
        "colab_type": "code",
        "colab": {}
      },
      "source": [
        "# Удаляем клиентов которые провели в банке меньше 12 месяцев\n",
        "dataset_test.index = dataset_test['cif_id_']\n",
        "dataset_test = dataset_test.drop(useless_ids, axis=0, errors='ignore')"
      ],
      "execution_count": 0,
      "outputs": []
    },
    {
      "cell_type": "code",
      "metadata": {
        "id": "qkXzc0GKst4B",
        "colab_type": "code",
        "outputId": "7a374874-7bc4-4ae8-a6b8-23ae38f1c3de",
        "colab": {
          "base_uri": "https://localhost:8080/",
          "height": 0
        }
      },
      "source": [
        "# Проверим на совпадение количество клиентов в тестовой и тренировочной выборках\n",
        "print(dataset_test.shape, dataset_train.shape)"
      ],
      "execution_count": 308,
      "outputs": [
        {
          "output_type": "stream",
          "text": [
            "(299691, 6) (299691, 71)\n"
          ],
          "name": "stdout"
        }
      ]
    },
    {
      "cell_type": "code",
      "metadata": {
        "id": "XV5IYd_CuIqa",
        "colab_type": "code",
        "outputId": "8ded6021-5c33-4c73-ff99-a69c74a97f87",
        "colab": {
          "base_uri": "https://localhost:8080/",
          "height": 0
        }
      },
      "source": [
        "dataset_test.columns"
      ],
      "execution_count": 309,
      "outputs": [
        {
          "output_type": "execute_result",
          "data": {
            "text/plain": [
              "Index(['cif_id_', 'dlk_cob_date_max', 'dlk_cob_date_min', 'dlk_cob_date_count',\n",
              "       'gi_smooth_3m_mean', 'gi_smooth_3m_sum'],\n",
              "      dtype='object')"
            ]
          },
          "metadata": {
            "tags": []
          },
          "execution_count": 309
        }
      ]
    },
    {
      "cell_type": "code",
      "metadata": {
        "id": "nk2ToEOcufRA",
        "colab_type": "code",
        "colab": {}
      },
      "source": [
        "dataset_test = dataset_test\\\n",
        "                   .drop(['dlk_cob_date_max',\n",
        "                   'dlk_cob_date_min',\n",
        "                   'dlk_cob_date_count'], axis=1)"
      ],
      "execution_count": 0,
      "outputs": []
    },
    {
      "cell_type": "code",
      "metadata": {
        "id": "Ax96IV09ti8n",
        "colab_type": "code",
        "outputId": "2b85c579-134f-43ca-976f-a96e7ee04b5b",
        "colab": {
          "base_uri": "https://localhost:8080/",
          "height": 0
        }
      },
      "source": [
        "dataset_test = dataset_test\\\n",
        "                   .rename({'gi_smooth_3m_mean': 'mean_month_cltv',\n",
        "                            'gi_smooth_3m_sum': 'sum_cltv'},\n",
        "                           axis=1)\n",
        "dataset_test.head()"
      ],
      "execution_count": 311,
      "outputs": [
        {
          "output_type": "execute_result",
          "data": {
            "text/html": [
              "<div>\n",
              "<style scoped>\n",
              "    .dataframe tbody tr th:only-of-type {\n",
              "        vertical-align: middle;\n",
              "    }\n",
              "\n",
              "    .dataframe tbody tr th {\n",
              "        vertical-align: top;\n",
              "    }\n",
              "\n",
              "    .dataframe thead th {\n",
              "        text-align: right;\n",
              "    }\n",
              "</style>\n",
              "<table border=\"1\" class=\"dataframe\">\n",
              "  <thead>\n",
              "    <tr style=\"text-align: right;\">\n",
              "      <th></th>\n",
              "      <th>cif_id_</th>\n",
              "      <th>mean_month_cltv</th>\n",
              "      <th>sum_cltv</th>\n",
              "    </tr>\n",
              "    <tr>\n",
              "      <th>cif_id_</th>\n",
              "      <th></th>\n",
              "      <th></th>\n",
              "      <th></th>\n",
              "    </tr>\n",
              "  </thead>\n",
              "  <tbody>\n",
              "    <tr>\n",
              "      <th>1001</th>\n",
              "      <td>1001</td>\n",
              "      <td>102.675029</td>\n",
              "      <td>513.375145</td>\n",
              "    </tr>\n",
              "    <tr>\n",
              "      <th>1002</th>\n",
              "      <td>1002</td>\n",
              "      <td>40.679868</td>\n",
              "      <td>203.399339</td>\n",
              "    </tr>\n",
              "    <tr>\n",
              "      <th>1004</th>\n",
              "      <td>1004</td>\n",
              "      <td>0.164380</td>\n",
              "      <td>0.821898</td>\n",
              "    </tr>\n",
              "    <tr>\n",
              "      <th>1005</th>\n",
              "      <td>1005</td>\n",
              "      <td>0.007933</td>\n",
              "      <td>0.039663</td>\n",
              "    </tr>\n",
              "    <tr>\n",
              "      <th>1007</th>\n",
              "      <td>1007</td>\n",
              "      <td>1.643892</td>\n",
              "      <td>8.219458</td>\n",
              "    </tr>\n",
              "  </tbody>\n",
              "</table>\n",
              "</div>"
            ],
            "text/plain": [
              "         cif_id_  mean_month_cltv    sum_cltv\n",
              "cif_id_                                      \n",
              "1001        1001       102.675029  513.375145\n",
              "1002        1002        40.679868  203.399339\n",
              "1004        1004         0.164380    0.821898\n",
              "1005        1005         0.007933    0.039663\n",
              "1007        1007         1.643892    8.219458"
            ]
          },
          "metadata": {
            "tags": []
          },
          "execution_count": 311
        }
      ]
    },
    {
      "cell_type": "markdown",
      "metadata": {
        "id": "bHHPgYloJHwL",
        "colab_type": "text"
      },
      "source": [
        "## Финальный на данном этапе датасет для обучения"
      ]
    },
    {
      "cell_type": "code",
      "metadata": {
        "id": "V-V-sEEoulJY",
        "colab_type": "code",
        "colab": {}
      },
      "source": [
        "dataset_res = dataset_train.merge(dataset_test, how='inner', on=dataset_test.cif_id_)\\\n",
        "             .drop(['key_0', 'cif_id__y'], axis=1)\\\n",
        "             .rename({'cif_id__x': 'cif_id'}, axis=1)"
      ],
      "execution_count": 0,
      "outputs": []
    },
    {
      "cell_type": "code",
      "metadata": {
        "id": "5wKkQ9aWsaVV",
        "colab_type": "code",
        "colab": {
          "base_uri": "https://localhost:8080/",
          "height": 0
        },
        "outputId": "5eb43a80-03aa-4c0d-caa4-f990d616253b"
      },
      "source": [
        "# Взглянем на датасет\n",
        "dataset_res.head(5)"
      ],
      "execution_count": 313,
      "outputs": [
        {
          "output_type": "execute_result",
          "data": {
            "text/html": [
              "<div>\n",
              "<style scoped>\n",
              "    .dataframe tbody tr th:only-of-type {\n",
              "        vertical-align: middle;\n",
              "    }\n",
              "\n",
              "    .dataframe tbody tr th {\n",
              "        vertical-align: top;\n",
              "    }\n",
              "\n",
              "    .dataframe thead th {\n",
              "        text-align: right;\n",
              "    }\n",
              "</style>\n",
              "<table border=\"1\" class=\"dataframe\">\n",
              "  <thead>\n",
              "    <tr style=\"text-align: right;\">\n",
              "      <th></th>\n",
              "      <th>cif_id</th>\n",
              "      <th>gi_smooth_3m_mean</th>\n",
              "      <th>gi_smooth_3m_sum</th>\n",
              "      <th>big_city_&lt;lambda&gt;</th>\n",
              "      <th>cu_gender_&lt;lambda&gt;</th>\n",
              "      <th>payroll_f_&lt;lambda&gt;</th>\n",
              "      <th>cur_quantity_pl_&lt;lambda&gt;</th>\n",
              "      <th>cur_quantity_mort_&lt;lambda_0&gt;</th>\n",
              "      <th>cur_quantity_mort_mean</th>\n",
              "      <th>cur_quantity_cc_&lt;lambda_0&gt;</th>\n",
              "      <th>cur_quantity_cc_mean</th>\n",
              "      <th>cur_quantity_deposits_&lt;lambda_0&gt;</th>\n",
              "      <th>cur_quantity_deposits_mean</th>\n",
              "      <th>cur_quantity_dc_&lt;lambda_0&gt;</th>\n",
              "      <th>cur_quantity_dc_mean</th>\n",
              "      <th>cur_quantity_accounts_&lt;lambda_0&gt;</th>\n",
              "      <th>cur_quantity_accounts_mean</th>\n",
              "      <th>cur_quantity_saccounts_&lt;lambda_0&gt;</th>\n",
              "      <th>cur_quantity_saccounts_mean</th>\n",
              "      <th>cur_quantity_mf_&lt;lambda_0&gt;</th>\n",
              "      <th>cur_quantity_mf_mean</th>\n",
              "      <th>cc_balance_mean</th>\n",
              "      <th>cc_balance_max</th>\n",
              "      <th>cc_balance_min</th>\n",
              "      <th>cl_balance_&lt;lambda_0&gt;</th>\n",
              "      <th>cl_balance_max</th>\n",
              "      <th>ml_balance_&lt;lambda_0&gt;</th>\n",
              "      <th>ml_balance_max</th>\n",
              "      <th>pl_balance_&lt;lambda_0&gt;</th>\n",
              "      <th>pl_balance_max</th>\n",
              "      <th>td_volume_mean</th>\n",
              "      <th>td_volume_max</th>\n",
              "      <th>ca_volume_mean</th>\n",
              "      <th>ca_volume_max</th>\n",
              "      <th>sa_volume_mean</th>\n",
              "      <th>sa_volume_max</th>\n",
              "      <th>mf_volume_mean</th>\n",
              "      <th>mf_volume_max</th>\n",
              "      <th>dc_cash_spend_v_mean</th>\n",
              "      <th>dc_cash_spend_v_max</th>\n",
              "      <th>dc_cash_spend_c_mean</th>\n",
              "      <th>cc_cash_spend_v_mean</th>\n",
              "      <th>cc_cash_spend_v_max</th>\n",
              "      <th>cc_cash_spend_c_mean</th>\n",
              "      <th>dc_pos_spend_v_mean</th>\n",
              "      <th>dc_pos_spend_v_max</th>\n",
              "      <th>dc_pos_spend_c_mean</th>\n",
              "      <th>cc_pos_spend_v_mean</th>\n",
              "      <th>cc_pos_spend_v_max</th>\n",
              "      <th>cc_pos_spend_c_mean</th>\n",
              "      <th>ca_f_&lt;lambda&gt;</th>\n",
              "      <th>rc_session_qnt_cur_mon_&lt;lambda_0&gt;</th>\n",
              "      <th>rc_session_qnt_cur_mon_mean</th>\n",
              "      <th>cur_qnt_sms_mean</th>\n",
              "      <th>active_&lt;lambda_0&gt;</th>\n",
              "      <th>active_mean</th>\n",
              "      <th>standalone_dc_f_&lt;lambda&gt;</th>\n",
              "      <th>standalone_payroll_dc_f_&lt;lambda&gt;</th>\n",
              "      <th>standalone_nonpayroll_dc_f_&lt;lambda&gt;</th>\n",
              "      <th>salary_mean</th>\n",
              "      <th>salary_max</th>\n",
              "      <th>salary_min</th>\n",
              "      <th>cu_age_&lt;lambda&gt;</th>\n",
              "      <th>cu_mob_&lt;lambda&gt;</th>\n",
              "      <th>cu_empl_cur_dur_m_&lt;lambda&gt;</th>\n",
              "      <th>is_married_&lt;lambda&gt;</th>\n",
              "      <th>cu_eduaction_level_&lt;lambda&gt;</th>\n",
              "      <th>cu_education_level_&lt;lambda&gt;</th>\n",
              "      <th>cu_empl_area_&lt;lambda&gt;</th>\n",
              "      <th>cu_empl_level_&lt;lambda&gt;</th>\n",
              "      <th>age_category</th>\n",
              "      <th>mean_month_cltv</th>\n",
              "      <th>sum_cltv</th>\n",
              "    </tr>\n",
              "  </thead>\n",
              "  <tbody>\n",
              "    <tr>\n",
              "      <th>0</th>\n",
              "      <td>1001</td>\n",
              "      <td>92.953501</td>\n",
              "      <td>557.721008</td>\n",
              "      <td>0.0</td>\n",
              "      <td>1</td>\n",
              "      <td>0</td>\n",
              "      <td>0</td>\n",
              "      <td>0</td>\n",
              "      <td>0.0</td>\n",
              "      <td>1</td>\n",
              "      <td>1.0</td>\n",
              "      <td>0</td>\n",
              "      <td>0.0</td>\n",
              "      <td>0</td>\n",
              "      <td>0.0</td>\n",
              "      <td>3</td>\n",
              "      <td>3.0</td>\n",
              "      <td>0</td>\n",
              "      <td>0.0</td>\n",
              "      <td>0</td>\n",
              "      <td>0.0</td>\n",
              "      <td>-2379.09660</td>\n",
              "      <td>-2255.23944</td>\n",
              "      <td>-2560.92120</td>\n",
              "      <td>0.0</td>\n",
              "      <td>0.0</td>\n",
              "      <td>0.0</td>\n",
              "      <td>0.0</td>\n",
              "      <td>0.00</td>\n",
              "      <td>0.00</td>\n",
              "      <td>0.0</td>\n",
              "      <td>0.0</td>\n",
              "      <td>2348.44904</td>\n",
              "      <td>3514.35960</td>\n",
              "      <td>0.0</td>\n",
              "      <td>0.0</td>\n",
              "      <td>0.0</td>\n",
              "      <td>0.0</td>\n",
              "      <td>0.0</td>\n",
              "      <td>0.0</td>\n",
              "      <td>0.000000</td>\n",
              "      <td>0.0</td>\n",
              "      <td>0.0</td>\n",
              "      <td>0.0</td>\n",
              "      <td>0.00000</td>\n",
              "      <td>0.00000</td>\n",
              "      <td>0.000000</td>\n",
              "      <td>0.00000</td>\n",
              "      <td>0.00000</td>\n",
              "      <td>0.0</td>\n",
              "      <td>1</td>\n",
              "      <td>0</td>\n",
              "      <td>0.000000</td>\n",
              "      <td>0.0</td>\n",
              "      <td>1</td>\n",
              "      <td>1.000000</td>\n",
              "      <td>0</td>\n",
              "      <td>0</td>\n",
              "      <td>0</td>\n",
              "      <td>1051.20000</td>\n",
              "      <td>1051.20000</td>\n",
              "      <td>1051.20000</td>\n",
              "      <td>56.0</td>\n",
              "      <td>126</td>\n",
              "      <td>128.0</td>\n",
              "      <td>1</td>\n",
              "      <td>2</td>\n",
              "      <td>1.0</td>\n",
              "      <td>9.0</td>\n",
              "      <td>14.0</td>\n",
              "      <td>3</td>\n",
              "      <td>102.675029</td>\n",
              "      <td>513.375145</td>\n",
              "    </tr>\n",
              "    <tr>\n",
              "      <th>1</th>\n",
              "      <td>1002</td>\n",
              "      <td>38.407051</td>\n",
              "      <td>230.442306</td>\n",
              "      <td>2.0</td>\n",
              "      <td>1</td>\n",
              "      <td>0</td>\n",
              "      <td>1</td>\n",
              "      <td>0</td>\n",
              "      <td>0.0</td>\n",
              "      <td>0</td>\n",
              "      <td>0.0</td>\n",
              "      <td>0</td>\n",
              "      <td>0.0</td>\n",
              "      <td>1</td>\n",
              "      <td>1.0</td>\n",
              "      <td>1</td>\n",
              "      <td>1.0</td>\n",
              "      <td>0</td>\n",
              "      <td>0.0</td>\n",
              "      <td>0</td>\n",
              "      <td>0.0</td>\n",
              "      <td>0.00000</td>\n",
              "      <td>0.00000</td>\n",
              "      <td>0.00000</td>\n",
              "      <td>0.0</td>\n",
              "      <td>0.0</td>\n",
              "      <td>0.0</td>\n",
              "      <td>0.0</td>\n",
              "      <td>-2278.98</td>\n",
              "      <td>-2278.98</td>\n",
              "      <td>0.0</td>\n",
              "      <td>0.0</td>\n",
              "      <td>178.28692</td>\n",
              "      <td>544.45872</td>\n",
              "      <td>0.0</td>\n",
              "      <td>0.0</td>\n",
              "      <td>0.0</td>\n",
              "      <td>0.0</td>\n",
              "      <td>10.0</td>\n",
              "      <td>48.0</td>\n",
              "      <td>0.333333</td>\n",
              "      <td>0.0</td>\n",
              "      <td>0.0</td>\n",
              "      <td>0.0</td>\n",
              "      <td>121.21484</td>\n",
              "      <td>498.35088</td>\n",
              "      <td>7.166667</td>\n",
              "      <td>0.00000</td>\n",
              "      <td>0.00000</td>\n",
              "      <td>0.0</td>\n",
              "      <td>1</td>\n",
              "      <td>1</td>\n",
              "      <td>1.166667</td>\n",
              "      <td>0.0</td>\n",
              "      <td>1</td>\n",
              "      <td>1.000000</td>\n",
              "      <td>1</td>\n",
              "      <td>0</td>\n",
              "      <td>1</td>\n",
              "      <td>480.00000</td>\n",
              "      <td>480.00000</td>\n",
              "      <td>480.00000</td>\n",
              "      <td>49.0</td>\n",
              "      <td>119</td>\n",
              "      <td>93.0</td>\n",
              "      <td>1</td>\n",
              "      <td>2</td>\n",
              "      <td>1.0</td>\n",
              "      <td>2.0</td>\n",
              "      <td>6.0</td>\n",
              "      <td>3</td>\n",
              "      <td>40.679868</td>\n",
              "      <td>203.399339</td>\n",
              "    </tr>\n",
              "    <tr>\n",
              "      <th>2</th>\n",
              "      <td>1004</td>\n",
              "      <td>1.209461</td>\n",
              "      <td>7.256763</td>\n",
              "      <td>2.0</td>\n",
              "      <td>0</td>\n",
              "      <td>0</td>\n",
              "      <td>0</td>\n",
              "      <td>0</td>\n",
              "      <td>0.0</td>\n",
              "      <td>2</td>\n",
              "      <td>2.0</td>\n",
              "      <td>0</td>\n",
              "      <td>0.0</td>\n",
              "      <td>0</td>\n",
              "      <td>0.0</td>\n",
              "      <td>1</td>\n",
              "      <td>1.0</td>\n",
              "      <td>0</td>\n",
              "      <td>0.0</td>\n",
              "      <td>0</td>\n",
              "      <td>0.0</td>\n",
              "      <td>-175.03976</td>\n",
              "      <td>0.03096</td>\n",
              "      <td>-754.55376</td>\n",
              "      <td>0.0</td>\n",
              "      <td>0.0</td>\n",
              "      <td>0.0</td>\n",
              "      <td>0.0</td>\n",
              "      <td>0.00</td>\n",
              "      <td>0.00</td>\n",
              "      <td>0.0</td>\n",
              "      <td>0.0</td>\n",
              "      <td>0.01752</td>\n",
              "      <td>0.01752</td>\n",
              "      <td>0.0</td>\n",
              "      <td>0.0</td>\n",
              "      <td>0.0</td>\n",
              "      <td>0.0</td>\n",
              "      <td>0.0</td>\n",
              "      <td>0.0</td>\n",
              "      <td>0.000000</td>\n",
              "      <td>0.0</td>\n",
              "      <td>0.0</td>\n",
              "      <td>0.0</td>\n",
              "      <td>0.00000</td>\n",
              "      <td>0.00000</td>\n",
              "      <td>0.000000</td>\n",
              "      <td>171.32368</td>\n",
              "      <td>612.10248</td>\n",
              "      <td>6.5</td>\n",
              "      <td>1</td>\n",
              "      <td>0</td>\n",
              "      <td>0.000000</td>\n",
              "      <td>0.0</td>\n",
              "      <td>1</td>\n",
              "      <td>1.000000</td>\n",
              "      <td>0</td>\n",
              "      <td>0</td>\n",
              "      <td>0</td>\n",
              "      <td>960.00000</td>\n",
              "      <td>960.00000</td>\n",
              "      <td>960.00000</td>\n",
              "      <td>52.0</td>\n",
              "      <td>116</td>\n",
              "      <td>92.0</td>\n",
              "      <td>0</td>\n",
              "      <td>3</td>\n",
              "      <td>2.0</td>\n",
              "      <td>7.0</td>\n",
              "      <td>2.0</td>\n",
              "      <td>3</td>\n",
              "      <td>0.164380</td>\n",
              "      <td>0.821898</td>\n",
              "    </tr>\n",
              "    <tr>\n",
              "      <th>3</th>\n",
              "      <td>1005</td>\n",
              "      <td>0.007939</td>\n",
              "      <td>0.047632</td>\n",
              "      <td>1.0</td>\n",
              "      <td>1</td>\n",
              "      <td>0</td>\n",
              "      <td>0</td>\n",
              "      <td>0</td>\n",
              "      <td>0.0</td>\n",
              "      <td>0</td>\n",
              "      <td>0.0</td>\n",
              "      <td>0</td>\n",
              "      <td>0.0</td>\n",
              "      <td>1</td>\n",
              "      <td>1.0</td>\n",
              "      <td>2</td>\n",
              "      <td>2.0</td>\n",
              "      <td>0</td>\n",
              "      <td>0.0</td>\n",
              "      <td>0</td>\n",
              "      <td>0.0</td>\n",
              "      <td>0.00000</td>\n",
              "      <td>0.00000</td>\n",
              "      <td>0.00000</td>\n",
              "      <td>0.0</td>\n",
              "      <td>0.0</td>\n",
              "      <td>0.0</td>\n",
              "      <td>0.0</td>\n",
              "      <td>0.00</td>\n",
              "      <td>0.00</td>\n",
              "      <td>0.0</td>\n",
              "      <td>0.0</td>\n",
              "      <td>1.18656</td>\n",
              "      <td>1.18656</td>\n",
              "      <td>0.0</td>\n",
              "      <td>0.0</td>\n",
              "      <td>0.0</td>\n",
              "      <td>0.0</td>\n",
              "      <td>0.0</td>\n",
              "      <td>0.0</td>\n",
              "      <td>0.000000</td>\n",
              "      <td>0.0</td>\n",
              "      <td>0.0</td>\n",
              "      <td>0.0</td>\n",
              "      <td>0.00000</td>\n",
              "      <td>0.00000</td>\n",
              "      <td>0.000000</td>\n",
              "      <td>0.00000</td>\n",
              "      <td>0.00000</td>\n",
              "      <td>0.0</td>\n",
              "      <td>1</td>\n",
              "      <td>0</td>\n",
              "      <td>0.000000</td>\n",
              "      <td>1.0</td>\n",
              "      <td>0</td>\n",
              "      <td>0.333333</td>\n",
              "      <td>1</td>\n",
              "      <td>0</td>\n",
              "      <td>1</td>\n",
              "      <td>2608.41600</td>\n",
              "      <td>2608.41600</td>\n",
              "      <td>2608.41600</td>\n",
              "      <td>54.0</td>\n",
              "      <td>96</td>\n",
              "      <td>71.0</td>\n",
              "      <td>1</td>\n",
              "      <td>3</td>\n",
              "      <td>2.0</td>\n",
              "      <td>4.0</td>\n",
              "      <td>15.0</td>\n",
              "      <td>3</td>\n",
              "      <td>0.007933</td>\n",
              "      <td>0.039663</td>\n",
              "    </tr>\n",
              "    <tr>\n",
              "      <th>4</th>\n",
              "      <td>1007</td>\n",
              "      <td>1.757232</td>\n",
              "      <td>10.543393</td>\n",
              "      <td>2.0</td>\n",
              "      <td>0</td>\n",
              "      <td>1</td>\n",
              "      <td>0</td>\n",
              "      <td>0</td>\n",
              "      <td>0.0</td>\n",
              "      <td>0</td>\n",
              "      <td>0.0</td>\n",
              "      <td>0</td>\n",
              "      <td>0.0</td>\n",
              "      <td>1</td>\n",
              "      <td>1.0</td>\n",
              "      <td>1</td>\n",
              "      <td>1.0</td>\n",
              "      <td>0</td>\n",
              "      <td>0.0</td>\n",
              "      <td>0</td>\n",
              "      <td>0.0</td>\n",
              "      <td>0.00000</td>\n",
              "      <td>0.00000</td>\n",
              "      <td>0.00000</td>\n",
              "      <td>0.0</td>\n",
              "      <td>0.0</td>\n",
              "      <td>0.0</td>\n",
              "      <td>0.0</td>\n",
              "      <td>0.00</td>\n",
              "      <td>0.00</td>\n",
              "      <td>0.0</td>\n",
              "      <td>0.0</td>\n",
              "      <td>11.96200</td>\n",
              "      <td>32.89512</td>\n",
              "      <td>0.0</td>\n",
              "      <td>0.0</td>\n",
              "      <td>0.0</td>\n",
              "      <td>0.0</td>\n",
              "      <td>164.0</td>\n",
              "      <td>744.0</td>\n",
              "      <td>0.500000</td>\n",
              "      <td>0.0</td>\n",
              "      <td>0.0</td>\n",
              "      <td>0.0</td>\n",
              "      <td>61.41200</td>\n",
              "      <td>249.31200</td>\n",
              "      <td>1.666667</td>\n",
              "      <td>0.00000</td>\n",
              "      <td>0.00000</td>\n",
              "      <td>0.0</td>\n",
              "      <td>1</td>\n",
              "      <td>0</td>\n",
              "      <td>0.000000</td>\n",
              "      <td>1.0</td>\n",
              "      <td>1</td>\n",
              "      <td>1.000000</td>\n",
              "      <td>1</td>\n",
              "      <td>1</td>\n",
              "      <td>0</td>\n",
              "      <td>112.29792</td>\n",
              "      <td>112.29792</td>\n",
              "      <td>112.29792</td>\n",
              "      <td>35.0</td>\n",
              "      <td>77</td>\n",
              "      <td>86.0</td>\n",
              "      <td>1</td>\n",
              "      <td>1</td>\n",
              "      <td>0.0</td>\n",
              "      <td>10.0</td>\n",
              "      <td>10.0</td>\n",
              "      <td>2</td>\n",
              "      <td>1.643892</td>\n",
              "      <td>8.219458</td>\n",
              "    </tr>\n",
              "  </tbody>\n",
              "</table>\n",
              "</div>"
            ],
            "text/plain": [
              "   cif_id  gi_smooth_3m_mean  ...  mean_month_cltv    sum_cltv\n",
              "0    1001          92.953501  ...       102.675029  513.375145\n",
              "1    1002          38.407051  ...        40.679868  203.399339\n",
              "2    1004           1.209461  ...         0.164380    0.821898\n",
              "3    1005           0.007939  ...         0.007933    0.039663\n",
              "4    1007           1.757232  ...         1.643892    8.219458\n",
              "\n",
              "[5 rows x 73 columns]"
            ]
          },
          "metadata": {
            "tags": []
          },
          "execution_count": 313
        }
      ]
    },
    {
      "cell_type": "code",
      "metadata": {
        "id": "qMt5N1xPtsDr",
        "colab_type": "code",
        "outputId": "516de46d-8477-4ca7-cda9-114398b8295b",
        "colab": {
          "base_uri": "https://localhost:8080/",
          "height": 0
        }
      },
      "source": [
        "# Проверим на наны!\n",
        "nans = search_nan(dataset_res)"
      ],
      "execution_count": 314,
      "outputs": [
        {
          "output_type": "stream",
          "text": [
            "Роскошно, нанов нет!\n"
          ],
          "name": "stdout"
        }
      ]
    },
    {
      "cell_type": "code",
      "metadata": {
        "id": "YPVDCRQvw5DZ",
        "colab_type": "code",
        "outputId": "43dd03b1-55c6-4c7c-cb08-e987b6cf048f",
        "colab": {
          "base_uri": "https://localhost:8080/",
          "height": 0
        }
      },
      "source": [
        "# Сохраним этот чертов датасет, наконец-то(!) в чертову директорию\n",
        "if nans == 0:\n",
        "  dataset_res.to_csv(path + 'preproc_train.csv')\n",
        "  print(\"Dataset сохранен\")\n",
        "else:\n",
        "  print(\"Данные имеют пропуски, их необходимо ликвидировать, файл не сохранен\")"
      ],
      "execution_count": 315,
      "outputs": [
        {
          "output_type": "stream",
          "text": [
            "Dataset сохранен\n"
          ],
          "name": "stdout"
        }
      ]
    },
    {
      "cell_type": "markdown",
      "metadata": {
        "id": "_jsGH-noSQNR",
        "colab_type": "text"
      },
      "source": [
        "## Работа с временными рядами"
      ]
    },
    {
      "cell_type": "markdown",
      "metadata": {
        "id": "eoVa9ajHJXby",
        "colab_type": "text"
      },
      "source": [
        "### Использование библиотеки tsfresh\n",
        "Библиотека для выявления фичей из временных рядов (time-series)"
      ]
    },
    {
      "cell_type": "code",
      "metadata": {
        "id": "Fg_Tux6OSz7P",
        "colab_type": "code",
        "outputId": "35b93a2e-d556-457b-a0bb-98ab2bcca08d",
        "colab": {
          "base_uri": "https://localhost:8080/",
          "height": 610
        }
      },
      "source": [
        "pip install tsfresh"
      ],
      "execution_count": 316,
      "outputs": [
        {
          "output_type": "stream",
          "text": [
            "Requirement already satisfied: tsfresh in /usr/local/lib/python3.6/dist-packages (0.14.1)\n",
            "Requirement already satisfied: dask[dataframe]>=0.15.2 in /usr/local/lib/python3.6/dist-packages (from tsfresh) (2.9.2)\n",
            "Requirement already satisfied: scikit-learn>=0.19.0 in /usr/local/lib/python3.6/dist-packages (from tsfresh) (0.22.1)\n",
            "Requirement already satisfied: statsmodels>=0.8.0 in /usr/local/lib/python3.6/dist-packages (from tsfresh) (0.10.2)\n",
            "Requirement already satisfied: patsy>=0.4.1 in /usr/local/lib/python3.6/dist-packages (from tsfresh) (0.5.1)\n",
            "Requirement already satisfied: numpy>=1.12.0 in /usr/local/lib/python3.6/dist-packages (from tsfresh) (1.17.5)\n",
            "Requirement already satisfied: tqdm>=4.10.0 in /usr/local/lib/python3.6/dist-packages (from tsfresh) (4.28.1)\n",
            "Requirement already satisfied: pandas!=0.24.*,>=0.20.3 in /usr/local/lib/python3.6/dist-packages (from tsfresh) (0.25.3)\n",
            "Requirement already satisfied: distributed>=1.18.3 in /usr/local/lib/python3.6/dist-packages (from tsfresh) (1.25.3)\n",
            "Requirement already satisfied: requests>=2.9.1 in /usr/local/lib/python3.6/dist-packages (from tsfresh) (2.21.0)\n",
            "Requirement already satisfied: scipy>=1.2.0 in /usr/local/lib/python3.6/dist-packages (from tsfresh) (1.4.1)\n",
            "Requirement already satisfied: partd>=0.3.10; extra == \"dataframe\" in /usr/local/lib/python3.6/dist-packages (from dask[dataframe]>=0.15.2->tsfresh) (1.1.0)\n",
            "Requirement already satisfied: fsspec>=0.6.0; extra == \"dataframe\" in /usr/local/lib/python3.6/dist-packages (from dask[dataframe]>=0.15.2->tsfresh) (0.6.2)\n",
            "Requirement already satisfied: toolz>=0.7.3; extra == \"dataframe\" in /usr/local/lib/python3.6/dist-packages (from dask[dataframe]>=0.15.2->tsfresh) (0.10.0)\n",
            "Requirement already satisfied: joblib>=0.11 in /usr/local/lib/python3.6/dist-packages (from scikit-learn>=0.19.0->tsfresh) (0.14.1)\n",
            "Requirement already satisfied: six in /usr/local/lib/python3.6/dist-packages (from patsy>=0.4.1->tsfresh) (1.12.0)\n",
            "Requirement already satisfied: pytz>=2017.2 in /usr/local/lib/python3.6/dist-packages (from pandas!=0.24.*,>=0.20.3->tsfresh) (2018.9)\n",
            "Requirement already satisfied: python-dateutil>=2.6.1 in /usr/local/lib/python3.6/dist-packages (from pandas!=0.24.*,>=0.20.3->tsfresh) (2.6.1)\n",
            "Requirement already satisfied: sortedcontainers!=2.0.0,!=2.0.1 in /usr/local/lib/python3.6/dist-packages (from distributed>=1.18.3->tsfresh) (2.1.0)\n",
            "Requirement already satisfied: click>=6.6 in /usr/local/lib/python3.6/dist-packages (from distributed>=1.18.3->tsfresh) (7.0)\n",
            "Requirement already satisfied: tblib in /usr/local/lib/python3.6/dist-packages (from distributed>=1.18.3->tsfresh) (1.6.0)\n",
            "Requirement already satisfied: tornado>=4.5.1 in /usr/local/lib/python3.6/dist-packages (from distributed>=1.18.3->tsfresh) (4.5.3)\n",
            "Requirement already satisfied: zict>=0.1.3 in /usr/local/lib/python3.6/dist-packages (from distributed>=1.18.3->tsfresh) (1.0.0)\n",
            "Requirement already satisfied: pyyaml in /usr/local/lib/python3.6/dist-packages (from distributed>=1.18.3->tsfresh) (3.13)\n",
            "Requirement already satisfied: msgpack in /usr/local/lib/python3.6/dist-packages (from distributed>=1.18.3->tsfresh) (0.5.6)\n",
            "Requirement already satisfied: cloudpickle>=0.2.2 in /usr/local/lib/python3.6/dist-packages (from distributed>=1.18.3->tsfresh) (1.2.2)\n",
            "Requirement already satisfied: psutil>=5.0 in /usr/local/lib/python3.6/dist-packages (from distributed>=1.18.3->tsfresh) (5.4.8)\n",
            "Requirement already satisfied: certifi>=2017.4.17 in /usr/local/lib/python3.6/dist-packages (from requests>=2.9.1->tsfresh) (2019.11.28)\n",
            "Requirement already satisfied: urllib3<1.25,>=1.21.1 in /usr/local/lib/python3.6/dist-packages (from requests>=2.9.1->tsfresh) (1.24.3)\n",
            "Requirement already satisfied: idna<2.9,>=2.5 in /usr/local/lib/python3.6/dist-packages (from requests>=2.9.1->tsfresh) (2.8)\n",
            "Requirement already satisfied: chardet<3.1.0,>=3.0.2 in /usr/local/lib/python3.6/dist-packages (from requests>=2.9.1->tsfresh) (3.0.4)\n",
            "Requirement already satisfied: locket in /usr/local/lib/python3.6/dist-packages (from partd>=0.3.10; extra == \"dataframe\"->dask[dataframe]>=0.15.2->tsfresh) (0.2.0)\n",
            "Requirement already satisfied: heapdict in /usr/local/lib/python3.6/dist-packages (from zict>=0.1.3->distributed>=1.18.3->tsfresh) (1.0.1)\n"
          ],
          "name": "stdout"
        }
      ]
    },
    {
      "cell_type": "markdown",
      "metadata": {
        "id": "FeGDlcqWD7SX",
        "colab_type": "text"
      },
      "source": [
        "Tsfresh [docs](https://drive.google.com/open?id=1xrdZxTtkwk4_3X1_ZO_QTLnNQrN7nnrj)."
      ]
    },
    {
      "cell_type": "code",
      "metadata": {
        "id": "RP7iO45oqz-V",
        "colab_type": "code",
        "colab": {}
      },
      "source": [
        "from tsfresh import feature_extraction, extract_features\n",
        "from tsfresh.feature_selection import relevance, select_features\n",
        "from tsfresh.utilities.dataframe_functions import impute"
      ],
      "execution_count": 0,
      "outputs": []
    },
    {
      "cell_type": "markdown",
      "metadata": {
        "id": "Gmh1ofb9svHd",
        "colab_type": "text"
      },
      "source": [
        "Путь к успеху:\n",
        "  - Оставить только релевантных клиентов ( == 12 месяцев)\n",
        "  - Отбросить вторые 6 месяцев\n",
        "  - Нагенерировать фичей с помощью библиотеки"
      ]
    },
    {
      "cell_type": "code",
      "metadata": {
        "id": "MtNZfMMzrxae",
        "colab_type": "code",
        "colab": {}
      },
      "source": [
        "# threshold for train and test split 7th month of 2018 year\n",
        "threshold = pd.to_datetime('2018-07-31T00:00:00.000000000')"
      ],
      "execution_count": 0,
      "outputs": []
    },
    {
      "cell_type": "code",
      "metadata": {
        "id": "Q2SWkgZ3rpuf",
        "colab_type": "code",
        "colab": {}
      },
      "source": [
        "# Создадим датафрэйм с данными за первые 6 месяцев с нужными клиентами\n",
        "data_light = dataset.query('cif_id not in @useless_ids & dlk_cob_date < @threshold')"
      ],
      "execution_count": 0,
      "outputs": []
    },
    {
      "cell_type": "code",
      "metadata": {
        "id": "bHVlV1LNrpni",
        "colab_type": "code",
        "colab": {}
      },
      "source": [
        "# Оставим нужные фичи, которые изменяются во временем\n",
        "main_feats = [\n",
        "             'cif_id',\n",
        "             'dlk_cob_date'\n",
        "]\n",
        "# Не фартануло, слишком много данных, колаб лег, будем объединять\n",
        "time_series_feats = [\n",
        "                     \n",
        "                     'gi_smooth_3m',\n",
        "                    #  'cc_balance',\n",
        "                    #  'cl_balance',\n",
        "                    #  'ml_balance',\n",
        "                    #  'pl_balance',\n",
        "                    #  'td_volume',\n",
        "                    #  'ca_volume',\n",
        "                    #  'sa_volume',\n",
        "                    #  'mf_volume',\n",
        "                    #  'dc_cash_spend_v',\n",
        "                    #  'cc_cash_spend_v',\n",
        "                    #  'dc_pos_spend_v',\n",
        "                    #  'cc_pos_spend_v',\n",
        "                    #  'rc_session_qnt_cur_mon',\n",
        "                    #  'cur_qnt_sms',\n",
        "                     'salary'\n",
        "]"
      ],
      "execution_count": 0,
      "outputs": []
    },
    {
      "cell_type": "markdown",
      "metadata": {
        "id": "mSrUXQ5X5bpt",
        "colab_type": "text"
      },
      "source": [
        "Вместо всех time series будем использовать объединенные ячейки с данными:"
      ]
    },
    {
      "cell_type": "markdown",
      "metadata": {
        "id": "MsZ2Nm-l53E7",
        "colab_type": "text"
      },
      "source": [
        "### Создание суммарных столбцов"
      ]
    },
    {
      "cell_type": "code",
      "metadata": {
        "id": "ahXuX7U85FqS",
        "colab_type": "code",
        "colab": {}
      },
      "source": [
        "# Все траты наличные, безналичные с карт\n",
        "def merge_spends(dataset):\n",
        "  new_column_name = 'all_spends'\n",
        "  dataset[new_column_name] = dataset['dc_pos_spend_v'] +\\\n",
        "                          dataset['cc_pos_spend_v'] +\\\n",
        "                          dataset['dc_cash_spend_v'] +\\\n",
        "                          dataset['cc_cash_spend_v']\n",
        "  print(f'Создана колонка {new_column_name}')\n",
        "  return new_column_name"
      ],
      "execution_count": 0,
      "outputs": []
    },
    {
      "cell_type": "code",
      "metadata": {
        "id": "5sCISN825xRS",
        "colab_type": "code",
        "colab": {}
      },
      "source": [
        "# Все кредиты\n",
        "def merge_credits(dataset):\n",
        "  new_column_name = 'all_credits'\n",
        "  dataset[new_column_name] = dataset['cc_balance'] +\\\n",
        "                             dataset['cl_balance'] +\\\n",
        "                             dataset['ml_balance'] +\\\n",
        "                             dataset['pl_balance']\n",
        "  print(f'Создана колонка {new_column_name}')\n",
        "  return new_column_name"
      ],
      "execution_count": 0,
      "outputs": []
    },
    {
      "cell_type": "code",
      "metadata": {
        "id": "EE-_7C0g6DPG",
        "colab_type": "code",
        "colab": {}
      },
      "source": [
        "# Дебетовые счета и накопления\n",
        "def merge_debits(dataset):\n",
        "  new_column_name = 'all_debits'\n",
        "  dataset[new_column_name] = dataset['td_volume'] +\\\n",
        "                             dataset['ca_volume'] +\\\n",
        "                             dataset['sa_volume'] +\\\n",
        "                             dataset['mf_volume']\n",
        "  print(f'Создана колонка {new_column_name}')\n",
        "  return new_column_name"
      ],
      "execution_count": 0,
      "outputs": []
    },
    {
      "cell_type": "code",
      "metadata": {
        "id": "GxAtv_Ij6eIG",
        "colab_type": "code",
        "colab": {}
      },
      "source": [
        "# Activitys using mobile bank and get messages\n",
        "def merge_actions(dataset):\n",
        "  new_column_name = 'actions'\n",
        "  dataset[new_column_name] = dataset['cur_qnt_sms'] +\\\n",
        "                           dataset['rc_session_qnt_cur_mon']\n",
        "  print(f'Создана колонка {new_column_name}')\n",
        "  \n",
        "  return new_column_name    "
      ],
      "execution_count": 0,
      "outputs": []
    },
    {
      "cell_type": "code",
      "metadata": {
        "id": "TciQaPlr6v_y",
        "colab_type": "code",
        "colab": {}
      },
      "source": [
        "# Фича активности клиента\n",
        "# dataset_light['addition_card_or_acc'] = dataset['standalone_dc_f'] +\\\n",
        "#                                       dataset['standalone_nonpayroll_dc_f']\n",
        "#                                       # Стоит подумать о других переменных\n",
        "#                                       # dataset['ca_f']"
      ],
      "execution_count": 0,
      "outputs": []
    },
    {
      "cell_type": "code",
      "metadata": {
        "id": "dDCxDeQiD8Zt",
        "colab_type": "code",
        "outputId": "c4d16e84-4ddc-4361-d494-faff3772c926",
        "colab": {
          "base_uri": "https://localhost:8080/",
          "height": 193
        }
      },
      "source": [
        "# Объединим все фичи и внесем колонки в список time_series_feats\n",
        "time_series_feats.append(merge_spends(data_light))\n",
        "time_series_feats.append(merge_credits(data_light))\n",
        "time_series_feats.append(merge_debits(data_light))\n",
        "# time_series_feats.append(merge_actions(data_light))"
      ],
      "execution_count": 326,
      "outputs": [
        {
          "output_type": "stream",
          "text": [
            "Создана колонка all_spends\n",
            "Создана колонка all_credits\n",
            "Создана колонка all_debits\n"
          ],
          "name": "stdout"
        },
        {
          "output_type": "stream",
          "text": [
            "/usr/local/lib/python3.6/dist-packages/ipykernel_launcher.py:3: SettingWithCopyWarning: \n",
            "A value is trying to be set on a copy of a slice from a DataFrame.\n",
            "Try using .loc[row_indexer,col_indexer] = value instead\n",
            "\n",
            "See the caveats in the documentation: http://pandas.pydata.org/pandas-docs/stable/user_guide/indexing.html#returning-a-view-versus-a-copy\n",
            "  This is separate from the ipykernel package so we can avoid doing imports until\n"
          ],
          "name": "stderr"
        }
      ]
    },
    {
      "cell_type": "markdown",
      "metadata": {
        "id": "BfL9QQoX6FKJ",
        "colab_type": "text"
      },
      "source": [
        "### Поиск дополнительных фичей"
      ]
    },
    {
      "cell_type": "code",
      "metadata": {
        "id": "aaeYK2lQrpeo",
        "colab_type": "code",
        "colab": {}
      },
      "source": [
        "# Оставим в датафрэйме только колонки, которые изменяются во времени\n",
        "data_light = data_light.loc[:,[*(main_feats + time_series_feats)]]"
      ],
      "execution_count": 0,
      "outputs": []
    },
    {
      "cell_type": "code",
      "metadata": {
        "id": "2CeKBXtE9FJZ",
        "colab_type": "code",
        "outputId": "a7efe47d-eda0-4936-f229-e7c14e9513ec",
        "colab": {
          "base_uri": "https://localhost:8080/",
          "height": 206
        }
      },
      "source": [
        "# Вот и пример, например\n",
        "data_light.head(5)"
      ],
      "execution_count": 328,
      "outputs": [
        {
          "output_type": "execute_result",
          "data": {
            "text/html": [
              "<div>\n",
              "<style scoped>\n",
              "    .dataframe tbody tr th:only-of-type {\n",
              "        vertical-align: middle;\n",
              "    }\n",
              "\n",
              "    .dataframe tbody tr th {\n",
              "        vertical-align: top;\n",
              "    }\n",
              "\n",
              "    .dataframe thead th {\n",
              "        text-align: right;\n",
              "    }\n",
              "</style>\n",
              "<table border=\"1\" class=\"dataframe\">\n",
              "  <thead>\n",
              "    <tr style=\"text-align: right;\">\n",
              "      <th></th>\n",
              "      <th>cif_id</th>\n",
              "      <th>dlk_cob_date</th>\n",
              "      <th>gi_smooth_3m</th>\n",
              "      <th>salary</th>\n",
              "      <th>all_spends</th>\n",
              "      <th>all_credits</th>\n",
              "      <th>all_debits</th>\n",
              "    </tr>\n",
              "  </thead>\n",
              "  <tbody>\n",
              "    <tr>\n",
              "      <th>1342694</th>\n",
              "      <td>1001</td>\n",
              "      <td>2018-01-31</td>\n",
              "      <td>70.994186</td>\n",
              "      <td>1051.2</td>\n",
              "      <td>0.0</td>\n",
              "      <td>-10820.20464</td>\n",
              "      <td>16.62792</td>\n",
              "    </tr>\n",
              "    <tr>\n",
              "      <th>1342693</th>\n",
              "      <td>1001</td>\n",
              "      <td>2018-02-28</td>\n",
              "      <td>-6.005108</td>\n",
              "      <td>1051.2</td>\n",
              "      <td>0.0</td>\n",
              "      <td>-10788.59568</td>\n",
              "      <td>16.62792</td>\n",
              "    </tr>\n",
              "    <tr>\n",
              "      <th>1342691</th>\n",
              "      <td>1001</td>\n",
              "      <td>2018-03-31</td>\n",
              "      <td>114.989605</td>\n",
              "      <td>1051.2</td>\n",
              "      <td>0.0</td>\n",
              "      <td>-2255.23944</td>\n",
              "      <td>3514.35960</td>\n",
              "    </tr>\n",
              "    <tr>\n",
              "      <th>1342690</th>\n",
              "      <td>1001</td>\n",
              "      <td>2018-04-30</td>\n",
              "      <td>147.408528</td>\n",
              "      <td>1051.2</td>\n",
              "      <td>0.0</td>\n",
              "      <td>-2302.17480</td>\n",
              "      <td>3514.35960</td>\n",
              "    </tr>\n",
              "    <tr>\n",
              "      <th>1342692</th>\n",
              "      <td>1001</td>\n",
              "      <td>2018-05-31</td>\n",
              "      <td>185.987934</td>\n",
              "      <td>1051.2</td>\n",
              "      <td>0.0</td>\n",
              "      <td>-2350.82808</td>\n",
              "      <td>3514.35960</td>\n",
              "    </tr>\n",
              "  </tbody>\n",
              "</table>\n",
              "</div>"
            ],
            "text/plain": [
              "         cif_id dlk_cob_date  gi_smooth_3m  ...  all_spends  all_credits  all_debits\n",
              "1342694    1001   2018-01-31     70.994186  ...         0.0 -10820.20464    16.62792\n",
              "1342693    1001   2018-02-28     -6.005108  ...         0.0 -10788.59568    16.62792\n",
              "1342691    1001   2018-03-31    114.989605  ...         0.0  -2255.23944  3514.35960\n",
              "1342690    1001   2018-04-30    147.408528  ...         0.0  -2302.17480  3514.35960\n",
              "1342692    1001   2018-05-31    185.987934  ...         0.0  -2350.82808  3514.35960\n",
              "\n",
              "[5 rows x 7 columns]"
            ]
          },
          "metadata": {
            "tags": []
          },
          "execution_count": 328
        }
      ]
    },
    {
      "cell_type": "markdown",
      "metadata": {
        "id": "XFLY98CeEFO2",
        "colab_type": "text"
      },
      "source": [
        "Подбор метрик из следующего [списка](https://tsfresh.readthedocs.io/en/latest/api/tsfresh.feature_extraction.html#module-tsfresh.feature_extraction.feature_calculators)."
      ]
    },
    {
      "cell_type": "code",
      "metadata": {
        "id": "y3HnR0Fuqmtg",
        "colab_type": "code",
        "colab": {}
      },
      "source": [
        "# Данных очень много, поэтому имеет смысл указать фичи которые следует извлечь\n",
        "fc_parametrs = {\n",
        "    # mean changes and derivatives\n",
        "    'absolute_sum_of_changes': None,\n",
        "    'mean_abs_change':         None,\n",
        "    'mean_change':             None,\n",
        "    'mean_second_derivative_central': None,\n",
        "\n",
        "    # Trend characteristics\n",
        "    'agg_linear_trend': [\n",
        "                          {'attr': 'slope', 'chunk_len': 6, 'f_agg': 'mean'},\n",
        "                          {'attr': 'slope', 'chunk_len': 2, 'f_agg': 'mean'},\n",
        "                          {'attr': 'slope', 'chunk_len': 1, 'f_agg': 'mean'},\n",
        "                          {'attr': 'intercept', 'chunk_len': 2, 'f_agg': 'mean'},\n",
        "                          {'attr': 'pvalue', 'chunk_len': 1, 'f_agg': 'mean'}\n",
        "                        ],\n",
        "    \n",
        "    # I don't now what is that\n",
        "    'cid_ce':           [{'normalize': True}],\n",
        "    \n",
        "    # May be this will work\n",
        "    'count_above_mean': None,\n",
        "    'count_below_mean': None,\n",
        "    \n",
        "    # - Time-series handling without Fourier?\n",
        "    # - Not in this universe!\n",
        "    'fft_aggregated':   [\n",
        "                          {'aggtype': 'centroid'},\n",
        "                          {'aggtype': 'variance'},\n",
        "                          {'aggtype': 'skew'}\n",
        "                        ],\n",
        "    \n",
        "    # Sample Entrophy\n",
        "    'sample_entropy': None,\n",
        "\n",
        "    # Skewness - just funny name\n",
        "    'skewness': None\n",
        "}"
      ],
      "execution_count": 0,
      "outputs": []
    },
    {
      "cell_type": "code",
      "metadata": {
        "id": "4mwq59YWm0FD",
        "colab_type": "code",
        "colab": {
          "base_uri": "https://localhost:8080/",
          "height": 34
        },
        "outputId": "48dfe77f-ebf1-4168-d9dc-a032a79c1302"
      },
      "source": [
        "additional_features = pd.DataFrame(dataset_train.iloc[:,0])\n",
        "additional_features.shape"
      ],
      "execution_count": 330,
      "outputs": [
        {
          "output_type": "execute_result",
          "data": {
            "text/plain": [
              "(299691, 1)"
            ]
          },
          "metadata": {
            "tags": []
          },
          "execution_count": 330
        }
      ]
    },
    {
      "cell_type": "code",
      "metadata": {
        "id": "mfch8BlZQQsG",
        "colab_type": "code",
        "colab": {
          "base_uri": "https://localhost:8080/",
          "height": 1000
        },
        "outputId": "1d535027-b7a3-4d5a-9bb0-5c1b49c41493"
      },
      "source": [
        "n = 1000\n",
        "relevant_features = list()\n",
        "# Generating features for all time-series along because of big train data\n",
        "for time_series_column in time_series_feats:\n",
        "  veritas_tempus = extract_features(data_light\\\n",
        "                                   .loc[:,[*main_feats, time_series_column]],\n",
        "                                    column_id='cif_id',\n",
        "                                    column_sort='dlk_cob_date',\n",
        "                                    n_jobs=8,\n",
        "                                    default_fc_parameters=fc_parametrs)\n",
        "  sum_1 = veritas_tempus.columns.shape[0]\n",
        "  impute(veritas_tempus)\n",
        "  features_filtered = select_features(veritas_tempus,\n",
        "                                    y=dataset_test['sum_cltv'])\n",
        "  sum_2 = features_filtered.columns.shape[0]\n",
        "  print(f\"Создано {sum_1} фичей, добавлено в список {sum_2} фичей, отброшено\"\n",
        "        f\" {sum_1 - sum_2} фичей для {time_series_column} столбца.\")\n",
        "  # Запись в файл, на случай если усну или не доживу\n",
        "  # features_filtered.to_csv(f'drive/My Drive/hack/changelenge/'\n",
        "  #                          f'time-series_features/{time_series_column}.csv')\n",
        "  # print(f'Успешно записаны фичи: drive/My Drive/hack/changelenge/'\n",
        "  #                          f'time-series_features/{time_series_column}.csv')\n",
        "  # Добавление в отдельный датафрэйм с фичами\n",
        "  additional_features = additional_features.merge(features_filtered,\n",
        "                            left_index=True, right_index=True)\n",
        "  # Запись названия фичей, не знаю зачем\n",
        "  relevant_features.extend(features_filtered.columns)\n",
        "  del veritas_tempus\n",
        "  del features_filtered"
      ],
      "execution_count": 331,
      "outputs": [
        {
          "output_type": "stream",
          "text": [
            "\n",
            "Feature Extraction:   0%|          | 0/40 [00:00<?, ?it/s]\u001b[A\n",
            "Feature Extraction:   2%|▎         | 1/40 [00:27<18:03, 27.78s/it]\u001b[A\n",
            "Feature Extraction:   5%|▌         | 2/40 [00:32<13:15, 20.92s/it]\u001b[A\n",
            "Feature Extraction:   8%|▊         | 3/40 [00:33<09:14, 14.99s/it]\u001b[A\n",
            "Feature Extraction:  10%|█         | 4/40 [00:37<06:55, 11.55s/it]\u001b[A\n",
            "Feature Extraction:  12%|█▎        | 5/40 [00:42<05:31,  9.49s/it]\u001b[A\n",
            "Feature Extraction:  15%|█▌        | 6/40 [00:44<04:11,  7.38s/it]\u001b[A\n",
            "Feature Extraction:  18%|█▊        | 7/40 [00:47<03:19,  6.06s/it]\u001b[A\n",
            "Feature Extraction:  20%|██        | 8/40 [00:55<03:28,  6.53s/it]\u001b[A\n",
            "Feature Extraction:  22%|██▎       | 9/40 [01:05<03:54,  7.56s/it]\u001b[A\n",
            "Feature Extraction:  25%|██▌       | 10/40 [01:09<03:17,  6.58s/it]\u001b[A\n",
            "Feature Extraction:  28%|██▊       | 11/40 [01:13<02:47,  5.78s/it]\u001b[A\n",
            "Feature Extraction:  30%|███       | 12/40 [01:17<02:30,  5.38s/it]\u001b[A\n",
            "Feature Extraction:  32%|███▎      | 13/40 [01:19<01:59,  4.41s/it]\u001b[A\n",
            "Feature Extraction:  35%|███▌      | 14/40 [01:23<01:50,  4.26s/it]\u001b[A\n",
            "Feature Extraction:  38%|███▊      | 15/40 [01:27<01:40,  4.03s/it]\u001b[A\n",
            "Feature Extraction:  40%|████      | 16/40 [01:32<01:44,  4.36s/it]\u001b[A\n",
            "Feature Extraction:  42%|████▎     | 17/40 [01:42<02:22,  6.20s/it]\u001b[A\n",
            "Feature Extraction:  45%|████▌     | 18/40 [01:47<02:06,  5.77s/it]\u001b[A\n",
            "Feature Extraction:  48%|████▊     | 19/40 [01:49<01:37,  4.65s/it]\u001b[A\n",
            "Feature Extraction:  50%|█████     | 20/40 [01:54<01:35,  4.80s/it]\u001b[A\n",
            "Feature Extraction:  52%|█████▎    | 21/40 [02:00<01:37,  5.11s/it]\u001b[A\n",
            "Feature Extraction:  55%|█████▌    | 22/40 [02:03<01:18,  4.36s/it]\u001b[A\n",
            "Feature Extraction:  57%|█████▊    | 23/40 [02:08<01:20,  4.74s/it]\u001b[A\n",
            "Feature Extraction:  60%|██████    | 24/40 [02:13<01:17,  4.83s/it]\u001b[A\n",
            "Feature Extraction:  62%|██████▎   | 25/40 [02:25<01:43,  6.89s/it]\u001b[A\n",
            "Feature Extraction:  65%|██████▌   | 26/40 [02:30<01:29,  6.40s/it]\u001b[A\n",
            "Feature Extraction:  68%|██████▊   | 27/40 [02:33<01:08,  5.28s/it]\u001b[A\n",
            "Feature Extraction:  70%|███████   | 28/40 [02:36<00:54,  4.50s/it]\u001b[A\n",
            "Feature Extraction:  72%|███████▎  | 29/40 [02:38<00:42,  3.91s/it]\u001b[A\n",
            "Feature Extraction:  75%|███████▌  | 30/40 [02:47<00:52,  5.29s/it]\u001b[A\n",
            "Feature Extraction:  78%|███████▊  | 31/40 [02:51<00:45,  5.10s/it]\u001b[A\n",
            "Feature Extraction:  80%|████████  | 32/40 [02:53<00:32,  4.11s/it]\u001b[A\n",
            "Feature Extraction:  82%|████████▎ | 33/40 [03:02<00:37,  5.42s/it]\u001b[A\n",
            "Feature Extraction:  85%|████████▌ | 34/40 [03:06<00:30,  5.04s/it]\u001b[A\n",
            "Feature Extraction:  88%|████████▊ | 35/40 [03:10<00:23,  4.74s/it]\u001b[A\n",
            "Feature Extraction:  90%|█████████ | 36/40 [03:11<00:14,  3.74s/it]\u001b[A\n",
            "Feature Extraction:  92%|█████████▎| 37/40 [03:13<00:09,  3.04s/it]\u001b[A\n",
            "Feature Extraction:  95%|█████████▌| 38/40 [03:15<00:05,  2.79s/it]\u001b[A\n",
            "Feature Extraction:  98%|█████████▊| 39/40 [03:16<00:02,  2.16s/it]\u001b[A\n",
            "Feature Extraction: 100%|██████████| 40/40 [03:17<00:00,  2.05s/it]\u001b[A\n",
            "\u001b[A/usr/local/lib/python3.6/dist-packages/tsfresh/utilities/dataframe_functions.py:170: RuntimeWarning: The columns ['gi_smooth_3m__agg_linear_trend__f_agg_\"mean\"__chunk_len_6__attr_\"slope\"'] did not have any finite values. Filling with zeros.\n",
            "  df.iloc[:, np.where(is_col_non_finite)[0]].columns.values), RuntimeWarning)\n"
          ],
          "name": "stderr"
        },
        {
          "output_type": "stream",
          "text": [
            "Создано 17 фичей, добавлено в список 16 фичей, отброшено 1 фичей для gi_smooth_3m столбца.\n"
          ],
          "name": "stdout"
        },
        {
          "output_type": "stream",
          "text": [
            "\n",
            "Feature Extraction:   0%|          | 0/40 [00:00<?, ?it/s]\u001b[A\n",
            "Feature Extraction:   2%|▎         | 1/40 [00:28<18:37, 28.66s/it]\u001b[A\n",
            "Feature Extraction:   5%|▌         | 2/40 [00:31<13:16, 20.96s/it]\u001b[A\n",
            "Feature Extraction:   8%|▊         | 3/40 [00:33<09:22, 15.19s/it]\u001b[A\n",
            "Feature Extraction:  10%|█         | 4/40 [00:35<06:45, 11.27s/it]\u001b[A\n",
            "Feature Extraction:  12%|█▎        | 5/40 [00:39<05:16,  9.06s/it]\u001b[A\n",
            "Feature Extraction:  15%|█▌        | 6/40 [00:43<04:17,  7.57s/it]\u001b[A\n",
            "Feature Extraction:  18%|█▊        | 7/40 [00:46<03:20,  6.08s/it]\u001b[A\n",
            "Feature Extraction:  20%|██        | 8/40 [00:49<02:46,  5.21s/it]\u001b[A\n",
            "Feature Extraction:  22%|██▎       | 9/40 [01:02<04:00,  7.74s/it]\u001b[A\n",
            "Feature Extraction:  25%|██▌       | 10/40 [01:08<03:29,  6.97s/it]\u001b[A\n",
            "Feature Extraction:  28%|██▊       | 11/40 [01:09<02:32,  5.26s/it]\u001b[A\n",
            "Feature Extraction:  30%|███       | 12/40 [01:13<02:21,  5.05s/it]\u001b[A\n",
            "Feature Extraction:  32%|███▎      | 13/40 [01:15<01:50,  4.11s/it]\u001b[A\n",
            "Feature Extraction:  35%|███▌      | 14/40 [01:20<01:54,  4.41s/it]\u001b[A\n",
            "Feature Extraction:  38%|███▊      | 15/40 [01:26<01:59,  4.77s/it]\u001b[A\n",
            "Feature Extraction:  40%|████      | 16/40 [01:27<01:28,  3.69s/it]\u001b[A\n",
            "Feature Extraction:  42%|████▎     | 17/40 [01:40<02:24,  6.30s/it]\u001b[A\n",
            "Feature Extraction:  45%|████▌     | 18/40 [01:46<02:18,  6.29s/it]\u001b[A\n",
            "Feature Extraction:  48%|████▊     | 19/40 [01:49<01:54,  5.44s/it]\u001b[A\n",
            "Feature Extraction:  50%|█████     | 20/40 [01:52<01:32,  4.63s/it]\u001b[A\n",
            "Feature Extraction:  52%|█████▎    | 21/40 [01:57<01:28,  4.64s/it]\u001b[A\n",
            "Feature Extraction:  55%|█████▌    | 22/40 [01:59<01:09,  3.85s/it]\u001b[A\n",
            "Feature Extraction:  57%|█████▊    | 23/40 [02:07<01:27,  5.14s/it]\u001b[A\n",
            "Feature Extraction:  60%|██████    | 24/40 [02:10<01:13,  4.57s/it]\u001b[A\n",
            "Feature Extraction:  62%|██████▎   | 25/40 [02:16<01:12,  4.86s/it]\u001b[A\n",
            "Feature Extraction:  65%|██████▌   | 26/40 [02:22<01:16,  5.44s/it]\u001b[A\n",
            "Feature Extraction:  68%|██████▊   | 27/40 [02:24<00:54,  4.22s/it]\u001b[A\n",
            "Feature Extraction:  70%|███████   | 28/40 [02:27<00:48,  4.03s/it]\u001b[A\n",
            "Feature Extraction:  72%|███████▎  | 29/40 [02:33<00:48,  4.44s/it]\u001b[A\n",
            "Feature Extraction:  75%|███████▌  | 30/40 [02:36<00:40,  4.00s/it]\u001b[A\n",
            "Feature Extraction:  78%|███████▊  | 31/40 [02:42<00:42,  4.77s/it]\u001b[A\n",
            "Feature Extraction:  80%|████████  | 32/40 [02:49<00:41,  5.24s/it]\u001b[A\n",
            "Feature Extraction:  82%|████████▎ | 33/40 [02:53<00:34,  4.88s/it]\u001b[A\n",
            "Feature Extraction:  85%|████████▌ | 34/40 [02:57<00:28,  4.78s/it]\u001b[A\n",
            "Feature Extraction:  88%|████████▊ | 35/40 [03:00<00:20,  4.06s/it]\u001b[A\n",
            "Feature Extraction:  90%|█████████ | 36/40 [03:02<00:14,  3.61s/it]\u001b[A\n",
            "Feature Extraction:  92%|█████████▎| 37/40 [03:03<00:08,  2.85s/it]\u001b[A\n",
            "Feature Extraction:  95%|█████████▌| 38/40 [03:06<00:05,  2.81s/it]\u001b[A\n",
            "Feature Extraction:  98%|█████████▊| 39/40 [03:07<00:02,  2.26s/it]\u001b[A\n",
            "Feature Extraction: 100%|██████████| 40/40 [03:08<00:00,  1.88s/it]\u001b[A\n",
            "\u001b[A/usr/local/lib/python3.6/dist-packages/tsfresh/utilities/dataframe_functions.py:170: RuntimeWarning: The columns ['salary__agg_linear_trend__f_agg_\"mean\"__chunk_len_6__attr_\"slope\"'] did not have any finite values. Filling with zeros.\n",
            "  df.iloc[:, np.where(is_col_non_finite)[0]].columns.values), RuntimeWarning)\n"
          ],
          "name": "stderr"
        },
        {
          "output_type": "stream",
          "text": [
            "Создано 17 фичей, добавлено в список 13 фичей, отброшено 4 фичей для salary столбца.\n"
          ],
          "name": "stdout"
        },
        {
          "output_type": "stream",
          "text": [
            "\n",
            "Feature Extraction:   0%|          | 0/40 [00:00<?, ?it/s]\u001b[A\n",
            "Feature Extraction:   2%|▎         | 1/40 [00:27<17:49, 27.42s/it]\u001b[A\n",
            "Feature Extraction:   5%|▌         | 2/40 [00:31<12:58, 20.49s/it]\u001b[A\n",
            "Feature Extraction:   8%|▊         | 3/40 [00:33<09:12, 14.93s/it]\u001b[A\n",
            "Feature Extraction:  10%|█         | 4/40 [00:37<06:58, 11.63s/it]\u001b[A\n",
            "Feature Extraction:  12%|█▎        | 5/40 [00:44<05:52, 10.07s/it]\u001b[A\n",
            "Feature Extraction:  15%|█▌        | 6/40 [00:47<04:37,  8.16s/it]\u001b[A\n",
            "Feature Extraction:  18%|█▊        | 7/40 [00:49<03:20,  6.09s/it]\u001b[A\n",
            "Feature Extraction:  20%|██        | 8/40 [00:51<02:43,  5.11s/it]\u001b[A\n",
            "Feature Extraction:  22%|██▎       | 9/40 [01:03<03:37,  7.03s/it]\u001b[A\n",
            "Feature Extraction:  25%|██▌       | 10/40 [01:07<03:08,  6.27s/it]\u001b[A\n",
            "Feature Extraction:  28%|██▊       | 11/40 [01:10<02:33,  5.29s/it]\u001b[A\n",
            "Feature Extraction:  30%|███       | 12/40 [01:16<02:31,  5.39s/it]\u001b[A\n",
            "Feature Extraction:  32%|███▎      | 13/40 [01:21<02:20,  5.21s/it]\u001b[A\n",
            "Feature Extraction:  35%|███▌      | 14/40 [01:26<02:13,  5.13s/it]\u001b[A\n",
            "Feature Extraction:  38%|███▊      | 15/40 [01:30<02:00,  4.81s/it]\u001b[A\n",
            "Feature Extraction:  40%|████      | 16/40 [01:33<01:41,  4.24s/it]\u001b[A\n",
            "Feature Extraction:  42%|████▎     | 17/40 [01:42<02:09,  5.63s/it]\u001b[A\n",
            "Feature Extraction:  45%|████▌     | 18/40 [01:47<02:00,  5.46s/it]\u001b[A\n",
            "Feature Extraction:  48%|████▊     | 19/40 [01:52<01:54,  5.45s/it]\u001b[A\n",
            "Feature Extraction:  50%|█████     | 20/40 [01:55<01:34,  4.72s/it]\u001b[A\n",
            "Feature Extraction:  52%|█████▎    | 21/40 [02:00<01:32,  4.85s/it]\u001b[A\n",
            "Feature Extraction:  55%|█████▌    | 22/40 [02:05<01:26,  4.83s/it]\u001b[A\n",
            "Feature Extraction:  57%|█████▊    | 23/40 [02:12<01:33,  5.52s/it]\u001b[A\n",
            "Feature Extraction:  60%|██████    | 24/40 [02:16<01:19,  4.97s/it]\u001b[A\n",
            "Feature Extraction:  62%|██████▎   | 25/40 [02:21<01:16,  5.11s/it]\u001b[A\n",
            "Feature Extraction:  65%|██████▌   | 26/40 [02:25<01:07,  4.80s/it]\u001b[A\n",
            "Feature Extraction:  68%|██████▊   | 27/40 [02:28<00:54,  4.19s/it]\u001b[A\n",
            "Feature Extraction:  70%|███████   | 28/40 [02:32<00:47,  3.99s/it]\u001b[A\n",
            "Feature Extraction:  72%|███████▎  | 29/40 [02:38<00:52,  4.78s/it]\u001b[A\n",
            "Feature Extraction:  75%|███████▌  | 30/40 [02:42<00:45,  4.59s/it]\u001b[A\n",
            "Feature Extraction:  78%|███████▊  | 31/40 [02:50<00:50,  5.63s/it]\u001b[A\n",
            "Feature Extraction:  80%|████████  | 32/40 [02:58<00:50,  6.29s/it]\u001b[A\n",
            "Feature Extraction:  82%|████████▎ | 33/40 [03:00<00:33,  4.84s/it]\u001b[A\n",
            "Feature Extraction:  85%|████████▌ | 34/40 [03:03<00:26,  4.38s/it]\u001b[A\n",
            "Feature Extraction:  88%|████████▊ | 35/40 [03:07<00:20,  4.18s/it]\u001b[A\n",
            "Feature Extraction:  90%|█████████ | 36/40 [03:08<00:13,  3.37s/it]\u001b[A\n",
            "Feature Extraction:  92%|█████████▎| 37/40 [03:11<00:09,  3.06s/it]\u001b[A\n",
            "Feature Extraction:  95%|█████████▌| 38/40 [03:12<00:04,  2.43s/it]\u001b[A\n",
            "Feature Extraction:  98%|█████████▊| 39/40 [03:14<00:02,  2.45s/it]\u001b[A\n",
            "Feature Extraction: 100%|██████████| 40/40 [03:16<00:00,  2.32s/it]\u001b[A\n",
            "\u001b[A/usr/local/lib/python3.6/dist-packages/tsfresh/utilities/dataframe_functions.py:170: RuntimeWarning: The columns ['all_spends__agg_linear_trend__f_agg_\"mean\"__chunk_len_6__attr_\"slope\"'] did not have any finite values. Filling with zeros.\n",
            "  df.iloc[:, np.where(is_col_non_finite)[0]].columns.values), RuntimeWarning)\n"
          ],
          "name": "stderr"
        },
        {
          "output_type": "stream",
          "text": [
            "Создано 17 фичей, добавлено в список 16 фичей, отброшено 1 фичей для all_spends столбца.\n"
          ],
          "name": "stdout"
        },
        {
          "output_type": "stream",
          "text": [
            "\n",
            "Feature Extraction:   0%|          | 0/40 [00:00<?, ?it/s]\u001b[A\n",
            "Feature Extraction:   2%|▎         | 1/40 [00:27<17:48, 27.40s/it]\u001b[A\n",
            "Feature Extraction:   5%|▌         | 2/40 [00:31<12:58, 20.48s/it]\u001b[A\n",
            "Feature Extraction:   8%|▊         | 3/40 [00:33<09:10, 14.88s/it]\u001b[A\n",
            "Feature Extraction:  10%|█         | 4/40 [00:36<06:41, 11.16s/it]\u001b[A\n",
            "Feature Extraction:  12%|█▎        | 5/40 [00:40<05:22,  9.21s/it]\u001b[A\n",
            "Feature Extraction:  15%|█▌        | 6/40 [00:44<04:13,  7.46s/it]\u001b[A\n",
            "Feature Extraction:  18%|█▊        | 7/40 [00:46<03:17,  5.99s/it]\u001b[A\n",
            "Feature Extraction:  20%|██        | 8/40 [00:50<02:52,  5.39s/it]\u001b[A\n",
            "Feature Extraction:  22%|██▎       | 9/40 [01:05<04:12,  8.13s/it]\u001b[A\n",
            "Feature Extraction:  25%|██▌       | 10/40 [01:07<03:10,  6.34s/it]\u001b[A\n",
            "Feature Extraction:  28%|██▊       | 11/40 [01:11<02:47,  5.78s/it]\u001b[A\n",
            "Feature Extraction:  30%|███       | 12/40 [01:15<02:24,  5.17s/it]\u001b[A\n",
            "Feature Extraction:  32%|███▎      | 13/40 [01:17<01:51,  4.15s/it]\u001b[A\n",
            "Feature Extraction:  35%|███▌      | 14/40 [01:21<01:49,  4.22s/it]\u001b[A\n",
            "Feature Extraction:  38%|███▊      | 15/40 [01:26<01:52,  4.52s/it]\u001b[A\n",
            "Feature Extraction:  40%|████      | 16/40 [01:30<01:42,  4.25s/it]\u001b[A\n",
            "Feature Extraction:  42%|████▎     | 17/40 [01:42<02:33,  6.69s/it]\u001b[A\n",
            "Feature Extraction:  45%|████▌     | 18/40 [01:48<02:18,  6.30s/it]\u001b[A\n",
            "Feature Extraction:  48%|████▊     | 19/40 [01:52<01:58,  5.65s/it]\u001b[A\n",
            "Feature Extraction:  50%|█████     | 20/40 [01:54<01:33,  4.68s/it]\u001b[A\n",
            "Feature Extraction:  52%|█████▎    | 21/40 [01:59<01:30,  4.75s/it]\u001b[A\n",
            "Feature Extraction:  55%|█████▌    | 22/40 [02:01<01:10,  3.89s/it]\u001b[A\n",
            "Feature Extraction:  57%|█████▊    | 23/40 [02:04<01:03,  3.72s/it]\u001b[A\n",
            "Feature Extraction:  60%|██████    | 24/40 [02:11<01:14,  4.64s/it]\u001b[A\n",
            "Feature Extraction:  62%|██████▎   | 25/40 [02:19<01:25,  5.68s/it]\u001b[A\n",
            "Feature Extraction:  65%|██████▌   | 26/40 [02:25<01:19,  5.67s/it]\u001b[A\n",
            "Feature Extraction:  68%|██████▊   | 27/40 [02:30<01:09,  5.33s/it]\u001b[A\n",
            "Feature Extraction:  70%|███████   | 28/40 [02:33<00:58,  4.87s/it]\u001b[A\n",
            "Feature Extraction:  72%|███████▎  | 29/40 [02:37<00:50,  4.59s/it]\u001b[A\n",
            "Feature Extraction:  75%|███████▌  | 30/40 [02:40<00:39,  3.92s/it]\u001b[A\n",
            "Feature Extraction:  78%|███████▊  | 31/40 [02:46<00:40,  4.55s/it]\u001b[A\n",
            "Feature Extraction:  80%|████████  | 32/40 [02:48<00:30,  3.82s/it]\u001b[A\n",
            "Feature Extraction:  82%|████████▎ | 33/40 [02:57<00:37,  5.36s/it]\u001b[A\n",
            "Feature Extraction:  85%|████████▌ | 34/40 [03:02<00:32,  5.44s/it]\u001b[A\n",
            "Feature Extraction:  88%|████████▊ | 35/40 [03:04<00:21,  4.32s/it]\u001b[A\n",
            "Feature Extraction:  90%|█████████ | 36/40 [03:07<00:15,  3.85s/it]\u001b[A\n",
            "Feature Extraction:  92%|█████████▎| 37/40 [03:08<00:09,  3.05s/it]\u001b[A\n",
            "Feature Extraction:  95%|█████████▌| 38/40 [03:10<00:05,  2.67s/it]\u001b[A\n",
            "Feature Extraction:  98%|█████████▊| 39/40 [03:11<00:02,  2.34s/it]\u001b[A\n",
            "Feature Extraction: 100%|██████████| 40/40 [03:12<00:00,  1.84s/it]\u001b[A\n",
            "\u001b[A/usr/local/lib/python3.6/dist-packages/tsfresh/utilities/dataframe_functions.py:170: RuntimeWarning: The columns ['all_credits__agg_linear_trend__f_agg_\"mean\"__chunk_len_6__attr_\"slope\"'] did not have any finite values. Filling with zeros.\n",
            "  df.iloc[:, np.where(is_col_non_finite)[0]].columns.values), RuntimeWarning)\n"
          ],
          "name": "stderr"
        },
        {
          "output_type": "stream",
          "text": [
            "Создано 17 фичей, добавлено в список 16 фичей, отброшено 1 фичей для all_credits столбца.\n"
          ],
          "name": "stdout"
        },
        {
          "output_type": "stream",
          "text": [
            "\n",
            "Feature Extraction:   0%|          | 0/40 [00:00<?, ?it/s]\u001b[A\n",
            "Feature Extraction:   2%|▎         | 1/40 [00:29<19:04, 29.35s/it]\u001b[A\n",
            "Feature Extraction:   5%|▌         | 2/40 [00:33<13:51, 21.87s/it]\u001b[A\n",
            "Feature Extraction:   8%|▊         | 3/40 [00:34<09:37, 15.60s/it]\u001b[A\n",
            "Feature Extraction:  10%|█         | 4/40 [00:39<07:23, 12.31s/it]\u001b[A\n",
            "Feature Extraction:  12%|█▎        | 5/40 [00:41<05:27,  9.35s/it]\u001b[A\n",
            "Feature Extraction:  15%|█▌        | 6/40 [00:44<04:06,  7.26s/it]\u001b[A\n",
            "Feature Extraction:  18%|█▊        | 7/40 [00:47<03:15,  5.93s/it]\u001b[A\n",
            "Feature Extraction:  20%|██        | 8/40 [00:52<03:01,  5.68s/it]\u001b[A\n",
            "Feature Extraction:  22%|██▎       | 9/40 [01:06<04:20,  8.41s/it]\u001b[A\n",
            "Feature Extraction:  25%|██▌       | 10/40 [01:10<03:27,  6.91s/it]\u001b[A\n",
            "Feature Extraction:  28%|██▊       | 11/40 [01:14<02:55,  6.06s/it]\u001b[A\n",
            "Feature Extraction:  30%|███       | 12/40 [01:17<02:26,  5.23s/it]\u001b[A\n",
            "Feature Extraction:  32%|███▎      | 13/40 [01:21<02:13,  4.95s/it]\u001b[A\n",
            "Feature Extraction:  35%|███▌      | 14/40 [01:23<01:45,  4.05s/it]\u001b[A\n",
            "Feature Extraction:  38%|███▊      | 15/40 [01:28<01:47,  4.31s/it]\u001b[A\n",
            "Feature Extraction:  40%|████      | 16/40 [01:30<01:23,  3.47s/it]\u001b[A\n",
            "Feature Extraction:  42%|████▎     | 17/40 [01:44<02:35,  6.77s/it]\u001b[A\n",
            "Feature Extraction:  45%|████▌     | 18/40 [01:48<02:11,  5.96s/it]\u001b[A\n",
            "Feature Extraction:  48%|████▊     | 19/40 [01:52<01:51,  5.33s/it]\u001b[A\n",
            "Feature Extraction:  50%|█████     | 20/40 [01:55<01:30,  4.50s/it]\u001b[A\n",
            "Feature Extraction:  52%|█████▎    | 21/40 [02:01<01:34,  4.96s/it]\u001b[A\n",
            "Feature Extraction:  55%|█████▌    | 22/40 [02:04<01:17,  4.28s/it]\u001b[A\n",
            "Feature Extraction:  57%|█████▊    | 23/40 [02:05<00:59,  3.53s/it]\u001b[A\n",
            "Feature Extraction:  60%|██████    | 24/40 [02:10<01:04,  4.00s/it]\u001b[A\n",
            "Feature Extraction:  62%|██████▎   | 25/40 [02:25<01:49,  7.29s/it]\u001b[A\n",
            "Feature Extraction:  65%|██████▌   | 26/40 [02:31<01:36,  6.89s/it]\u001b[A\n",
            "Feature Extraction:  68%|██████▊   | 27/40 [02:35<01:16,  5.90s/it]\u001b[A\n",
            "Feature Extraction:  70%|███████   | 28/40 [02:36<00:53,  4.46s/it]\u001b[A\n",
            "Feature Extraction:  72%|███████▎  | 29/40 [02:40<00:48,  4.40s/it]\u001b[A\n",
            "Feature Extraction:  75%|███████▌  | 30/40 [02:42<00:36,  3.70s/it]\u001b[A\n",
            "Feature Extraction:  78%|███████▊  | 31/40 [02:45<00:30,  3.40s/it]\u001b[A\n",
            "Feature Extraction:  80%|████████  | 32/40 [02:49<00:27,  3.40s/it]\u001b[A\n",
            "Feature Extraction:  82%|████████▎ | 33/40 [03:01<00:43,  6.27s/it]\u001b[A\n",
            "Feature Extraction:  85%|████████▌ | 34/40 [03:06<00:34,  5.83s/it]\u001b[A\n",
            "Feature Extraction:  88%|████████▊ | 35/40 [03:10<00:25,  5.13s/it]\u001b[A\n",
            "Feature Extraction:  90%|█████████ | 36/40 [03:12<00:17,  4.27s/it]\u001b[A\n",
            "Feature Extraction:  92%|█████████▎| 37/40 [03:13<00:10,  3.36s/it]\u001b[A\n",
            "Feature Extraction:  95%|█████████▌| 38/40 [03:15<00:05,  2.78s/it]\u001b[A\n",
            "Feature Extraction:  98%|█████████▊| 39/40 [03:16<00:02,  2.28s/it]\u001b[A\n",
            "Feature Extraction: 100%|██████████| 40/40 [03:17<00:00,  1.90s/it]\u001b[A\n",
            "\u001b[A/usr/local/lib/python3.6/dist-packages/tsfresh/utilities/dataframe_functions.py:170: RuntimeWarning: The columns ['all_debits__agg_linear_trend__f_agg_\"mean\"__chunk_len_6__attr_\"slope\"'] did not have any finite values. Filling with zeros.\n",
            "  df.iloc[:, np.where(is_col_non_finite)[0]].columns.values), RuntimeWarning)\n"
          ],
          "name": "stderr"
        },
        {
          "output_type": "stream",
          "text": [
            "Создано 17 фичей, добавлено в список 15 фичей, отброшено 2 фичей для all_debits столбца.\n"
          ],
          "name": "stdout"
        }
      ]
    },
    {
      "cell_type": "code",
      "metadata": {
        "id": "bd5eiig4nbzQ",
        "colab_type": "code",
        "colab": {
          "base_uri": "https://localhost:8080/",
          "height": 34
        },
        "outputId": "d137fb22-7b16-4140-db2d-08a467107c35"
      },
      "source": [
        "# Добавим в финальный датасет нагенерированные фичи\n",
        "sum_1 = dataset_res.shape[1]\n",
        "dataset_res = dataset_res.merge(additional_features.drop('cif_id_', axis=1),\n",
        "                            left_on='cif_id', right_index=True)\n",
        "sum_2 = dataset_res.shape[1]\n",
        "print(f\"Добавлено {sum_2 - sum_1} фичей в исходный датасет\")"
      ],
      "execution_count": 332,
      "outputs": [
        {
          "output_type": "stream",
          "text": [
            "Добавлено 76 фичей в исходный датасет\n"
          ],
          "name": "stdout"
        }
      ]
    },
    {
      "cell_type": "code",
      "metadata": {
        "id": "3q5Ub99M3Lsi",
        "colab_type": "code",
        "colab": {
          "base_uri": "https://localhost:8080/",
          "height": 34
        },
        "outputId": "5339b96b-11eb-4bc8-bc37-9a73185eabd9"
      },
      "source": [
        "# Проверка на наны\n",
        "number_of_nans = search_nan(dataset_res)"
      ],
      "execution_count": 333,
      "outputs": [
        {
          "output_type": "stream",
          "text": [
            "Роскошно, нанов нет!\n"
          ],
          "name": "stdout"
        }
      ]
    },
    {
      "cell_type": "code",
      "metadata": {
        "id": "2Lgp_Dt2nPbB",
        "colab_type": "code",
        "colab": {
          "base_uri": "https://localhost:8080/",
          "height": 34
        },
        "outputId": "c5bf5753-030d-407a-a0b8-e6ff5cab1f28"
      },
      "source": [
        "# Пересохраним результирующий датасет с дополнительно извлеченными фичами\n",
        "# из временных рядов\n",
        "if number_of_nans == 0:\n",
        "  dataset_res.to_csv('drive/My Drive/hack/changelenge/preproc_train.csv')\n",
        "  print(\"Dataset сохранен\")\n",
        "else:\n",
        "  print(\"Датасет не прошел проверку\")"
      ],
      "execution_count": 334,
      "outputs": [
        {
          "output_type": "stream",
          "text": [
            "Dataset сохранен\n"
          ],
          "name": "stdout"
        }
      ]
    },
    {
      "cell_type": "code",
      "metadata": {
        "id": "A8ts4XZtlAao",
        "colab_type": "code",
        "colab": {
          "base_uri": "https://localhost:8080/",
          "height": 1000
        },
        "outputId": "224cce24-2de7-41f9-ba0a-be4b4709251f"
      },
      "source": [
        "# List of relevant features, that was added\n",
        "# Let's write useful features for future test preprocessing\n",
        "with open(path + 'relevant_features.txt', 'w') as f:\n",
        "          print(*relevant_features, sep='\\n', file=f)\n",
        "relevant_features"
      ],
      "execution_count": 385,
      "outputs": [
        {
          "output_type": "execute_result",
          "data": {
            "text/plain": [
              "array(['gi_smooth_3m__absolute_sum_of_changes',\n",
              "       'gi_smooth_3m__agg_linear_trend__f_agg_\"mean\"__chunk_len_1__attr_\"slope\"',\n",
              "       'gi_smooth_3m__agg_linear_trend__f_agg_\"mean\"__chunk_len_2__attr_\"intercept\"',\n",
              "       'gi_smooth_3m__agg_linear_trend__f_agg_\"mean\"__chunk_len_2__attr_\"slope\"',\n",
              "       'gi_smooth_3m__fft_aggregated__aggtype_\"centroid\"',\n",
              "       'gi_smooth_3m__fft_aggregated__aggtype_\"skew\"',\n",
              "       'gi_smooth_3m__fft_aggregated__aggtype_\"variance\"',\n",
              "       'gi_smooth_3m__mean_abs_change', 'gi_smooth_3m__mean_change',\n",
              "       'gi_smooth_3m__sample_entropy', 'gi_smooth_3m__count_above_mean',\n",
              "       'gi_smooth_3m__agg_linear_trend__f_agg_\"mean\"__chunk_len_1__attr_\"pvalue\"',\n",
              "       'gi_smooth_3m__count_below_mean', 'gi_smooth_3m__skewness',\n",
              "       'gi_smooth_3m__mean_second_derivative_central',\n",
              "       'gi_smooth_3m__cid_ce__normalize_True',\n",
              "       'salary__absolute_sum_of_changes',\n",
              "       'salary__agg_linear_trend__f_agg_\"mean\"__chunk_len_1__attr_\"pvalue\"',\n",
              "       'salary__agg_linear_trend__f_agg_\"mean\"__chunk_len_2__attr_\"intercept\"',\n",
              "       'salary__mean_abs_change', 'salary__cid_ce__normalize_True',\n",
              "       'salary__fft_aggregated__aggtype_\"centroid\"',\n",
              "       'salary__fft_aggregated__aggtype_\"variance\"',\n",
              "       'salary__count_above_mean', 'salary__count_below_mean',\n",
              "       'salary__sample_entropy', 'salary__mean_change',\n",
              "       'salary__mean_second_derivative_central',\n",
              "       'salary__agg_linear_trend__f_agg_\"mean\"__chunk_len_1__attr_\"slope\"',\n",
              "       'all_spends__absolute_sum_of_changes',\n",
              "       'all_spends__agg_linear_trend__f_agg_\"mean\"__chunk_len_1__attr_\"pvalue\"',\n",
              "       'all_spends__agg_linear_trend__f_agg_\"mean\"__chunk_len_2__attr_\"intercept\"',\n",
              "       'all_spends__cid_ce__normalize_True',\n",
              "       'all_spends__count_above_mean', 'all_spends__count_below_mean',\n",
              "       'all_spends__mean_abs_change', 'all_spends__sample_entropy',\n",
              "       'all_spends__skewness',\n",
              "       'all_spends__fft_aggregated__aggtype_\"centroid\"',\n",
              "       'all_spends__mean_change',\n",
              "       'all_spends__fft_aggregated__aggtype_\"variance\"',\n",
              "       'all_spends__agg_linear_trend__f_agg_\"mean\"__chunk_len_1__attr_\"slope\"',\n",
              "       'all_spends__fft_aggregated__aggtype_\"skew\"',\n",
              "       'all_spends__agg_linear_trend__f_agg_\"mean\"__chunk_len_2__attr_\"slope\"',\n",
              "       'all_spends__mean_second_derivative_central',\n",
              "       'all_credits__absolute_sum_of_changes',\n",
              "       'all_credits__agg_linear_trend__f_agg_\"mean\"__chunk_len_1__attr_\"pvalue\"',\n",
              "       'all_credits__agg_linear_trend__f_agg_\"mean\"__chunk_len_1__attr_\"slope\"',\n",
              "       'all_credits__agg_linear_trend__f_agg_\"mean\"__chunk_len_2__attr_\"intercept\"',\n",
              "       'all_credits__agg_linear_trend__f_agg_\"mean\"__chunk_len_2__attr_\"slope\"',\n",
              "       'all_credits__cid_ce__normalize_True',\n",
              "       'all_credits__count_above_mean', 'all_credits__count_below_mean',\n",
              "       'all_credits__fft_aggregated__aggtype_\"centroid\"',\n",
              "       'all_credits__fft_aggregated__aggtype_\"skew\"',\n",
              "       'all_credits__fft_aggregated__aggtype_\"variance\"',\n",
              "       'all_credits__mean_abs_change', 'all_credits__mean_change',\n",
              "       'all_credits__sample_entropy', 'all_credits__skewness',\n",
              "       'all_credits__mean_second_derivative_central',\n",
              "       'all_debits__absolute_sum_of_changes',\n",
              "       'all_debits__agg_linear_trend__f_agg_\"mean\"__chunk_len_1__attr_\"pvalue\"',\n",
              "       'all_debits__agg_linear_trend__f_agg_\"mean\"__chunk_len_2__attr_\"intercept\"',\n",
              "       'all_debits__cid_ce__normalize_True',\n",
              "       'all_debits__count_above_mean', 'all_debits__count_below_mean',\n",
              "       'all_debits__fft_aggregated__aggtype_\"centroid\"',\n",
              "       'all_debits__fft_aggregated__aggtype_\"variance\"',\n",
              "       'all_debits__mean_abs_change', 'all_debits__skewness',\n",
              "       'all_debits__agg_linear_trend__f_agg_\"mean\"__chunk_len_1__attr_\"slope\"',\n",
              "       'all_debits__agg_linear_trend__f_agg_\"mean\"__chunk_len_2__attr_\"slope\"',\n",
              "       'all_debits__mean_change',\n",
              "       'all_debits__fft_aggregated__aggtype_\"skew\"',\n",
              "       'all_debits__mean_second_derivative_central'], dtype='<U75')"
            ]
          },
          "metadata": {
            "tags": []
          },
          "execution_count": 385
        }
      ]
    },
    {
      "cell_type": "code",
      "metadata": {
        "id": "6hyufscHSQxY",
        "colab_type": "code",
        "colab": {}
      },
      "source": [
        "# Удалим более не нужный датасет с фичами, так как они уже добавлены в\n",
        "# результирующий\n",
        "del additional_features"
      ],
      "execution_count": 0,
      "outputs": []
    },
    {
      "cell_type": "markdown",
      "metadata": {
        "id": "hreu38IkKg4p",
        "colab_type": "text"
      },
      "source": [
        "Посмотрим фичи и корреляцию"
      ]
    },
    {
      "cell_type": "code",
      "metadata": {
        "id": "fvpM4YQAX74C",
        "colab_type": "code",
        "colab": {
          "base_uri": "https://localhost:8080/",
          "height": 34
        },
        "outputId": "e9b3971a-b2ab-4cac-a0c9-3f48c6f4d86d"
      },
      "source": [
        "set(dataset_res.columns) - set(test_result.columns)"
      ],
      "execution_count": 448,
      "outputs": [
        {
          "output_type": "execute_result",
          "data": {
            "text/plain": [
              "{'age_category', 'mean_month_cltv', 'sum_cltv'}"
            ]
          },
          "metadata": {
            "tags": []
          },
          "execution_count": 448
        }
      ]
    },
    {
      "cell_type": "code",
      "metadata": {
        "id": "MR_7nat_XfGS",
        "colab_type": "code",
        "colab": {
          "base_uri": "https://localhost:8080/",
          "height": 1000
        },
        "outputId": "7f7df272-b66b-4265-bcbe-713353f3c315"
      },
      "source": [
        "data = dataset_res.drop('sum_cltv', axis=1)\\\n",
        "    .iloc[:,np.random.randint(0, dataset_res.shape[1] - 2, size=20)]\n",
        "data['sum_cltv'] = dataset_res['sum_cltv']\n",
        "X = data.iloc[:,:20]  #independent columns\n",
        "y = data.iloc[:,-1]    #target column i.e price range\n",
        "#get correlations of each features in dataset\n",
        "corrmat = data.corr()\n",
        "top_corr_features = corrmat.index\n",
        "plt.figure(figsize=(20,20))\n",
        "#plot heat map\n",
        "g=sns.heatmap(data[top_corr_features].corr(),annot=True,cmap=\"RdYlGn\")"
      ],
      "execution_count": 384,
      "outputs": [
        {
          "output_type": "display_data",
          "data": {
            "image/png": "[encoded data removed]",
            "text/plain": [
              "<Figure size 1440x1440 with 2 Axes>"
            ]
          },
          "metadata": {
            "tags": []
          }
        }
      ]
    },
    {
      "cell_type": "markdown",
      "metadata": {
        "id": "kiGJ5DGeZMIY",
        "colab_type": "text"
      },
      "source": [
        "# Обработка тестовых данных"
      ]
    },
    {
      "cell_type": "code",
      "metadata": {
        "id": "Y29a3F0_YcNI",
        "colab_type": "code",
        "colab": {}
      },
      "source": [
        "from tsfresh import feature_extraction, extract_features\n",
        "from tsfresh.feature_selection import relevance, select_features\n",
        "from tsfresh.utilities.dataframe_functions import impute\n",
        "# Импорты для преобразования текстовых переменных в лэйблы\n",
        "import pymorphy2\n",
        "from sklearn.feature_extraction.text import CountVectorizer\n",
        "from sklearn import preprocessing"
      ],
      "execution_count": 0,
      "outputs": []
    },
    {
      "cell_type": "markdown",
      "metadata": {
        "id": "fiwSYKtxn47T",
        "colab_type": "text"
      },
      "source": [
        "!!! Надеюсь вы прочитаете это и вам будет стыдно, за то, что вы сохранили тестовые данные в одной кодировке, а трэйновые в другой"
      ]
    },
    {
      "cell_type": "code",
      "metadata": {
        "id": "fyGavICrnpa5",
        "colab_type": "code",
        "colab": {}
      },
      "source": [
        "# Код для перекодирования из кирилицы в utf-8\n",
        "# with open(path + '/CUP_IT_test_data.csv', 'r', encoding='cyrillic') as inp:\n",
        "#   with open(path + '/CUP_IT_test_data_utf.csv', 'w', encoding='utf16') as out:\n",
        "#     for i, line in enumerate(inp):\n",
        "#       print(line)\n",
        "#       if i == 250:\n",
        "#         break"
      ],
      "execution_count": 0,
      "outputs": []
    },
    {
      "cell_type": "markdown",
      "metadata": {
        "id": "EF06Gn5ftkxd",
        "colab_type": "text"
      },
      "source": [
        "В итоге нашолся старый датасет с колонкой ранк, аве облачным технологиям"
      ]
    },
    {
      "cell_type": "code",
      "metadata": {
        "id": "5VdGJQqjZLM4",
        "colab_type": "code",
        "colab": {}
      },
      "source": [
        "# loading train data to DataFrame\n",
        "test = pd.read_csv(path + '/CUP_IT_test_data.csv', comment='#')"
      ],
      "execution_count": 0,
      "outputs": []
    },
    {
      "cell_type": "code",
      "metadata": {
        "id": "DjaUSAcJkrOy",
        "colab_type": "code",
        "colab": {
          "base_uri": "https://localhost:8080/",
          "height": 313
        },
        "outputId": "d91f1868-2119-4a70-b740-9322a914192b"
      },
      "source": [
        "test = test.drop('rank', axis=1)\n",
        "test.head()"
      ],
      "execution_count": 398,
      "outputs": [
        {
          "output_type": "execute_result",
          "data": {
            "text/html": [
              "<div>\n",
              "<style scoped>\n",
              "    .dataframe tbody tr th:only-of-type {\n",
              "        vertical-align: middle;\n",
              "    }\n",
              "\n",
              "    .dataframe tbody tr th {\n",
              "        vertical-align: top;\n",
              "    }\n",
              "\n",
              "    .dataframe thead th {\n",
              "        text-align: right;\n",
              "    }\n",
              "</style>\n",
              "<table border=\"1\" class=\"dataframe\">\n",
              "  <thead>\n",
              "    <tr style=\"text-align: right;\">\n",
              "      <th></th>\n",
              "      <th>cif_id</th>\n",
              "      <th>dlk_cob_date</th>\n",
              "      <th>gi_smooth_3m</th>\n",
              "      <th>big_city</th>\n",
              "      <th>cu_gender</th>\n",
              "      <th>cu_education_level</th>\n",
              "      <th>cu_empl_area</th>\n",
              "      <th>cu_empl_level</th>\n",
              "      <th>payroll_f</th>\n",
              "      <th>cur_quantity_pl</th>\n",
              "      <th>cur_quantity_mort</th>\n",
              "      <th>cur_quantity_cc</th>\n",
              "      <th>cur_quantity_deposits</th>\n",
              "      <th>cur_quantity_dc</th>\n",
              "      <th>cur_quantity_accounts</th>\n",
              "      <th>cur_quantity_saccounts</th>\n",
              "      <th>cur_quantity_mf</th>\n",
              "      <th>cc_balance</th>\n",
              "      <th>cl_balance</th>\n",
              "      <th>ml_balance</th>\n",
              "      <th>pl_balance</th>\n",
              "      <th>td_volume</th>\n",
              "      <th>ca_volume</th>\n",
              "      <th>sa_volume</th>\n",
              "      <th>mf_volume</th>\n",
              "      <th>dc_cash_spend_v</th>\n",
              "      <th>dc_cash_spend_c</th>\n",
              "      <th>cc_cash_spend_v</th>\n",
              "      <th>cc_cash_spend_c</th>\n",
              "      <th>dc_pos_spend_v</th>\n",
              "      <th>dc_pos_spend_c</th>\n",
              "      <th>cc_pos_spend_v</th>\n",
              "      <th>cc_pos_spend_c</th>\n",
              "      <th>ca_f</th>\n",
              "      <th>rc_session_qnt_cur_mon</th>\n",
              "      <th>cur_qnt_sms</th>\n",
              "      <th>active</th>\n",
              "      <th>standalone_dc_f</th>\n",
              "      <th>standalone_payroll_dc_f</th>\n",
              "      <th>standalone_nonpayroll_dc_f</th>\n",
              "      <th>salary</th>\n",
              "      <th>cu_age</th>\n",
              "      <th>cu_mob</th>\n",
              "      <th>cu_empl_cur_dur_m</th>\n",
              "      <th>is_married</th>\n",
              "      <th>cu_eduaction_level</th>\n",
              "    </tr>\n",
              "  </thead>\n",
              "  <tbody>\n",
              "    <tr>\n",
              "      <th>0</th>\n",
              "      <td>50514</td>\n",
              "      <td>2018-06-30</td>\n",
              "      <td>17.898438</td>\n",
              "      <td>OTH</td>\n",
              "      <td>1</td>\n",
              "      <td>03. Высшее</td>\n",
              "      <td>ДРУГОЕ</td>\n",
              "      <td>SUPPORT STAFF</td>\n",
              "      <td>0</td>\n",
              "      <td>1</td>\n",
              "      <td>0</td>\n",
              "      <td>0</td>\n",
              "      <td>0</td>\n",
              "      <td>1</td>\n",
              "      <td>2</td>\n",
              "      <td>0</td>\n",
              "      <td>0</td>\n",
              "      <td>NaN</td>\n",
              "      <td>NaN</td>\n",
              "      <td>NaN</td>\n",
              "      <td>-2182.57200</td>\n",
              "      <td>NaN</td>\n",
              "      <td>23.05368</td>\n",
              "      <td>NaN</td>\n",
              "      <td>NaN</td>\n",
              "      <td>0.0</td>\n",
              "      <td>0</td>\n",
              "      <td>0.0</td>\n",
              "      <td>0</td>\n",
              "      <td>0.0</td>\n",
              "      <td>0</td>\n",
              "      <td>0.0</td>\n",
              "      <td>0</td>\n",
              "      <td>1</td>\n",
              "      <td>3</td>\n",
              "      <td>-100.0</td>\n",
              "      <td>1</td>\n",
              "      <td>1</td>\n",
              "      <td>0</td>\n",
              "      <td>1</td>\n",
              "      <td>960.0</td>\n",
              "      <td>48.0</td>\n",
              "      <td>83</td>\n",
              "      <td>63.0</td>\n",
              "      <td>1</td>\n",
              "      <td>3</td>\n",
              "    </tr>\n",
              "    <tr>\n",
              "      <th>1</th>\n",
              "      <td>50514</td>\n",
              "      <td>2018-02-28</td>\n",
              "      <td>24.355419</td>\n",
              "      <td>OTH</td>\n",
              "      <td>1</td>\n",
              "      <td>03. Высшее</td>\n",
              "      <td>ДРУГОЕ</td>\n",
              "      <td>SUPPORT STAFF</td>\n",
              "      <td>0</td>\n",
              "      <td>1</td>\n",
              "      <td>0</td>\n",
              "      <td>0</td>\n",
              "      <td>0</td>\n",
              "      <td>1</td>\n",
              "      <td>2</td>\n",
              "      <td>0</td>\n",
              "      <td>0</td>\n",
              "      <td>NaN</td>\n",
              "      <td>NaN</td>\n",
              "      <td>NaN</td>\n",
              "      <td>-3210.81288</td>\n",
              "      <td>NaN</td>\n",
              "      <td>3.11064</td>\n",
              "      <td>NaN</td>\n",
              "      <td>NaN</td>\n",
              "      <td>0.0</td>\n",
              "      <td>0</td>\n",
              "      <td>0.0</td>\n",
              "      <td>0</td>\n",
              "      <td>0.0</td>\n",
              "      <td>0</td>\n",
              "      <td>0.0</td>\n",
              "      <td>0</td>\n",
              "      <td>1</td>\n",
              "      <td>3</td>\n",
              "      <td>-100.0</td>\n",
              "      <td>1</td>\n",
              "      <td>1</td>\n",
              "      <td>0</td>\n",
              "      <td>1</td>\n",
              "      <td>960.0</td>\n",
              "      <td>47.0</td>\n",
              "      <td>79</td>\n",
              "      <td>59.0</td>\n",
              "      <td>1</td>\n",
              "      <td>3</td>\n",
              "    </tr>\n",
              "    <tr>\n",
              "      <th>2</th>\n",
              "      <td>50514</td>\n",
              "      <td>2018-04-30</td>\n",
              "      <td>20.534134</td>\n",
              "      <td>OTH</td>\n",
              "      <td>1</td>\n",
              "      <td>03. Высшее</td>\n",
              "      <td>ДРУГОЕ</td>\n",
              "      <td>SUPPORT STAFF</td>\n",
              "      <td>0</td>\n",
              "      <td>1</td>\n",
              "      <td>0</td>\n",
              "      <td>0</td>\n",
              "      <td>0</td>\n",
              "      <td>1</td>\n",
              "      <td>2</td>\n",
              "      <td>0</td>\n",
              "      <td>0</td>\n",
              "      <td>NaN</td>\n",
              "      <td>NaN</td>\n",
              "      <td>NaN</td>\n",
              "      <td>-2703.79896</td>\n",
              "      <td>NaN</td>\n",
              "      <td>13.08216</td>\n",
              "      <td>NaN</td>\n",
              "      <td>NaN</td>\n",
              "      <td>0.0</td>\n",
              "      <td>0</td>\n",
              "      <td>0.0</td>\n",
              "      <td>0</td>\n",
              "      <td>0.0</td>\n",
              "      <td>0</td>\n",
              "      <td>0.0</td>\n",
              "      <td>0</td>\n",
              "      <td>1</td>\n",
              "      <td>4</td>\n",
              "      <td>-100.0</td>\n",
              "      <td>1</td>\n",
              "      <td>1</td>\n",
              "      <td>0</td>\n",
              "      <td>1</td>\n",
              "      <td>960.0</td>\n",
              "      <td>48.0</td>\n",
              "      <td>81</td>\n",
              "      <td>61.0</td>\n",
              "      <td>1</td>\n",
              "      <td>3</td>\n",
              "    </tr>\n",
              "    <tr>\n",
              "      <th>3</th>\n",
              "      <td>50514</td>\n",
              "      <td>2018-01-31</td>\n",
              "      <td>26.477938</td>\n",
              "      <td>OTH</td>\n",
              "      <td>1</td>\n",
              "      <td>03. Высшее</td>\n",
              "      <td>ДРУГОЕ</td>\n",
              "      <td>SUPPORT STAFF</td>\n",
              "      <td>0</td>\n",
              "      <td>1</td>\n",
              "      <td>0</td>\n",
              "      <td>0</td>\n",
              "      <td>0</td>\n",
              "      <td>1</td>\n",
              "      <td>2</td>\n",
              "      <td>0</td>\n",
              "      <td>0</td>\n",
              "      <td>NaN</td>\n",
              "      <td>NaN</td>\n",
              "      <td>NaN</td>\n",
              "      <td>-3462.84264</td>\n",
              "      <td>NaN</td>\n",
              "      <td>19.72488</td>\n",
              "      <td>NaN</td>\n",
              "      <td>NaN</td>\n",
              "      <td>0.0</td>\n",
              "      <td>0</td>\n",
              "      <td>0.0</td>\n",
              "      <td>0</td>\n",
              "      <td>0.0</td>\n",
              "      <td>0</td>\n",
              "      <td>0.0</td>\n",
              "      <td>0</td>\n",
              "      <td>1</td>\n",
              "      <td>2</td>\n",
              "      <td>-100.0</td>\n",
              "      <td>1</td>\n",
              "      <td>1</td>\n",
              "      <td>0</td>\n",
              "      <td>1</td>\n",
              "      <td>960.0</td>\n",
              "      <td>47.0</td>\n",
              "      <td>78</td>\n",
              "      <td>58.0</td>\n",
              "      <td>1</td>\n",
              "      <td>3</td>\n",
              "    </tr>\n",
              "    <tr>\n",
              "      <th>4</th>\n",
              "      <td>50514</td>\n",
              "      <td>2018-05-31</td>\n",
              "      <td>19.623962</td>\n",
              "      <td>OTH</td>\n",
              "      <td>1</td>\n",
              "      <td>03. Высшее</td>\n",
              "      <td>ДРУГОЕ</td>\n",
              "      <td>SUPPORT STAFF</td>\n",
              "      <td>0</td>\n",
              "      <td>1</td>\n",
              "      <td>0</td>\n",
              "      <td>0</td>\n",
              "      <td>0</td>\n",
              "      <td>1</td>\n",
              "      <td>2</td>\n",
              "      <td>0</td>\n",
              "      <td>0</td>\n",
              "      <td>NaN</td>\n",
              "      <td>NaN</td>\n",
              "      <td>NaN</td>\n",
              "      <td>-2445.49896</td>\n",
              "      <td>NaN</td>\n",
              "      <td>30.06792</td>\n",
              "      <td>NaN</td>\n",
              "      <td>NaN</td>\n",
              "      <td>0.0</td>\n",
              "      <td>0</td>\n",
              "      <td>0.0</td>\n",
              "      <td>0</td>\n",
              "      <td>0.0</td>\n",
              "      <td>0</td>\n",
              "      <td>0.0</td>\n",
              "      <td>0</td>\n",
              "      <td>1</td>\n",
              "      <td>1</td>\n",
              "      <td>-100.0</td>\n",
              "      <td>1</td>\n",
              "      <td>1</td>\n",
              "      <td>0</td>\n",
              "      <td>1</td>\n",
              "      <td>960.0</td>\n",
              "      <td>48.0</td>\n",
              "      <td>82</td>\n",
              "      <td>62.0</td>\n",
              "      <td>1</td>\n",
              "      <td>3</td>\n",
              "    </tr>\n",
              "  </tbody>\n",
              "</table>\n",
              "</div>"
            ],
            "text/plain": [
              "   cif_id dlk_cob_date  ...  is_married cu_eduaction_level\n",
              "0   50514   2018-06-30  ...           1                  3\n",
              "1   50514   2018-02-28  ...           1                  3\n",
              "2   50514   2018-04-30  ...           1                  3\n",
              "3   50514   2018-01-31  ...           1                  3\n",
              "4   50514   2018-05-31  ...           1                  3\n",
              "\n",
              "[5 rows x 46 columns]"
            ]
          },
          "metadata": {
            "tags": []
          },
          "execution_count": 398
        }
      ]
    },
    {
      "cell_type": "code",
      "metadata": {
        "id": "HlNnd_Fgaf8T",
        "colab_type": "code",
        "colab": {}
      },
      "source": [
        "test['dlk_cob_date'] = pd.to_datetime(test['dlk_cob_date'])\n",
        "# Сортировка \n",
        "test.sort_values(['cif_id', 'dlk_cob_date'], inplace=True)"
      ],
      "execution_count": 0,
      "outputs": []
    },
    {
      "cell_type": "markdown",
      "metadata": {
        "id": "X7TMS_Nrh9yM",
        "colab_type": "text"
      },
      "source": [
        "## Заполним все НаНы"
      ]
    },
    {
      "cell_type": "code",
      "metadata": {
        "id": "pnYm3RlSh8nB",
        "colab_type": "code",
        "colab": {
          "base_uri": "https://localhost:8080/",
          "height": 746
        },
        "outputId": "48b53514-c599-4cf8-fa17-cf89e0dc224b"
      },
      "source": [
        "fill_bank_na(test)"
      ],
      "execution_count": 400,
      "outputs": [
        {
          "output_type": "stream",
          "text": [
            "Удаленные отрасли:\n",
            "['услуги перевода' 6]\n",
            "['автомобилестроение' 6]\n",
            "['Ценные бумаги' 6]\n",
            "['охранная' 6]\n",
            "['Финансы и аудит' 6]\n",
            "['Фармацевтическая промышленность' 6]\n",
            "['ФИНАНСЫ, УПРАВЛЯЮЩИЕ КОМПАНИИ, БАНКИ' 6]\n",
            "['Торговля (детское питание)' 6]\n",
            "['ТУРИЗМ, РАЗВЛЕЧЕНИЯ, РЕСТОРАННЫЙ БИЗНЕС' 6]\n",
            "['оценочная деятельность' 6]\n",
            "['транспортно-экспедит.' 6]\n",
            "['производство и поставка фасованных круп' 6]\n",
            "['СПТУ №39' 6]\n",
            "['аудит и консалтинг' 6]\n",
            "['Проектирование, монтаж, ОПС, СКУД, видеоснабжение' 6]\n",
            "['РСР' 6]\n",
            "['сбалансированное питание' 6]\n",
            "['Водоснабжение' 6]\n",
            "['Гос. управление' 6]\n",
            "['торгово-посредническая деятельность' 6]\n",
            "['строительство дорог' 6]\n",
            "['Другое Охранная система' 6]\n",
            "['снабжение' 6]\n",
            "['Платежные терминалы' 6]\n",
            "['Инвестиционная' 6]\n",
            "['бытовые услуги населению' 6]\n",
            "['Медицинские услуги' 6]\n",
            "['НАУКА, ОБРАЗОВАНИЕ' 6]\n",
            "['ресторан' 6]\n",
            "['Охрана и безопасность' 6]\n",
            "['рекламное агенство' 6]\n",
            "['Индустрия салонного бизнеса' 6]\n",
            "['СТРОИТЕЛЬСТВО, НЕДВИЖИМОСТЬ' 18]\n",
            "Удалено 33 отраслей.\n",
            "Осталось: 15 отраслей.\n",
            "Удаленные направления:\n",
            "['исполнительный директор' 6]\n",
            "['Судья' 6]\n",
            "['04' 18]\n",
            "Удалено 3 профессий.\n",
            "Осталось: 16 профессий\n"
          ],
          "name": "stdout"
        }
      ]
    },
    {
      "cell_type": "code",
      "metadata": {
        "id": "g0RbcJGJiQFN",
        "colab_type": "code",
        "colab": {
          "base_uri": "https://localhost:8080/",
          "height": 52
        },
        "outputId": "da893343-cdfe-422f-abf3-c3905459471a"
      },
      "source": [
        "search_nan(test)"
      ],
      "execution_count": 401,
      "outputs": [
        {
          "output_type": "stream",
          "text": [
            "Роскошно, нанов нет!\n"
          ],
          "name": "stdout"
        },
        {
          "output_type": "execute_result",
          "data": {
            "text/plain": [
              "0"
            ]
          },
          "metadata": {
            "tags": []
          },
          "execution_count": 401
        }
      ]
    },
    {
      "cell_type": "markdown",
      "metadata": {
        "id": "sFB_-hyemTRA",
        "colab_type": "text"
      },
      "source": [
        "## Агрегация данных"
      ]
    },
    {
      "cell_type": "code",
      "metadata": {
        "id": "_Ki-t4DeujY_",
        "colab_type": "code",
        "colab": {}
      },
      "source": [
        "test_data = test"
      ],
      "execution_count": 0,
      "outputs": []
    },
    {
      "cell_type": "code",
      "metadata": {
        "id": "U_biY-xwtGbw",
        "colab_type": "code",
        "colab": {
          "base_uri": "https://localhost:8080/",
          "height": 34
        },
        "outputId": "48469bd3-c146-48d7-b648-dd3ef1566ba5"
      },
      "source": [
        "test.cif_id.nunique()"
      ],
      "execution_count": 404,
      "outputs": [
        {
          "output_type": "execute_result",
          "data": {
            "text/plain": [
              "113962"
            ]
          },
          "metadata": {
            "tags": []
          },
          "execution_count": 404
        }
      ]
    },
    {
      "cell_type": "code",
      "metadata": {
        "id": "JrfjKGknmSix",
        "colab_type": "code",
        "colab": {}
      },
      "source": [
        "# Теперь агрегируем все данные для обучающей выборки\n",
        "test_data = test_data\\\n",
        "                        .drop(useless_feats, axis=1)\\\n",
        "                        .groupby('cif_id', as_index=False)\\\n",
        "                        .agg({#'dlk_cob_date': [last, 'max', 'min', 'count'],\n",
        "                              'gi_smooth_3m': ['mean', 'sum'],\n",
        "                              'big_city': [last,],\n",
        "                              'cu_gender': [last],\n",
        "                              'payroll_f': [last],\n",
        "                              'cur_quantity_pl': [last],\n",
        "                              'cur_quantity_mort': [last, 'mean'],\n",
        "                              'cur_quantity_cc': [last, 'mean'],\n",
        "                              'cur_quantity_deposits': [last, 'mean'],\n",
        "                              'cur_quantity_dc': [last, 'mean'],\n",
        "                              'cur_quantity_accounts': [last, 'mean'],\n",
        "                              'cur_quantity_saccounts': [last, 'mean'],\n",
        "                              'cur_quantity_mf': [last, 'mean'],\n",
        "                              'cc_balance': balance_agg_funcs,\n",
        "                              'cl_balance': credits_agg_funcs,\n",
        "                              'ml_balance': credits_agg_funcs,\n",
        "                              'pl_balance': credits_agg_funcs,\n",
        "                              'td_volume': deposit_agg_funcs,\n",
        "                              'ca_volume': deposit_agg_funcs,\n",
        "                              'sa_volume': deposit_agg_funcs,\n",
        "                              'mf_volume': deposit_agg_funcs,\n",
        "                              'dc_cash_spend_v': cards_spend_agg_funcs,\n",
        "                              'dc_cash_spend_c': cards_count_agg_funcs,\n",
        "                              'cc_cash_spend_v': cards_spend_agg_funcs,\n",
        "                              'cc_cash_spend_c': cards_count_agg_funcs,\n",
        "                              'dc_pos_spend_v': cards_spend_agg_funcs,\n",
        "                              'dc_pos_spend_c': cards_count_agg_funcs,\n",
        "                              'cc_pos_spend_v': cards_spend_agg_funcs,\n",
        "                              'cc_pos_spend_c': cards_count_agg_funcs,\n",
        "                              'ca_f': categorical_agg_func,\n",
        "                              'rc_session_qnt_cur_mon': [last, 'mean'],\n",
        "                              'cur_qnt_sms': ['mean'],\n",
        "                              'active': [last, 'mean'],\n",
        "                              'standalone_dc_f': [last],\n",
        "                              'standalone_payroll_dc_f': categorical_agg_func,\n",
        "                              'standalone_nonpayroll_dc_f': categorical_agg_func,\n",
        "                              'salary': balance_agg_funcs,\n",
        "                              'cu_age': age_agg_funcs,\n",
        "                              'cu_mob': [last],\n",
        "                              'cu_empl_cur_dur_m': [last],\n",
        "                              'is_married': categorical_agg_func,\n",
        "                              'cu_eduaction_level': categorical_agg_func,\n",
        "                              'cu_education_level': categorical_agg_func,\n",
        "                              'cu_empl_area': categorical_agg_func,\n",
        "                              'cu_empl_level': categorical_agg_func\n",
        "                              })"
      ],
      "execution_count": 0,
      "outputs": []
    },
    {
      "cell_type": "code",
      "metadata": {
        "id": "tK4c6CJTuWvZ",
        "colab_type": "code",
        "colab": {
          "base_uri": "https://localhost:8080/",
          "height": 34
        },
        "outputId": "6426d920-bc9f-49d4-c295-2da8f7c53819"
      },
      "source": [
        "test_data.columns = [\"_\".join(x) for x in test_data.columns.ravel()]\n",
        "test_data.shape"
      ],
      "execution_count": 406,
      "outputs": [
        {
          "output_type": "execute_result",
          "data": {
            "text/plain": [
              "(113962, 70)"
            ]
          },
          "metadata": {
            "tags": []
          },
          "execution_count": 406
        }
      ]
    },
    {
      "cell_type": "code",
      "metadata": {
        "id": "LAXh3wS4wK2z",
        "colab_type": "code",
        "colab": {}
      },
      "source": [
        "# Инициализация анализатора\n",
        "morph = pymorphy2.MorphAnalyzer()"
      ],
      "execution_count": 0,
      "outputs": []
    },
    {
      "cell_type": "code",
      "metadata": {
        "id": "KL_btJjkwS4p",
        "colab_type": "code",
        "colab": {}
      },
      "source": [
        "for obj in test_data:\n",
        "  data = list()\n",
        "  if obj in obj_columns:\n",
        "    test_data['temp'] = test_data[obj].apply(lambda x: morph.parse(str(x))[0].normal_form)\n",
        "    enc = preprocessing.OrdinalEncoder()\n",
        "    enc.fit(test_data['temp'].values.reshape(-1, 1))\n",
        "    test_data[obj] = enc.transform(test_data['temp'].values.reshape(-1, 1))[:, 0]"
      ],
      "execution_count": 0,
      "outputs": []
    },
    {
      "cell_type": "code",
      "metadata": {
        "id": "kCVNEpK0wk-p",
        "colab_type": "code",
        "colab": {}
      },
      "source": [
        "test_data = test_data.drop('temp', axis=1)"
      ],
      "execution_count": 0,
      "outputs": []
    },
    {
      "cell_type": "code",
      "metadata": {
        "id": "IaVYVOS_wq2n",
        "colab_type": "code",
        "colab": {
          "base_uri": "https://localhost:8080/",
          "height": 226
        },
        "outputId": "45e8ef9f-035f-49c2-f54e-3fd66a8d0f85"
      },
      "source": [
        "test_data = test_data.rename({'cif_id_': 'cif_id'}, axis=1)\n",
        "test_data.head(5)"
      ],
      "execution_count": 410,
      "outputs": [
        {
          "output_type": "execute_result",
          "data": {
            "text/html": [
              "<div>\n",
              "<style scoped>\n",
              "    .dataframe tbody tr th:only-of-type {\n",
              "        vertical-align: middle;\n",
              "    }\n",
              "\n",
              "    .dataframe tbody tr th {\n",
              "        vertical-align: top;\n",
              "    }\n",
              "\n",
              "    .dataframe thead th {\n",
              "        text-align: right;\n",
              "    }\n",
              "</style>\n",
              "<table border=\"1\" class=\"dataframe\">\n",
              "  <thead>\n",
              "    <tr style=\"text-align: right;\">\n",
              "      <th></th>\n",
              "      <th>cif_id</th>\n",
              "      <th>gi_smooth_3m_mean</th>\n",
              "      <th>gi_smooth_3m_sum</th>\n",
              "      <th>big_city_&lt;lambda&gt;</th>\n",
              "      <th>cu_gender_&lt;lambda&gt;</th>\n",
              "      <th>payroll_f_&lt;lambda&gt;</th>\n",
              "      <th>cur_quantity_pl_&lt;lambda&gt;</th>\n",
              "      <th>cur_quantity_mort_&lt;lambda_0&gt;</th>\n",
              "      <th>cur_quantity_mort_mean</th>\n",
              "      <th>cur_quantity_cc_&lt;lambda_0&gt;</th>\n",
              "      <th>cur_quantity_cc_mean</th>\n",
              "      <th>cur_quantity_deposits_&lt;lambda_0&gt;</th>\n",
              "      <th>cur_quantity_deposits_mean</th>\n",
              "      <th>cur_quantity_dc_&lt;lambda_0&gt;</th>\n",
              "      <th>cur_quantity_dc_mean</th>\n",
              "      <th>cur_quantity_accounts_&lt;lambda_0&gt;</th>\n",
              "      <th>cur_quantity_accounts_mean</th>\n",
              "      <th>cur_quantity_saccounts_&lt;lambda_0&gt;</th>\n",
              "      <th>cur_quantity_saccounts_mean</th>\n",
              "      <th>cur_quantity_mf_&lt;lambda_0&gt;</th>\n",
              "      <th>cur_quantity_mf_mean</th>\n",
              "      <th>cc_balance_mean</th>\n",
              "      <th>cc_balance_max</th>\n",
              "      <th>cc_balance_min</th>\n",
              "      <th>cl_balance_&lt;lambda_0&gt;</th>\n",
              "      <th>cl_balance_max</th>\n",
              "      <th>ml_balance_&lt;lambda_0&gt;</th>\n",
              "      <th>ml_balance_max</th>\n",
              "      <th>pl_balance_&lt;lambda_0&gt;</th>\n",
              "      <th>pl_balance_max</th>\n",
              "      <th>td_volume_mean</th>\n",
              "      <th>td_volume_max</th>\n",
              "      <th>ca_volume_mean</th>\n",
              "      <th>ca_volume_max</th>\n",
              "      <th>sa_volume_mean</th>\n",
              "      <th>sa_volume_max</th>\n",
              "      <th>mf_volume_mean</th>\n",
              "      <th>mf_volume_max</th>\n",
              "      <th>dc_cash_spend_v_mean</th>\n",
              "      <th>dc_cash_spend_v_max</th>\n",
              "      <th>dc_cash_spend_c_mean</th>\n",
              "      <th>cc_cash_spend_v_mean</th>\n",
              "      <th>cc_cash_spend_v_max</th>\n",
              "      <th>cc_cash_spend_c_mean</th>\n",
              "      <th>dc_pos_spend_v_mean</th>\n",
              "      <th>dc_pos_spend_v_max</th>\n",
              "      <th>dc_pos_spend_c_mean</th>\n",
              "      <th>cc_pos_spend_v_mean</th>\n",
              "      <th>cc_pos_spend_v_max</th>\n",
              "      <th>cc_pos_spend_c_mean</th>\n",
              "      <th>ca_f_&lt;lambda&gt;</th>\n",
              "      <th>rc_session_qnt_cur_mon_&lt;lambda_0&gt;</th>\n",
              "      <th>rc_session_qnt_cur_mon_mean</th>\n",
              "      <th>cur_qnt_sms_mean</th>\n",
              "      <th>active_&lt;lambda_0&gt;</th>\n",
              "      <th>active_mean</th>\n",
              "      <th>standalone_dc_f_&lt;lambda&gt;</th>\n",
              "      <th>standalone_payroll_dc_f_&lt;lambda&gt;</th>\n",
              "      <th>standalone_nonpayroll_dc_f_&lt;lambda&gt;</th>\n",
              "      <th>salary_mean</th>\n",
              "      <th>salary_max</th>\n",
              "      <th>salary_min</th>\n",
              "      <th>cu_age_&lt;lambda&gt;</th>\n",
              "      <th>cu_mob_&lt;lambda&gt;</th>\n",
              "      <th>cu_empl_cur_dur_m_&lt;lambda&gt;</th>\n",
              "      <th>is_married_&lt;lambda&gt;</th>\n",
              "      <th>cu_eduaction_level_&lt;lambda&gt;</th>\n",
              "      <th>cu_education_level_&lt;lambda&gt;</th>\n",
              "      <th>cu_empl_area_&lt;lambda&gt;</th>\n",
              "      <th>cu_empl_level_&lt;lambda&gt;</th>\n",
              "    </tr>\n",
              "  </thead>\n",
              "  <tbody>\n",
              "    <tr>\n",
              "      <th>0</th>\n",
              "      <td>1000</td>\n",
              "      <td>53.940459</td>\n",
              "      <td>323.642757</td>\n",
              "      <td>1.0</td>\n",
              "      <td>0</td>\n",
              "      <td>0</td>\n",
              "      <td>1</td>\n",
              "      <td>0</td>\n",
              "      <td>0.0</td>\n",
              "      <td>2</td>\n",
              "      <td>2.500000</td>\n",
              "      <td>0</td>\n",
              "      <td>0.0</td>\n",
              "      <td>1</td>\n",
              "      <td>1.000000</td>\n",
              "      <td>1</td>\n",
              "      <td>1.0</td>\n",
              "      <td>0</td>\n",
              "      <td>0.0</td>\n",
              "      <td>0</td>\n",
              "      <td>0.0</td>\n",
              "      <td>-190.73664</td>\n",
              "      <td>-0.00984</td>\n",
              "      <td>-599.18208</td>\n",
              "      <td>0.0</td>\n",
              "      <td>0.0</td>\n",
              "      <td>0.0</td>\n",
              "      <td>0.0</td>\n",
              "      <td>-5612.09448</td>\n",
              "      <td>-5612.09448</td>\n",
              "      <td>0.0</td>\n",
              "      <td>0.0</td>\n",
              "      <td>20.36652</td>\n",
              "      <td>77.67048</td>\n",
              "      <td>0.0000</td>\n",
              "      <td>0.00000</td>\n",
              "      <td>0.0</td>\n",
              "      <td>0.0</td>\n",
              "      <td>864.0</td>\n",
              "      <td>3600.0</td>\n",
              "      <td>1.166667</td>\n",
              "      <td>0.0</td>\n",
              "      <td>0.0</td>\n",
              "      <td>0.0</td>\n",
              "      <td>224.79672</td>\n",
              "      <td>508.65000</td>\n",
              "      <td>11.000000</td>\n",
              "      <td>26.85384</td>\n",
              "      <td>80.62704</td>\n",
              "      <td>1.333333</td>\n",
              "      <td>1</td>\n",
              "      <td>2</td>\n",
              "      <td>7.000000</td>\n",
              "      <td>1.833333</td>\n",
              "      <td>1</td>\n",
              "      <td>1.000000</td>\n",
              "      <td>1</td>\n",
              "      <td>0</td>\n",
              "      <td>1</td>\n",
              "      <td>203.65600</td>\n",
              "      <td>242.424</td>\n",
              "      <td>173.32800</td>\n",
              "      <td>33.0</td>\n",
              "      <td>122</td>\n",
              "      <td>29.0</td>\n",
              "      <td>1</td>\n",
              "      <td>3</td>\n",
              "      <td>2.0</td>\n",
              "      <td>9.0</td>\n",
              "      <td>6.0</td>\n",
              "    </tr>\n",
              "    <tr>\n",
              "      <th>1</th>\n",
              "      <td>1003</td>\n",
              "      <td>75.117063</td>\n",
              "      <td>450.702379</td>\n",
              "      <td>3.0</td>\n",
              "      <td>1</td>\n",
              "      <td>0</td>\n",
              "      <td>1</td>\n",
              "      <td>0</td>\n",
              "      <td>0.0</td>\n",
              "      <td>2</td>\n",
              "      <td>1.666667</td>\n",
              "      <td>0</td>\n",
              "      <td>0.0</td>\n",
              "      <td>1</td>\n",
              "      <td>1.500000</td>\n",
              "      <td>2</td>\n",
              "      <td>2.0</td>\n",
              "      <td>0</td>\n",
              "      <td>0.0</td>\n",
              "      <td>0</td>\n",
              "      <td>0.0</td>\n",
              "      <td>-1073.62020</td>\n",
              "      <td>1.22496</td>\n",
              "      <td>-2265.40992</td>\n",
              "      <td>0.0</td>\n",
              "      <td>0.0</td>\n",
              "      <td>0.0</td>\n",
              "      <td>0.0</td>\n",
              "      <td>-7311.50568</td>\n",
              "      <td>-6565.72296</td>\n",
              "      <td>0.0</td>\n",
              "      <td>0.0</td>\n",
              "      <td>40.41964</td>\n",
              "      <td>215.84496</td>\n",
              "      <td>0.0000</td>\n",
              "      <td>0.00000</td>\n",
              "      <td>0.0</td>\n",
              "      <td>0.0</td>\n",
              "      <td>3.2</td>\n",
              "      <td>19.2</td>\n",
              "      <td>0.166667</td>\n",
              "      <td>0.0</td>\n",
              "      <td>0.0</td>\n",
              "      <td>0.0</td>\n",
              "      <td>118.97720</td>\n",
              "      <td>556.80000</td>\n",
              "      <td>3.333333</td>\n",
              "      <td>678.30888</td>\n",
              "      <td>2062.90320</td>\n",
              "      <td>8.833333</td>\n",
              "      <td>1</td>\n",
              "      <td>34</td>\n",
              "      <td>28.666667</td>\n",
              "      <td>0.500000</td>\n",
              "      <td>1</td>\n",
              "      <td>1.000000</td>\n",
              "      <td>0</td>\n",
              "      <td>0</td>\n",
              "      <td>0</td>\n",
              "      <td>1621.54472</td>\n",
              "      <td>1848.000</td>\n",
              "      <td>993.26832</td>\n",
              "      <td>35.0</td>\n",
              "      <td>30</td>\n",
              "      <td>6.0</td>\n",
              "      <td>1</td>\n",
              "      <td>3</td>\n",
              "      <td>2.0</td>\n",
              "      <td>2.0</td>\n",
              "      <td>8.0</td>\n",
              "    </tr>\n",
              "    <tr>\n",
              "      <th>2</th>\n",
              "      <td>1006</td>\n",
              "      <td>2.433070</td>\n",
              "      <td>14.598418</td>\n",
              "      <td>0.0</td>\n",
              "      <td>0</td>\n",
              "      <td>0</td>\n",
              "      <td>0</td>\n",
              "      <td>0</td>\n",
              "      <td>0.0</td>\n",
              "      <td>0</td>\n",
              "      <td>0.000000</td>\n",
              "      <td>0</td>\n",
              "      <td>0.0</td>\n",
              "      <td>0</td>\n",
              "      <td>0.333333</td>\n",
              "      <td>1</td>\n",
              "      <td>1.0</td>\n",
              "      <td>0</td>\n",
              "      <td>0.0</td>\n",
              "      <td>0</td>\n",
              "      <td>0.0</td>\n",
              "      <td>0.00000</td>\n",
              "      <td>0.00000</td>\n",
              "      <td>0.00000</td>\n",
              "      <td>0.0</td>\n",
              "      <td>0.0</td>\n",
              "      <td>0.0</td>\n",
              "      <td>0.0</td>\n",
              "      <td>0.00000</td>\n",
              "      <td>0.00000</td>\n",
              "      <td>0.0</td>\n",
              "      <td>0.0</td>\n",
              "      <td>1.79600</td>\n",
              "      <td>10.69536</td>\n",
              "      <td>0.0000</td>\n",
              "      <td>0.00000</td>\n",
              "      <td>0.0</td>\n",
              "      <td>0.0</td>\n",
              "      <td>0.0</td>\n",
              "      <td>0.0</td>\n",
              "      <td>0.000000</td>\n",
              "      <td>0.0</td>\n",
              "      <td>0.0</td>\n",
              "      <td>0.0</td>\n",
              "      <td>0.00000</td>\n",
              "      <td>0.00000</td>\n",
              "      <td>0.000000</td>\n",
              "      <td>0.00000</td>\n",
              "      <td>0.00000</td>\n",
              "      <td>0.000000</td>\n",
              "      <td>1</td>\n",
              "      <td>0</td>\n",
              "      <td>0.000000</td>\n",
              "      <td>0.333333</td>\n",
              "      <td>0</td>\n",
              "      <td>0.333333</td>\n",
              "      <td>0</td>\n",
              "      <td>0</td>\n",
              "      <td>0</td>\n",
              "      <td>720.00000</td>\n",
              "      <td>720.000</td>\n",
              "      <td>720.00000</td>\n",
              "      <td>44.0</td>\n",
              "      <td>62</td>\n",
              "      <td>97.0</td>\n",
              "      <td>1</td>\n",
              "      <td>2</td>\n",
              "      <td>1.0</td>\n",
              "      <td>2.0</td>\n",
              "      <td>2.0</td>\n",
              "    </tr>\n",
              "    <tr>\n",
              "      <th>3</th>\n",
              "      <td>1008</td>\n",
              "      <td>1.346990</td>\n",
              "      <td>8.081938</td>\n",
              "      <td>1.0</td>\n",
              "      <td>0</td>\n",
              "      <td>0</td>\n",
              "      <td>0</td>\n",
              "      <td>0</td>\n",
              "      <td>0.0</td>\n",
              "      <td>0</td>\n",
              "      <td>0.000000</td>\n",
              "      <td>0</td>\n",
              "      <td>0.0</td>\n",
              "      <td>0</td>\n",
              "      <td>0.000000</td>\n",
              "      <td>1</td>\n",
              "      <td>1.0</td>\n",
              "      <td>1</td>\n",
              "      <td>0.5</td>\n",
              "      <td>0</td>\n",
              "      <td>0.0</td>\n",
              "      <td>0.00000</td>\n",
              "      <td>0.00000</td>\n",
              "      <td>0.00000</td>\n",
              "      <td>0.0</td>\n",
              "      <td>0.0</td>\n",
              "      <td>0.0</td>\n",
              "      <td>0.0</td>\n",
              "      <td>0.00000</td>\n",
              "      <td>0.00000</td>\n",
              "      <td>0.0</td>\n",
              "      <td>0.0</td>\n",
              "      <td>0.00120</td>\n",
              "      <td>0.00120</td>\n",
              "      <td>5.1482</td>\n",
              "      <td>10.33488</td>\n",
              "      <td>0.0</td>\n",
              "      <td>0.0</td>\n",
              "      <td>0.0</td>\n",
              "      <td>0.0</td>\n",
              "      <td>0.000000</td>\n",
              "      <td>0.0</td>\n",
              "      <td>0.0</td>\n",
              "      <td>0.0</td>\n",
              "      <td>0.00000</td>\n",
              "      <td>0.00000</td>\n",
              "      <td>0.000000</td>\n",
              "      <td>0.00000</td>\n",
              "      <td>0.00000</td>\n",
              "      <td>0.000000</td>\n",
              "      <td>1</td>\n",
              "      <td>0</td>\n",
              "      <td>0.333333</td>\n",
              "      <td>0.000000</td>\n",
              "      <td>1</td>\n",
              "      <td>0.833333</td>\n",
              "      <td>0</td>\n",
              "      <td>0</td>\n",
              "      <td>0</td>\n",
              "      <td>1684.49400</td>\n",
              "      <td>1684.494</td>\n",
              "      <td>1684.49400</td>\n",
              "      <td>35.0</td>\n",
              "      <td>50</td>\n",
              "      <td>63.0</td>\n",
              "      <td>1</td>\n",
              "      <td>3</td>\n",
              "      <td>2.0</td>\n",
              "      <td>2.0</td>\n",
              "      <td>8.0</td>\n",
              "    </tr>\n",
              "    <tr>\n",
              "      <th>4</th>\n",
              "      <td>1012</td>\n",
              "      <td>7.442803</td>\n",
              "      <td>44.656817</td>\n",
              "      <td>2.0</td>\n",
              "      <td>0</td>\n",
              "      <td>0</td>\n",
              "      <td>0</td>\n",
              "      <td>0</td>\n",
              "      <td>0.0</td>\n",
              "      <td>2</td>\n",
              "      <td>2.000000</td>\n",
              "      <td>0</td>\n",
              "      <td>0.0</td>\n",
              "      <td>1</td>\n",
              "      <td>1.000000</td>\n",
              "      <td>1</td>\n",
              "      <td>1.0</td>\n",
              "      <td>1</td>\n",
              "      <td>1.0</td>\n",
              "      <td>0</td>\n",
              "      <td>0.0</td>\n",
              "      <td>-7.35400</td>\n",
              "      <td>3.87600</td>\n",
              "      <td>-48.00000</td>\n",
              "      <td>0.0</td>\n",
              "      <td>0.0</td>\n",
              "      <td>0.0</td>\n",
              "      <td>0.0</td>\n",
              "      <td>0.00000</td>\n",
              "      <td>0.00000</td>\n",
              "      <td>0.0</td>\n",
              "      <td>0.0</td>\n",
              "      <td>12.06524</td>\n",
              "      <td>37.05648</td>\n",
              "      <td>114.5900</td>\n",
              "      <td>348.44424</td>\n",
              "      <td>0.0</td>\n",
              "      <td>0.0</td>\n",
              "      <td>110.4</td>\n",
              "      <td>367.2</td>\n",
              "      <td>2.500000</td>\n",
              "      <td>0.0</td>\n",
              "      <td>0.0</td>\n",
              "      <td>0.0</td>\n",
              "      <td>133.46280</td>\n",
              "      <td>306.21672</td>\n",
              "      <td>15.166667</td>\n",
              "      <td>33.20620</td>\n",
              "      <td>104.08800</td>\n",
              "      <td>3.166667</td>\n",
              "      <td>1</td>\n",
              "      <td>3</td>\n",
              "      <td>9.166667</td>\n",
              "      <td>1.000000</td>\n",
              "      <td>1</td>\n",
              "      <td>1.000000</td>\n",
              "      <td>0</td>\n",
              "      <td>0</td>\n",
              "      <td>0</td>\n",
              "      <td>720.00000</td>\n",
              "      <td>720.000</td>\n",
              "      <td>720.00000</td>\n",
              "      <td>32.0</td>\n",
              "      <td>26</td>\n",
              "      <td>28.0</td>\n",
              "      <td>0</td>\n",
              "      <td>3</td>\n",
              "      <td>2.0</td>\n",
              "      <td>10.0</td>\n",
              "      <td>11.0</td>\n",
              "    </tr>\n",
              "  </tbody>\n",
              "</table>\n",
              "</div>"
            ],
            "text/plain": [
              "   cif_id  gi_smooth_3m_mean  ...  cu_empl_area_<lambda>  cu_empl_level_<lambda>\n",
              "0    1000          53.940459  ...                    9.0                     6.0\n",
              "1    1003          75.117063  ...                    2.0                     8.0\n",
              "2    1006           2.433070  ...                    2.0                     2.0\n",
              "3    1008           1.346990  ...                    2.0                     8.0\n",
              "4    1012           7.442803  ...                   10.0                    11.0\n",
              "\n",
              "[5 rows x 70 columns]"
            ]
          },
          "metadata": {
            "tags": []
          },
          "execution_count": 410
        }
      ]
    },
    {
      "cell_type": "code",
      "metadata": {
        "id": "jpTBRg4cuiSj",
        "colab_type": "code",
        "colab": {
          "base_uri": "https://localhost:8080/",
          "height": 34
        },
        "outputId": "aaefae93-fa13-4964-f8d2-fe2b6c21555c"
      },
      "source": [
        "test_data.shape"
      ],
      "execution_count": 411,
      "outputs": [
        {
          "output_type": "execute_result",
          "data": {
            "text/plain": [
              "(113962, 70)"
            ]
          },
          "metadata": {
            "tags": []
          },
          "execution_count": 411
        }
      ]
    },
    {
      "cell_type": "markdown",
      "metadata": {
        "id": "p1C98XBuw3ke",
        "colab_type": "text"
      },
      "source": [
        "Генерация признаков для тестовой выборки"
      ]
    },
    {
      "cell_type": "code",
      "metadata": {
        "id": "XV0TFdtgw0MS",
        "colab_type": "code",
        "colab": {}
      },
      "source": [
        "# Оставим нужные фичи, которые изменяются во временем\n",
        "main_feats = [\n",
        "             'cif_id',\n",
        "             'dlk_cob_date'\n",
        "]\n",
        "# Не фартануло, слишком много данных, колаб лег, будем объединять\n",
        "time_series_feats = [\n",
        "                     \n",
        "                     'gi_smooth_3m',\n",
        "                    #  'cc_balance',\n",
        "                    #  'cl_balance',\n",
        "                    #  'ml_balance',\n",
        "                    #  'pl_balance',\n",
        "                    #  'td_volume',\n",
        "                    #  'ca_volume',\n",
        "                    #  'sa_volume',\n",
        "                    #  'mf_volume',\n",
        "                    #  'dc_cash_spend_v',\n",
        "                    #  'cc_cash_spend_v',\n",
        "                    #  'dc_pos_spend_v',\n",
        "                    #  'cc_pos_spend_v',\n",
        "                    #  'rc_session_qnt_cur_mon',\n",
        "                    #  'cur_qnt_sms',\n",
        "                     'salary'\n",
        "]"
      ],
      "execution_count": 0,
      "outputs": []
    },
    {
      "cell_type": "markdown",
      "metadata": {
        "id": "_fDCTEN7xJKK",
        "colab_type": "text"
      },
      "source": [
        "Самая сложная часть, надо не промахнуться и сгенерировать те же признаки, алгоритм:\n",
        "  - Запускаем поиск фичей, без селекции\n",
        "  - Объединяев все фичи\n",
        "  - Оставляем лишь фичи лежащие в relevant_features (список или файл, по желанию)"
      ]
    },
    {
      "cell_type": "code",
      "metadata": {
        "id": "ISOR1lH2w9NH",
        "colab_type": "code",
        "colab": {
          "base_uri": "https://localhost:8080/",
          "height": 34
        },
        "outputId": "7b6c32ab-0b2d-4b81-b5cf-acdca1260fe7"
      },
      "source": [
        "#\n",
        "additional_features = pd.DataFrame(test_data.iloc[:,0])\n",
        "additional_features.shape"
      ],
      "execution_count": 413,
      "outputs": [
        {
          "output_type": "execute_result",
          "data": {
            "text/plain": [
              "(113962, 1)"
            ]
          },
          "metadata": {
            "tags": []
          },
          "execution_count": 413
        }
      ]
    },
    {
      "cell_type": "code",
      "metadata": {
        "id": "spcKP2hFcFZC",
        "colab_type": "code",
        "colab": {
          "base_uri": "https://localhost:8080/",
          "height": 86
        },
        "outputId": "24779672-86d3-4d26-e3f3-f5454ed06f1e"
      },
      "source": [
        "# Объединим все фичи и внесем колонки в список time_series_feats\n",
        "time_series_feats.append(merge_spends(test))\n",
        "time_series_feats.append(merge_credits(test))\n",
        "time_series_feats.append(merge_debits(test))\n",
        "# time_series_feats.append(merge_actions(test))\n",
        "time_series_feats"
      ],
      "execution_count": 414,
      "outputs": [
        {
          "output_type": "stream",
          "text": [
            "Создана колонка all_spends\n",
            "Создана колонка all_credits\n",
            "Создана колонка all_debits\n"
          ],
          "name": "stdout"
        },
        {
          "output_type": "execute_result",
          "data": {
            "text/plain": [
              "['gi_smooth_3m', 'salary', 'all_spends', 'all_credits', 'all_debits']"
            ]
          },
          "metadata": {
            "tags": []
          },
          "execution_count": 414
        }
      ]
    },
    {
      "cell_type": "code",
      "metadata": {
        "id": "PBcyuJkK1rgV",
        "colab_type": "code",
        "colab": {}
      },
      "source": [
        "test_data['age_category'] = test_data['cu_age_<lambda>'].apply(get_age_category)"
      ],
      "execution_count": 0,
      "outputs": []
    },
    {
      "cell_type": "code",
      "metadata": {
        "id": "Gbqu3ao8cvhb",
        "colab_type": "code",
        "colab": {
          "base_uri": "https://localhost:8080/",
          "height": 424
        },
        "outputId": "2a00dd8c-33e9-489f-c940-37c5ab64ed24"
      },
      "source": [
        "test_light = test.loc[:,[*main_feats, *time_series_feats]]\n",
        "test_light.index = np.arange(test_light.shape[0])\n",
        "test_light"
      ],
      "execution_count": 417,
      "outputs": [
        {
          "output_type": "execute_result",
          "data": {
            "text/html": [
              "<div>\n",
              "<style scoped>\n",
              "    .dataframe tbody tr th:only-of-type {\n",
              "        vertical-align: middle;\n",
              "    }\n",
              "\n",
              "    .dataframe tbody tr th {\n",
              "        vertical-align: top;\n",
              "    }\n",
              "\n",
              "    .dataframe thead th {\n",
              "        text-align: right;\n",
              "    }\n",
              "</style>\n",
              "<table border=\"1\" class=\"dataframe\">\n",
              "  <thead>\n",
              "    <tr style=\"text-align: right;\">\n",
              "      <th></th>\n",
              "      <th>cif_id</th>\n",
              "      <th>dlk_cob_date</th>\n",
              "      <th>gi_smooth_3m</th>\n",
              "      <th>salary</th>\n",
              "      <th>all_spends</th>\n",
              "      <th>all_credits</th>\n",
              "      <th>all_debits</th>\n",
              "    </tr>\n",
              "  </thead>\n",
              "  <tbody>\n",
              "    <tr>\n",
              "      <th>0</th>\n",
              "      <td>1000</td>\n",
              "      <td>2018-01-31</td>\n",
              "      <td>53.184058</td>\n",
              "      <td>188.232000</td>\n",
              "      <td>639.18504</td>\n",
              "      <td>-6401.02080</td>\n",
              "      <td>7.91160</td>\n",
              "    </tr>\n",
              "    <tr>\n",
              "      <th>1</th>\n",
              "      <td>1000</td>\n",
              "      <td>2018-02-28</td>\n",
              "      <td>47.592137</td>\n",
              "      <td>242.424000</td>\n",
              "      <td>100.54944</td>\n",
              "      <td>-6241.80096</td>\n",
              "      <td>1.00536</td>\n",
              "    </tr>\n",
              "    <tr>\n",
              "      <th>2</th>\n",
              "      <td>1000</td>\n",
              "      <td>2018-03-31</td>\n",
              "      <td>40.828960</td>\n",
              "      <td>173.328000</td>\n",
              "      <td>118.76160</td>\n",
              "      <td>-6089.32536</td>\n",
              "      <td>3.40848</td>\n",
              "    </tr>\n",
              "    <tr>\n",
              "      <th>3</th>\n",
              "      <td>1000</td>\n",
              "      <td>2018-04-30</td>\n",
              "      <td>35.967168</td>\n",
              "      <td>223.728000</td>\n",
              "      <td>26.11200</td>\n",
              "      <td>-5956.79664</td>\n",
              "      <td>-1.39848</td>\n",
              "    </tr>\n",
              "    <tr>\n",
              "      <th>4</th>\n",
              "      <td>1000</td>\n",
              "      <td>2018-05-31</td>\n",
              "      <td>61.794418</td>\n",
              "      <td>173.328000</td>\n",
              "      <td>4024.37328</td>\n",
              "      <td>-6294.35280</td>\n",
              "      <td>33.60168</td>\n",
              "    </tr>\n",
              "    <tr>\n",
              "      <th>...</th>\n",
              "      <td>...</td>\n",
              "      <td>...</td>\n",
              "      <td>...</td>\n",
              "      <td>...</td>\n",
              "      <td>...</td>\n",
              "      <td>...</td>\n",
              "      <td>...</td>\n",
              "    </tr>\n",
              "    <tr>\n",
              "      <th>683767</th>\n",
              "      <td>511531</td>\n",
              "      <td>2018-02-28</td>\n",
              "      <td>74.185430</td>\n",
              "      <td>1017.910440</td>\n",
              "      <td>0.00000</td>\n",
              "      <td>-12597.55632</td>\n",
              "      <td>4.95360</td>\n",
              "    </tr>\n",
              "    <tr>\n",
              "      <th>683768</th>\n",
              "      <td>511531</td>\n",
              "      <td>2018-03-31</td>\n",
              "      <td>72.694857</td>\n",
              "      <td>1017.910440</td>\n",
              "      <td>0.00000</td>\n",
              "      <td>-12374.88216</td>\n",
              "      <td>9.18360</td>\n",
              "    </tr>\n",
              "    <tr>\n",
              "      <th>683769</th>\n",
              "      <td>511531</td>\n",
              "      <td>2018-04-30</td>\n",
              "      <td>70.685762</td>\n",
              "      <td>1017.910440</td>\n",
              "      <td>0.00000</td>\n",
              "      <td>-12143.75304</td>\n",
              "      <td>13.41360</td>\n",
              "    </tr>\n",
              "    <tr>\n",
              "      <th>683770</th>\n",
              "      <td>511531</td>\n",
              "      <td>2018-05-31</td>\n",
              "      <td>73.010428</td>\n",
              "      <td>1056.417336</td>\n",
              "      <td>4800.00000</td>\n",
              "      <td>-17944.77048</td>\n",
              "      <td>506.71560</td>\n",
              "    </tr>\n",
              "    <tr>\n",
              "      <th>683771</th>\n",
              "      <td>511531</td>\n",
              "      <td>2018-06-30</td>\n",
              "      <td>81.738122</td>\n",
              "      <td>1056.417336</td>\n",
              "      <td>504.00000</td>\n",
              "      <td>-17633.18136</td>\n",
              "      <td>5.14704</td>\n",
              "    </tr>\n",
              "  </tbody>\n",
              "</table>\n",
              "<p>683772 rows × 7 columns</p>\n",
              "</div>"
            ],
            "text/plain": [
              "        cif_id dlk_cob_date  gi_smooth_3m  ...  all_spends  all_credits  all_debits\n",
              "0         1000   2018-01-31     53.184058  ...   639.18504  -6401.02080     7.91160\n",
              "1         1000   2018-02-28     47.592137  ...   100.54944  -6241.80096     1.00536\n",
              "2         1000   2018-03-31     40.828960  ...   118.76160  -6089.32536     3.40848\n",
              "3         1000   2018-04-30     35.967168  ...    26.11200  -5956.79664    -1.39848\n",
              "4         1000   2018-05-31     61.794418  ...  4024.37328  -6294.35280    33.60168\n",
              "...        ...          ...           ...  ...         ...          ...         ...\n",
              "683767  511531   2018-02-28     74.185430  ...     0.00000 -12597.55632     4.95360\n",
              "683768  511531   2018-03-31     72.694857  ...     0.00000 -12374.88216     9.18360\n",
              "683769  511531   2018-04-30     70.685762  ...     0.00000 -12143.75304    13.41360\n",
              "683770  511531   2018-05-31     73.010428  ...  4800.00000 -17944.77048   506.71560\n",
              "683771  511531   2018-06-30     81.738122  ...   504.00000 -17633.18136     5.14704\n",
              "\n",
              "[683772 rows x 7 columns]"
            ]
          },
          "metadata": {
            "tags": []
          },
          "execution_count": 417
        }
      ]
    },
    {
      "cell_type": "code",
      "metadata": {
        "id": "jRevau-5bIRZ",
        "colab_type": "code",
        "colab": {
          "base_uri": "https://localhost:8080/",
          "height": 1000
        },
        "outputId": "2f960c00-77f7-4a99-b42d-a59ffc1dc6fc"
      },
      "source": [
        "n = 10000\n",
        "# relevant_features = list()\n",
        "# Generating features for all time-series along because of big train data\n",
        "for time_series_column in time_series_feats:\n",
        "  veritas_tempus = extract_features(test_light\\\n",
        "                                   .loc[:,[*main_feats, time_series_column]],\n",
        "                                    column_id='cif_id',\n",
        "                                    column_sort='dlk_cob_date',\n",
        "                                    n_jobs=8,\n",
        "                                    default_fc_parameters=fc_parametrs)\n",
        "  sum_1 = veritas_tempus.columns.shape[0]\n",
        "  impute(veritas_tempus)\n",
        "  # features_filtered = select_features(veritas_tempus,\n",
        "                                    # y=dataset_test['sum_cltv'])\n",
        "  # sum_2 = features_filtered.columns.shape[0]\n",
        "  print(f\"Создано {sum_1} фичей, добавлено в список фичей\")\n",
        "        # f\" {sum_1 - sum_2} фичей для {time_series_column} столбца.\")\n",
        "  # Запись в файл, на случай если усну или не доживу\n",
        "  # features_filtered.to_csv(f'drive/My Drive/hack/changelenge/'\n",
        "  #                          f'time-series_features/{time_series_column}.csv')\n",
        "  # print(f'Успешно записаны фичи: drive/My Drive/hack/changelenge/'\n",
        "  #                          f'time-series_features/{time_series_column}.csv')\n",
        "  # Добавление в отдельный датафрэйм с фичами\n",
        "  additional_features = additional_features.merge(veritas_tempus,\n",
        "                            left_on='cif_id', right_index=True)\n",
        "  # Запись названия фичей, не знаю зачем\n",
        "  # relevant_features.extend(features_filtered.columns)\n",
        "  # del veritas_tempus\n",
        "  # del features_filtered"
      ],
      "execution_count": 418,
      "outputs": [
        {
          "output_type": "stream",
          "text": [
            "\n",
            "Feature Extraction:   0%|          | 0/40 [00:00<?, ?it/s]\u001b[A\n",
            "Feature Extraction:   2%|▎         | 1/40 [00:09<06:16,  9.65s/it]\u001b[A\n",
            "Feature Extraction:   5%|▌         | 2/40 [00:11<04:41,  7.40s/it]\u001b[A\n",
            "Feature Extraction:   8%|▊         | 3/40 [00:12<03:24,  5.53s/it]\u001b[A\n",
            "Feature Extraction:  10%|█         | 4/40 [00:13<02:28,  4.13s/it]\u001b[A\n",
            "Feature Extraction:  12%|█▎        | 5/40 [00:17<02:16,  3.90s/it]\u001b[A\n",
            "Feature Extraction:  15%|█▌        | 6/40 [00:18<01:49,  3.22s/it]\u001b[A\n",
            "Feature Extraction:  18%|█▊        | 7/40 [00:19<01:19,  2.41s/it]\u001b[A\n",
            "Feature Extraction:  20%|██        | 8/40 [00:20<01:08,  2.15s/it]\u001b[A\n",
            "Feature Extraction:  22%|██▎       | 9/40 [00:23<01:08,  2.20s/it]\u001b[A\n",
            "Feature Extraction:  25%|██▌       | 10/40 [00:25<01:04,  2.14s/it]\u001b[A\n",
            "Feature Extraction:  28%|██▊       | 11/40 [00:27<00:59,  2.07s/it]\u001b[A\n",
            "Feature Extraction:  30%|███       | 12/40 [00:28<00:50,  1.82s/it]\u001b[A\n",
            "Feature Extraction:  32%|███▎      | 13/40 [00:30<00:53,  2.00s/it]\u001b[A\n",
            "Feature Extraction:  35%|███▌      | 14/40 [00:31<00:41,  1.60s/it]\u001b[A\n",
            "Feature Extraction:  38%|███▊      | 15/40 [00:35<00:57,  2.30s/it]\u001b[A\n",
            "Feature Extraction:  40%|████      | 16/40 [00:36<00:49,  2.04s/it]\u001b[A\n",
            "Feature Extraction:  42%|████▎     | 17/40 [00:39<00:53,  2.33s/it]\u001b[A\n",
            "Feature Extraction:  45%|████▌     | 18/40 [00:41<00:45,  2.05s/it]\u001b[A\n",
            "Feature Extraction:  48%|████▊     | 19/40 [00:42<00:40,  1.95s/it]\u001b[A\n",
            "Feature Extraction:  50%|█████     | 20/40 [00:43<00:30,  1.53s/it]\u001b[A\n",
            "Feature Extraction:  52%|█████▎    | 21/40 [00:46<00:35,  1.85s/it]\u001b[A\n",
            "Feature Extraction:  55%|█████▌    | 22/40 [00:47<00:29,  1.62s/it]\u001b[A\n",
            "Feature Extraction:  57%|█████▊    | 23/40 [00:51<00:40,  2.39s/it]\u001b[A\n",
            "Feature Extraction:  60%|██████    | 24/40 [00:51<00:29,  1.85s/it]\u001b[A\n",
            "Feature Extraction:  62%|██████▎   | 25/40 [00:53<00:28,  1.87s/it]\u001b[A\n",
            "Feature Extraction:  65%|██████▌   | 26/40 [00:55<00:26,  1.86s/it]\u001b[A\n",
            "Feature Extraction:  68%|██████▊   | 27/40 [00:57<00:22,  1.76s/it]\u001b[A\n",
            "Feature Extraction:  70%|███████   | 28/40 [00:58<00:21,  1.77s/it]\u001b[A\n",
            "Feature Extraction:  72%|███████▎  | 29/40 [00:59<00:16,  1.54s/it]\u001b[A\n",
            "Feature Extraction:  75%|███████▌  | 30/40 [01:00<00:13,  1.38s/it]\u001b[A\n",
            "Feature Extraction:  78%|███████▊  | 31/40 [01:04<00:19,  2.16s/it]\u001b[A\n",
            "Feature Extraction:  80%|████████  | 32/40 [01:07<00:18,  2.36s/it]\u001b[A\n",
            "Feature Extraction:  82%|████████▎ | 33/40 [01:08<00:12,  1.85s/it]\u001b[A\n",
            "Feature Extraction:  85%|████████▌ | 34/40 [01:09<00:08,  1.50s/it]\u001b[A\n",
            "Feature Extraction:  88%|████████▊ | 35/40 [01:09<00:06,  1.26s/it]\u001b[A\n",
            "Feature Extraction:  90%|█████████ | 36/40 [01:11<00:05,  1.36s/it]\u001b[A\n",
            "Feature Extraction:  92%|█████████▎| 37/40 [01:11<00:03,  1.04s/it]\u001b[A\n",
            "Feature Extraction:  95%|█████████▌| 38/40 [01:12<00:02,  1.10s/it]\u001b[A\n",
            "Feature Extraction:  98%|█████████▊| 39/40 [01:13<00:01,  1.02s/it]\u001b[A\n",
            "Feature Extraction: 100%|██████████| 40/40 [01:14<00:00,  1.26it/s]\u001b[A\n",
            "\u001b[A/usr/local/lib/python3.6/dist-packages/tsfresh/utilities/dataframe_functions.py:170: RuntimeWarning: The columns ['gi_smooth_3m__agg_linear_trend__f_agg_\"mean\"__chunk_len_6__attr_\"slope\"'] did not have any finite values. Filling with zeros.\n",
            "  df.iloc[:, np.where(is_col_non_finite)[0]].columns.values), RuntimeWarning)\n"
          ],
          "name": "stderr"
        },
        {
          "output_type": "stream",
          "text": [
            "Создано 17 фичей, добавлено в список фичей\n"
          ],
          "name": "stdout"
        },
        {
          "output_type": "stream",
          "text": [
            "\n",
            "Feature Extraction:   0%|          | 0/40 [00:00<?, ?it/s]\u001b[A\n",
            "Feature Extraction:   2%|▎         | 1/40 [00:10<06:36, 10.16s/it]\u001b[A\n",
            "Feature Extraction:   5%|▌         | 2/40 [00:12<04:59,  7.89s/it]\u001b[A\n",
            "Feature Extraction:   8%|▊         | 3/40 [00:12<03:26,  5.58s/it]\u001b[A\n",
            "Feature Extraction:  10%|█         | 4/40 [00:14<02:35,  4.31s/it]\u001b[A\n",
            "Feature Extraction:  12%|█▎        | 5/40 [00:15<01:54,  3.26s/it]\u001b[A\n",
            "Feature Extraction:  15%|█▌        | 6/40 [00:15<01:22,  2.43s/it]\u001b[A\n",
            "Feature Extraction:  18%|█▊        | 7/40 [00:16<01:07,  2.06s/it]\u001b[A\n",
            "Feature Extraction:  20%|██        | 8/40 [00:17<00:53,  1.68s/it]\u001b[A\n",
            "Feature Extraction:  22%|██▎       | 9/40 [00:21<01:13,  2.36s/it]\u001b[A\n",
            "Feature Extraction:  25%|██▌       | 10/40 [00:25<01:22,  2.74s/it]\u001b[A\n",
            "Feature Extraction:  28%|██▊       | 11/40 [00:26<01:10,  2.43s/it]\u001b[A\n",
            "Feature Extraction:  30%|███       | 12/40 [00:29<01:08,  2.45s/it]\u001b[A\n",
            "Feature Extraction:  32%|███▎      | 13/40 [00:29<00:49,  1.85s/it]\u001b[A\n",
            "Feature Extraction:  35%|███▌      | 14/40 [00:31<00:45,  1.73s/it]\u001b[A\n",
            "Feature Extraction:  38%|███▊      | 15/40 [00:31<00:35,  1.43s/it]\u001b[A\n",
            "Feature Extraction:  40%|████      | 16/40 [00:33<00:31,  1.32s/it]\u001b[A\n",
            "Feature Extraction:  42%|████▎     | 17/40 [00:33<00:25,  1.12s/it]\u001b[A\n",
            "Feature Extraction:  45%|████▌     | 18/40 [00:38<00:46,  2.11s/it]\u001b[A\n",
            "Feature Extraction:  48%|████▊     | 19/40 [00:39<00:36,  1.76s/it]\u001b[A\n",
            "Feature Extraction:  50%|█████     | 20/40 [00:41<00:36,  1.85s/it]\u001b[A\n",
            "Feature Extraction:  52%|█████▎    | 21/40 [00:44<00:45,  2.38s/it]\u001b[A\n",
            "Feature Extraction:  55%|█████▌    | 22/40 [00:45<00:33,  1.88s/it]\u001b[A\n",
            "Feature Extraction:  57%|█████▊    | 23/40 [00:48<00:35,  2.10s/it]\u001b[A\n",
            "Feature Extraction:  60%|██████    | 24/40 [00:49<00:28,  1.75s/it]\u001b[A\n",
            "Feature Extraction:  62%|██████▎   | 25/40 [00:50<00:25,  1.68s/it]\u001b[A\n",
            "Feature Extraction:  65%|██████▌   | 26/40 [00:51<00:20,  1.47s/it]\u001b[A\n",
            "Feature Extraction:  68%|██████▊   | 27/40 [00:53<00:21,  1.65s/it]\u001b[A\n",
            "Feature Extraction:  70%|███████   | 28/40 [00:54<00:16,  1.35s/it]\u001b[A\n",
            "Feature Extraction:  72%|███████▎  | 29/40 [00:58<00:23,  2.18s/it]\u001b[A\n",
            "Feature Extraction:  75%|███████▌  | 30/40 [00:59<00:18,  1.86s/it]\u001b[A\n",
            "Feature Extraction:  78%|███████▊  | 31/40 [01:01<00:18,  2.06s/it]\u001b[A\n",
            "Feature Extraction:  80%|████████  | 32/40 [01:03<00:15,  1.94s/it]\u001b[A\n",
            "Feature Extraction:  82%|████████▎ | 33/40 [01:05<00:12,  1.85s/it]\u001b[A\n",
            "Feature Extraction:  85%|████████▌ | 34/40 [01:06<00:10,  1.77s/it]\u001b[A\n",
            "Feature Extraction:  88%|████████▊ | 35/40 [01:07<00:07,  1.54s/it]\u001b[A\n",
            "Feature Extraction:  90%|█████████ | 36/40 [01:08<00:05,  1.39s/it]\u001b[A\n",
            "Feature Extraction:  92%|█████████▎| 37/40 [01:09<00:03,  1.30s/it]\u001b[A\n",
            "Feature Extraction:  95%|█████████▌| 38/40 [01:11<00:02,  1.23s/it]\u001b[A\n",
            "Feature Extraction: 100%|██████████| 40/40 [01:11<00:00,  1.01it/s]\u001b[A\n",
            "\u001b[A/usr/local/lib/python3.6/dist-packages/tsfresh/utilities/dataframe_functions.py:170: RuntimeWarning: The columns ['salary__agg_linear_trend__f_agg_\"mean\"__chunk_len_6__attr_\"slope\"'] did not have any finite values. Filling with zeros.\n",
            "  df.iloc[:, np.where(is_col_non_finite)[0]].columns.values), RuntimeWarning)\n"
          ],
          "name": "stderr"
        },
        {
          "output_type": "stream",
          "text": [
            "Создано 17 фичей, добавлено в список фичей\n"
          ],
          "name": "stdout"
        },
        {
          "output_type": "stream",
          "text": [
            "\n",
            "Feature Extraction:   0%|          | 0/40 [00:00<?, ?it/s]\u001b[A\n",
            "Feature Extraction:   2%|▎         | 1/40 [00:11<07:33, 11.64s/it]\u001b[A\n",
            "Feature Extraction:   5%|▌         | 2/40 [00:14<05:42,  9.00s/it]\u001b[A\n",
            "Feature Extraction:   8%|▊         | 3/40 [00:14<03:55,  6.37s/it]\u001b[A\n",
            "Feature Extraction:  10%|█         | 4/40 [00:15<02:46,  4.63s/it]\u001b[A\n",
            "Feature Extraction:  12%|█▎        | 5/40 [00:17<02:19,  3.98s/it]\u001b[A\n",
            "Feature Extraction:  15%|█▌        | 6/40 [00:18<01:37,  2.86s/it]\u001b[A\n",
            "Feature Extraction:  18%|█▊        | 7/40 [00:19<01:16,  2.31s/it]\u001b[A\n",
            "Feature Extraction:  20%|██        | 8/40 [00:19<00:58,  1.83s/it]\u001b[A\n",
            "Feature Extraction:  22%|██▎       | 9/40 [00:24<01:23,  2.69s/it]\u001b[A\n",
            "Feature Extraction:  25%|██▌       | 10/40 [00:27<01:24,  2.83s/it]\u001b[A\n",
            "Feature Extraction:  28%|██▊       | 11/40 [00:28<01:06,  2.31s/it]\u001b[A\n",
            "Feature Extraction:  30%|███       | 12/40 [00:31<01:09,  2.47s/it]\u001b[A\n",
            "Feature Extraction:  32%|███▎      | 13/40 [00:32<00:52,  1.95s/it]\u001b[A\n",
            "Feature Extraction:  35%|███▌      | 14/40 [00:33<00:46,  1.80s/it]\u001b[A\n",
            "Feature Extraction:  38%|███▊      | 15/40 [00:35<00:44,  1.79s/it]\u001b[A\n",
            "Feature Extraction:  40%|████      | 16/40 [00:36<00:38,  1.61s/it]\u001b[A\n",
            "Feature Extraction:  42%|████▎     | 17/40 [00:38<00:40,  1.74s/it]\u001b[A\n",
            "Feature Extraction:  45%|████▌     | 18/40 [00:41<00:44,  2.02s/it]\u001b[A\n",
            "Feature Extraction:  48%|████▊     | 19/40 [00:43<00:42,  2.04s/it]\u001b[A\n",
            "Feature Extraction:  50%|█████     | 20/40 [00:45<00:39,  1.97s/it]\u001b[A\n",
            "Feature Extraction:  52%|█████▎    | 21/40 [00:47<00:38,  2.05s/it]\u001b[A\n",
            "Feature Extraction:  55%|█████▌    | 22/40 [00:48<00:32,  1.78s/it]\u001b[A\n",
            "Feature Extraction:  57%|█████▊    | 23/40 [00:51<00:33,  1.98s/it]\u001b[A\n",
            "Feature Extraction:  60%|██████    | 24/40 [00:52<00:27,  1.70s/it]\u001b[A\n",
            "Feature Extraction:  62%|██████▎   | 25/40 [00:53<00:22,  1.50s/it]\u001b[A\n",
            "Feature Extraction:  65%|██████▌   | 26/40 [00:54<00:21,  1.52s/it]\u001b[A\n",
            "Feature Extraction:  68%|██████▊   | 27/40 [00:57<00:23,  1.84s/it]\u001b[A\n",
            "Feature Extraction:  70%|███████   | 28/40 [00:59<00:22,  1.85s/it]\u001b[A\n",
            "Feature Extraction:  72%|███████▎  | 29/40 [01:01<00:22,  2.03s/it]\u001b[A\n",
            "Feature Extraction:  75%|███████▌  | 30/40 [01:02<00:17,  1.78s/it]\u001b[A\n",
            "Feature Extraction:  78%|███████▊  | 31/40 [01:05<00:18,  2.11s/it]\u001b[A\n",
            "Feature Extraction:  80%|████████  | 32/40 [01:06<00:14,  1.82s/it]\u001b[A\n",
            "Feature Extraction:  82%|████████▎ | 33/40 [01:09<00:14,  2.02s/it]\u001b[A\n",
            "Feature Extraction:  85%|████████▌ | 34/40 [01:10<00:10,  1.75s/it]\u001b[A\n",
            "Feature Extraction:  88%|████████▊ | 35/40 [01:10<00:06,  1.36s/it]\u001b[A\n",
            "Feature Extraction:  90%|█████████ | 36/40 [01:12<00:05,  1.29s/it]\u001b[A\n",
            "Feature Extraction:  92%|█████████▎| 37/40 [01:13<00:03,  1.24s/it]\u001b[A\n",
            "Feature Extraction:  95%|█████████▌| 38/40 [01:13<00:02,  1.05s/it]\u001b[A\n",
            "Feature Extraction:  98%|█████████▊| 39/40 [01:14<00:00,  1.06it/s]\u001b[A\n",
            "Feature Extraction: 100%|██████████| 40/40 [01:14<00:00,  1.34it/s]\u001b[A\n",
            "\u001b[A/usr/local/lib/python3.6/dist-packages/tsfresh/utilities/dataframe_functions.py:170: RuntimeWarning: The columns ['all_spends__agg_linear_trend__f_agg_\"mean\"__chunk_len_6__attr_\"slope\"'] did not have any finite values. Filling with zeros.\n",
            "  df.iloc[:, np.where(is_col_non_finite)[0]].columns.values), RuntimeWarning)\n"
          ],
          "name": "stderr"
        },
        {
          "output_type": "stream",
          "text": [
            "Создано 17 фичей, добавлено в список фичей\n"
          ],
          "name": "stdout"
        },
        {
          "output_type": "stream",
          "text": [
            "\n",
            "Feature Extraction:   0%|          | 0/40 [00:00<?, ?it/s]\u001b[A\n",
            "Feature Extraction:   2%|▎         | 1/40 [00:10<06:40, 10.27s/it]\u001b[A\n",
            "Feature Extraction:   5%|▌         | 2/40 [00:12<05:01,  7.95s/it]\u001b[A\n",
            "Feature Extraction:   8%|▊         | 3/40 [00:13<03:32,  5.74s/it]\u001b[A\n",
            "Feature Extraction:  10%|█         | 4/40 [00:14<02:36,  4.35s/it]\u001b[A\n",
            "Feature Extraction:  12%|█▎        | 5/40 [00:15<01:56,  3.32s/it]\u001b[A\n",
            "Feature Extraction:  15%|█▌        | 6/40 [00:16<01:28,  2.60s/it]\u001b[A\n",
            "Feature Extraction:  18%|█▊        | 7/40 [00:17<01:08,  2.08s/it]\u001b[A\n",
            "Feature Extraction:  20%|██        | 8/40 [00:18<00:59,  1.85s/it]\u001b[A\n",
            "Feature Extraction:  22%|██▎       | 9/40 [00:23<01:22,  2.68s/it]\u001b[A\n",
            "Feature Extraction:  25%|██▌       | 10/40 [00:26<01:29,  2.97s/it]\u001b[A\n",
            "Feature Extraction:  28%|██▊       | 11/40 [00:27<01:04,  2.22s/it]\u001b[A\n",
            "Feature Extraction:  30%|███       | 12/40 [00:29<01:02,  2.22s/it]\u001b[A\n",
            "Feature Extraction:  32%|███▎      | 13/40 [00:31<00:54,  2.02s/it]\u001b[A\n",
            "Feature Extraction:  35%|███▌      | 14/40 [00:31<00:43,  1.66s/it]\u001b[A\n",
            "Feature Extraction:  38%|███▊      | 15/40 [00:32<00:34,  1.36s/it]\u001b[A\n",
            "Feature Extraction:  40%|████      | 16/40 [00:33<00:31,  1.33s/it]\u001b[A\n",
            "Feature Extraction:  42%|████▎     | 17/40 [00:36<00:40,  1.78s/it]\u001b[A\n",
            "Feature Extraction:  45%|████▌     | 18/40 [00:39<00:48,  2.20s/it]\u001b[A\n",
            "Feature Extraction:  48%|████▊     | 19/40 [00:41<00:43,  2.06s/it]\u001b[A\n",
            "Feature Extraction:  50%|█████     | 20/40 [00:42<00:35,  1.79s/it]\u001b[A\n",
            "Feature Extraction:  52%|█████▎    | 21/40 [00:44<00:35,  1.86s/it]\u001b[A\n",
            "Feature Extraction:  55%|█████▌    | 22/40 [00:47<00:36,  2.01s/it]\u001b[A\n",
            "Feature Extraction:  57%|█████▊    | 23/40 [00:49<00:35,  2.08s/it]\u001b[A\n",
            "Feature Extraction:  60%|██████    | 24/40 [00:49<00:24,  1.53s/it]\u001b[A\n",
            "Feature Extraction:  62%|██████▎   | 25/40 [00:51<00:22,  1.52s/it]\u001b[A\n",
            "Feature Extraction:  65%|██████▌   | 26/40 [00:53<00:25,  1.82s/it]\u001b[A\n",
            "Feature Extraction:  68%|██████▊   | 27/40 [00:55<00:23,  1.78s/it]\u001b[A\n",
            "Feature Extraction:  70%|███████   | 28/40 [00:56<00:20,  1.74s/it]\u001b[A\n",
            "Feature Extraction:  72%|███████▎  | 29/40 [00:58<00:18,  1.71s/it]\u001b[A\n",
            "Feature Extraction:  75%|███████▌  | 30/40 [01:01<00:20,  2.00s/it]\u001b[A\n",
            "Feature Extraction:  78%|███████▊  | 31/40 [01:03<00:18,  2.05s/it]\u001b[A\n",
            "Feature Extraction:  80%|████████  | 32/40 [01:05<00:15,  2.00s/it]\u001b[A\n",
            "Feature Extraction:  82%|████████▎ | 33/40 [01:07<00:15,  2.18s/it]\u001b[A\n",
            "Feature Extraction:  85%|████████▌ | 34/40 [01:08<00:11,  1.83s/it]\u001b[A\n",
            "Feature Extraction:  88%|████████▊ | 35/40 [01:10<00:08,  1.66s/it]\u001b[A\n",
            "Feature Extraction:  90%|█████████ | 36/40 [01:10<00:05,  1.34s/it]\u001b[A\n",
            "Feature Extraction:  92%|█████████▎| 37/40 [01:11<00:03,  1.18s/it]\u001b[A\n",
            "Feature Extraction:  95%|█████████▌| 38/40 [01:12<00:02,  1.04s/it]\u001b[A\n",
            "Feature Extraction:  98%|█████████▊| 39/40 [01:13<00:01,  1.05s/it]\u001b[A\n",
            "Feature Extraction: 100%|██████████| 40/40 [01:13<00:00,  1.20it/s]\u001b[A\n",
            "\u001b[A/usr/local/lib/python3.6/dist-packages/tsfresh/utilities/dataframe_functions.py:170: RuntimeWarning: The columns ['all_credits__agg_linear_trend__f_agg_\"mean\"__chunk_len_6__attr_\"slope\"'] did not have any finite values. Filling with zeros.\n",
            "  df.iloc[:, np.where(is_col_non_finite)[0]].columns.values), RuntimeWarning)\n"
          ],
          "name": "stderr"
        },
        {
          "output_type": "stream",
          "text": [
            "Создано 17 фичей, добавлено в список фичей\n"
          ],
          "name": "stdout"
        },
        {
          "output_type": "stream",
          "text": [
            "\n",
            "Feature Extraction:   0%|          | 0/40 [00:00<?, ?it/s]\u001b[A\n",
            "Feature Extraction:   2%|▎         | 1/40 [00:13<08:39, 13.31s/it]\u001b[A\n",
            "Feature Extraction:   5%|▌         | 2/40 [00:13<05:56,  9.38s/it]\u001b[A\n",
            "Feature Extraction:   8%|▊         | 3/40 [00:14<04:11,  6.80s/it]\u001b[A\n",
            "Feature Extraction:  10%|█         | 4/40 [00:16<03:19,  5.53s/it]\u001b[A\n",
            "Feature Extraction:  12%|█▎        | 5/40 [00:17<02:18,  3.95s/it]\u001b[A\n",
            "Feature Extraction:  15%|█▌        | 6/40 [00:18<01:44,  3.08s/it]\u001b[A\n",
            "Feature Extraction:  18%|█▊        | 7/40 [00:18<01:18,  2.39s/it]\u001b[A\n",
            "Feature Extraction:  20%|██        | 8/40 [00:19<00:59,  1.86s/it]\u001b[A\n",
            "Feature Extraction:  22%|██▎       | 9/40 [00:26<01:42,  3.32s/it]\u001b[A\n",
            "Feature Extraction:  25%|██▌       | 10/40 [00:27<01:23,  2.78s/it]\u001b[A\n",
            "Feature Extraction:  28%|██▊       | 11/40 [00:28<01:05,  2.27s/it]\u001b[A\n",
            "Feature Extraction:  30%|███       | 12/40 [00:32<01:12,  2.59s/it]\u001b[A\n",
            "Feature Extraction:  32%|███▎      | 13/40 [00:34<01:03,  2.36s/it]\u001b[A\n",
            "Feature Extraction:  35%|███▌      | 14/40 [00:36<00:59,  2.27s/it]\u001b[A\n",
            "Feature Extraction:  38%|███▊      | 15/40 [00:36<00:40,  1.64s/it]\u001b[A\n",
            "Feature Extraction:  40%|████      | 16/40 [00:38<00:41,  1.71s/it]\u001b[A\n",
            "Feature Extraction:  42%|████▎     | 17/40 [00:42<00:56,  2.47s/it]\u001b[A\n",
            "Feature Extraction:  45%|████▌     | 18/40 [00:44<00:49,  2.23s/it]\u001b[A\n",
            "Feature Extraction:  48%|████▊     | 19/40 [00:45<00:39,  1.86s/it]\u001b[A\n",
            "Feature Extraction:  50%|█████     | 20/40 [00:46<00:35,  1.79s/it]\u001b[A\n",
            "Feature Extraction:  52%|█████▎    | 21/40 [00:48<00:35,  1.88s/it]\u001b[A\n",
            "Feature Extraction:  55%|█████▌    | 22/40 [00:50<00:33,  1.88s/it]\u001b[A\n",
            "Feature Extraction:  57%|█████▊    | 23/40 [00:52<00:33,  1.97s/it]\u001b[A\n",
            "Feature Extraction:  60%|██████    | 24/40 [00:53<00:25,  1.62s/it]\u001b[A\n",
            "Feature Extraction:  62%|██████▎   | 25/40 [00:56<00:30,  2.04s/it]\u001b[A\n",
            "Feature Extraction:  65%|██████▌   | 26/40 [00:58<00:27,  1.93s/it]\u001b[A\n",
            "Feature Extraction:  68%|██████▊   | 27/40 [01:00<00:24,  1.90s/it]\u001b[A\n",
            "Feature Extraction:  70%|███████   | 28/40 [01:00<00:18,  1.53s/it]\u001b[A\n",
            "Feature Extraction:  72%|███████▎  | 29/40 [01:02<00:18,  1.70s/it]\u001b[A\n",
            "Feature Extraction:  75%|███████▌  | 30/40 [01:05<00:19,  1.91s/it]\u001b[A\n",
            "Feature Extraction:  78%|███████▊  | 31/40 [01:06<00:16,  1.80s/it]\u001b[A\n",
            "Feature Extraction:  80%|████████  | 32/40 [01:09<00:16,  2.11s/it]\u001b[A\n",
            "Feature Extraction:  82%|████████▎ | 33/40 [01:10<00:12,  1.84s/it]\u001b[A\n",
            "Feature Extraction:  85%|████████▌ | 34/40 [01:12<00:10,  1.79s/it]\u001b[A\n",
            "Feature Extraction:  88%|████████▊ | 35/40 [01:13<00:07,  1.50s/it]\u001b[A\n",
            "Feature Extraction:  90%|█████████ | 36/40 [01:14<00:05,  1.28s/it]\u001b[A\n",
            "Feature Extraction:  92%|█████████▎| 37/40 [01:14<00:03,  1.09s/it]\u001b[A\n",
            "Feature Extraction:  95%|█████████▌| 38/40 [01:15<00:01,  1.07it/s]\u001b[A\n",
            "Feature Extraction:  98%|█████████▊| 39/40 [01:16<00:00,  1.07it/s]\u001b[A\n",
            "Feature Extraction: 100%|██████████| 40/40 [01:17<00:00,  1.12it/s]\u001b[A\n",
            "\u001b[A/usr/local/lib/python3.6/dist-packages/tsfresh/utilities/dataframe_functions.py:170: RuntimeWarning: The columns ['all_debits__agg_linear_trend__f_agg_\"mean\"__chunk_len_6__attr_\"slope\"'] did not have any finite values. Filling with zeros.\n",
            "  df.iloc[:, np.where(is_col_non_finite)[0]].columns.values), RuntimeWarning)\n"
          ],
          "name": "stderr"
        },
        {
          "output_type": "stream",
          "text": [
            "Создано 17 фичей, добавлено в список фичей\n"
          ],
          "name": "stdout"
        }
      ]
    },
    {
      "cell_type": "code",
      "metadata": {
        "id": "2D0uQKbUz6Uq",
        "colab_type": "code",
        "colab": {
          "base_uri": "https://localhost:8080/",
          "height": 34
        },
        "outputId": "2b07564d-6dd3-43f7-9043-22caa0b4f9c0"
      },
      "source": [
        "additional_features.shape"
      ],
      "execution_count": 419,
      "outputs": [
        {
          "output_type": "execute_result",
          "data": {
            "text/plain": [
              "(113962, 86)"
            ]
          },
          "metadata": {
            "tags": []
          },
          "execution_count": 419
        }
      ]
    },
    {
      "cell_type": "code",
      "metadata": {
        "id": "vnpXjvjZc_rv",
        "colab_type": "code",
        "colab": {}
      },
      "source": [
        "relevant_features = list()\n",
        "with open(path + 'relevant_features.txt', 'r') as f:\n",
        "  for line in f:\n",
        "    line = line.replace('\\n', '')\n",
        "    # print(line)\n",
        "    relevant_features.append(line)\n",
        "relevant_features = np.array(relevant_features)"
      ],
      "execution_count": 0,
      "outputs": []
    },
    {
      "cell_type": "code",
      "metadata": {
        "id": "3HbPjnlBn280",
        "colab_type": "code",
        "colab": {
          "base_uri": "https://localhost:8080/",
          "height": 1000
        },
        "outputId": "cdf9fa30-9ef2-42d6-f6e3-bc2eb89079d2"
      },
      "source": [
        "relevant_features"
      ],
      "execution_count": 425,
      "outputs": [
        {
          "output_type": "execute_result",
          "data": {
            "text/plain": [
              "array(['gi_smooth_3m__absolute_sum_of_changes',\n",
              "       'gi_smooth_3m__agg_linear_trend__f_agg_\"mean\"__chunk_len_1__attr_\"slope\"',\n",
              "       'gi_smooth_3m__agg_linear_trend__f_agg_\"mean\"__chunk_len_2__attr_\"intercept\"',\n",
              "       'gi_smooth_3m__agg_linear_trend__f_agg_\"mean\"__chunk_len_2__attr_\"slope\"',\n",
              "       'gi_smooth_3m__fft_aggregated__aggtype_\"centroid\"',\n",
              "       'gi_smooth_3m__fft_aggregated__aggtype_\"skew\"',\n",
              "       'gi_smooth_3m__fft_aggregated__aggtype_\"variance\"',\n",
              "       'gi_smooth_3m__mean_abs_change', 'gi_smooth_3m__mean_change',\n",
              "       'gi_smooth_3m__sample_entropy', 'gi_smooth_3m__count_above_mean',\n",
              "       'gi_smooth_3m__agg_linear_trend__f_agg_\"mean\"__chunk_len_1__attr_\"pvalue\"',\n",
              "       'gi_smooth_3m__count_below_mean', 'gi_smooth_3m__skewness',\n",
              "       'gi_smooth_3m__mean_second_derivative_central',\n",
              "       'gi_smooth_3m__cid_ce__normalize_True',\n",
              "       'salary__absolute_sum_of_changes',\n",
              "       'salary__agg_linear_trend__f_agg_\"mean\"__chunk_len_1__attr_\"pvalue\"',\n",
              "       'salary__agg_linear_trend__f_agg_\"mean\"__chunk_len_2__attr_\"intercept\"',\n",
              "       'salary__mean_abs_change', 'salary__cid_ce__normalize_True',\n",
              "       'salary__fft_aggregated__aggtype_\"centroid\"',\n",
              "       'salary__fft_aggregated__aggtype_\"variance\"',\n",
              "       'salary__count_above_mean', 'salary__count_below_mean',\n",
              "       'salary__sample_entropy', 'salary__mean_change',\n",
              "       'salary__mean_second_derivative_central',\n",
              "       'salary__agg_linear_trend__f_agg_\"mean\"__chunk_len_1__attr_\"slope\"',\n",
              "       'all_spends__absolute_sum_of_changes',\n",
              "       'all_spends__agg_linear_trend__f_agg_\"mean\"__chunk_len_1__attr_\"pvalue\"',\n",
              "       'all_spends__agg_linear_trend__f_agg_\"mean\"__chunk_len_2__attr_\"intercept\"',\n",
              "       'all_spends__cid_ce__normalize_True',\n",
              "       'all_spends__count_above_mean', 'all_spends__count_below_mean',\n",
              "       'all_spends__mean_abs_change', 'all_spends__sample_entropy',\n",
              "       'all_spends__skewness',\n",
              "       'all_spends__fft_aggregated__aggtype_\"centroid\"',\n",
              "       'all_spends__mean_change',\n",
              "       'all_spends__fft_aggregated__aggtype_\"variance\"',\n",
              "       'all_spends__agg_linear_trend__f_agg_\"mean\"__chunk_len_1__attr_\"slope\"',\n",
              "       'all_spends__fft_aggregated__aggtype_\"skew\"',\n",
              "       'all_spends__agg_linear_trend__f_agg_\"mean\"__chunk_len_2__attr_\"slope\"',\n",
              "       'all_spends__mean_second_derivative_central',\n",
              "       'all_credits__absolute_sum_of_changes',\n",
              "       'all_credits__agg_linear_trend__f_agg_\"mean\"__chunk_len_1__attr_\"pvalue\"',\n",
              "       'all_credits__agg_linear_trend__f_agg_\"mean\"__chunk_len_1__attr_\"slope\"',\n",
              "       'all_credits__agg_linear_trend__f_agg_\"mean\"__chunk_len_2__attr_\"intercept\"',\n",
              "       'all_credits__agg_linear_trend__f_agg_\"mean\"__chunk_len_2__attr_\"slope\"',\n",
              "       'all_credits__cid_ce__normalize_True',\n",
              "       'all_credits__count_above_mean', 'all_credits__count_below_mean',\n",
              "       'all_credits__fft_aggregated__aggtype_\"centroid\"',\n",
              "       'all_credits__fft_aggregated__aggtype_\"skew\"',\n",
              "       'all_credits__fft_aggregated__aggtype_\"variance\"',\n",
              "       'all_credits__mean_abs_change', 'all_credits__mean_change',\n",
              "       'all_credits__sample_entropy', 'all_credits__skewness',\n",
              "       'all_credits__mean_second_derivative_central',\n",
              "       'all_debits__absolute_sum_of_changes',\n",
              "       'all_debits__agg_linear_trend__f_agg_\"mean\"__chunk_len_1__attr_\"pvalue\"',\n",
              "       'all_debits__agg_linear_trend__f_agg_\"mean\"__chunk_len_2__attr_\"intercept\"',\n",
              "       'all_debits__cid_ce__normalize_True',\n",
              "       'all_debits__count_above_mean', 'all_debits__count_below_mean',\n",
              "       'all_debits__fft_aggregated__aggtype_\"centroid\"',\n",
              "       'all_debits__fft_aggregated__aggtype_\"variance\"',\n",
              "       'all_debits__mean_abs_change', 'all_debits__skewness',\n",
              "       'all_debits__agg_linear_trend__f_agg_\"mean\"__chunk_len_1__attr_\"slope\"',\n",
              "       'all_debits__agg_linear_trend__f_agg_\"mean\"__chunk_len_2__attr_\"slope\"',\n",
              "       'all_debits__mean_change',\n",
              "       'all_debits__fft_aggregated__aggtype_\"skew\"',\n",
              "       'all_debits__mean_second_derivative_central'], dtype='<U75')"
            ]
          },
          "metadata": {
            "tags": []
          },
          "execution_count": 425
        }
      ]
    },
    {
      "cell_type": "code",
      "metadata": {
        "id": "YjVfFUS-oHd3",
        "colab_type": "code",
        "colab": {}
      },
      "source": [
        "additional_features_temp = additional_features.loc[:,['cif_id',*relevant_features]]"
      ],
      "execution_count": 0,
      "outputs": []
    },
    {
      "cell_type": "code",
      "metadata": {
        "id": "c5dFI-SnJK0W",
        "colab_type": "code",
        "colab": {}
      },
      "source": [
        "del additional_features"
      ],
      "execution_count": 0,
      "outputs": []
    },
    {
      "cell_type": "code",
      "metadata": {
        "id": "lsBpMMCnjUa6",
        "colab_type": "code",
        "colab": {
          "base_uri": "https://localhost:8080/",
          "height": 34
        },
        "outputId": "c0a3675e-ec84-4a97-9ee0-91b97ea5e3b5"
      },
      "source": [
        "additional_features_temp.shape"
      ],
      "execution_count": 436,
      "outputs": [
        {
          "output_type": "execute_result",
          "data": {
            "text/plain": [
              "(113962, 77)"
            ]
          },
          "metadata": {
            "tags": []
          },
          "execution_count": 436
        }
      ]
    },
    {
      "cell_type": "code",
      "metadata": {
        "id": "_hwTsEloszBp",
        "colab_type": "code",
        "colab": {}
      },
      "source": [
        "# Resulting test  dataset\n",
        "test_result = test_data.merge(additional_features_temp, on='cif_id')"
      ],
      "execution_count": 0,
      "outputs": []
    },
    {
      "cell_type": "code",
      "metadata": {
        "id": "2D33Af-Mu81e",
        "colab_type": "code",
        "colab": {
          "base_uri": "https://localhost:8080/",
          "height": 52
        },
        "outputId": "853960e0-59f1-4f4b-b4b5-7ff986e88f15"
      },
      "source": [
        "search_nan(test_result)"
      ],
      "execution_count": 452,
      "outputs": [
        {
          "output_type": "stream",
          "text": [
            "Роскошно, нанов нет!\n"
          ],
          "name": "stdout"
        },
        {
          "output_type": "execute_result",
          "data": {
            "text/plain": [
              "0"
            ]
          },
          "metadata": {
            "tags": []
          },
          "execution_count": 452
        }
      ]
    },
    {
      "cell_type": "code",
      "metadata": {
        "id": "3L5vpgSAJRbc",
        "colab_type": "code",
        "colab": {}
      },
      "source": [
        "del test\n",
        "del test_data\n",
        "del additional_features_temp"
      ],
      "execution_count": 0,
      "outputs": []
    },
    {
      "cell_type": "code",
      "metadata": {
        "id": "xcvEeuIashJ1",
        "colab_type": "code",
        "colab": {
          "base_uri": "https://localhost:8080/",
          "height": 34
        },
        "outputId": "3d3e0dc0-348d-4ecf-e1ed-3cc7098f64b0"
      },
      "source": [
        "test_result.shape"
      ],
      "execution_count": 454,
      "outputs": [
        {
          "output_type": "execute_result",
          "data": {
            "text/plain": [
              "(113962, 147)"
            ]
          },
          "metadata": {
            "tags": []
          },
          "execution_count": 454
        }
      ]
    },
    {
      "cell_type": "code",
      "metadata": {
        "id": "SUXxgkCKuu3V",
        "colab_type": "code",
        "colab": {}
      },
      "source": [
        "# Write final test data in file\n",
        "test_result.to_csv(path + 'test_data_preproc.csv')"
      ],
      "execution_count": 0,
      "outputs": []
    },
    {
      "cell_type": "markdown",
      "metadata": {
        "id": "I5yE1r09EkJn",
        "colab_type": "text"
      },
      "source": [
        "# Here it goes ML"
      ]
    },
    {
      "cell_type": "code",
      "metadata": {
        "id": "U3JWwdqWDXG2",
        "colab_type": "code",
        "colab": {
          "base_uri": "https://localhost:8080/",
          "height": 106
        },
        "outputId": "61f69822-a543-43d4-a598-5e84bac20103"
      },
      "source": [
        "!pip install pymorphy2\n",
        "\n",
        "import pandas as pd\n",
        "import numpy as np\n",
        "from numpy import isnan\n",
        "import datetime\n",
        "import matplotlib.pyplot as plt\n",
        "import seaborn as sns\n",
        "import pymorphy2\n",
        "\n",
        "from sklearn.feature_extraction.text import CountVectorizer\n",
        "from sklearn import preprocessing\n",
        "from sklearn.model_selection import train_test_split\n",
        "\n",
        "from sklearn.ensemble import *\n",
        "from sklearn.linear_model import *\n",
        "from sklearn.model_selection import *\n",
        "from sklearn.metrics import mean_squared_error, mean_absolute_error\n",
        "import pickle as cPickle\n",
        "\n",
        "def mape(y_true, y_pred): \n",
        "    y_true, y_pred = np.array(y_true), np.array(y_pred)\n",
        "    y_true[y_true == 0] = 0.0001\n",
        "    return np.mean(np.abs((y_true - y_pred) / y_true)) * 100"
      ],
      "execution_count": 456,
      "outputs": [
        {
          "output_type": "stream",
          "text": [
            "Requirement already satisfied: pymorphy2 in /usr/local/lib/python3.6/dist-packages (0.8)\n",
            "Requirement already satisfied: docopt>=0.6 in /usr/local/lib/python3.6/dist-packages (from pymorphy2) (0.6.2)\n",
            "Requirement already satisfied: dawg-python>=0.7 in /usr/local/lib/python3.6/dist-packages (from pymorphy2) (0.7.2)\n",
            "Requirement already satisfied: pymorphy2-dicts<3.0,>=2.4 in /usr/local/lib/python3.6/dist-packages (from pymorphy2) (2.4.393442.3710985)\n"
          ],
          "name": "stdout"
        }
      ]
    },
    {
      "cell_type": "code",
      "metadata": {
        "id": "2u5CtkflDmOe",
        "colab_type": "code",
        "colab": {}
      },
      "source": [
        "data = dataset_res"
      ],
      "execution_count": 0,
      "outputs": []
    },
    {
      "cell_type": "code",
      "metadata": {
        "id": "SjSdFJupDhEn",
        "colab_type": "code",
        "colab": {}
      },
      "source": [
        "Y = data['sum_cltv']\n",
        "data = data.drop(['sum_cltv'], axis=1)\n",
        "data = data.drop(['mean_month_cltv'], axis=1)\n",
        "data['sum_cltv'] = Y\n",
        "data = data.values"
      ],
      "execution_count": 0,
      "outputs": []
    },
    {
      "cell_type": "code",
      "metadata": {
        "id": "qIHzySOiDthz",
        "colab_type": "code",
        "colab": {
          "base_uri": "https://localhost:8080/",
          "height": 341
        },
        "outputId": "2417dace-c41b-475d-f68c-93835d2bd630"
      },
      "source": [
        "def show_map(df_te_train):\n",
        "  data1 = df_te_train.copy()\n",
        "  corrmat = pd.DataFrame(data1).corr()\n",
        "  top_corr_features = corrmat.index\n",
        "  plt.figure(figsize=(20,20))\n",
        "  #plot heat map\n",
        "  #print(data1[top_corr_features].shape)\n",
        "  g=sns.heatmap(data1[top_corr_features].corr().abs(),annot=True,cmap=\"RdYlGn\")\n",
        "\n",
        "\n",
        "show_map(data)\n"
      ],
      "execution_count": 461,
      "outputs": [
        {
          "output_type": "error",
          "ename": "AttributeError",
          "evalue": "ignored",
          "traceback": [
            "\u001b[0;31m---------------------------------------------------------------------------\u001b[0m",
            "\u001b[0;31mAttributeError\u001b[0m                            Traceback (most recent call last)",
            "\u001b[0;32m<ipython-input-461-1b5ea1a449e5>\u001b[0m in \u001b[0;36m<module>\u001b[0;34m()\u001b[0m\n\u001b[1;32m      9\u001b[0m \u001b[0;34m\u001b[0m\u001b[0m\n\u001b[1;32m     10\u001b[0m \u001b[0;34m\u001b[0m\u001b[0m\n\u001b[0;32m---> 11\u001b[0;31m \u001b[0mshow_map\u001b[0m\u001b[0;34m(\u001b[0m\u001b[0mdata\u001b[0m\u001b[0;34m)\u001b[0m\u001b[0;34m\u001b[0m\u001b[0;34m\u001b[0m\u001b[0m\n\u001b[0m",
            "\u001b[0;32m<ipython-input-461-1b5ea1a449e5>\u001b[0m in \u001b[0;36mshow_map\u001b[0;34m(df_te_train)\u001b[0m\n\u001b[1;32m      6\u001b[0m   \u001b[0;31m#plot heat map\u001b[0m\u001b[0;34m\u001b[0m\u001b[0;34m\u001b[0m\u001b[0;34m\u001b[0m\u001b[0m\n\u001b[1;32m      7\u001b[0m   \u001b[0;31m#print(data1[top_corr_features].shape)\u001b[0m\u001b[0;34m\u001b[0m\u001b[0;34m\u001b[0m\u001b[0;34m\u001b[0m\u001b[0m\n\u001b[0;32m----> 8\u001b[0;31m   \u001b[0mg\u001b[0m\u001b[0;34m=\u001b[0m\u001b[0msns\u001b[0m\u001b[0;34m.\u001b[0m\u001b[0mheatmap\u001b[0m\u001b[0;34m(\u001b[0m\u001b[0mdata1\u001b[0m\u001b[0;34m[\u001b[0m\u001b[0mtop_corr_features\u001b[0m\u001b[0;34m]\u001b[0m\u001b[0;34m.\u001b[0m\u001b[0mcorr\u001b[0m\u001b[0;34m(\u001b[0m\u001b[0;34m)\u001b[0m\u001b[0;34m.\u001b[0m\u001b[0mabs\u001b[0m\u001b[0;34m(\u001b[0m\u001b[0;34m)\u001b[0m\u001b[0;34m,\u001b[0m\u001b[0mannot\u001b[0m\u001b[0;34m=\u001b[0m\u001b[0;32mTrue\u001b[0m\u001b[0;34m,\u001b[0m\u001b[0mcmap\u001b[0m\u001b[0;34m=\u001b[0m\u001b[0;34m\"RdYlGn\"\u001b[0m\u001b[0;34m)\u001b[0m\u001b[0;34m\u001b[0m\u001b[0;34m\u001b[0m\u001b[0m\n\u001b[0m\u001b[1;32m      9\u001b[0m \u001b[0;34m\u001b[0m\u001b[0m\n\u001b[1;32m     10\u001b[0m \u001b[0;34m\u001b[0m\u001b[0m\n",
            "\u001b[0;31mAttributeError\u001b[0m: 'numpy.ndarray' object has no attribute 'corr'"
          ]
        },
        {
          "output_type": "display_data",
          "data": {
            "text/plain": [
              "<Figure size 1440x1440 with 0 Axes>"
            ]
          },
          "metadata": {
            "tags": []
          }
        }
      ]
    },
    {
      "cell_type": "markdown",
      "metadata": {
        "id": "sMdE8U5fEWbQ",
        "colab_type": "text"
      },
      "source": [
        "## Train_test_split"
      ]
    },
    {
      "cell_type": "code",
      "metadata": {
        "id": "EDYwRCtOD1JK",
        "colab_type": "code",
        "colab": {
          "base_uri": "https://localhost:8080/",
          "height": 52
        },
        "outputId": "83ba0206-b763-4349-999c-ded607a67cfd"
      },
      "source": [
        "X, x_, Y, y_ = train_test_split(data[:, :-1], data[:, -1], shuffle=True, test_size=0.2)\n",
        "print(X.shape)\n",
        "print(Y.shape)"
      ],
      "execution_count": 463,
      "outputs": [
        {
          "output_type": "stream",
          "text": [
            "(239752, 147)\n",
            "(239752,)\n"
          ],
          "name": "stdout"
        }
      ]
    },
    {
      "cell_type": "markdown",
      "metadata": {
        "id": "epFAh6BmFGRH",
        "colab_type": "text"
      },
      "source": [
        "# ***Models***"
      ]
    },
    {
      "cell_type": "markdown",
      "metadata": {
        "id": "RshXmAXkGFBa",
        "colab_type": "text"
      },
      "source": [
        "# GradientBoostingRegressor"
      ]
    },
    {
      "cell_type": "markdown",
      "metadata": {
        "id": "H0SPPYcdF92P",
        "colab_type": "text"
      },
      "source": [
        "*Test only one model*"
      ]
    },
    {
      "cell_type": "code",
      "metadata": {
        "id": "mBnWtrQAFHu4",
        "colab_type": "code",
        "colab": {
          "base_uri": "https://localhost:8080/",
          "height": 254
        },
        "outputId": "f0e5fc8a-0148-4648-e53f-507eb0a91c61"
      },
      "source": [
        "gbr = GradientBoostingRegressor(n_estimators=150, max_depth=7)\n",
        "gbr.fit(X, Y)\n",
        "print(mean_absolute_error(Y, gbr.predict(X)))\n",
        "print(mean_absolute_error(y_, gbr.predict(x_)))\n",
        "print(mape(Y, gbr.predict(X)))\n",
        "print(mape(y_, gbr.predict(x_)))\n",
        "\n",
        "\n",
        "# save the classifier\n",
        "with open('/content/drive/My Drive/Colab Notebooks/bank_hack/my_regres.pkl', 'wb') as fid:\n",
        "    cPickle.dump(gbr, fid)"
      ],
      "execution_count": 462,
      "outputs": [
        {
          "output_type": "stream",
          "text": [
            "40.964803293112695\n"
          ],
          "name": "stdout"
        },
        {
          "output_type": "error",
          "ename": "NameError",
          "evalue": "ignored",
          "traceback": [
            "\u001b[0;31m---------------------------------------------------------------------------\u001b[0m",
            "\u001b[0;31mNameError\u001b[0m                                 Traceback (most recent call last)",
            "\u001b[0;32m<ipython-input-462-1605d852ce6f>\u001b[0m in \u001b[0;36m<module>\u001b[0;34m()\u001b[0m\n\u001b[1;32m      2\u001b[0m \u001b[0mgbr\u001b[0m\u001b[0;34m.\u001b[0m\u001b[0mfit\u001b[0m\u001b[0;34m(\u001b[0m\u001b[0mX\u001b[0m\u001b[0;34m,\u001b[0m \u001b[0mY\u001b[0m\u001b[0;34m)\u001b[0m\u001b[0;34m\u001b[0m\u001b[0;34m\u001b[0m\u001b[0m\n\u001b[1;32m      3\u001b[0m \u001b[0mprint\u001b[0m\u001b[0;34m(\u001b[0m\u001b[0mmean_absolute_error\u001b[0m\u001b[0;34m(\u001b[0m\u001b[0mY\u001b[0m\u001b[0;34m,\u001b[0m \u001b[0mgbr\u001b[0m\u001b[0;34m.\u001b[0m\u001b[0mpredict\u001b[0m\u001b[0;34m(\u001b[0m\u001b[0mX\u001b[0m\u001b[0;34m)\u001b[0m\u001b[0;34m)\u001b[0m\u001b[0;34m)\u001b[0m\u001b[0;34m\u001b[0m\u001b[0;34m\u001b[0m\u001b[0m\n\u001b[0;32m----> 4\u001b[0;31m \u001b[0mprint\u001b[0m\u001b[0;34m(\u001b[0m\u001b[0mmean_absolute_error\u001b[0m\u001b[0;34m(\u001b[0m\u001b[0my_\u001b[0m\u001b[0;34m,\u001b[0m \u001b[0mgbr\u001b[0m\u001b[0;34m.\u001b[0m\u001b[0mpredict\u001b[0m\u001b[0;34m(\u001b[0m\u001b[0mx_\u001b[0m\u001b[0;34m)\u001b[0m\u001b[0;34m)\u001b[0m\u001b[0;34m)\u001b[0m\u001b[0;34m\u001b[0m\u001b[0;34m\u001b[0m\u001b[0m\n\u001b[0m\u001b[1;32m      5\u001b[0m \u001b[0mprint\u001b[0m\u001b[0;34m(\u001b[0m\u001b[0mmape\u001b[0m\u001b[0;34m(\u001b[0m\u001b[0mY\u001b[0m\u001b[0;34m,\u001b[0m \u001b[0mgbr\u001b[0m\u001b[0;34m.\u001b[0m\u001b[0mpredict\u001b[0m\u001b[0;34m(\u001b[0m\u001b[0mX\u001b[0m\u001b[0;34m)\u001b[0m\u001b[0;34m)\u001b[0m\u001b[0;34m)\u001b[0m\u001b[0;34m\u001b[0m\u001b[0;34m\u001b[0m\u001b[0m\n\u001b[1;32m      6\u001b[0m \u001b[0mprint\u001b[0m\u001b[0;34m(\u001b[0m\u001b[0mmape\u001b[0m\u001b[0;34m(\u001b[0m\u001b[0my_\u001b[0m\u001b[0;34m,\u001b[0m \u001b[0mgbr\u001b[0m\u001b[0;34m.\u001b[0m\u001b[0mpredict\u001b[0m\u001b[0;34m(\u001b[0m\u001b[0mx_\u001b[0m\u001b[0;34m)\u001b[0m\u001b[0;34m)\u001b[0m\u001b[0;34m)\u001b[0m\u001b[0;34m\u001b[0m\u001b[0;34m\u001b[0m\u001b[0m\n",
            "\u001b[0;31mNameError\u001b[0m: name 'y_' is not defined"
          ]
        }
      ]
    },
    {
      "cell_type": "markdown",
      "metadata": {
        "id": "p2WI5H7lGXkq",
        "colab_type": "text"
      },
      "source": [
        "*Test all models*"
      ]
    },
    {
      "cell_type": "code",
      "metadata": {
        "id": "ao39a0UPGRPU",
        "colab_type": "code",
        "colab": {}
      },
      "source": [
        "kf = KFold(n_splits=10, shuffle=True)\n",
        "gbrs = []\n",
        "final = 0\n",
        "pred = 0\n",
        "i = 0\n",
        "\n",
        "for train_index, test_index in kf.split(X):\n",
        "  X_train, X_test = X[train_index], X[test_index]\n",
        "  y_train, y_test = Y[train_index], Y[test_index]\n",
        "  gbr = GradientBoostingRegressor(n_estimators=150, max_depth=7)\n",
        "  gbr.fit(X_train, y_train)\n",
        "  final += mean_absolute_error(y_test, gbr.predict(X_test))\n",
        "  i += 1\n",
        "  pred += mape(y_, gbr.predict(x_))\n",
        "  print(\"curr score:\", final / i, \"curr pred score:\", pred / i)\n",
        "  with open(f'/content/drive/My Drive/Colab Notebooks/bank_hack/my_regres_{i}.pkl', 'wb') as fid:\n",
        "    cPickle.dump(gbr, fid)  \n",
        "\n",
        "\n",
        "print(\"final score:\\n\", final / i)"
      ],
      "execution_count": 0,
      "outputs": []
    },
    {
      "cell_type": "markdown",
      "metadata": {
        "id": "hqrePlpdGjSC",
        "colab_type": "text"
      },
      "source": [
        "# LinearRegression"
      ]
    },
    {
      "cell_type": "code",
      "metadata": {
        "id": "AWH73EPTGkrm",
        "colab_type": "code",
        "colab": {}
      },
      "source": [
        "kf = KFold(n_splits=10, shuffle=True)\n",
        "gbrs = []\n",
        "final = 0\n",
        "pred = 0\n",
        "i = 0\n",
        "\n",
        "for train_index, test_index in kf.split(X):\n",
        "  X_train, X_test = X[train_index], X[test_index]\n",
        "  y_train, y_test = Y[train_index], Y[test_index]\n",
        "  gbr = LinearRegression()\n",
        "  gbr.fit(X_train, y_train)\n",
        "  final += mean_absolute_error(y_test, gbr.predict(X_test))\n",
        "  i += 1\n",
        "  pred += mape(y_, gbr.predict(x_))  # mean_absolute_error(y_, gbr.predict(x_))\n",
        "  print(\"curr score:\", final / i, \"curr pred score:\", pred / i)\n",
        "  with open(f'/content/drive/My Drive/Colab Notebooks/bank_hack/my_regres_{i + 10}.pkl', 'wb') as fid:\n",
        "    cPickle.dump(gbr, fid)  \n",
        "\n",
        "\n",
        "print(\"final score:\\n\", final / i)"
      ],
      "execution_count": 0,
      "outputs": []
    },
    {
      "cell_type": "code",
      "metadata": {
        "id": "Vt6ypB-mGnkS",
        "colab_type": "code",
        "colab": {}
      },
      "source": [
        "data1 = test_result\n",
        "# data1 = data1.drop(['sum_cltv'], axis=1)\n",
        "# data1 = data1.drop(['mean_month_cltv'], axis=1)\n",
        "# print(data1.columns.values)\n",
        "data1 = data1.values\n",
        "print(data1.shape)"
      ],
      "execution_count": 0,
      "outputs": []
    },
    {
      "cell_type": "markdown",
      "metadata": {
        "id": "BvnzOrKtIEmQ",
        "colab_type": "text"
      },
      "source": [
        "# Make prediction"
      ]
    },
    {
      "cell_type": "code",
      "metadata": {
        "id": "1WvtUKtyIIWc",
        "colab_type": "code",
        "colab": {
          "base_uri": "https://localhost:8080/",
          "height": 378
        },
        "outputId": "0f24ba27-7157-45ef-c9a4-0450290f1b7c"
      },
      "source": [
        "import warnings\n",
        "warnings.filterwarnings(\"ignore\", category=UserWarning)\n",
        "\n",
        "\n",
        "res = []\n",
        "\n",
        "def check_model(path):\n",
        "  with open(path, 'rb') as fid:\n",
        "    m = cPickle.load(fid)\n",
        "  #print(\"MAE:\\ntrain:\", mean_absolute_error(Y, m.predict(X)), \"test:\", mean_absolute_error(y, m.predict(x)))\n",
        "  #print(\"MAPE:\\ntrain:\", mape(Y, m.predict(X)), \"test:\", mape(y, m.predict(x)))\n",
        "  res.append(m.predict(data1))\n",
        "\n",
        "\n",
        "for i in range(10):\n",
        "  # print(f\"Model №{i}\")\n",
        "  check_model(f'/content/drive/My Drive/Colab Notebooks/bank_hack/my_regres_{i}.pkl')\n",
        "\n",
        "res = np.asarray(res)\n",
        "res = res.mean(axis=0)\n",
        "# print(res.shape)\n",
        "\n",
        "tmp = res\n",
        "tmp = tmp\n",
        "# print(tmp)\n",
        "\n",
        "data_ = pd.read_csv(\"/content/drive/My Drive/Colab Notebooks/bank_hack/test_data_preproc.csv\", comment=\"#\")\n",
        "# print(data_['cif_id'].values)\n",
        "\n",
        "# print(tmp)\n",
        "\n",
        "\n",
        "df = pd.DataFrame({'cif_id': data_['cif_id'].values, 'sum_cltv': tmp})\n",
        "print(df)\n",
        "\n",
        "df.to_csv(\"/content/drive/My Drive/Colab Notebooks/bank_hack/CUP_IT_predictions.csv\",\n",
        "          index=False)"
      ],
      "execution_count": 464,
      "outputs": [
        {
          "output_type": "error",
          "ename": "FileNotFoundError",
          "evalue": "ignored",
          "traceback": [
            "\u001b[0;31m---------------------------------------------------------------------------\u001b[0m",
            "\u001b[0;31mFileNotFoundError\u001b[0m                         Traceback (most recent call last)",
            "\u001b[0;32m<ipython-input-464-09ae85608e04>\u001b[0m in \u001b[0;36m<module>\u001b[0;34m()\u001b[0m\n\u001b[1;32m     15\u001b[0m \u001b[0;32mfor\u001b[0m \u001b[0mi\u001b[0m \u001b[0;32min\u001b[0m \u001b[0mrange\u001b[0m\u001b[0;34m(\u001b[0m\u001b[0;36m10\u001b[0m\u001b[0;34m)\u001b[0m\u001b[0;34m:\u001b[0m\u001b[0;34m\u001b[0m\u001b[0;34m\u001b[0m\u001b[0m\n\u001b[1;32m     16\u001b[0m   \u001b[0;31m# print(f\"Model №{i}\")\u001b[0m\u001b[0;34m\u001b[0m\u001b[0;34m\u001b[0m\u001b[0;34m\u001b[0m\u001b[0m\n\u001b[0;32m---> 17\u001b[0;31m   \u001b[0mcheck_model\u001b[0m\u001b[0;34m(\u001b[0m\u001b[0;34mf'/content/drive/My Drive/Colab Notebooks/bank_hack/my_regres_{i}.pkl'\u001b[0m\u001b[0;34m)\u001b[0m\u001b[0;34m\u001b[0m\u001b[0;34m\u001b[0m\u001b[0m\n\u001b[0m\u001b[1;32m     18\u001b[0m \u001b[0;34m\u001b[0m\u001b[0m\n\u001b[1;32m     19\u001b[0m \u001b[0mres\u001b[0m \u001b[0;34m=\u001b[0m \u001b[0mnp\u001b[0m\u001b[0;34m.\u001b[0m\u001b[0masarray\u001b[0m\u001b[0;34m(\u001b[0m\u001b[0mres\u001b[0m\u001b[0;34m)\u001b[0m\u001b[0;34m\u001b[0m\u001b[0;34m\u001b[0m\u001b[0m\n",
            "\u001b[0;32m<ipython-input-464-09ae85608e04>\u001b[0m in \u001b[0;36mcheck_model\u001b[0;34m(path)\u001b[0m\n\u001b[1;32m      6\u001b[0m \u001b[0;34m\u001b[0m\u001b[0m\n\u001b[1;32m      7\u001b[0m \u001b[0;32mdef\u001b[0m \u001b[0mcheck_model\u001b[0m\u001b[0;34m(\u001b[0m\u001b[0mpath\u001b[0m\u001b[0;34m)\u001b[0m\u001b[0;34m:\u001b[0m\u001b[0;34m\u001b[0m\u001b[0;34m\u001b[0m\u001b[0m\n\u001b[0;32m----> 8\u001b[0;31m   \u001b[0;32mwith\u001b[0m \u001b[0mopen\u001b[0m\u001b[0;34m(\u001b[0m\u001b[0mpath\u001b[0m\u001b[0;34m,\u001b[0m \u001b[0;34m'rb'\u001b[0m\u001b[0;34m)\u001b[0m \u001b[0;32mas\u001b[0m \u001b[0mfid\u001b[0m\u001b[0;34m:\u001b[0m\u001b[0;34m\u001b[0m\u001b[0;34m\u001b[0m\u001b[0m\n\u001b[0m\u001b[1;32m      9\u001b[0m     \u001b[0mm\u001b[0m \u001b[0;34m=\u001b[0m \u001b[0mcPickle\u001b[0m\u001b[0;34m.\u001b[0m\u001b[0mload\u001b[0m\u001b[0;34m(\u001b[0m\u001b[0mfid\u001b[0m\u001b[0;34m)\u001b[0m\u001b[0;34m\u001b[0m\u001b[0;34m\u001b[0m\u001b[0m\n\u001b[1;32m     10\u001b[0m   \u001b[0;31m#print(\"MAE:\\ntrain:\", mean_absolute_error(Y, m.predict(X)), \"test:\", mean_absolute_error(y, m.predict(x)))\u001b[0m\u001b[0;34m\u001b[0m\u001b[0;34m\u001b[0m\u001b[0;34m\u001b[0m\u001b[0m\n",
            "\u001b[0;31mFileNotFoundError\u001b[0m: [Errno 2] No such file or directory: '/content/drive/My Drive/Colab Notebooks/bank_hack/my_regres_0.pkl'"
          ]
        }
      ]
    },
    {
      "cell_type": "code",
      "metadata": {
        "id": "2yWMxqpeIiYO",
        "colab_type": "code",
        "colab": {}
      },
      "source": [
        ""
      ],
      "execution_count": 0,
      "outputs": []
    }
  ]
}